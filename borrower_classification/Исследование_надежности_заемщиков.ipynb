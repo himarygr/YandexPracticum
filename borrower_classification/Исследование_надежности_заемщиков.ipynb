{
 "cells": [
  {
   "attachments": {},
   "cell_type": "markdown",
   "id": "13b4a91d",
   "metadata": {
    "deletable": false,
    "editable": false,
    "id": "c81daeeb"
   },
   "source": [
    "# Исследование надежности заемщиков\n"
   ]
  },
  {
   "attachments": {},
   "cell_type": "markdown",
   "id": "c78dc2b3",
   "metadata": {
    "deletable": false,
    "editable": false,
    "id": "744d7639"
   },
   "source": [
    "## Откройте таблицу и изучите общую информацию о данных"
   ]
  },
  {
   "attachments": {},
   "cell_type": "markdown",
   "id": "4ea13c8f",
   "metadata": {
    "deletable": false,
    "editable": false,
    "id": "e7a14c31"
   },
   "source": [
    "**Задание 1. Импортируйте библиотеку pandas. Считайте данные из csv-файла в датафрейм и сохраните в переменную `data`. Путь к файлу:**\n",
    "\n",
    "`/datasets/data.csv`"
   ]
  },
  {
   "cell_type": "code",
   "execution_count": 10,
   "id": "6b0e6215",
   "metadata": {
    "deletable": false,
    "id": "7bcf75c9"
   },
   "outputs": [],
   "source": [
    "import pandas as pd\n",
    "\n",
    "try:\n",
    "    data = pd.read_csv('/datasets/data.csv')\n",
    "except:\n",
    "    data = pd.read_csv('https://code.s3.yandex.net/datasets/data.csv')"
   ]
  },
  {
   "attachments": {},
   "cell_type": "markdown",
   "id": "22644b23",
   "metadata": {
    "deletable": false,
    "editable": false,
    "id": "b8038fe3"
   },
   "source": [
    "**Задание 2. Выведите первые 20 строчек датафрейма `data` на экран.**"
   ]
  },
  {
   "cell_type": "code",
   "execution_count": 11,
   "id": "ad0c9f8f",
   "metadata": {
    "deletable": false,
    "id": "2a7cab99",
    "outputId": "1a8f3ef2-d323-4ec2-ddf7-89670b5944c4"
   },
   "outputs": [
    {
     "data": {
      "text/html": [
       "<div>\n",
       "<style scoped>\n",
       "    .dataframe tbody tr th:only-of-type {\n",
       "        vertical-align: middle;\n",
       "    }\n",
       "\n",
       "    .dataframe tbody tr th {\n",
       "        vertical-align: top;\n",
       "    }\n",
       "\n",
       "    .dataframe thead th {\n",
       "        text-align: right;\n",
       "    }\n",
       "</style>\n",
       "<table border=\"1\" class=\"dataframe\">\n",
       "  <thead>\n",
       "    <tr style=\"text-align: right;\">\n",
       "      <th></th>\n",
       "      <th>children</th>\n",
       "      <th>days_employed</th>\n",
       "      <th>dob_years</th>\n",
       "      <th>education</th>\n",
       "      <th>education_id</th>\n",
       "      <th>family_status</th>\n",
       "      <th>family_status_id</th>\n",
       "      <th>gender</th>\n",
       "      <th>income_type</th>\n",
       "      <th>debt</th>\n",
       "      <th>total_income</th>\n",
       "      <th>purpose</th>\n",
       "    </tr>\n",
       "  </thead>\n",
       "  <tbody>\n",
       "    <tr>\n",
       "      <th>0</th>\n",
       "      <td>1</td>\n",
       "      <td>-8437.673028</td>\n",
       "      <td>42</td>\n",
       "      <td>высшее</td>\n",
       "      <td>0</td>\n",
       "      <td>женат / замужем</td>\n",
       "      <td>0</td>\n",
       "      <td>F</td>\n",
       "      <td>сотрудник</td>\n",
       "      <td>0</td>\n",
       "      <td>253875.639453</td>\n",
       "      <td>покупка жилья</td>\n",
       "    </tr>\n",
       "    <tr>\n",
       "      <th>1</th>\n",
       "      <td>1</td>\n",
       "      <td>-4024.803754</td>\n",
       "      <td>36</td>\n",
       "      <td>среднее</td>\n",
       "      <td>1</td>\n",
       "      <td>женат / замужем</td>\n",
       "      <td>0</td>\n",
       "      <td>F</td>\n",
       "      <td>сотрудник</td>\n",
       "      <td>0</td>\n",
       "      <td>112080.014102</td>\n",
       "      <td>приобретение автомобиля</td>\n",
       "    </tr>\n",
       "    <tr>\n",
       "      <th>2</th>\n",
       "      <td>0</td>\n",
       "      <td>-5623.422610</td>\n",
       "      <td>33</td>\n",
       "      <td>Среднее</td>\n",
       "      <td>1</td>\n",
       "      <td>женат / замужем</td>\n",
       "      <td>0</td>\n",
       "      <td>M</td>\n",
       "      <td>сотрудник</td>\n",
       "      <td>0</td>\n",
       "      <td>145885.952297</td>\n",
       "      <td>покупка жилья</td>\n",
       "    </tr>\n",
       "    <tr>\n",
       "      <th>3</th>\n",
       "      <td>3</td>\n",
       "      <td>-4124.747207</td>\n",
       "      <td>32</td>\n",
       "      <td>среднее</td>\n",
       "      <td>1</td>\n",
       "      <td>женат / замужем</td>\n",
       "      <td>0</td>\n",
       "      <td>M</td>\n",
       "      <td>сотрудник</td>\n",
       "      <td>0</td>\n",
       "      <td>267628.550329</td>\n",
       "      <td>дополнительное образование</td>\n",
       "    </tr>\n",
       "    <tr>\n",
       "      <th>4</th>\n",
       "      <td>0</td>\n",
       "      <td>340266.072047</td>\n",
       "      <td>53</td>\n",
       "      <td>среднее</td>\n",
       "      <td>1</td>\n",
       "      <td>гражданский брак</td>\n",
       "      <td>1</td>\n",
       "      <td>F</td>\n",
       "      <td>пенсионер</td>\n",
       "      <td>0</td>\n",
       "      <td>158616.077870</td>\n",
       "      <td>сыграть свадьбу</td>\n",
       "    </tr>\n",
       "    <tr>\n",
       "      <th>5</th>\n",
       "      <td>0</td>\n",
       "      <td>-926.185831</td>\n",
       "      <td>27</td>\n",
       "      <td>высшее</td>\n",
       "      <td>0</td>\n",
       "      <td>гражданский брак</td>\n",
       "      <td>1</td>\n",
       "      <td>M</td>\n",
       "      <td>компаньон</td>\n",
       "      <td>0</td>\n",
       "      <td>255763.565419</td>\n",
       "      <td>покупка жилья</td>\n",
       "    </tr>\n",
       "    <tr>\n",
       "      <th>6</th>\n",
       "      <td>0</td>\n",
       "      <td>-2879.202052</td>\n",
       "      <td>43</td>\n",
       "      <td>высшее</td>\n",
       "      <td>0</td>\n",
       "      <td>женат / замужем</td>\n",
       "      <td>0</td>\n",
       "      <td>F</td>\n",
       "      <td>компаньон</td>\n",
       "      <td>0</td>\n",
       "      <td>240525.971920</td>\n",
       "      <td>операции с жильем</td>\n",
       "    </tr>\n",
       "    <tr>\n",
       "      <th>7</th>\n",
       "      <td>0</td>\n",
       "      <td>-152.779569</td>\n",
       "      <td>50</td>\n",
       "      <td>СРЕДНЕЕ</td>\n",
       "      <td>1</td>\n",
       "      <td>женат / замужем</td>\n",
       "      <td>0</td>\n",
       "      <td>M</td>\n",
       "      <td>сотрудник</td>\n",
       "      <td>0</td>\n",
       "      <td>135823.934197</td>\n",
       "      <td>образование</td>\n",
       "    </tr>\n",
       "    <tr>\n",
       "      <th>8</th>\n",
       "      <td>2</td>\n",
       "      <td>-6929.865299</td>\n",
       "      <td>35</td>\n",
       "      <td>ВЫСШЕЕ</td>\n",
       "      <td>0</td>\n",
       "      <td>гражданский брак</td>\n",
       "      <td>1</td>\n",
       "      <td>F</td>\n",
       "      <td>сотрудник</td>\n",
       "      <td>0</td>\n",
       "      <td>95856.832424</td>\n",
       "      <td>на проведение свадьбы</td>\n",
       "    </tr>\n",
       "    <tr>\n",
       "      <th>9</th>\n",
       "      <td>0</td>\n",
       "      <td>-2188.756445</td>\n",
       "      <td>41</td>\n",
       "      <td>среднее</td>\n",
       "      <td>1</td>\n",
       "      <td>женат / замужем</td>\n",
       "      <td>0</td>\n",
       "      <td>M</td>\n",
       "      <td>сотрудник</td>\n",
       "      <td>0</td>\n",
       "      <td>144425.938277</td>\n",
       "      <td>покупка жилья для семьи</td>\n",
       "    </tr>\n",
       "    <tr>\n",
       "      <th>10</th>\n",
       "      <td>2</td>\n",
       "      <td>-4171.483647</td>\n",
       "      <td>36</td>\n",
       "      <td>высшее</td>\n",
       "      <td>0</td>\n",
       "      <td>женат / замужем</td>\n",
       "      <td>0</td>\n",
       "      <td>M</td>\n",
       "      <td>компаньон</td>\n",
       "      <td>0</td>\n",
       "      <td>113943.491460</td>\n",
       "      <td>покупка недвижимости</td>\n",
       "    </tr>\n",
       "    <tr>\n",
       "      <th>11</th>\n",
       "      <td>0</td>\n",
       "      <td>-792.701887</td>\n",
       "      <td>40</td>\n",
       "      <td>среднее</td>\n",
       "      <td>1</td>\n",
       "      <td>женат / замужем</td>\n",
       "      <td>0</td>\n",
       "      <td>F</td>\n",
       "      <td>сотрудник</td>\n",
       "      <td>0</td>\n",
       "      <td>77069.234271</td>\n",
       "      <td>покупка коммерческой недвижимости</td>\n",
       "    </tr>\n",
       "    <tr>\n",
       "      <th>12</th>\n",
       "      <td>0</td>\n",
       "      <td>NaN</td>\n",
       "      <td>65</td>\n",
       "      <td>среднее</td>\n",
       "      <td>1</td>\n",
       "      <td>гражданский брак</td>\n",
       "      <td>1</td>\n",
       "      <td>M</td>\n",
       "      <td>пенсионер</td>\n",
       "      <td>0</td>\n",
       "      <td>NaN</td>\n",
       "      <td>сыграть свадьбу</td>\n",
       "    </tr>\n",
       "    <tr>\n",
       "      <th>13</th>\n",
       "      <td>0</td>\n",
       "      <td>-1846.641941</td>\n",
       "      <td>54</td>\n",
       "      <td>неоконченное высшее</td>\n",
       "      <td>2</td>\n",
       "      <td>женат / замужем</td>\n",
       "      <td>0</td>\n",
       "      <td>F</td>\n",
       "      <td>сотрудник</td>\n",
       "      <td>0</td>\n",
       "      <td>130458.228857</td>\n",
       "      <td>приобретение автомобиля</td>\n",
       "    </tr>\n",
       "    <tr>\n",
       "      <th>14</th>\n",
       "      <td>0</td>\n",
       "      <td>-1844.956182</td>\n",
       "      <td>56</td>\n",
       "      <td>высшее</td>\n",
       "      <td>0</td>\n",
       "      <td>гражданский брак</td>\n",
       "      <td>1</td>\n",
       "      <td>F</td>\n",
       "      <td>компаньон</td>\n",
       "      <td>1</td>\n",
       "      <td>165127.911772</td>\n",
       "      <td>покупка жилой недвижимости</td>\n",
       "    </tr>\n",
       "    <tr>\n",
       "      <th>15</th>\n",
       "      <td>1</td>\n",
       "      <td>-972.364419</td>\n",
       "      <td>26</td>\n",
       "      <td>среднее</td>\n",
       "      <td>1</td>\n",
       "      <td>женат / замужем</td>\n",
       "      <td>0</td>\n",
       "      <td>F</td>\n",
       "      <td>сотрудник</td>\n",
       "      <td>0</td>\n",
       "      <td>116820.904450</td>\n",
       "      <td>строительство собственной недвижимости</td>\n",
       "    </tr>\n",
       "    <tr>\n",
       "      <th>16</th>\n",
       "      <td>0</td>\n",
       "      <td>-1719.934226</td>\n",
       "      <td>35</td>\n",
       "      <td>среднее</td>\n",
       "      <td>1</td>\n",
       "      <td>женат / замужем</td>\n",
       "      <td>0</td>\n",
       "      <td>F</td>\n",
       "      <td>сотрудник</td>\n",
       "      <td>0</td>\n",
       "      <td>289202.704229</td>\n",
       "      <td>недвижимость</td>\n",
       "    </tr>\n",
       "    <tr>\n",
       "      <th>17</th>\n",
       "      <td>0</td>\n",
       "      <td>-2369.999720</td>\n",
       "      <td>33</td>\n",
       "      <td>высшее</td>\n",
       "      <td>0</td>\n",
       "      <td>гражданский брак</td>\n",
       "      <td>1</td>\n",
       "      <td>M</td>\n",
       "      <td>сотрудник</td>\n",
       "      <td>0</td>\n",
       "      <td>90410.586745</td>\n",
       "      <td>строительство недвижимости</td>\n",
       "    </tr>\n",
       "    <tr>\n",
       "      <th>18</th>\n",
       "      <td>0</td>\n",
       "      <td>400281.136913</td>\n",
       "      <td>53</td>\n",
       "      <td>среднее</td>\n",
       "      <td>1</td>\n",
       "      <td>вдовец / вдова</td>\n",
       "      <td>2</td>\n",
       "      <td>F</td>\n",
       "      <td>пенсионер</td>\n",
       "      <td>0</td>\n",
       "      <td>56823.777243</td>\n",
       "      <td>на покупку подержанного автомобиля</td>\n",
       "    </tr>\n",
       "    <tr>\n",
       "      <th>19</th>\n",
       "      <td>0</td>\n",
       "      <td>-10038.818549</td>\n",
       "      <td>48</td>\n",
       "      <td>СРЕДНЕЕ</td>\n",
       "      <td>1</td>\n",
       "      <td>в разводе</td>\n",
       "      <td>3</td>\n",
       "      <td>F</td>\n",
       "      <td>сотрудник</td>\n",
       "      <td>0</td>\n",
       "      <td>242831.107982</td>\n",
       "      <td>на покупку своего автомобиля</td>\n",
       "    </tr>\n",
       "  </tbody>\n",
       "</table>\n",
       "</div>"
      ],
      "text/plain": [
       "    children  days_employed  dob_years            education  education_id  \\\n",
       "0          1   -8437.673028         42               высшее             0   \n",
       "1          1   -4024.803754         36              среднее             1   \n",
       "2          0   -5623.422610         33              Среднее             1   \n",
       "3          3   -4124.747207         32              среднее             1   \n",
       "4          0  340266.072047         53              среднее             1   \n",
       "5          0    -926.185831         27               высшее             0   \n",
       "6          0   -2879.202052         43               высшее             0   \n",
       "7          0    -152.779569         50              СРЕДНЕЕ             1   \n",
       "8          2   -6929.865299         35               ВЫСШЕЕ             0   \n",
       "9          0   -2188.756445         41              среднее             1   \n",
       "10         2   -4171.483647         36               высшее             0   \n",
       "11         0    -792.701887         40              среднее             1   \n",
       "12         0            NaN         65              среднее             1   \n",
       "13         0   -1846.641941         54  неоконченное высшее             2   \n",
       "14         0   -1844.956182         56               высшее             0   \n",
       "15         1    -972.364419         26              среднее             1   \n",
       "16         0   -1719.934226         35              среднее             1   \n",
       "17         0   -2369.999720         33               высшее             0   \n",
       "18         0  400281.136913         53              среднее             1   \n",
       "19         0  -10038.818549         48              СРЕДНЕЕ             1   \n",
       "\n",
       "       family_status  family_status_id gender income_type  debt  \\\n",
       "0    женат / замужем                 0      F   сотрудник     0   \n",
       "1    женат / замужем                 0      F   сотрудник     0   \n",
       "2    женат / замужем                 0      M   сотрудник     0   \n",
       "3    женат / замужем                 0      M   сотрудник     0   \n",
       "4   гражданский брак                 1      F   пенсионер     0   \n",
       "5   гражданский брак                 1      M   компаньон     0   \n",
       "6    женат / замужем                 0      F   компаньон     0   \n",
       "7    женат / замужем                 0      M   сотрудник     0   \n",
       "8   гражданский брак                 1      F   сотрудник     0   \n",
       "9    женат / замужем                 0      M   сотрудник     0   \n",
       "10   женат / замужем                 0      M   компаньон     0   \n",
       "11   женат / замужем                 0      F   сотрудник     0   \n",
       "12  гражданский брак                 1      M   пенсионер     0   \n",
       "13   женат / замужем                 0      F   сотрудник     0   \n",
       "14  гражданский брак                 1      F   компаньон     1   \n",
       "15   женат / замужем                 0      F   сотрудник     0   \n",
       "16   женат / замужем                 0      F   сотрудник     0   \n",
       "17  гражданский брак                 1      M   сотрудник     0   \n",
       "18    вдовец / вдова                 2      F   пенсионер     0   \n",
       "19         в разводе                 3      F   сотрудник     0   \n",
       "\n",
       "     total_income                                 purpose  \n",
       "0   253875.639453                           покупка жилья  \n",
       "1   112080.014102                 приобретение автомобиля  \n",
       "2   145885.952297                           покупка жилья  \n",
       "3   267628.550329              дополнительное образование  \n",
       "4   158616.077870                         сыграть свадьбу  \n",
       "5   255763.565419                           покупка жилья  \n",
       "6   240525.971920                       операции с жильем  \n",
       "7   135823.934197                             образование  \n",
       "8    95856.832424                   на проведение свадьбы  \n",
       "9   144425.938277                 покупка жилья для семьи  \n",
       "10  113943.491460                    покупка недвижимости  \n",
       "11   77069.234271       покупка коммерческой недвижимости  \n",
       "12            NaN                         сыграть свадьбу  \n",
       "13  130458.228857                 приобретение автомобиля  \n",
       "14  165127.911772              покупка жилой недвижимости  \n",
       "15  116820.904450  строительство собственной недвижимости  \n",
       "16  289202.704229                            недвижимость  \n",
       "17   90410.586745              строительство недвижимости  \n",
       "18   56823.777243      на покупку подержанного автомобиля  \n",
       "19  242831.107982            на покупку своего автомобиля  "
      ]
     },
     "execution_count": 11,
     "metadata": {},
     "output_type": "execute_result"
    }
   ],
   "source": [
    "data.head(20)"
   ]
  },
  {
   "attachments": {},
   "cell_type": "markdown",
   "id": "bfd58c49",
   "metadata": {
    "deletable": false,
    "editable": false,
    "id": "1c12e233"
   },
   "source": [
    "**Задание 3. Выведите основную информацию о датафрейме с помощью метода `info()`.**"
   ]
  },
  {
   "cell_type": "code",
   "execution_count": 3,
   "id": "a8cf5d42",
   "metadata": {
    "deletable": false,
    "id": "2b757bca",
    "outputId": "15376089-8dad-46c9-b520-c05248d43158"
   },
   "outputs": [
    {
     "name": "stdout",
     "output_type": "stream",
     "text": [
      "<class 'pandas.core.frame.DataFrame'>\n",
      "RangeIndex: 21525 entries, 0 to 21524\n",
      "Data columns (total 12 columns):\n",
      " #   Column            Non-Null Count  Dtype  \n",
      "---  ------            --------------  -----  \n",
      " 0   children          21525 non-null  int64  \n",
      " 1   days_employed     19351 non-null  float64\n",
      " 2   dob_years         21525 non-null  int64  \n",
      " 3   education         21525 non-null  object \n",
      " 4   education_id      21525 non-null  int64  \n",
      " 5   family_status     21525 non-null  object \n",
      " 6   family_status_id  21525 non-null  int64  \n",
      " 7   gender            21525 non-null  object \n",
      " 8   income_type       21525 non-null  object \n",
      " 9   debt              21525 non-null  int64  \n",
      " 10  total_income      19351 non-null  float64\n",
      " 11  purpose           21525 non-null  object \n",
      "dtypes: float64(2), int64(5), object(5)\n",
      "memory usage: 2.0+ MB\n"
     ]
    }
   ],
   "source": [
    "data.info()"
   ]
  },
  {
   "attachments": {},
   "cell_type": "markdown",
   "id": "ef170892",
   "metadata": {
    "deletable": false,
    "editable": false,
    "id": "333ec665"
   },
   "source": [
    "## Предобработка данных"
   ]
  },
  {
   "attachments": {},
   "cell_type": "markdown",
   "id": "f1eec80f",
   "metadata": {
    "deletable": false,
    "editable": false,
    "id": "02d92d53"
   },
   "source": [
    "### Удаление пропусков"
   ]
  },
  {
   "attachments": {},
   "cell_type": "markdown",
   "id": "4e70f11a",
   "metadata": {
    "deletable": false,
    "editable": false,
    "id": "cd84967c"
   },
   "source": [
    "**Задание 4. Выведите количество пропущенных значений для каждого столбца. Используйте комбинацию двух методов.**"
   ]
  },
  {
   "cell_type": "code",
   "execution_count": 4,
   "id": "712a9b47",
   "metadata": {
    "deletable": false,
    "id": "7f9b2309",
    "outputId": "81f4d817-781c-465c-ed15-91ce4446810d"
   },
   "outputs": [
    {
     "data": {
      "text/plain": [
       "children               0\n",
       "days_employed       2174\n",
       "dob_years              0\n",
       "education              0\n",
       "education_id           0\n",
       "family_status          0\n",
       "family_status_id       0\n",
       "gender                 0\n",
       "income_type            0\n",
       "debt                   0\n",
       "total_income        2174\n",
       "purpose                0\n",
       "dtype: int64"
      ]
     },
     "execution_count": 4,
     "metadata": {},
     "output_type": "execute_result"
    }
   ],
   "source": [
    "data.isna().sum()"
   ]
  },
  {
   "attachments": {},
   "cell_type": "markdown",
   "id": "cad9fce7",
   "metadata": {
    "deletable": false,
    "editable": false,
    "id": "db86e27b"
   },
   "source": [
    "**Задание 5. В двух столбцах есть пропущенные значения. Один из них — `days_employed`. Пропуски в этом столбце вы обработаете на следующем этапе. Другой столбец с пропущенными значениями — `total_income` — хранит данные о доходах. На сумму дохода сильнее всего влияет тип занятости, поэтому заполнить пропуски в этом столбце нужно медианным значением по каждому типу из столбца `income_type`. Например, у человека с типом занятости `сотрудник` пропуск в столбце `total_income` должен быть заполнен медианным доходом среди всех записей с тем же типом.**"
   ]
  },
  {
   "cell_type": "code",
   "execution_count": 5,
   "id": "f62f51d5",
   "metadata": {
    "deletable": false,
    "id": "42006a93"
   },
   "outputs": [],
   "source": [
    "for t in data['income_type'].unique():\n",
    "    data.loc[(data['income_type'] == t) & (data['total_income'].isna()), 'total_income'] = \\\n",
    "    data.loc[(data['income_type'] == t), 'total_income'].median()"
   ]
  },
  {
   "attachments": {},
   "cell_type": "markdown",
   "id": "876ed685",
   "metadata": {
    "deletable": false,
    "editable": false,
    "id": "89da5ece"
   },
   "source": [
    "### Обработка аномальных значений"
   ]
  },
  {
   "attachments": {},
   "cell_type": "markdown",
   "id": "89cea58b",
   "metadata": {
    "deletable": false,
    "editable": false,
    "id": "57964554"
   },
   "source": [
    "**Задание 6. В данных могут встречаться артефакты (аномалии) — значения, которые не отражают действительность и появились по какой-то ошибке. таким артефактом будет отрицательное количество дней трудового стажа в столбце `days_employed`. Для реальных данных это нормально. Обработайте значения в этом столбце: замените все отрицательные значения положительными с помощью метода `abs()`.**"
   ]
  },
  {
   "cell_type": "code",
   "execution_count": 6,
   "id": "4bdffbca",
   "metadata": {
    "deletable": false,
    "id": "f6f055bf"
   },
   "outputs": [],
   "source": [
    "data['days_employed'] = data['days_employed'].abs()"
   ]
  },
  {
   "attachments": {},
   "cell_type": "markdown",
   "id": "aa63d28f",
   "metadata": {
    "deletable": false,
    "editable": false,
    "id": "6107dd2f"
   },
   "source": [
    "**Задание 7. Для каждого типа занятости выведите медианное значение трудового стажа `days_employed` в днях.**"
   ]
  },
  {
   "cell_type": "code",
   "execution_count": 7,
   "id": "e30bcf7f",
   "metadata": {
    "deletable": false,
    "id": "85a5faf6",
    "outputId": "801ef80e-522b-4668-f34e-565af7432bcf"
   },
   "outputs": [
    {
     "data": {
      "text/plain": [
       "income_type\n",
       "безработный        366413.652744\n",
       "в декрете            3296.759962\n",
       "госслужащий          2689.368353\n",
       "компаньон            1547.382223\n",
       "пенсионер          365213.306266\n",
       "предприниматель       520.848083\n",
       "сотрудник            1574.202821\n",
       "студент               578.751554\n",
       "Name: days_employed, dtype: float64"
      ]
     },
     "execution_count": 7,
     "metadata": {},
     "output_type": "execute_result"
    }
   ],
   "source": [
    "data.groupby('income_type')['days_employed'].agg('median')"
   ]
  },
  {
   "attachments": {},
   "cell_type": "markdown",
   "id": "bbea8f8e",
   "metadata": {
    "deletable": false,
    "editable": false,
    "id": "38d1a030"
   },
   "source": [
    "У двух типов (безработные и пенсионеры) получатся аномально большие значения. Исправить такие значения сложно, поэтому оставьте их как есть. Тем более этот столбец не понадобится вам для исследования."
   ]
  },
  {
   "attachments": {},
   "cell_type": "markdown",
   "id": "35c1094a",
   "metadata": {
    "deletable": false,
    "editable": false,
    "id": "d8a9f147"
   },
   "source": [
    "**Задание 8. Выведите перечень уникальных значений столбца `children`.**"
   ]
  },
  {
   "cell_type": "code",
   "execution_count": 8,
   "id": "995d5397",
   "metadata": {
    "deletable": false,
    "id": "ef5056eb",
    "outputId": "6975b15c-7f95-4697-d16d-a0c79b657b03"
   },
   "outputs": [
    {
     "data": {
      "text/plain": [
       "array([ 1,  0,  3,  2, -1,  4, 20,  5])"
      ]
     },
     "execution_count": 8,
     "metadata": {},
     "output_type": "execute_result"
    }
   ],
   "source": [
    "data['children'].unique()"
   ]
  },
  {
   "attachments": {},
   "cell_type": "markdown",
   "id": "9f999dee",
   "metadata": {
    "deletable": false,
    "editable": false,
    "id": "40b9ebf2"
   },
   "source": [
    "**Задание 9. В столбце `children` есть два аномальных значения. Удалите строки, в которых встречаются такие аномальные значения из датафрейма `data`.**"
   ]
  },
  {
   "cell_type": "code",
   "execution_count": 9,
   "id": "a55725bc",
   "metadata": {
    "deletable": false,
    "id": "3ff9801d"
   },
   "outputs": [],
   "source": [
    "data = data[(data['children'] != -1) & (data['children'] != 20)]"
   ]
  },
  {
   "attachments": {},
   "cell_type": "markdown",
   "id": "cef7b4ef",
   "metadata": {
    "deletable": false,
    "editable": false,
    "id": "bbc4d0ce"
   },
   "source": [
    "**Задание 10. Ещё раз выведите перечень уникальных значений столбца `children`, чтобы убедиться, что артефакты удалены.**"
   ]
  },
  {
   "cell_type": "code",
   "execution_count": 10,
   "id": "85a9c4e3",
   "metadata": {
    "deletable": false,
    "id": "ad4fa8b7",
    "outputId": "b2097101-d49d-44d9-901b-32a65c9463d1"
   },
   "outputs": [
    {
     "data": {
      "text/plain": [
       "array([1, 0, 3, 2, 4, 5])"
      ]
     },
     "execution_count": 10,
     "metadata": {},
     "output_type": "execute_result"
    }
   ],
   "source": [
    "data['children'].unique()"
   ]
  },
  {
   "attachments": {},
   "cell_type": "markdown",
   "id": "3dea356d",
   "metadata": {
    "deletable": false,
    "editable": false,
    "id": "75440b63"
   },
   "source": [
    "### Удаление пропусков (продолжение)"
   ]
  },
  {
   "attachments": {},
   "cell_type": "markdown",
   "id": "29e2640a",
   "metadata": {
    "deletable": false,
    "editable": false,
    "id": "f4ea573f"
   },
   "source": [
    "**Задание 11. Заполните пропуски в столбце `days_employed` медианными значениями по каждого типа занятости `income_type`.**"
   ]
  },
  {
   "cell_type": "code",
   "execution_count": 11,
   "id": "6bf3094b",
   "metadata": {
    "deletable": false,
    "id": "af6b1a7e"
   },
   "outputs": [],
   "source": [
    "for t in data['income_type'].unique():\n",
    "    data.loc[(data['income_type'] == t) & (data['days_employed'].isna()), 'days_employed'] = \\\n",
    "    data.loc[(data['income_type'] == t), 'days_employed'].median()"
   ]
  },
  {
   "attachments": {},
   "cell_type": "markdown",
   "id": "ac1937b5",
   "metadata": {
    "deletable": false,
    "editable": false,
    "id": "2753f40d"
   },
   "source": [
    "**Задание 12. Убедитесь, что все пропуски заполнены. Проверьте себя и ещё раз выведите количество пропущенных значений для каждого столбца с помощью двух методов.**"
   ]
  },
  {
   "cell_type": "code",
   "execution_count": 12,
   "id": "7983621f",
   "metadata": {
    "deletable": false,
    "id": "55f78bc2",
    "outputId": "8da1e4e1-358e-4e87-98c9-f261bce0a7b2"
   },
   "outputs": [
    {
     "data": {
      "text/plain": [
       "children            0\n",
       "days_employed       0\n",
       "dob_years           0\n",
       "education           0\n",
       "education_id        0\n",
       "family_status       0\n",
       "family_status_id    0\n",
       "gender              0\n",
       "income_type         0\n",
       "debt                0\n",
       "total_income        0\n",
       "purpose             0\n",
       "dtype: int64"
      ]
     },
     "execution_count": 12,
     "metadata": {},
     "output_type": "execute_result"
    }
   ],
   "source": [
    "data.isna().sum()"
   ]
  },
  {
   "attachments": {},
   "cell_type": "markdown",
   "id": "986cee55",
   "metadata": {
    "deletable": false,
    "editable": false,
    "id": "ddc81e43"
   },
   "source": [
    "### Изменение типов данных"
   ]
  },
  {
   "attachments": {},
   "cell_type": "markdown",
   "id": "93903211",
   "metadata": {
    "deletable": false,
    "editable": false,
    "id": "42d19d24"
   },
   "source": [
    "**Задание 13. Замените вещественный тип данных в столбце `total_income` на целочисленный с помощью метода `astype()`.**"
   ]
  },
  {
   "cell_type": "code",
   "execution_count": 13,
   "id": "61420350",
   "metadata": {
    "deletable": false,
    "id": "920b65ad"
   },
   "outputs": [],
   "source": [
    "data['total_income'] = data['total_income'].astype(int)"
   ]
  },
  {
   "attachments": {},
   "cell_type": "markdown",
   "id": "d2faac6a",
   "metadata": {
    "deletable": false,
    "editable": false,
    "id": "80c420ba"
   },
   "source": [
    "### Обработка дубликатов"
   ]
  },
  {
   "attachments": {},
   "cell_type": "markdown",
   "id": "d2d522ec",
   "metadata": {
    "deletable": false,
    "editable": false
   },
   "source": [
    "**Задание 14. Обработайте неявные дубликаты в столбце `education`. В этом столбце есть одни и те же значения, но записанные по-разному: с использованием заглавных и строчных букв. Приведите их к нижнему регистру. Проверьте остальные столбцы.**"
   ]
  },
  {
   "cell_type": "code",
   "execution_count": 14,
   "id": "5817d23b",
   "metadata": {
    "deletable": false
   },
   "outputs": [],
   "source": [
    "data['education'] = data['education'].str.lower()"
   ]
  },
  {
   "attachments": {},
   "cell_type": "markdown",
   "id": "83105eeb",
   "metadata": {
    "deletable": false,
    "editable": false,
    "id": "dc587695"
   },
   "source": [
    "**Задание 15. Выведите на экран количество строк-дубликатов в данных. Если такие строки присутствуют, удалите их.**"
   ]
  },
  {
   "cell_type": "code",
   "execution_count": 15,
   "id": "366ad841",
   "metadata": {
    "deletable": false,
    "id": "3ee445e4",
    "outputId": "9684deba-1934-42d1-99e1-cda61740f822"
   },
   "outputs": [
    {
     "data": {
      "text/plain": [
       "71"
      ]
     },
     "execution_count": 15,
     "metadata": {},
     "output_type": "execute_result"
    }
   ],
   "source": [
    "data.duplicated().sum()"
   ]
  },
  {
   "cell_type": "code",
   "execution_count": 16,
   "id": "195eec52",
   "metadata": {
    "deletable": false,
    "id": "8575fe05"
   },
   "outputs": [],
   "source": [
    "data = data.drop_duplicates()"
   ]
  },
  {
   "attachments": {},
   "cell_type": "markdown",
   "id": "73b84ec0",
   "metadata": {
    "deletable": false,
    "editable": false,
    "id": "9904cf55"
   },
   "source": [
    "### Категоризация данных"
   ]
  },
  {
   "attachments": {},
   "cell_type": "markdown",
   "id": "f5d55210",
   "metadata": {
    "deletable": false,
    "editable": false,
    "id": "72fcc8a2"
   },
   "source": [
    "**Задание 16. На основании диапазонов, указанных ниже, создайте в датафрейме `data` столбец `total_income_category` с категориями:**\n",
    "\n",
    "- 0–30000 — `'E'`;\n",
    "- 30001–50000 — `'D'`;\n",
    "- 50001–200000 — `'C'`;\n",
    "- 200001–1000000 — `'B'`;\n",
    "- 1000001 и выше — `'A'`.\n",
    "\n",
    "\n",
    "**Например, кредитополучателю с доходом 25000 нужно назначить категорию `'E'`, а клиенту, получающему 235000, — `'B'`. Используйте собственную функцию с именем `categorize_income()` и метод `apply()`.**"
   ]
  },
  {
   "cell_type": "code",
   "execution_count": 17,
   "id": "0a5ddf96",
   "metadata": {
    "deletable": false,
    "id": "e1771346"
   },
   "outputs": [],
   "source": [
    "def categorize_income(income):\n",
    "    try:\n",
    "        if 0 <= income <= 30000:\n",
    "            return 'E'\n",
    "        elif 30001 <= income <= 50000:\n",
    "            return 'D'\n",
    "        elif 50001 <= income <= 200000:\n",
    "            return 'C'\n",
    "        elif 200001 <= income <= 1000000:\n",
    "            return 'B'\n",
    "        elif income >= 1000001:\n",
    "            return 'A'\n",
    "    except:\n",
    "        pass"
   ]
  },
  {
   "cell_type": "code",
   "execution_count": 18,
   "id": "ded9544b",
   "metadata": {
    "deletable": false,
    "id": "d5f3586d"
   },
   "outputs": [],
   "source": [
    "data['total_income_category'] = data['total_income'].apply(categorize_income)"
   ]
  },
  {
   "attachments": {},
   "cell_type": "markdown",
   "id": "492b56fd",
   "metadata": {
    "deletable": false,
    "editable": false,
    "id": "dde49b5c"
   },
   "source": [
    "**Задание 17. Выведите на экран перечень уникальных целей взятия кредита из столбца `purpose`.**"
   ]
  },
  {
   "cell_type": "code",
   "execution_count": 19,
   "id": "bae1f263",
   "metadata": {
    "deletable": false,
    "id": "f67ce9b3",
    "outputId": "673c12d9-7d7e-4ae0-9812-c622c89dd244"
   },
   "outputs": [
    {
     "data": {
      "text/plain": [
       "array(['покупка жилья', 'приобретение автомобиля',\n",
       "       'дополнительное образование', 'сыграть свадьбу',\n",
       "       'операции с жильем', 'образование', 'на проведение свадьбы',\n",
       "       'покупка жилья для семьи', 'покупка недвижимости',\n",
       "       'покупка коммерческой недвижимости', 'покупка жилой недвижимости',\n",
       "       'строительство собственной недвижимости', 'недвижимость',\n",
       "       'строительство недвижимости', 'на покупку подержанного автомобиля',\n",
       "       'на покупку своего автомобиля',\n",
       "       'операции с коммерческой недвижимостью',\n",
       "       'строительство жилой недвижимости', 'жилье',\n",
       "       'операции со своей недвижимостью', 'автомобили',\n",
       "       'заняться образованием', 'сделка с подержанным автомобилем',\n",
       "       'получение образования', 'автомобиль', 'свадьба',\n",
       "       'получение дополнительного образования', 'покупка своего жилья',\n",
       "       'операции с недвижимостью', 'получение высшего образования',\n",
       "       'свой автомобиль', 'сделка с автомобилем',\n",
       "       'профильное образование', 'высшее образование',\n",
       "       'покупка жилья для сдачи', 'на покупку автомобиля', 'ремонт жилью',\n",
       "       'заняться высшим образованием'], dtype=object)"
      ]
     },
     "execution_count": 19,
     "metadata": {},
     "output_type": "execute_result"
    }
   ],
   "source": [
    "data['purpose'].unique()"
   ]
  },
  {
   "attachments": {},
   "cell_type": "markdown",
   "id": "b8407f88",
   "metadata": {
    "deletable": false,
    "editable": false,
    "id": "85d0aef0"
   },
   "source": [
    "**Задание 18. Создайте функцию, которая на основании данных из столбца `purpose` сформирует новый столбец `purpose_category`, в который войдут следующие категории:**\n",
    "\n",
    "- `'операции с автомобилем'`,\n",
    "- `'операции с недвижимостью'`,\n",
    "- `'проведение свадьбы'`,\n",
    "- `'получение образования'`.\n",
    "\n",
    "**Например, если в столбце `purpose` находится подстрока `'на покупку автомобиля'`, то в столбце `purpose_category` должна появиться строка `'операции с автомобилем'`.**\n",
    "\n",
    "**Используйте собственную функцию с именем `categorize_purpose()` и метод `apply()`. Изучите данные в столбце `purpose` и определите, какие подстроки помогут вам правильно определить категорию.**"
   ]
  },
  {
   "cell_type": "code",
   "execution_count": 20,
   "id": "8c64831d",
   "metadata": {
    "deletable": false,
    "id": "e149fab4"
   },
   "outputs": [],
   "source": [
    "def categorize_purpose(row):\n",
    "    try:\n",
    "        if 'автом' in row:\n",
    "            return 'операции с автомобилем'\n",
    "        elif 'жил' in row or 'недвиж' in row:\n",
    "            return 'операции с недвижимостью'\n",
    "        elif 'свад' in row:\n",
    "            return 'проведение свадьбы'\n",
    "        elif 'образов' in row:\n",
    "            return 'получение образования'\n",
    "    except:\n",
    "        return 'нет категории'"
   ]
  },
  {
   "cell_type": "code",
   "execution_count": 21,
   "id": "f2a8cc95",
   "metadata": {
    "deletable": false,
    "id": "bf36e69b"
   },
   "outputs": [],
   "source": [
    "data['purpose_category'] = data['purpose'].apply(categorize_purpose)"
   ]
  },
  {
   "attachments": {},
   "cell_type": "markdown",
   "id": "0dc587db",
   "metadata": {
    "deletable": false,
    "editable": false,
    "id": "09b242bf"
   },
   "source": [
    "### Шаг 3. Исследуйте данные и ответьте на вопросы"
   ]
  },
  {
   "attachments": {},
   "cell_type": "markdown",
   "id": "72079e18",
   "metadata": {
    "deletable": false,
    "editable": false,
    "id": "c5d66278"
   },
   "source": [
    "#### 3.1 Есть ли зависимость между количеством детей и возвратом кредита в срок?"
   ]
  },
  {
   "cell_type": "code",
   "execution_count": 22,
   "id": "a2a44422",
   "metadata": {
    "deletable": false,
    "id": "2cacfc4a"
   },
   "outputs": [
    {
     "name": "stdout",
     "output_type": "stream",
     "text": [
      "  children   sum      mean\n",
      "            debt      debt\n",
      "0        0  1063  0.075438\n",
      "1        1   444  0.092346\n",
      "2        2   194  0.094542\n",
      "3        3    27  0.081818\n",
      "4        4     4  0.097561\n",
      "5        5     0  0.000000\n"
     ]
    }
   ],
   "source": [
    "# Ваш код будет здесь. Вы можете создавать новые ячейки.\n",
    "data_pivot_children = data.pivot_table(index = ['children'],  values = 'debt', aggfunc = ['sum', 'mean'])\n",
    "data_pivot_children = data_pivot_children.reset_index()\n",
    "print(data_pivot_children.head(10))"
   ]
  },
  {
   "attachments": {},
   "cell_type": "markdown",
   "id": "760844b6",
   "metadata": {
    "deletable": false,
    "id": "3a6b99ec"
   },
   "source": [
    "**Вывод:** Сумма, в данном случае, будет показывать наличие корреляции между возвратом кредита в срок и количеством детей. Чем больше значение, тем больше просроченных кредитов имеет данная категория людей. \n",
    "\n",
    "Действительно, у людей с без детей количество просроченных кредитов составило 1063, а у людей с детьми показатель наличия задолженностей ниже. Стоит отметить, что людей с 5 детьми нет задолженностей по кредиту. \n",
    "\n",
    "Однако среднее значение показывает, что самое большое среднее арифметическое значение у категории 4 ребенка, так что все познается в сравнении с общим количеством записей. В любом случае, прежде чем делать выводы, необходимо оценить стат. значимость."
   ]
  },
  {
   "attachments": {},
   "cell_type": "markdown",
   "id": "f194b220",
   "metadata": {
    "deletable": false,
    "editable": false,
    "id": "97be82ca"
   },
   "source": [
    "#### 3.2 Есть ли зависимость между семейным положением и возвратом кредита в срок?"
   ]
  },
  {
   "cell_type": "code",
   "execution_count": 23,
   "id": "7b36fdb1",
   "metadata": {
    "deletable": false,
    "id": "dc3f7ee8"
   },
   "outputs": [
    {
     "name": "stdout",
     "output_type": "stream",
     "text": [
      "           family_status  sum      mean\n",
      "                         debt      debt\n",
      "0  Не женат / не замужем  273  0.097639\n",
      "1              в разводе   84  0.070648\n",
      "2         вдовец / вдова   63  0.066246\n",
      "3       гражданский брак  385  0.093130\n",
      "4        женат / замужем  927  0.075606\n"
     ]
    }
   ],
   "source": [
    "# Ваш код будет здесь. Вы можете создавать новые ячейки.\n",
    "data_pivot_family_status = data.pivot_table(index = ['family_status'],  values ='debt', aggfunc = ['sum', 'mean'])\n",
    "data_pivot_family_status = data_pivot_family_status.reset_index()\n",
    "print(data_pivot_family_status.head(10))"
   ]
  },
  {
   "attachments": {},
   "cell_type": "markdown",
   "id": "baba744c",
   "metadata": {
    "deletable": false,
    "id": "1cef7837"
   },
   "source": [
    "**Вывод:** У людей в статусе \"не женаты\", \"гражданский брак\" больше просрочек по кредиту. У вдовцов просрочек меньше всего, среднее арифметическое значение это подтверждает.\n",
    "\n",
    "В любом случае, прежде чем делать выводы, необходимо оценить стат. значимость."
   ]
  },
  {
   "attachments": {},
   "cell_type": "markdown",
   "id": "224d6342",
   "metadata": {
    "deletable": false,
    "editable": false,
    "id": "1e8b2fca"
   },
   "source": [
    "#### 3.3 Есть ли зависимость между уровнем дохода и возвратом кредита в срок?"
   ]
  },
  {
   "cell_type": "code",
   "execution_count": 24,
   "id": "6fa7b786",
   "metadata": {
    "deletable": false,
    "id": "cd7e3720"
   },
   "outputs": [
    {
     "data": {
      "text/html": [
       "<div>\n",
       "<style scoped>\n",
       "    .dataframe tbody tr th:only-of-type {\n",
       "        vertical-align: middle;\n",
       "    }\n",
       "\n",
       "    .dataframe tbody tr th {\n",
       "        vertical-align: top;\n",
       "    }\n",
       "\n",
       "    .dataframe thead tr th {\n",
       "        text-align: left;\n",
       "    }\n",
       "</style>\n",
       "<table border=\"1\" class=\"dataframe\">\n",
       "  <thead>\n",
       "    <tr>\n",
       "      <th></th>\n",
       "      <th>total_income_category</th>\n",
       "      <th>sum</th>\n",
       "      <th>mean</th>\n",
       "    </tr>\n",
       "    <tr>\n",
       "      <th></th>\n",
       "      <th></th>\n",
       "      <th>debt</th>\n",
       "      <th>debt</th>\n",
       "    </tr>\n",
       "  </thead>\n",
       "  <tbody>\n",
       "    <tr>\n",
       "      <th>0</th>\n",
       "      <td>A</td>\n",
       "      <td>2</td>\n",
       "      <td>0.080000</td>\n",
       "    </tr>\n",
       "    <tr>\n",
       "      <th>1</th>\n",
       "      <td>B</td>\n",
       "      <td>354</td>\n",
       "      <td>0.070602</td>\n",
       "    </tr>\n",
       "    <tr>\n",
       "      <th>2</th>\n",
       "      <td>C</td>\n",
       "      <td>1353</td>\n",
       "      <td>0.084982</td>\n",
       "    </tr>\n",
       "    <tr>\n",
       "      <th>3</th>\n",
       "      <td>D</td>\n",
       "      <td>21</td>\n",
       "      <td>0.060172</td>\n",
       "    </tr>\n",
       "    <tr>\n",
       "      <th>4</th>\n",
       "      <td>E</td>\n",
       "      <td>2</td>\n",
       "      <td>0.090909</td>\n",
       "    </tr>\n",
       "  </tbody>\n",
       "</table>\n",
       "</div>"
      ],
      "text/plain": [
       "  total_income_category   sum      mean\n",
       "                         debt      debt\n",
       "0                     A     2  0.080000\n",
       "1                     B   354  0.070602\n",
       "2                     C  1353  0.084982\n",
       "3                     D    21  0.060172\n",
       "4                     E     2  0.090909"
      ]
     },
     "execution_count": 24,
     "metadata": {},
     "output_type": "execute_result"
    }
   ],
   "source": [
    "# Ваш код будет здесь. Вы можете создавать новые ячейки.\n",
    "data_pivot_income = data.pivot_table(index = ['total_income_category'],  values ='debt', aggfunc = ['sum', 'mean'])\n",
    "data_pivot_income = data_pivot_income.reset_index()\n",
    "data_pivot_income\n",
    "#print(data_pivot_income.head(10))"
   ]
  },
  {
   "attachments": {},
   "cell_type": "markdown",
   "id": "f85cee97",
   "metadata": {
    "deletable": false,
    "id": "e8593def"
   },
   "source": [
    "**Вывод:** Количество просрочек имеет форму нормального распределения, с вершиной параболы в значении категории \"С\", у людей в данной категории самое большое количество просроченных кредитов.\n",
    "\n",
    "Однако, благодаря среднему арифметическому значению мы видим количественное соотношение, так самое большое значение по среднему арифметическому в категории дохода \"E\", и самое низкое в категории \"D\"."
   ]
  },
  {
   "attachments": {},
   "cell_type": "markdown",
   "id": "60ea3aa7",
   "metadata": {
    "deletable": false,
    "editable": false,
    "id": "99ecbd1f"
   },
   "source": [
    "#### 3.4 Как разные цели кредита влияют на его возврат в срок?"
   ]
  },
  {
   "cell_type": "code",
   "execution_count": 25,
   "id": "f81c43a7",
   "metadata": {
    "deletable": false,
    "id": "2b687290"
   },
   "outputs": [
    {
     "name": "stdout",
     "output_type": "stream",
     "text": [
      "           purpose_category  sum      mean\n",
      "                            debt      debt\n",
      "0    операции с автомобилем  400  0.093480\n",
      "1  операции с недвижимостью  780  0.072551\n",
      "2     получение образования  369  0.092528\n",
      "3        проведение свадьбы  183  0.079118\n"
     ]
    }
   ],
   "source": [
    "# Ваш код будет здесь. Вы можете создавать новые ячейки.\n",
    "data_pivot_purpose = data.pivot_table(index = ['purpose_category'],  values = 'debt', aggfunc = ['sum', 'mean'])\n",
    "data_pivot_purpose = data_pivot_purpose.reset_index()\n",
    "print(data_pivot_purpose.head(10))"
   ]
  },
  {
   "attachments": {},
   "cell_type": "markdown",
   "id": "f3671688",
   "metadata": {
    "deletable": false,
    "id": "b4bb2ce6"
   },
   "source": [
    "**Вывод:** По среднему арифметическому числу первое место в номинации \"большое количество просрочек по кредиту\" принадлежит категории \"операции с автомобилем\", последнее место занимает категория \"операции с недвижимостью\".\n",
    "\n",
    "Однако, можно заметить, что по количеству больше всего задолженностей в \"операциях с недвижимостью\"."
   ]
  },
  {
   "attachments": {},
   "cell_type": "markdown",
   "id": "7c34fa9c",
   "metadata": {
    "deletable": false,
    "editable": false,
    "id": "09c3ac4c"
   },
   "source": [
    "#### 3.5 Приведите возможные причины появления пропусков в исходных данных."
   ]
  },
  {
   "attachments": {},
   "cell_type": "markdown",
   "id": "3d19f04b",
   "metadata": {
    "deletable": false,
    "id": "9da2ceda"
   },
   "source": [
    "*Ответ:* Причинами появления пропусков в исходных данных могут быть ошибки ввода данных, намеренное сокрытие информации, а также фрод."
   ]
  },
  {
   "cell_type": "code",
   "execution_count": 14,
   "id": "edd489ed",
   "metadata": {},
   "outputs": [
    {
     "name": "stdout",
     "output_type": "stream",
     "text": [
      "    children  days_employed  dob_years education  education_id  \\\n",
      "12         0            NaN         65   среднее             1   \n",
      "26         0            NaN         41   среднее             1   \n",
      "29         0            NaN         63   среднее             1   \n",
      "41         0            NaN         50   среднее             1   \n",
      "55         0            NaN         54   среднее             1   \n",
      "65         0            NaN         21   среднее             1   \n",
      "67         0            NaN         52    высшее             0   \n",
      "72         1            NaN         32    высшее             0   \n",
      "82         2            NaN         50    высшее             0   \n",
      "83         0            NaN         52   среднее             1   \n",
      "\n",
      "            family_status  family_status_id gender  income_type  debt  \\\n",
      "12       гражданский брак                 1      M    пенсионер     0   \n",
      "26        женат / замужем                 0      M  госслужащий     0   \n",
      "29  Не женат / не замужем                 4      F    пенсионер     0   \n",
      "41        женат / замужем                 0      F  госслужащий     0   \n",
      "55       гражданский брак                 1      F    пенсионер     1   \n",
      "65  Не женат / не замужем                 4      M    компаньон     0   \n",
      "67        женат / замужем                 0      F    пенсионер     0   \n",
      "72        женат / замужем                 0      M  госслужащий     0   \n",
      "82        женат / замужем                 0      F    сотрудник     0   \n",
      "83        женат / замужем                 0      M    сотрудник     0   \n",
      "\n",
      "    total_income                                purpose  \n",
      "12           NaN                        сыграть свадьбу  \n",
      "26           NaN                            образование  \n",
      "29           NaN       строительство жилой недвижимости  \n",
      "41           NaN       сделка с подержанным автомобилем  \n",
      "55           NaN                        сыграть свадьбу  \n",
      "65           NaN  операции с коммерческой недвижимостью  \n",
      "67           NaN                покупка жилья для семьи  \n",
      "72           NaN  операции с коммерческой недвижимостью  \n",
      "82           NaN                                  жилье  \n",
      "83           NaN                                  жилье  \n"
     ]
    },
    {
     "data": {
      "text/plain": [
       "array(['пенсионер', 'госслужащий', 'компаньон', 'сотрудник',\n",
       "       'предприниматель'], dtype=object)"
      ]
     },
     "execution_count": 14,
     "metadata": {},
     "output_type": "execute_result"
    }
   ],
   "source": [
    "clients_without_income = data[data['total_income'].isnull()]\n",
    "\n",
    "print(clients_without_income.head(10))\n",
    "\n",
    "clients_without_income['income_type'].unique()\n"
   ]
  },
  {
   "attachments": {},
   "cell_type": "markdown",
   "id": "57dab86a",
   "metadata": {
    "deletable": false,
    "editable": false,
    "id": "7b0487d6"
   },
   "source": [
    "#### 3.6 Объясните, почему заполнить пропуски медианным значением — лучшее решение для количественных переменных."
   ]
  },
  {
   "attachments": {},
   "cell_type": "markdown",
   "id": "5be172f4",
   "metadata": {
    "deletable": false,
    "id": "7ecf2b8e"
   },
   "source": [
    "*Ответ:* В анализе данных медиана может использоваться как альтернатива среднего значения, устойчивая к выбросам и аномальным значениям, поэтому для количественных переменных данный вариант заполнения пропусков подходит лучше, чем среднее арифметическое значение."
   ]
  },
  {
   "attachments": {},
   "cell_type": "markdown",
   "id": "22224c47",
   "metadata": {
    "deletable": false,
    "id": "bad65432"
   },
   "source": [
    "### Вывод\n",
    "\n",
    "    Таким образом, сумма количества долгов будет показывать наличие корреляции между возвратом кредита в срок и количеством детей. Чем больше значение, тем больше просроченных кредитов имеет данная категория людей. Действительно, у людей без детей количество просроченных кредитов составило 1063, а у людей с детьми показатель наличия задолженностей ниже. Стоит отметить, что людей с 5 детьми нет задолженностей по кредиту. Однако среднее арифметическое значение показывает, что в процентном соотношении самое большое значение у категории людей с 4 детьми, так что все познается в сравнении с общим количеством записей. \n",
    "\n",
    "    У людей в статусе \"не женаты\", \"гражданский брак\" больше просрочек по кредиту. У вдовцов просрочек меньше всего, среднее арифметическое значение это подтверждает.\n",
    "    \n",
    "    Количество просрочек имеет форму нормального распределения, с вершиной параболы в значении категории \"С\", у людей в данной категории самое большое количество просроченных кредитов. Однако, благодаря среднему арифметическому значению мы видим количественное соотношение, так самое большое значение по среднему арифметическому в категории дохода \"E\", и самое низкое в категории \"D\".\n",
    "    \n",
    "     По среднему арифметическому числу первое место в номинации \"большое количество просрочек по кредиту\" принадлежит категории \"операции с автомобилем\", последнее место занимает категория \"операции с недвижимостью\".Однако, можно заметить, что по количеству больше всего задолженностей в \"операциях с недвижимостью\".\n",
    "    \n",
    "    В любом случае, прежде чем делать выводы, необходимо оценить статистическую значимость.\n"
   ]
  },
  {
   "attachments": {},
   "cell_type": "markdown",
   "id": "b6c3a911",
   "metadata": {},
   "source": [
    "# Вывод:\n",
    "\n",
    "**Цель исследования:** определить, влияет ли семейное положение и количество детей клиента на факт погашения кредита в срок.Результаты исследования будут учтены при построении модели кредитного скоринга — специальной системы, которая оценивает способность потенциального заёмщика вернуть кредит банку.\n",
    "\n",
    "**Заказчик:** кредитный отдел банка\n",
    "\n",
    "**Входные данные:** статистика о платёжеспособности клиентов.\n",
    "\n",
    "<div style=\"background: #B0E0E6; padding: 5px; border: 1px solid SteelBlue; border-radius: 5px;\">\n",
    "    <font color='4682B4'><u><b>Гипотеза 1</b></u></font>\n",
    "    <br />\n",
    "    <font color='4682B4'>\n",
    "Имеется зависимость между количеством детей и возвратом кредита в срок\n",
    "    </font>\n",
    "</div>\n",
    "\n",
    "Данных по родителям с 3, 4 и 5 детьми недостататочно, чтобы сделать однозначный вывод и подтвердить гипотезу.\n",
    "Однако, заметно, что доля непогашенных кредитов: \n",
    "\n",
    "* у клиентов без детей 0.075\n",
    "* у клиентов c 1-м ребенком 0.092\n",
    "* у клиентов c 2-мя детьми 0.094\n",
    "\n",
    "Чем выше значение, тем выше риск при выдаче кредита\n",
    "\n",
    "<div style=\"background: #B0E0E6; padding: 5px; border: 1px solid SteelBlue; border-radius: 5px;\">\n",
    "    <font color='4682B4'><u><b>Гипотеза 2</b></u></font>\n",
    "    <br />\n",
    "    <font color='4682B4'>\n",
    "Имеется зависимость между семейным положением и возвратом кредита в срок\n",
    "    </font>\n",
    "</div>\n",
    "\n",
    "**Гипотеза подтверждена**\n",
    "\n",
    "Действительно, наблюдается зависимость между семейным положением и возвратом кредита в срок. Так, люди никогда не вступавшие в брак (к ним относятся и люди, проживающие в гражданском браке) имеют большую долю непогашенных в срок кредитов.\n",
    "\n",
    "* у клиентов в категории Не женат / не замужем 0.097\n",
    "* у клиентов в категории  женат / замужем 0.075\n",
    "\n",
    "<div style=\"background: #B0E0E6; padding: 5px; border: 1px solid SteelBlue; border-radius: 5px;\">\n",
    "    <font color='4682B4'><u><b>Гипотеза 3</b></u></font>\n",
    "    <br />\n",
    "    <font color='4682B4'>\n",
    "Имеется зависимость между уровнем дохода и возвратом кредита в срок\n",
    "    </font>\n",
    "</div>\n",
    "\n",
    "**Гипотеза частично подтверждена** так как объем выборки недостаточен для формирования однозначных выводов.\n",
    "\n",
    "Заметно, что с ростом доходов тенденция (D->C и B->А) к снижению числа долгов не сохраняется, а  растёт. Из-за подобного поведения наших групп параметр (\"доход\") **нельзя назвать надёжным** при определении платёжеспособности клиента. \n",
    "\n",
    "Наблюдается, что:\n",
    "\n",
    "* у клиентов в категории дохода A 0.080\n",
    "* у клиентов в категории дохода B 0.071\n",
    "* у клиентов в категории дохода C 0.085\n",
    "* у клиентов в категории дохода D 0.060\n",
    "* у клиентов в категории дохода E 0.091\n",
    "\n",
    "Где в категории \"A\" - наивысший доход, а в категории \"E\" самый низкий.\n",
    "\n",
    "Это может быть аномалией, вызванной недостаточным размером выборки для клиентов с категорией доходов А.\n",
    "\n",
    "<div style=\"background: #B0E0E6; padding: 5px; border: 1px solid SteelBlue; border-radius: 5px;\">\n",
    "    <font color='4682B4'><u><b>Гипотеза 4</b></u></font>\n",
    "    <br />\n",
    "    <font color='4682B4'>\n",
    "Имеется зависимость между разными целями кредита и его возвратом в срок\n",
    "    </font>\n",
    "</div>\n",
    "\n",
    "**Гипотеза подтверждена** \n",
    "\n",
    "По среднему арифметическому числу первое место в номинации \"большое количество просрочек по кредиту\" принадлежит категории \"операции с автомобилем\", последнее место занимает категория \"операции с недвижимостью\".\n",
    "\n",
    "* у клиентов в категории операции с недвижимостью 0.072\n",
    "* у клиентов в категории операции с автомобилем 0.093\n",
    "\n",
    "Однако, можно заметить, что по количеству больше всего задолженностей в \"операциях с недвижимостью\".\n",
    "\n",
    "**Итог:**\n",
    "\n",
    "Подтвердились гипотезы №2 и №4, на эти данные стоит опираться при построении скоринговой модели.\n",
    "\n",
    "\n",
    "\n",
    "\n",
    "\n"
   ]
  }
 ],
 "metadata": {
  "ExecuteTimeLog": [
   {
    "duration": 54,
    "start_time": "2022-12-06T17:40:01.049Z"
   },
   {
    "duration": 457,
    "start_time": "2022-12-06T17:40:08.379Z"
   },
   {
    "duration": 20,
    "start_time": "2022-12-06T17:40:09.814Z"
   },
   {
    "duration": 13,
    "start_time": "2022-12-06T17:40:12.840Z"
   },
   {
    "duration": 9,
    "start_time": "2022-12-06T17:40:15.742Z"
   },
   {
    "duration": 31,
    "start_time": "2022-12-06T17:40:17.791Z"
   },
   {
    "duration": 3,
    "start_time": "2022-12-06T17:40:19.683Z"
   },
   {
    "duration": 8,
    "start_time": "2022-12-06T17:40:21.198Z"
   },
   {
    "duration": 4,
    "start_time": "2022-12-06T17:40:24.339Z"
   },
   {
    "duration": 15,
    "start_time": "2022-12-06T17:40:25.922Z"
   },
   {
    "duration": 5,
    "start_time": "2022-12-06T17:40:27.930Z"
   },
   {
    "duration": 41,
    "start_time": "2022-12-06T17:40:30.202Z"
   },
   {
    "duration": 15,
    "start_time": "2022-12-06T17:40:31.347Z"
   },
   {
    "duration": 4,
    "start_time": "2022-12-06T17:40:34.430Z"
   },
   {
    "duration": 11,
    "start_time": "2022-12-06T17:40:35.956Z"
   },
   {
    "duration": 18,
    "start_time": "2022-12-06T17:40:37.840Z"
   },
   {
    "duration": 15,
    "start_time": "2022-12-06T17:40:39.107Z"
   },
   {
    "duration": 3,
    "start_time": "2022-12-06T17:40:41.232Z"
   },
   {
    "duration": 10,
    "start_time": "2022-12-06T17:40:43.000Z"
   },
   {
    "duration": 6,
    "start_time": "2022-12-06T17:40:44.316Z"
   },
   {
    "duration": 3,
    "start_time": "2022-12-06T17:40:47.707Z"
   },
   {
    "duration": 8,
    "start_time": "2022-12-06T17:40:49.231Z"
   },
   {
    "duration": 20,
    "start_time": "2022-12-06T17:40:51.648Z"
   },
   {
    "duration": 11,
    "start_time": "2022-12-06T17:41:10.113Z"
   },
   {
    "duration": 11,
    "start_time": "2022-12-06T17:41:39.367Z"
   },
   {
    "duration": 12,
    "start_time": "2022-12-06T17:49:22.324Z"
   },
   {
    "duration": 14,
    "start_time": "2022-12-06T17:51:28.611Z"
   },
   {
    "duration": 13,
    "start_time": "2022-12-06T17:51:51.512Z"
   },
   {
    "duration": 15,
    "start_time": "2022-12-06T17:52:02.206Z"
   },
   {
    "duration": 14,
    "start_time": "2022-12-06T17:52:12.654Z"
   },
   {
    "duration": 10,
    "start_time": "2022-12-06T17:52:29.296Z"
   },
   {
    "duration": 12,
    "start_time": "2022-12-06T17:52:42.780Z"
   },
   {
    "duration": 11,
    "start_time": "2022-12-06T17:52:51.246Z"
   },
   {
    "duration": 11,
    "start_time": "2022-12-06T17:53:18.262Z"
   },
   {
    "duration": 15,
    "start_time": "2022-12-06T17:53:31.355Z"
   },
   {
    "duration": 15,
    "start_time": "2022-12-06T17:53:50.782Z"
   },
   {
    "duration": 13,
    "start_time": "2022-12-06T17:54:01.616Z"
   },
   {
    "duration": 32,
    "start_time": "2022-12-06T17:57:17.716Z"
   },
   {
    "duration": 13,
    "start_time": "2022-12-06T17:57:39.109Z"
   },
   {
    "duration": 13,
    "start_time": "2022-12-06T17:57:49.754Z"
   },
   {
    "duration": 3,
    "start_time": "2022-12-06T17:57:57.175Z"
   },
   {
    "duration": 9,
    "start_time": "2022-12-06T17:57:58.436Z"
   },
   {
    "duration": 12,
    "start_time": "2022-12-06T17:58:02.299Z"
   },
   {
    "duration": 8,
    "start_time": "2022-12-06T17:58:24.838Z"
   },
   {
    "duration": 17,
    "start_time": "2022-12-06T17:59:06.273Z"
   },
   {
    "duration": 13,
    "start_time": "2022-12-06T17:59:10.344Z"
   },
   {
    "duration": 14,
    "start_time": "2022-12-06T18:03:58.318Z"
   },
   {
    "duration": 11,
    "start_time": "2022-12-06T18:13:38.035Z"
   },
   {
    "duration": 18,
    "start_time": "2022-12-06T18:16:02.789Z"
   },
   {
    "duration": 18,
    "start_time": "2022-12-06T18:16:21.486Z"
   },
   {
    "duration": 19,
    "start_time": "2022-12-06T18:18:15.855Z"
   },
   {
    "duration": 20,
    "start_time": "2022-12-06T18:18:27.545Z"
   },
   {
    "duration": 21,
    "start_time": "2022-12-06T18:18:53.364Z"
   },
   {
    "duration": 23,
    "start_time": "2022-12-06T18:24:03.209Z"
   },
   {
    "duration": 552,
    "start_time": "2022-12-06T19:06:18.674Z"
   },
   {
    "duration": 27,
    "start_time": "2022-12-06T19:06:19.228Z"
   },
   {
    "duration": 17,
    "start_time": "2022-12-06T19:06:19.257Z"
   },
   {
    "duration": 11,
    "start_time": "2022-12-06T19:06:19.277Z"
   },
   {
    "duration": 64,
    "start_time": "2022-12-06T19:06:19.290Z"
   },
   {
    "duration": 4,
    "start_time": "2022-12-06T19:06:19.355Z"
   },
   {
    "duration": 14,
    "start_time": "2022-12-06T19:06:19.361Z"
   },
   {
    "duration": 4,
    "start_time": "2022-12-06T19:06:19.377Z"
   },
   {
    "duration": 13,
    "start_time": "2022-12-06T19:06:19.383Z"
   },
   {
    "duration": 7,
    "start_time": "2022-12-06T19:06:19.399Z"
   },
   {
    "duration": 63,
    "start_time": "2022-12-06T19:06:19.407Z"
   },
   {
    "duration": 10,
    "start_time": "2022-12-06T19:06:19.472Z"
   },
   {
    "duration": 13,
    "start_time": "2022-12-06T19:06:19.484Z"
   },
   {
    "duration": 15,
    "start_time": "2022-12-06T19:06:19.499Z"
   },
   {
    "duration": 35,
    "start_time": "2022-12-06T19:06:19.515Z"
   },
   {
    "duration": 19,
    "start_time": "2022-12-06T19:06:19.551Z"
   },
   {
    "duration": 4,
    "start_time": "2022-12-06T19:06:19.572Z"
   },
   {
    "duration": 31,
    "start_time": "2022-12-06T19:06:19.577Z"
   },
   {
    "duration": 7,
    "start_time": "2022-12-06T19:06:19.609Z"
   },
   {
    "duration": 19,
    "start_time": "2022-12-06T19:06:19.618Z"
   },
   {
    "duration": 15,
    "start_time": "2022-12-06T19:06:19.639Z"
   },
   {
    "duration": 34,
    "start_time": "2022-12-06T19:06:19.656Z"
   },
   {
    "duration": 26,
    "start_time": "2022-12-06T19:06:19.691Z"
   },
   {
    "duration": 36,
    "start_time": "2022-12-06T19:06:19.719Z"
   },
   {
    "duration": 29,
    "start_time": "2022-12-06T19:06:19.757Z"
   },
   {
    "duration": 26,
    "start_time": "2022-12-06T19:10:07.662Z"
   },
   {
    "duration": 21,
    "start_time": "2022-12-06T19:10:21.008Z"
   },
   {
    "duration": 75,
    "start_time": "2022-12-06T19:10:55.206Z"
   },
   {
    "duration": 17,
    "start_time": "2022-12-06T19:10:55.284Z"
   },
   {
    "duration": 20,
    "start_time": "2022-12-06T19:10:55.303Z"
   },
   {
    "duration": 19,
    "start_time": "2022-12-06T19:10:55.325Z"
   },
   {
    "duration": 37,
    "start_time": "2022-12-06T19:10:55.346Z"
   },
   {
    "duration": 4,
    "start_time": "2022-12-06T19:10:55.385Z"
   },
   {
    "duration": 16,
    "start_time": "2022-12-06T19:10:55.391Z"
   },
   {
    "duration": 33,
    "start_time": "2022-12-06T19:10:55.408Z"
   },
   {
    "duration": 8,
    "start_time": "2022-12-06T19:10:55.443Z"
   },
   {
    "duration": 7,
    "start_time": "2022-12-06T19:10:55.454Z"
   },
   {
    "duration": 43,
    "start_time": "2022-12-06T19:10:55.463Z"
   },
   {
    "duration": 38,
    "start_time": "2022-12-06T19:10:55.508Z"
   },
   {
    "duration": 6,
    "start_time": "2022-12-06T19:10:55.548Z"
   },
   {
    "duration": 15,
    "start_time": "2022-12-06T19:10:55.556Z"
   },
   {
    "duration": 28,
    "start_time": "2022-12-06T19:10:55.573Z"
   },
   {
    "duration": 36,
    "start_time": "2022-12-06T19:10:55.602Z"
   },
   {
    "duration": 5,
    "start_time": "2022-12-06T19:10:55.639Z"
   },
   {
    "duration": 33,
    "start_time": "2022-12-06T19:10:55.646Z"
   },
   {
    "duration": 25,
    "start_time": "2022-12-06T19:10:55.681Z"
   },
   {
    "duration": 8,
    "start_time": "2022-12-06T19:11:48.160Z"
   },
   {
    "duration": 22,
    "start_time": "2022-12-06T19:12:21.859Z"
   },
   {
    "duration": 21,
    "start_time": "2022-12-06T19:12:47.375Z"
   },
   {
    "duration": 16,
    "start_time": "2022-12-06T19:13:03.656Z"
   },
   {
    "duration": 490,
    "start_time": "2022-12-06T19:13:34.539Z"
   },
   {
    "duration": 27,
    "start_time": "2022-12-06T19:13:35.034Z"
   },
   {
    "duration": 23,
    "start_time": "2022-12-06T19:13:35.067Z"
   },
   {
    "duration": 30,
    "start_time": "2022-12-06T19:13:35.091Z"
   },
   {
    "duration": 49,
    "start_time": "2022-12-06T19:13:35.123Z"
   },
   {
    "duration": 3,
    "start_time": "2022-12-06T19:13:35.174Z"
   },
   {
    "duration": 35,
    "start_time": "2022-12-06T19:13:35.179Z"
   },
   {
    "duration": 25,
    "start_time": "2022-12-06T19:13:35.216Z"
   },
   {
    "duration": 25,
    "start_time": "2022-12-06T19:13:35.244Z"
   },
   {
    "duration": 17,
    "start_time": "2022-12-06T19:13:35.271Z"
   },
   {
    "duration": 62,
    "start_time": "2022-12-06T19:13:35.290Z"
   },
   {
    "duration": 11,
    "start_time": "2022-12-06T19:13:35.354Z"
   },
   {
    "duration": 28,
    "start_time": "2022-12-06T19:13:35.367Z"
   },
   {
    "duration": 42,
    "start_time": "2022-12-06T19:13:35.397Z"
   },
   {
    "duration": 51,
    "start_time": "2022-12-06T19:13:35.441Z"
   },
   {
    "duration": 24,
    "start_time": "2022-12-06T19:13:35.493Z"
   },
   {
    "duration": 15,
    "start_time": "2022-12-06T19:13:35.519Z"
   },
   {
    "duration": 40,
    "start_time": "2022-12-06T19:13:35.536Z"
   },
   {
    "duration": 33,
    "start_time": "2022-12-06T19:13:35.577Z"
   },
   {
    "duration": 33,
    "start_time": "2022-12-06T19:13:35.612Z"
   },
   {
    "duration": 31,
    "start_time": "2022-12-06T19:13:35.647Z"
   },
   {
    "duration": 46,
    "start_time": "2022-12-06T19:13:35.679Z"
   },
   {
    "duration": 25,
    "start_time": "2022-12-06T19:13:35.728Z"
   },
   {
    "duration": 36,
    "start_time": "2022-12-06T19:13:35.755Z"
   },
   {
    "duration": 44,
    "start_time": "2022-12-06T19:13:35.793Z"
   },
   {
    "duration": 77,
    "start_time": "2022-12-07T10:16:51.285Z"
   },
   {
    "duration": 59,
    "start_time": "2022-12-07T10:26:46.843Z"
   },
   {
    "duration": 543,
    "start_time": "2022-12-07T10:26:55.395Z"
   },
   {
    "duration": 23,
    "start_time": "2022-12-07T10:26:57.629Z"
   },
   {
    "duration": 31,
    "start_time": "2022-12-07T10:27:01.964Z"
   },
   {
    "duration": 13,
    "start_time": "2022-12-07T10:27:13.683Z"
   },
   {
    "duration": 14,
    "start_time": "2022-12-07T10:27:43.768Z"
   },
   {
    "duration": 11,
    "start_time": "2022-12-07T10:27:54.732Z"
   },
   {
    "duration": 19,
    "start_time": "2022-12-07T10:29:01.470Z"
   },
   {
    "duration": 82,
    "start_time": "2022-12-07T10:29:38.985Z"
   },
   {
    "duration": 16,
    "start_time": "2022-12-07T10:29:41.126Z"
   },
   {
    "duration": 10,
    "start_time": "2022-12-07T10:30:19.202Z"
   },
   {
    "duration": 16,
    "start_time": "2022-12-07T10:33:23.357Z"
   },
   {
    "duration": 17,
    "start_time": "2022-12-07T11:18:07.953Z"
   }
  ],
  "colab": {
   "name": "dpp_template_part2.ipynb",
   "provenance": []
  },
  "kernelspec": {
   "display_name": "Python 3 (ipykernel)",
   "language": "python",
   "name": "python3"
  },
  "language_info": {
   "codemirror_mode": {
    "name": "ipython",
    "version": 3
   },
   "file_extension": ".py",
   "mimetype": "text/x-python",
   "name": "python",
   "nbconvert_exporter": "python",
   "pygments_lexer": "ipython3",
   "version": "3.9.5"
  },
  "toc": {
   "base_numbering": 1,
   "nav_menu": {},
   "number_sections": true,
   "sideBar": true,
   "skip_h1_title": true,
   "title_cell": "Table of Contents",
   "title_sidebar": "Contents",
   "toc_cell": false,
   "toc_position": {},
   "toc_section_display": true,
   "toc_window_display": true
  }
 },
 "nbformat": 4,
 "nbformat_minor": 5
}
