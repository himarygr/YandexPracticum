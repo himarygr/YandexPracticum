{
 "cells": [
  {
   "attachments": {},
   "cell_type": "markdown",
   "metadata": {},
   "source": [
    "# Выбор локации для скважины"
   ]
  },
  {
   "attachments": {},
   "cell_type": "markdown",
   "metadata": {},
   "source": [
    "Допустим, вы работаете в добывающей компании «ГлавРосГосНефть». Нужно решить, где бурить новую скважину.\n",
    "\n",
    "Вам предоставлены пробы нефти в трёх регионах: в каждом 10 000 месторождений, где измерили качество нефти и объём её запасов. Постройте модель машинного обучения, которая поможет определить регион, где добыча принесёт наибольшую прибыль. Проанализируйте возможную прибыль и риски техникой *Bootstrap.*\n",
    "\n",
    "Шаги для выбора локации:\n",
    "\n",
    "- В избранном регионе ищут месторождения, для каждого определяют значения признаков;\n",
    "- Строят модель и оценивают объём запасов;\n",
    "- Выбирают месторождения с самым высокими оценками значений. Количество месторождений зависит от бюджета компании и стоимости разработки одной скважины;\n",
    "- Прибыль равна суммарной прибыли отобранных месторождений."
   ]
  },
  {
   "attachments": {},
   "cell_type": "markdown",
   "metadata": {},
   "source": [
    "Цель: Решить, где бурить новую скважину. "
   ]
  },
  {
   "attachments": {},
   "cell_type": "markdown",
   "metadata": {},
   "source": [
    "## Загрузка и подготовка данных"
   ]
  },
  {
   "cell_type": "code",
   "execution_count": 2,
   "metadata": {},
   "outputs": [],
   "source": [
    "#Импорт библиотек\n",
    "import pandas as pd\n",
    "import matplotlib.pyplot as plt \n",
    "from matplotlib import rcParams\n",
    "import seaborn as sns\n",
    "import numpy as np\n",
    "import warnings\n",
    "from scipy import stats\n",
    "from sklearn.preprocessing import StandardScaler\n",
    "from sklearn.linear_model import LinearRegression\n",
    "from sklearn.model_selection import train_test_split\n",
    "from sklearn.metrics import mean_squared_error\n",
    "\n",
    "warnings.simplefilter(action='ignore', category=FutureWarning)\n",
    "pd.options.mode.chained_assignment = None\n",
    "from joblib import dump"
   ]
  },
  {
   "cell_type": "code",
   "execution_count": 2,
   "metadata": {},
   "outputs": [],
   "source": [
    "plt.style.use(\"ggplot\")\n",
    "rcParams['figure.figsize'] = (6,  3)"
   ]
  },
  {
   "attachments": {},
   "cell_type": "markdown",
   "metadata": {},
   "source": [
    "### Загрузка данных"
   ]
  },
  {
   "cell_type": "code",
   "execution_count": 3,
   "metadata": {},
   "outputs": [],
   "source": [
    "try:\n",
    "    data_0 = pd.read_csv('/datasets/geo_data_0.csv', sep = ',')\n",
    "    data_1 = pd.read_csv('/datasets/geo_data_1.csv', sep = ',')\n",
    "    data_2 = pd.read_csv('/datasets/geo_data_2.csv', sep = ',')\n",
    "except:\n",
    "    data_0 = pd.read_csv('https://code.s3.yandex.net/datasets/geo_data_0.csv')\n",
    "    data_1 = pd.read_csv('https://code.s3.yandex.net/datasets/geo_data_1.csv')\n",
    "    data_2 = pd.read_csv('https://code.s3.yandex.net/datasets/geo_data_2.csv')"
   ]
  },
  {
   "cell_type": "code",
   "execution_count": 4,
   "metadata": {},
   "outputs": [
    {
     "data": {
      "text/html": [
       "<div>\n",
       "<style scoped>\n",
       "    .dataframe tbody tr th:only-of-type {\n",
       "        vertical-align: middle;\n",
       "    }\n",
       "\n",
       "    .dataframe tbody tr th {\n",
       "        vertical-align: top;\n",
       "    }\n",
       "\n",
       "    .dataframe thead th {\n",
       "        text-align: right;\n",
       "    }\n",
       "</style>\n",
       "<table border=\"1\" class=\"dataframe\">\n",
       "  <thead>\n",
       "    <tr style=\"text-align: right;\">\n",
       "      <th></th>\n",
       "      <th>id</th>\n",
       "      <th>f0</th>\n",
       "      <th>f1</th>\n",
       "      <th>f2</th>\n",
       "      <th>product</th>\n",
       "    </tr>\n",
       "  </thead>\n",
       "  <tbody>\n",
       "    <tr>\n",
       "      <th>0</th>\n",
       "      <td>txEyH</td>\n",
       "      <td>0.705745</td>\n",
       "      <td>-0.497823</td>\n",
       "      <td>1.221170</td>\n",
       "      <td>105.280062</td>\n",
       "    </tr>\n",
       "    <tr>\n",
       "      <th>1</th>\n",
       "      <td>2acmU</td>\n",
       "      <td>1.334711</td>\n",
       "      <td>-0.340164</td>\n",
       "      <td>4.365080</td>\n",
       "      <td>73.037750</td>\n",
       "    </tr>\n",
       "    <tr>\n",
       "      <th>2</th>\n",
       "      <td>409Wp</td>\n",
       "      <td>1.022732</td>\n",
       "      <td>0.151990</td>\n",
       "      <td>1.419926</td>\n",
       "      <td>85.265647</td>\n",
       "    </tr>\n",
       "    <tr>\n",
       "      <th>3</th>\n",
       "      <td>iJLyR</td>\n",
       "      <td>-0.032172</td>\n",
       "      <td>0.139033</td>\n",
       "      <td>2.978566</td>\n",
       "      <td>168.620776</td>\n",
       "    </tr>\n",
       "    <tr>\n",
       "      <th>4</th>\n",
       "      <td>Xdl7t</td>\n",
       "      <td>1.988431</td>\n",
       "      <td>0.155413</td>\n",
       "      <td>4.751769</td>\n",
       "      <td>154.036647</td>\n",
       "    </tr>\n",
       "  </tbody>\n",
       "</table>\n",
       "</div>"
      ],
      "text/plain": [
       "      id        f0        f1        f2     product\n",
       "0  txEyH  0.705745 -0.497823  1.221170  105.280062\n",
       "1  2acmU  1.334711 -0.340164  4.365080   73.037750\n",
       "2  409Wp  1.022732  0.151990  1.419926   85.265647\n",
       "3  iJLyR -0.032172  0.139033  2.978566  168.620776\n",
       "4  Xdl7t  1.988431  0.155413  4.751769  154.036647"
      ]
     },
     "execution_count": 4,
     "metadata": {},
     "output_type": "execute_result"
    }
   ],
   "source": [
    "data_0.head()"
   ]
  },
  {
   "cell_type": "code",
   "execution_count": 5,
   "metadata": {},
   "outputs": [
    {
     "data": {
      "text/html": [
       "<div>\n",
       "<style scoped>\n",
       "    .dataframe tbody tr th:only-of-type {\n",
       "        vertical-align: middle;\n",
       "    }\n",
       "\n",
       "    .dataframe tbody tr th {\n",
       "        vertical-align: top;\n",
       "    }\n",
       "\n",
       "    .dataframe thead th {\n",
       "        text-align: right;\n",
       "    }\n",
       "</style>\n",
       "<table border=\"1\" class=\"dataframe\">\n",
       "  <thead>\n",
       "    <tr style=\"text-align: right;\">\n",
       "      <th></th>\n",
       "      <th>id</th>\n",
       "      <th>f0</th>\n",
       "      <th>f1</th>\n",
       "      <th>f2</th>\n",
       "      <th>product</th>\n",
       "    </tr>\n",
       "  </thead>\n",
       "  <tbody>\n",
       "    <tr>\n",
       "      <th>0</th>\n",
       "      <td>kBEdx</td>\n",
       "      <td>-15.001348</td>\n",
       "      <td>-8.276000</td>\n",
       "      <td>-0.005876</td>\n",
       "      <td>3.179103</td>\n",
       "    </tr>\n",
       "    <tr>\n",
       "      <th>1</th>\n",
       "      <td>62mP7</td>\n",
       "      <td>14.272088</td>\n",
       "      <td>-3.475083</td>\n",
       "      <td>0.999183</td>\n",
       "      <td>26.953261</td>\n",
       "    </tr>\n",
       "    <tr>\n",
       "      <th>2</th>\n",
       "      <td>vyE1P</td>\n",
       "      <td>6.263187</td>\n",
       "      <td>-5.948386</td>\n",
       "      <td>5.001160</td>\n",
       "      <td>134.766305</td>\n",
       "    </tr>\n",
       "    <tr>\n",
       "      <th>3</th>\n",
       "      <td>KcrkZ</td>\n",
       "      <td>-13.081196</td>\n",
       "      <td>-11.506057</td>\n",
       "      <td>4.999415</td>\n",
       "      <td>137.945408</td>\n",
       "    </tr>\n",
       "    <tr>\n",
       "      <th>4</th>\n",
       "      <td>AHL4O</td>\n",
       "      <td>12.702195</td>\n",
       "      <td>-8.147433</td>\n",
       "      <td>5.004363</td>\n",
       "      <td>134.766305</td>\n",
       "    </tr>\n",
       "  </tbody>\n",
       "</table>\n",
       "</div>"
      ],
      "text/plain": [
       "      id         f0         f1        f2     product\n",
       "0  kBEdx -15.001348  -8.276000 -0.005876    3.179103\n",
       "1  62mP7  14.272088  -3.475083  0.999183   26.953261\n",
       "2  vyE1P   6.263187  -5.948386  5.001160  134.766305\n",
       "3  KcrkZ -13.081196 -11.506057  4.999415  137.945408\n",
       "4  AHL4O  12.702195  -8.147433  5.004363  134.766305"
      ]
     },
     "execution_count": 5,
     "metadata": {},
     "output_type": "execute_result"
    }
   ],
   "source": [
    "data_1.head()"
   ]
  },
  {
   "cell_type": "code",
   "execution_count": 6,
   "metadata": {},
   "outputs": [
    {
     "data": {
      "text/html": [
       "<div>\n",
       "<style scoped>\n",
       "    .dataframe tbody tr th:only-of-type {\n",
       "        vertical-align: middle;\n",
       "    }\n",
       "\n",
       "    .dataframe tbody tr th {\n",
       "        vertical-align: top;\n",
       "    }\n",
       "\n",
       "    .dataframe thead th {\n",
       "        text-align: right;\n",
       "    }\n",
       "</style>\n",
       "<table border=\"1\" class=\"dataframe\">\n",
       "  <thead>\n",
       "    <tr style=\"text-align: right;\">\n",
       "      <th></th>\n",
       "      <th>id</th>\n",
       "      <th>f0</th>\n",
       "      <th>f1</th>\n",
       "      <th>f2</th>\n",
       "      <th>product</th>\n",
       "    </tr>\n",
       "  </thead>\n",
       "  <tbody>\n",
       "    <tr>\n",
       "      <th>0</th>\n",
       "      <td>fwXo0</td>\n",
       "      <td>-1.146987</td>\n",
       "      <td>0.963328</td>\n",
       "      <td>-0.828965</td>\n",
       "      <td>27.758673</td>\n",
       "    </tr>\n",
       "    <tr>\n",
       "      <th>1</th>\n",
       "      <td>WJtFt</td>\n",
       "      <td>0.262778</td>\n",
       "      <td>0.269839</td>\n",
       "      <td>-2.530187</td>\n",
       "      <td>56.069697</td>\n",
       "    </tr>\n",
       "    <tr>\n",
       "      <th>2</th>\n",
       "      <td>ovLUW</td>\n",
       "      <td>0.194587</td>\n",
       "      <td>0.289035</td>\n",
       "      <td>-5.586433</td>\n",
       "      <td>62.871910</td>\n",
       "    </tr>\n",
       "    <tr>\n",
       "      <th>3</th>\n",
       "      <td>q6cA6</td>\n",
       "      <td>2.236060</td>\n",
       "      <td>-0.553760</td>\n",
       "      <td>0.930038</td>\n",
       "      <td>114.572842</td>\n",
       "    </tr>\n",
       "    <tr>\n",
       "      <th>4</th>\n",
       "      <td>WPMUX</td>\n",
       "      <td>-0.515993</td>\n",
       "      <td>1.716266</td>\n",
       "      <td>5.899011</td>\n",
       "      <td>149.600746</td>\n",
       "    </tr>\n",
       "  </tbody>\n",
       "</table>\n",
       "</div>"
      ],
      "text/plain": [
       "      id        f0        f1        f2     product\n",
       "0  fwXo0 -1.146987  0.963328 -0.828965   27.758673\n",
       "1  WJtFt  0.262778  0.269839 -2.530187   56.069697\n",
       "2  ovLUW  0.194587  0.289035 -5.586433   62.871910\n",
       "3  q6cA6  2.236060 -0.553760  0.930038  114.572842\n",
       "4  WPMUX -0.515993  1.716266  5.899011  149.600746"
      ]
     },
     "execution_count": 6,
     "metadata": {},
     "output_type": "execute_result"
    }
   ],
   "source": [
    "data_2.head()"
   ]
  },
  {
   "cell_type": "code",
   "execution_count": 7,
   "metadata": {},
   "outputs": [
    {
     "data": {
      "image/png": "[encoded data removed]",
      "text/plain": [
       "<Figure size 720x720 with 4 Axes>"
      ]
     },
     "metadata": {},
     "output_type": "display_data"
    }
   ],
   "source": [
    "data_0.hist(figsize=(10, 10), bins = 30)\n",
    "plt.show()"
   ]
  },
  {
   "cell_type": "code",
   "execution_count": 8,
   "metadata": {},
   "outputs": [
    {
     "data": {
      "image/png": "[encoded data removed]",
      "text/plain": [
       "<Figure size 720x720 with 4 Axes>"
      ]
     },
     "metadata": {},
     "output_type": "display_data"
    }
   ],
   "source": [
    "data_1.hist(figsize=(10, 10), bins = 30)\n",
    "plt.show()"
   ]
  },
  {
   "attachments": {},
   "cell_type": "markdown",
   "metadata": {},
   "source": [
    "Заметна высокая дисперсия параметра f2 у Региона 1, распределение product также отличается от распределений Региона 0 и Региона 2. Исследуем это далее"
   ]
  },
  {
   "cell_type": "code",
   "execution_count": 9,
   "metadata": {},
   "outputs": [
    {
     "data": {
      "image/png": "[encoded data removed]",
      "text/plain": [
       "<Figure size 720x720 with 4 Axes>"
      ]
     },
     "metadata": {},
     "output_type": "display_data"
    }
   ],
   "source": [
    "data_2.hist(figsize=(10, 10), bins = 30)\n",
    "plt.show()"
   ]
  },
  {
   "attachments": {},
   "cell_type": "markdown",
   "metadata": {},
   "source": [
    "### Исследование данных"
   ]
  },
  {
   "attachments": {},
   "cell_type": "markdown",
   "metadata": {},
   "source": [
    "#### Пустые строки и дубликаты"
   ]
  },
  {
   "cell_type": "code",
   "execution_count": 10,
   "metadata": {},
   "outputs": [
    {
     "name": "stdout",
     "output_type": "stream",
     "text": [
      "<class 'pandas.core.frame.DataFrame'>\n",
      "RangeIndex: 100000 entries, 0 to 99999\n",
      "Data columns (total 5 columns):\n",
      " #   Column   Non-Null Count   Dtype  \n",
      "---  ------   --------------   -----  \n",
      " 0   id       100000 non-null  object \n",
      " 1   f0       100000 non-null  float64\n",
      " 2   f1       100000 non-null  float64\n",
      " 3   f2       100000 non-null  float64\n",
      " 4   product  100000 non-null  float64\n",
      "dtypes: float64(4), object(1)\n",
      "memory usage: 3.8+ MB\n",
      "<class 'pandas.core.frame.DataFrame'>\n",
      "RangeIndex: 100000 entries, 0 to 99999\n",
      "Data columns (total 5 columns):\n",
      " #   Column   Non-Null Count   Dtype  \n",
      "---  ------   --------------   -----  \n",
      " 0   id       100000 non-null  object \n",
      " 1   f0       100000 non-null  float64\n",
      " 2   f1       100000 non-null  float64\n",
      " 3   f2       100000 non-null  float64\n",
      " 4   product  100000 non-null  float64\n",
      "dtypes: float64(4), object(1)\n",
      "memory usage: 3.8+ MB\n",
      "<class 'pandas.core.frame.DataFrame'>\n",
      "RangeIndex: 100000 entries, 0 to 99999\n",
      "Data columns (total 5 columns):\n",
      " #   Column   Non-Null Count   Dtype  \n",
      "---  ------   --------------   -----  \n",
      " 0   id       100000 non-null  object \n",
      " 1   f0       100000 non-null  float64\n",
      " 2   f1       100000 non-null  float64\n",
      " 3   f2       100000 non-null  float64\n",
      " 4   product  100000 non-null  float64\n",
      "dtypes: float64(4), object(1)\n",
      "memory usage: 3.8+ MB\n"
     ]
    }
   ],
   "source": [
    "data_0.info()\n",
    "data_1.info()\n",
    "data_2.info()"
   ]
  },
  {
   "attachments": {},
   "cell_type": "markdown",
   "metadata": {},
   "source": [
    "Пустые строки отсутствуют"
   ]
  },
  {
   "cell_type": "code",
   "execution_count": 11,
   "metadata": {},
   "outputs": [
    {
     "data": {
      "text/plain": [
       "0"
      ]
     },
     "execution_count": 11,
     "metadata": {},
     "output_type": "execute_result"
    }
   ],
   "source": [
    "data_0.duplicated().sum()"
   ]
  },
  {
   "cell_type": "code",
   "execution_count": 12,
   "metadata": {},
   "outputs": [
    {
     "data": {
      "text/plain": [
       "0"
      ]
     },
     "execution_count": 12,
     "metadata": {},
     "output_type": "execute_result"
    }
   ],
   "source": [
    "data_1.duplicated().sum()"
   ]
  },
  {
   "cell_type": "code",
   "execution_count": 13,
   "metadata": {},
   "outputs": [
    {
     "data": {
      "text/plain": [
       "0"
      ]
     },
     "execution_count": 13,
     "metadata": {},
     "output_type": "execute_result"
    }
   ],
   "source": [
    "data_2.duplicated().sum()"
   ]
  },
  {
   "attachments": {},
   "cell_type": "markdown",
   "metadata": {},
   "source": [
    "Дубликаты не найдены"
   ]
  },
  {
   "attachments": {},
   "cell_type": "markdown",
   "metadata": {},
   "source": [
    "#### Корреляция данных"
   ]
  },
  {
   "cell_type": "code",
   "execution_count": 14,
   "metadata": {},
   "outputs": [
    {
     "data": {
      "text/html": [
       "<div>\n",
       "<style scoped>\n",
       "    .dataframe tbody tr th:only-of-type {\n",
       "        vertical-align: middle;\n",
       "    }\n",
       "\n",
       "    .dataframe tbody tr th {\n",
       "        vertical-align: top;\n",
       "    }\n",
       "\n",
       "    .dataframe thead th {\n",
       "        text-align: right;\n",
       "    }\n",
       "</style>\n",
       "<table border=\"1\" class=\"dataframe\">\n",
       "  <thead>\n",
       "    <tr style=\"text-align: right;\">\n",
       "      <th></th>\n",
       "      <th>f0</th>\n",
       "      <th>f1</th>\n",
       "      <th>f2</th>\n",
       "      <th>product</th>\n",
       "    </tr>\n",
       "  </thead>\n",
       "  <tbody>\n",
       "    <tr>\n",
       "      <th>f0</th>\n",
       "      <td>1.000000</td>\n",
       "      <td>-0.440723</td>\n",
       "      <td>-0.003153</td>\n",
       "      <td>0.143536</td>\n",
       "    </tr>\n",
       "    <tr>\n",
       "      <th>f1</th>\n",
       "      <td>-0.440723</td>\n",
       "      <td>1.000000</td>\n",
       "      <td>0.001724</td>\n",
       "      <td>-0.192356</td>\n",
       "    </tr>\n",
       "    <tr>\n",
       "      <th>f2</th>\n",
       "      <td>-0.003153</td>\n",
       "      <td>0.001724</td>\n",
       "      <td>1.000000</td>\n",
       "      <td>0.483663</td>\n",
       "    </tr>\n",
       "    <tr>\n",
       "      <th>product</th>\n",
       "      <td>0.143536</td>\n",
       "      <td>-0.192356</td>\n",
       "      <td>0.483663</td>\n",
       "      <td>1.000000</td>\n",
       "    </tr>\n",
       "  </tbody>\n",
       "</table>\n",
       "</div>"
      ],
      "text/plain": [
       "               f0        f1        f2   product\n",
       "f0       1.000000 -0.440723 -0.003153  0.143536\n",
       "f1      -0.440723  1.000000  0.001724 -0.192356\n",
       "f2      -0.003153  0.001724  1.000000  0.483663\n",
       "product  0.143536 -0.192356  0.483663  1.000000"
      ]
     },
     "execution_count": 14,
     "metadata": {},
     "output_type": "execute_result"
    }
   ],
   "source": [
    "data_0.corr()"
   ]
  },
  {
   "cell_type": "code",
   "execution_count": 15,
   "metadata": {},
   "outputs": [
    {
     "data": {
      "text/html": [
       "<div>\n",
       "<style scoped>\n",
       "    .dataframe tbody tr th:only-of-type {\n",
       "        vertical-align: middle;\n",
       "    }\n",
       "\n",
       "    .dataframe tbody tr th {\n",
       "        vertical-align: top;\n",
       "    }\n",
       "\n",
       "    .dataframe thead th {\n",
       "        text-align: right;\n",
       "    }\n",
       "</style>\n",
       "<table border=\"1\" class=\"dataframe\">\n",
       "  <thead>\n",
       "    <tr style=\"text-align: right;\">\n",
       "      <th></th>\n",
       "      <th>f0</th>\n",
       "      <th>f1</th>\n",
       "      <th>f2</th>\n",
       "      <th>product</th>\n",
       "    </tr>\n",
       "  </thead>\n",
       "  <tbody>\n",
       "    <tr>\n",
       "      <th>f0</th>\n",
       "      <td>1.000000</td>\n",
       "      <td>0.182287</td>\n",
       "      <td>-0.001777</td>\n",
       "      <td>-0.030491</td>\n",
       "    </tr>\n",
       "    <tr>\n",
       "      <th>f1</th>\n",
       "      <td>0.182287</td>\n",
       "      <td>1.000000</td>\n",
       "      <td>-0.002595</td>\n",
       "      <td>-0.010155</td>\n",
       "    </tr>\n",
       "    <tr>\n",
       "      <th>f2</th>\n",
       "      <td>-0.001777</td>\n",
       "      <td>-0.002595</td>\n",
       "      <td>1.000000</td>\n",
       "      <td>0.999397</td>\n",
       "    </tr>\n",
       "    <tr>\n",
       "      <th>product</th>\n",
       "      <td>-0.030491</td>\n",
       "      <td>-0.010155</td>\n",
       "      <td>0.999397</td>\n",
       "      <td>1.000000</td>\n",
       "    </tr>\n",
       "  </tbody>\n",
       "</table>\n",
       "</div>"
      ],
      "text/plain": [
       "               f0        f1        f2   product\n",
       "f0       1.000000  0.182287 -0.001777 -0.030491\n",
       "f1       0.182287  1.000000 -0.002595 -0.010155\n",
       "f2      -0.001777 -0.002595  1.000000  0.999397\n",
       "product -0.030491 -0.010155  0.999397  1.000000"
      ]
     },
     "execution_count": 15,
     "metadata": {},
     "output_type": "execute_result"
    }
   ],
   "source": [
    "data_1.corr()"
   ]
  },
  {
   "cell_type": "code",
   "execution_count": 16,
   "metadata": {},
   "outputs": [
    {
     "data": {
      "text/html": [
       "<div>\n",
       "<style scoped>\n",
       "    .dataframe tbody tr th:only-of-type {\n",
       "        vertical-align: middle;\n",
       "    }\n",
       "\n",
       "    .dataframe tbody tr th {\n",
       "        vertical-align: top;\n",
       "    }\n",
       "\n",
       "    .dataframe thead th {\n",
       "        text-align: right;\n",
       "    }\n",
       "</style>\n",
       "<table border=\"1\" class=\"dataframe\">\n",
       "  <thead>\n",
       "    <tr style=\"text-align: right;\">\n",
       "      <th></th>\n",
       "      <th>f0</th>\n",
       "      <th>f1</th>\n",
       "      <th>f2</th>\n",
       "      <th>product</th>\n",
       "    </tr>\n",
       "  </thead>\n",
       "  <tbody>\n",
       "    <tr>\n",
       "      <th>f0</th>\n",
       "      <td>1.000000</td>\n",
       "      <td>0.000528</td>\n",
       "      <td>-0.000448</td>\n",
       "      <td>-0.001987</td>\n",
       "    </tr>\n",
       "    <tr>\n",
       "      <th>f1</th>\n",
       "      <td>0.000528</td>\n",
       "      <td>1.000000</td>\n",
       "      <td>0.000779</td>\n",
       "      <td>-0.001012</td>\n",
       "    </tr>\n",
       "    <tr>\n",
       "      <th>f2</th>\n",
       "      <td>-0.000448</td>\n",
       "      <td>0.000779</td>\n",
       "      <td>1.000000</td>\n",
       "      <td>0.445871</td>\n",
       "    </tr>\n",
       "    <tr>\n",
       "      <th>product</th>\n",
       "      <td>-0.001987</td>\n",
       "      <td>-0.001012</td>\n",
       "      <td>0.445871</td>\n",
       "      <td>1.000000</td>\n",
       "    </tr>\n",
       "  </tbody>\n",
       "</table>\n",
       "</div>"
      ],
      "text/plain": [
       "               f0        f1        f2   product\n",
       "f0       1.000000  0.000528 -0.000448 -0.001987\n",
       "f1       0.000528  1.000000  0.000779 -0.001012\n",
       "f2      -0.000448  0.000779  1.000000  0.445871\n",
       "product -0.001987 -0.001012  0.445871  1.000000"
      ]
     },
     "execution_count": 16,
     "metadata": {},
     "output_type": "execute_result"
    }
   ],
   "source": [
    "data_2.corr()"
   ]
  },
  {
   "attachments": {},
   "cell_type": "markdown",
   "metadata": {},
   "source": [
    "Наблюдается высокая корреляция между *f2* и *product* в *Регионе 1*, это может повлиять на результат обучения модели. Судя по всему, необходимо удалить признак f2, чтобы это не повлияло на обучение модели линейной регрессии"
   ]
  },
  {
   "cell_type": "code",
   "execution_count": 17,
   "metadata": {},
   "outputs": [],
   "source": [
    "#data_1_2 = data_1.drop([\"f2\"],axis = 1)"
   ]
  },
  {
   "attachments": {},
   "cell_type": "markdown",
   "metadata": {},
   "source": [
    "### Вывод"
   ]
  },
  {
   "attachments": {},
   "cell_type": "markdown",
   "metadata": {},
   "source": [
    "* Пустые строки и дубликаты не найдены\n",
    "* Путем исследования корреляции выявлено, что наблюдается высокая корреляция между *f2* и *product* в *Регионе 1*, это может повлиять на результат обучения модели. "
   ]
  },
  {
   "attachments": {},
   "cell_type": "markdown",
   "metadata": {},
   "source": [
    "## Обучение и проверка модели"
   ]
  },
  {
   "attachments": {},
   "cell_type": "markdown",
   "metadata": {},
   "source": [
    "###  Разбейте данные на обучающую и валидационную выборки в соотношении 75:25.\n",
    "Оба пункта см. ниже\n",
    "### Обучите модель и сделайте предсказания на валидационной выборке."
   ]
  },
  {
   "cell_type": "code",
   "execution_count": 18,
   "metadata": {},
   "outputs": [],
   "source": [
    "# Определение функции для обучения и оценки модели\n",
    "def train_and_evaluate_model(data):\n",
    "    # Разделим данные на тренировочную и валидационную выборки\n",
    "    features = data.drop(['id', 'product'], axis=1)\n",
    "    target = data['product']\n",
    "    features_train, features_valid, target_train, target_valid = train_test_split(\n",
    "        features, target, test_size=0.25, random_state=12345)\n",
    "    \n",
    "    # Масштабирование функций с помощью StandardScaler\n",
    "    scaler = StandardScaler()\n",
    "    scaler.fit(features_train)\n",
    "    features_train = scaler.transform(features_train)\n",
    "    features_valid = scaler.transform(features_valid)\n",
    "    \n",
    "    # Обучение линейной регрессионной модели на обучающей выборке\n",
    "    model = LinearRegression()\n",
    "    model.fit(features_train, target_train)\n",
    "    \n",
    "    # Делаем прогнозы на валидационной выборке\n",
    "    predicted_valid = model.predict(features_valid)\n",
    "   \n",
    "    \n",
    "    # Сохраняем прогнозы и правильные ответы на валидационной выборке\n",
    "    valid_predictions = pd.DataFrame({'predicted': predicted_valid, 'actual': target_valid})\n",
    "    \n",
    "    return valid_predictions"
   ]
  },
  {
   "attachments": {},
   "cell_type": "markdown",
   "metadata": {},
   "source": [
    "### Сохраните предсказания и правильные ответы на валидационной выборке."
   ]
  },
  {
   "cell_type": "code",
   "execution_count": 19,
   "metadata": {},
   "outputs": [],
   "source": [
    "# Обучение и оценка модели для каждого региона\n",
    "valid_predictions_0 = train_and_evaluate_model(data_0)\n",
    "valid_predictions_1 = train_and_evaluate_model(data_1)\n",
    "valid_predictions_2 = train_and_evaluate_model(data_2)"
   ]
  },
  {
   "cell_type": "code",
   "execution_count": 20,
   "metadata": {},
   "outputs": [
    {
     "data": {
      "text/html": [
       "<div>\n",
       "<style scoped>\n",
       "    .dataframe tbody tr th:only-of-type {\n",
       "        vertical-align: middle;\n",
       "    }\n",
       "\n",
       "    .dataframe tbody tr th {\n",
       "        vertical-align: top;\n",
       "    }\n",
       "\n",
       "    .dataframe thead th {\n",
       "        text-align: right;\n",
       "    }\n",
       "</style>\n",
       "<table border=\"1\" class=\"dataframe\">\n",
       "  <thead>\n",
       "    <tr style=\"text-align: right;\">\n",
       "      <th></th>\n",
       "      <th>predicted</th>\n",
       "      <th>actual</th>\n",
       "    </tr>\n",
       "  </thead>\n",
       "  <tbody>\n",
       "    <tr>\n",
       "      <th>71751</th>\n",
       "      <td>95.894952</td>\n",
       "      <td>10.038645</td>\n",
       "    </tr>\n",
       "    <tr>\n",
       "      <th>80493</th>\n",
       "      <td>77.572583</td>\n",
       "      <td>114.551489</td>\n",
       "    </tr>\n",
       "    <tr>\n",
       "      <th>2655</th>\n",
       "      <td>77.892640</td>\n",
       "      <td>132.603635</td>\n",
       "    </tr>\n",
       "    <tr>\n",
       "      <th>53233</th>\n",
       "      <td>90.175134</td>\n",
       "      <td>169.072125</td>\n",
       "    </tr>\n",
       "    <tr>\n",
       "      <th>91141</th>\n",
       "      <td>70.510088</td>\n",
       "      <td>122.325180</td>\n",
       "    </tr>\n",
       "  </tbody>\n",
       "</table>\n",
       "</div>"
      ],
      "text/plain": [
       "       predicted      actual\n",
       "71751  95.894952   10.038645\n",
       "80493  77.572583  114.551489\n",
       "2655   77.892640  132.603635\n",
       "53233  90.175134  169.072125\n",
       "91141  70.510088  122.325180"
      ]
     },
     "execution_count": 20,
     "metadata": {},
     "output_type": "execute_result"
    }
   ],
   "source": [
    "valid_predictions_0.head(5)"
   ]
  },
  {
   "attachments": {},
   "cell_type": "markdown",
   "metadata": {},
   "source": [
    "### Напечатайте на экране средний запас предсказанного сырья и RMSE модели."
   ]
  },
  {
   "cell_type": "code",
   "execution_count": 21,
   "metadata": {},
   "outputs": [
    {
     "name": "stdout",
     "output_type": "stream",
     "text": [
      "Регион 0:\n",
      "Средний прогнозируемый запас в регионе: 92.59\n",
      "Средний фактический запас в регионе: 92.08\n",
      "RMSE: 37.58\n",
      "\n",
      "Регион 1:\n",
      "Средний прогнозируемый запас в регионе: 68.73\n",
      "Средний фактический запас в регионе: 68.72\n",
      "RMSE: 0.89\n",
      "\n",
      "Регион 2:\n",
      "Средний прогнозируемый запас в регионе: 94.97\n",
      "Средний фактический запас в регионе: 94.88\n",
      "RMSE: 40.03\n",
      "\n"
     ]
    }
   ],
   "source": [
    "# Определение функции для расчета среднего предсказанного запаса сырья и RMSE модели\n",
    "def evaluate_model(predictions):\n",
    "    # Вычисление среднего прогнозируемого запаса сырья и среднего фактического\n",
    "    avg_predicted_stock = predictions['predicted'].mean()\n",
    "    avg_actual_stock = predictions['actual'].mean()\n",
    "    \n",
    "    # Расчет RMSE модели\n",
    "    #rmse = np.sqrt(((predictions['predicted'] - predictions['actual']) ** 2).mean())\n",
    "    rmse = (mean_squared_error(predictions['actual'], predictions['predicted']))**0.5\n",
    "    \n",
    "    return avg_predicted_stock, avg_actual_stock, rmse\n",
    "\n",
    "# Оценка модели для каждого региона\n",
    "avg_predicted_stock_0, avg_actual_stock_0, rmse_0 = evaluate_model(valid_predictions_0)\n",
    "avg_predicted_stock_1, avg_actual_stock_1, rmse_1 = evaluate_model(valid_predictions_1)\n",
    "avg_predicted_stock_2, avg_actual_stock_2, rmse_2 = evaluate_model(valid_predictions_2)\n",
    "\n",
    "# Вывод результатов\n",
    "print('Регион 0:')\n",
    "print('Средний прогнозируемый запас в регионе: {:.2f}'.format(avg_predicted_stock_0))\n",
    "print('Средний фактический запас в регионе: {:.2f}'.format(avg_actual_stock_0))\n",
    "print('RMSE: {:.2f}'.format(rmse_0))\n",
    "print()\n",
    "print('Регион 1:')\n",
    "print('Средний прогнозируемый запас в регионе: {:.2f}'.format(avg_predicted_stock_1))\n",
    "print('Средний фактический запас в регионе: {:.2f}'.format(avg_actual_stock_1))\n",
    "print('RMSE: {:.2f}'.format(rmse_1))\n",
    "print()\n",
    "print('Регион 2:')\n",
    "print('Средний прогнозируемый запас в регионе: {:.2f}'.format(avg_predicted_stock_2))\n",
    "print('Средний фактический запас в регионе: {:.2f}'.format(avg_actual_stock_2))\n",
    "print('RMSE: {:.2f}'.format(rmse_2))\n",
    "print()\n"
   ]
  },
  {
   "attachments": {},
   "cell_type": "markdown",
   "metadata": {},
   "source": [
    "Этот код определяет функцию для расчета среднего предсказанного запаса сырья и **RMSE** модели, и оценивает модель для каждого региона, используя данные **valid_predictions** из предыдущего шага. \n",
    "\n",
    "Полученные значения **avg_predicted_stock**, **avg_actual_stock** и **rmse** выводятся на экран.\n",
    "\n",
    "Судя по всему, среднее фактическое значение и среднее предсказанное значение для регионов очень близки"
   ]
  },
  {
   "attachments": {},
   "cell_type": "markdown",
   "metadata": {},
   "source": [
    "### Вывод"
   ]
  },
  {
   "attachments": {},
   "cell_type": "markdown",
   "metadata": {},
   "source": [
    "Из результатов видно, что регион 1 имеет **наименьшее** значение **RMSE** = 0.89, что означает, что модель имеет наименьшее среднее отклонение от фактических значений для этого региона. \n",
    "\n",
    "Однако, регион 2 имеет самый высокий средний фактический (и прогнозируемый) запас сырья, что означает, что ожидаемое количество сырья, которое может быть добыто в этом регионе, выше.\n",
    "\n",
    "Однако, чтобы принять окончательное решение о том, какой регион является наиболее прибыльным, нам также необходимо рассмотреть риски, связанные с каждым регионом. Мы можем использовать метод **Bootstrap** для моделирования различных исходов и расчета риска потерь для каждого региона. После анализа прибыли и рисков мы можем выбрать регион с наибольшей ожидаемой прибылью и наименьшим риском потерь."
   ]
  },
  {
   "attachments": {},
   "cell_type": "markdown",
   "metadata": {},
   "source": [
    "## Подготовка к расчёту прибыли"
   ]
  },
  {
   "attachments": {},
   "cell_type": "markdown",
   "metadata": {},
   "source": [
    "### Рассчет объема сырья, достаточного для безубыточности"
   ]
  },
  {
   "cell_type": "code",
   "execution_count": 22,
   "metadata": {},
   "outputs": [
    {
     "name": "stdout",
     "output_type": "stream",
     "text": [
      "Количество сырья, необходимого для безубыточности новой скважины, составляет 111.11 тыс. баррелей.\n",
      "\n",
      "Средний прогнозируемый запас в регионе 0: 92.59 тыс. баррелей\n",
      "Средний прогнозируемый запас в регионе 1: 68.73 тыс. баррелей\n",
      "Средний прогнозируемый запас в регионе 2: 94.97 тыс. баррелей\n",
      "\n",
      "Средний фактический запас в регионе 0: 92.08 тыс. баррелей\n",
      "Средний фактический запас в регионе 1: 68.72 тыс. баррелей\n",
      "Средний фактический запас в регионе 2: 94.88 тыс. баррелей\n"
     ]
    }
   ],
   "source": [
    "# Создание переменных\n",
    "BUDGET = 10_000_000_000  # 10 млрд\n",
    "PRICE_PER_BARREL = 450_000  # 450 рублей за баррель\n",
    "POINTS_TO_SELECT = 200\n",
    "\n",
    "# Рассчет объема сырья, достаточного для безубыточности новой скважины\n",
    "breakeven_volume = BUDGET / (PRICE_PER_BARREL * POINTS_TO_SELECT)\n",
    "print(\"Количество сырья, необходимого для безубыточности новой скважины, составляет {:.2f} тыс. баррелей.\".format(breakeven_volume))\n",
    "print()\n",
    "# Сравнение полученного объёма сырья со средним запасом в каждом регионе\n",
    "print(\"Средний прогнозируемый запас в регионе 0: {:.2f} тыс. баррелей\".format(avg_predicted_stock_0))\n",
    "print(\"Средний прогнозируемый запас в регионе 1: {:.2f} тыс. баррелей\".format(avg_predicted_stock_1))\n",
    "print(\"Средний прогнозируемый запас в регионе 2: {:.2f} тыс. баррелей\".format(avg_predicted_stock_2))\n",
    "print()\n",
    "print(\"Средний фактический запас в регионе 0: {:.2f} тыс. баррелей\".format(avg_actual_stock_0))\n",
    "print(\"Средний фактический запас в регионе 1: {:.2f} тыс. баррелей\".format(avg_actual_stock_1))\n",
    "print(\"Средний фактический запас в регионе 2: {:.2f} тыс. баррелей\".format(avg_actual_stock_2))\n"
   ]
  },
  {
   "attachments": {},
   "cell_type": "markdown",
   "metadata": {},
   "source": [
    "**Выводы подготовительного этапа расчета прибыли:**\n",
    "\n",
    "Объем сырья, необходимый для безубыточности новой скважины, составляет 111,11 тыс. баррелей.\n",
    "Средний фактический запас в каждом регионе ниже безубыточного запаса."
   ]
  },
  {
   "cell_type": "code",
   "execution_count": 23,
   "metadata": {},
   "outputs": [
    {
     "data": {
      "text/html": [
       "<div>\n",
       "<style scoped>\n",
       "    .dataframe tbody tr th:only-of-type {\n",
       "        vertical-align: middle;\n",
       "    }\n",
       "\n",
       "    .dataframe tbody tr th {\n",
       "        vertical-align: top;\n",
       "    }\n",
       "\n",
       "    .dataframe thead th {\n",
       "        text-align: right;\n",
       "    }\n",
       "</style>\n",
       "<table border=\"1\" class=\"dataframe\">\n",
       "  <thead>\n",
       "    <tr style=\"text-align: right;\">\n",
       "      <th></th>\n",
       "      <th>predicted</th>\n",
       "      <th>actual</th>\n",
       "    </tr>\n",
       "  </thead>\n",
       "  <tbody>\n",
       "    <tr>\n",
       "      <th>count</th>\n",
       "      <td>25000.000000</td>\n",
       "      <td>25000.000000</td>\n",
       "    </tr>\n",
       "    <tr>\n",
       "      <th>mean</th>\n",
       "      <td>92.592568</td>\n",
       "      <td>92.078597</td>\n",
       "    </tr>\n",
       "    <tr>\n",
       "      <th>std</th>\n",
       "      <td>23.176994</td>\n",
       "      <td>44.286913</td>\n",
       "    </tr>\n",
       "    <tr>\n",
       "      <th>min</th>\n",
       "      <td>-9.367846</td>\n",
       "      <td>0.004022</td>\n",
       "    </tr>\n",
       "    <tr>\n",
       "      <th>25%</th>\n",
       "      <td>76.652232</td>\n",
       "      <td>56.059494</td>\n",
       "    </tr>\n",
       "    <tr>\n",
       "      <th>50%</th>\n",
       "      <td>92.661884</td>\n",
       "      <td>90.897664</td>\n",
       "    </tr>\n",
       "    <tr>\n",
       "      <th>75%</th>\n",
       "      <td>108.437632</td>\n",
       "      <td>128.160698</td>\n",
       "    </tr>\n",
       "    <tr>\n",
       "      <th>max</th>\n",
       "      <td>180.180713</td>\n",
       "      <td>185.315412</td>\n",
       "    </tr>\n",
       "  </tbody>\n",
       "</table>\n",
       "</div>"
      ],
      "text/plain": [
       "          predicted        actual\n",
       "count  25000.000000  25000.000000\n",
       "mean      92.592568     92.078597\n",
       "std       23.176994     44.286913\n",
       "min       -9.367846      0.004022\n",
       "25%       76.652232     56.059494\n",
       "50%       92.661884     90.897664\n",
       "75%      108.437632    128.160698\n",
       "max      180.180713    185.315412"
      ]
     },
     "execution_count": 23,
     "metadata": {},
     "output_type": "execute_result"
    }
   ],
   "source": [
    "valid_predictions_0.describe()"
   ]
  },
  {
   "cell_type": "code",
   "execution_count": 24,
   "metadata": {},
   "outputs": [
    {
     "data": {
      "text/html": [
       "<div>\n",
       "<style scoped>\n",
       "    .dataframe tbody tr th:only-of-type {\n",
       "        vertical-align: middle;\n",
       "    }\n",
       "\n",
       "    .dataframe tbody tr th {\n",
       "        vertical-align: top;\n",
       "    }\n",
       "\n",
       "    .dataframe thead th {\n",
       "        text-align: right;\n",
       "    }\n",
       "</style>\n",
       "<table border=\"1\" class=\"dataframe\">\n",
       "  <thead>\n",
       "    <tr style=\"text-align: right;\">\n",
       "      <th></th>\n",
       "      <th>predicted</th>\n",
       "      <th>actual</th>\n",
       "    </tr>\n",
       "  </thead>\n",
       "  <tbody>\n",
       "    <tr>\n",
       "      <th>count</th>\n",
       "      <td>25000.000000</td>\n",
       "      <td>25000.000000</td>\n",
       "    </tr>\n",
       "    <tr>\n",
       "      <th>mean</th>\n",
       "      <td>68.728547</td>\n",
       "      <td>68.723136</td>\n",
       "    </tr>\n",
       "    <tr>\n",
       "      <th>std</th>\n",
       "      <td>46.010225</td>\n",
       "      <td>46.022165</td>\n",
       "    </tr>\n",
       "    <tr>\n",
       "      <th>min</th>\n",
       "      <td>-1.893774</td>\n",
       "      <td>0.000000</td>\n",
       "    </tr>\n",
       "    <tr>\n",
       "      <th>25%</th>\n",
       "      <td>28.536661</td>\n",
       "      <td>26.953261</td>\n",
       "    </tr>\n",
       "    <tr>\n",
       "      <th>50%</th>\n",
       "      <td>57.851586</td>\n",
       "      <td>57.085625</td>\n",
       "    </tr>\n",
       "    <tr>\n",
       "      <th>75%</th>\n",
       "      <td>109.346485</td>\n",
       "      <td>107.813044</td>\n",
       "    </tr>\n",
       "    <tr>\n",
       "      <th>max</th>\n",
       "      <td>139.818970</td>\n",
       "      <td>137.945408</td>\n",
       "    </tr>\n",
       "  </tbody>\n",
       "</table>\n",
       "</div>"
      ],
      "text/plain": [
       "          predicted        actual\n",
       "count  25000.000000  25000.000000\n",
       "mean      68.728547     68.723136\n",
       "std       46.010225     46.022165\n",
       "min       -1.893774      0.000000\n",
       "25%       28.536661     26.953261\n",
       "50%       57.851586     57.085625\n",
       "75%      109.346485    107.813044\n",
       "max      139.818970    137.945408"
      ]
     },
     "execution_count": 24,
     "metadata": {},
     "output_type": "execute_result"
    }
   ],
   "source": [
    "valid_predictions_1.describe()"
   ]
  },
  {
   "cell_type": "code",
   "execution_count": 25,
   "metadata": {},
   "outputs": [
    {
     "data": {
      "text/html": [
       "<div>\n",
       "<style scoped>\n",
       "    .dataframe tbody tr th:only-of-type {\n",
       "        vertical-align: middle;\n",
       "    }\n",
       "\n",
       "    .dataframe tbody tr th {\n",
       "        vertical-align: top;\n",
       "    }\n",
       "\n",
       "    .dataframe thead th {\n",
       "        text-align: right;\n",
       "    }\n",
       "</style>\n",
       "<table border=\"1\" class=\"dataframe\">\n",
       "  <thead>\n",
       "    <tr style=\"text-align: right;\">\n",
       "      <th></th>\n",
       "      <th>predicted</th>\n",
       "      <th>actual</th>\n",
       "    </tr>\n",
       "  </thead>\n",
       "  <tbody>\n",
       "    <tr>\n",
       "      <th>count</th>\n",
       "      <td>25000.000000</td>\n",
       "      <td>25000.000000</td>\n",
       "    </tr>\n",
       "    <tr>\n",
       "      <th>mean</th>\n",
       "      <td>94.965046</td>\n",
       "      <td>94.884233</td>\n",
       "    </tr>\n",
       "    <tr>\n",
       "      <th>std</th>\n",
       "      <td>19.853733</td>\n",
       "      <td>44.902982</td>\n",
       "    </tr>\n",
       "    <tr>\n",
       "      <th>min</th>\n",
       "      <td>17.131597</td>\n",
       "      <td>0.000000</td>\n",
       "    </tr>\n",
       "    <tr>\n",
       "      <th>25%</th>\n",
       "      <td>81.388500</td>\n",
       "      <td>59.217876</td>\n",
       "    </tr>\n",
       "    <tr>\n",
       "      <th>50%</th>\n",
       "      <td>95.031204</td>\n",
       "      <td>94.979468</td>\n",
       "    </tr>\n",
       "    <tr>\n",
       "      <th>75%</th>\n",
       "      <td>108.492663</td>\n",
       "      <td>130.568416</td>\n",
       "    </tr>\n",
       "    <tr>\n",
       "      <th>max</th>\n",
       "      <td>165.856833</td>\n",
       "      <td>190.010982</td>\n",
       "    </tr>\n",
       "  </tbody>\n",
       "</table>\n",
       "</div>"
      ],
      "text/plain": [
       "          predicted        actual\n",
       "count  25000.000000  25000.000000\n",
       "mean      94.965046     94.884233\n",
       "std       19.853733     44.902982\n",
       "min       17.131597      0.000000\n",
       "25%       81.388500     59.217876\n",
       "50%       95.031204     94.979468\n",
       "75%      108.492663    130.568416\n",
       "max      165.856833    190.010982"
      ]
     },
     "execution_count": 25,
     "metadata": {},
     "output_type": "execute_result"
    }
   ],
   "source": [
    "valid_predictions_2.describe()"
   ]
  },
  {
   "attachments": {},
   "cell_type": "markdown",
   "metadata": {},
   "source": [
    "### Сравнение полученного объёма сырья со средним запасом в каждом регионе"
   ]
  },
  {
   "cell_type": "code",
   "execution_count": 26,
   "metadata": {},
   "outputs": [
    {
     "name": "stdout",
     "output_type": "stream",
     "text": [
      "25% скважин в нулевом регионе содержат больше сырья, чем  128.16\n",
      "25% скважин в нулевом регионе по предсказанию будут содержать больше сырья, чем  108.44\n",
      "25% скважин в первом регионе содержат больше сырья, чем  107.81\n",
      "25% скважин в первом регионе по предсказанию будут содержать больше сырья, чем  109.35\n",
      "25% скважин во втором регионе содержат больше сырья, чем  130.57\n",
      "25% скважин во втором регионе по предсказанию будут содержать больше сырья, чем  108.49\n"
     ]
    }
   ],
   "source": [
    "print(\"25% скважин в нулевом регионе содержат больше сырья, чем \",\n",
    "      round(valid_predictions_0[\"actual\"].quantile(0.75),2))\n",
    "print(\"25% скважин в нулевом регионе по предсказанию будут содержать больше сырья, чем \",\n",
    "      round(valid_predictions_0[\"predicted\"].quantile(0.75),2))\n",
    "print(\"25% скважин в первом регионе содержат больше сырья, чем \",\n",
    "      round(valid_predictions_1[\"actual\"].quantile(0.75),2))\n",
    "print(\"25% скважин в первом регионе по предсказанию будут содержать больше сырья, чем \",\n",
    "      round(valid_predictions_1[\"predicted\"].quantile(0.75),2))\n",
    "print(\"25% скважин во втором регионе содержат больше сырья, чем \",\n",
    "      round(valid_predictions_2[\"actual\"].quantile(0.75),2))\n",
    "print(\"25% скважин во втором регионе по предсказанию будут содержать больше сырья, чем \",\n",
    "      round(valid_predictions_2[\"predicted\"].quantile(0.75),2))"
   ]
  },
  {
   "attachments": {},
   "cell_type": "markdown",
   "metadata": {},
   "source": [
    "### Вывод"
   ]
  },
  {
   "attachments": {},
   "cell_type": "markdown",
   "metadata": {},
   "source": [
    "* В **Регионе 0** и **Регионе 2** в 25% скважин больше сырья, чем объем сырья, необходимый для безубыточности новой скважины, который составляет 111,11 тыс. баррелей\n",
    "* Максимальный средний прогнозируемый объем в регионах (Регион 2) равен 94.97"
   ]
  },
  {
   "attachments": {},
   "cell_type": "markdown",
   "metadata": {},
   "source": [
    "## Расчёт прибыли и рисков "
   ]
  },
  {
   "cell_type": "code",
   "execution_count": 27,
   "metadata": {},
   "outputs": [],
   "source": [
    "def profit(target, predicted):\n",
    "    #sort = pd.Series(predicted).sort_values(ascending=False)[:POINTS_TO_SELECT]\n",
    "    #target_sort = target.loc[target.index.isin(sort.index)].reset_index(drop=True)\n",
    "    \n",
    "    sort = pd.Series(predicted).sort_values(ascending=False)\n",
    "    target_sort = target[sort.index][:POINTS_TO_SELECT]\n",
    "\n",
    "\n",
    "    # КОД РЕВЬЮЕРА, debug\n",
    "    if target[sort.index].shape[0] != sort.index.shape[0]:\n",
    "        print(\"Shape mismatch! Actual targets shape:\", target_sort.shape)\n",
    "\n",
    "\n",
    "    sum_true = target_sort.sum()\n",
    "    return (sum_true * PRICE_PER_BARREL) - BUDGET"
   ]
  },
  {
   "cell_type": "code",
   "execution_count": 28,
   "metadata": {},
   "outputs": [
    {
     "name": "stdout",
     "output_type": "stream",
     "text": [
      "Прибыль с лучших 200 скважин в нулевом регионе: 3320826043.1398506\n",
      "Прибыль с лучших 200 скважин в первом регионе: 2415086696.681511\n",
      "Прибыль с лучших 200 скважин во втором регионе: 2710349963.5998325\n"
     ]
    }
   ],
   "source": [
    "print(\"Прибыль с лучших 200 скважин в нулевом регионе:\",profit(valid_predictions_0['actual'], valid_predictions_0['predicted']))\n",
    "print(\"Прибыль с лучших 200 скважин в первом регионе:\",profit(valid_predictions_1['actual'], valid_predictions_1['predicted']))\n",
    "print(\"Прибыль с лучших 200 скважин во втором регионе:\",profit(valid_predictions_2['actual'], valid_predictions_2['predicted']))"
   ]
  },
  {
   "cell_type": "code",
   "execution_count": 29,
   "metadata": {},
   "outputs": [],
   "source": [
    "def calculate_profit_distribution(target, predicted):\n",
    "    samples = [profit(target, pd.Series(predicted).sample(n=500, replace=True, random_state=i)) for i in range(1000)]\n",
    "    mean_profit = np.mean(samples)\n",
    "    percent_loss = np.mean([sample < 0 for sample in samples]) * 100\n",
    "    lower = np.quantile(samples, 0.025)\n",
    "    upper = np.quantile(samples, 0.975)\n",
    "    fig = plt.figure(figsize =(10, 7))\n",
    "    # Создание box plot\n",
    "    plt.boxplot(samples)\n",
    "    plt.title(\"Диаграмма box plot\")\n",
    "    # show plot\n",
    "    plt.show() \n",
    "    \n",
    "    return mean_profit, lower,  upper,  percent_loss"
   ]
  },
  {
   "cell_type": "code",
   "execution_count": 30,
   "metadata": {},
   "outputs": [
    {
     "data": {
      "image/png": "[encoded data removed]",
      "text/plain": [
       "<Figure size 720x504 with 1 Axes>"
      ]
     },
     "metadata": {},
     "output_type": "display_data"
    },
    {
     "name": "stdout",
     "output_type": "stream",
     "text": [
      "95% доверительный интервал для региона ноль лежит между: (-99868029.94, 877365288.83)\n",
      "Среднее прогнозируемое значение прибыли 388.35 млн.\n",
      "Процент риска 6.60%\n"
     ]
    },
    {
     "data": {
      "image/png": "[encoded data removed]",
      "text/plain": [
       "<Figure size 720x504 with 1 Axes>"
      ]
     },
     "metadata": {},
     "output_type": "display_data"
    },
    {
     "name": "stdout",
     "output_type": "stream",
     "text": [
      "95% доверительный интервал для первого региона лежит между: (50258370.30, 872327130.12)\n",
      "Среднее прогнозируемое значение прибыли 457.32 млн.\n",
      "Процент риска 1.70%\n"
     ]
    },
    {
     "data": {
      "image/png": "[encoded data removed]",
      "text/plain": [
       "<Figure size 720x504 with 1 Axes>"
      ]
     },
     "metadata": {},
     "output_type": "display_data"
    },
    {
     "name": "stdout",
     "output_type": "stream",
     "text": [
      "95% доверительный интервал для второго региона лежит между: (-95510056.50, 881318675.76)\n",
      "Среднее прогнозируемое значение прибыли 387.55 млн.\n",
      "Процент риска 6.50%\n"
     ]
    }
   ],
   "source": [
    "mean_profit0, lower0, upper0, percent_loss_0 = calculate_profit_distribution(valid_predictions_0['actual'], valid_predictions_0['predicted'])\n",
    "print(\"95% доверительный интервал для региона ноль лежит между: ({:.2f}, {:.2f})\".format(round(lower0,2), round(upper0,2)))\n",
    "print('Среднее прогнозируемое значение прибыли {:.2f} млн.'.format(round(mean_profit0/1000000,2)))\n",
    "print('Процент риска {:.2f}%'.format(round(percent_loss_0,2)))\n",
    "\n",
    "mean_profit1, lower1, upper1, percent_loss_1 = calculate_profit_distribution(valid_predictions_1['actual'], valid_predictions_1['predicted'])\n",
    "print(\"95% доверительный интервал для первого региона лежит между: ({:.2f}, {:.2f})\".format(round(lower1,2), round(upper1,2)))\n",
    "print('Среднее прогнозируемое значение прибыли {:.2f} млн.'.format(round(mean_profit1/1000000,2)))\n",
    "print('Процент риска {:.2f}%'.format(round(percent_loss_1,2)))\n",
    "\n",
    "mean_profit2, lower2, upper2, percent_loss_2 = calculate_profit_distribution(valid_predictions_2['actual'], valid_predictions_2['predicted'])\n",
    "print(\"95% доверительный интервал для второго региона лежит между: ({:.2f}, {:.2f})\".format(round(lower2,2), round(upper2,2)))\n",
    "print('Среднее прогнозируемое значение прибыли {:.2f} млн.'.format(round(mean_profit2/1000000,2)))\n",
    "print('Процент риска {:.2f}%'.format(round(percent_loss_2,2)))\n"
   ]
  },
  {
   "attachments": {},
   "cell_type": "markdown",
   "metadata": {},
   "source": [
    "## Вывод"
   ]
  },
  {
   "attachments": {},
   "cell_type": "markdown",
   "metadata": {},
   "source": [
    "**Регион 0**\n",
    "* Средний прогнозируемый запас в регионе 0: 92.59 тыс. баррелей\n",
    "* 95% доверительный интервал для региона ноль лежит между: (-99868029.94, 877365288.83)\n",
    "* Среднее прогнозируемое значение прибыли 388.35 млн.\n",
    "* Процент риска 6.60%\n",
    "\n",
    "**Регион 1**\n",
    "* Средний прогнозируемый запас в регионе: 68.86\n",
    "* Регион 1 имеет **наименьшее** значение **RMSE** = 0.89, что означает, что модель имеет наименьшее среднее отклонение от фактических значений для этого региона\n",
    "* 95% доверительный интервал для первого региона лежит между: (50258370.30, 872327130.12)\n",
    "* Среднее прогнозируемое значение прибыли 457.32 млн.\n",
    "* Процент риска 1.70%\n",
    "\n",
    "\n",
    "**Регион 2**\n",
    "* Имеет самый высокий средний прогнозируемый запас сырья, что означает, что ожидаемое количество сырья, которое может быть добыто в этом регионе, выше\n",
    "* Средний прогнозируемый запас в регионе 2: 94.97 тыс. баррелей\n",
    "* 95% доверительный интервал для второго региона лежит между: (-95510056.50, 881318675.76)\n",
    "* Среднее прогнозируемое значение прибыли 387.55 млн.\n",
    "* Процент риска 6.50%\n",
    "\n",
    "**Итог:** Для дальнейших работ по уровню риска < 2.5%  подходит **регион 1**, его уровень риска  1.70%. Среднее прогнозируемое значение прибыли 457.32 млн. Регион 1 имеет **наименьшее** значение **RMSE** = 0.89, что означает, что модель имеет наименьшее среднее отклонение от фактических значений для этого региона"
   ]
  },
  {
   "attachments": {},
   "cell_type": "markdown",
   "metadata": {},
   "source": [
    "## Чек-лист готовности проекта"
   ]
  },
  {
   "attachments": {},
   "cell_type": "markdown",
   "metadata": {},
   "source": [
    "Поставьте 'x' в выполненных пунктах. Далее нажмите Shift+Enter."
   ]
  },
  {
   "attachments": {},
   "cell_type": "markdown",
   "metadata": {},
   "source": [
    "- [x]  Jupyter Notebook открыт\n",
    "- [x]  Весь код выполняется без ошибок\n",
    "- [x]  Ячейки с кодом расположены в порядке исполнения\n",
    "- [x]  Выполнен шаг 1: данные подготовлены\n",
    "- [x]  Выполнен шаг 2: модели обучены и проверены\n",
    "    - [x]  Данные корректно разбиты на обучающую и валидационную выборки\n",
    "    - [x]  Модели обучены, предсказания сделаны\n",
    "    - [x]  Предсказания и правильные ответы на валидационной выборке сохранены\n",
    "    - [x]  На экране напечатаны результаты\n",
    "    - [x]  Сделаны выводы\n",
    "- [x]  Выполнен шаг 3: проведена подготовка к расчёту прибыли\n",
    "    - [x]  Для всех ключевых значений созданы константы Python\n",
    "    - [x]  Посчитано минимальное среднее количество продукта в месторождениях региона, достаточное для разработки\n",
    "    - [x]  По предыдущему пункту сделаны выводы\n",
    "    - [x]  Написана функция расчёта прибыли\n",
    "- [x]  Выполнен шаг 4: посчитаны риски и прибыль\n",
    "    - [x]  Проведена процедура *Bootstrap*\n",
    "    - [x]  Все параметры бутстрепа соответствуют условию\n",
    "    - [x]  Найдены все нужные величины\n",
    "    - [x]  Предложен регион для разработки месторождения\n",
    "    - [x]  Выбор региона обоснован"
   ]
  }
 ],
 "metadata": {
  "ExecuteTimeLog": [
   {
    "duration": 1821,
    "start_time": "2023-03-04T19:25:58.147Z"
   },
   {
    "duration": 3,
    "start_time": "2023-03-04T19:26:13.121Z"
   },
   {
    "duration": 1013,
    "start_time": "2023-03-04T19:28:01.699Z"
   },
   {
    "duration": 16,
    "start_time": "2023-03-04T19:28:43.681Z"
   },
   {
    "duration": 16,
    "start_time": "2023-03-04T19:28:54.580Z"
   },
   {
    "duration": 10,
    "start_time": "2023-03-04T19:29:01.503Z"
   },
   {
    "duration": 18,
    "start_time": "2023-03-04T19:29:08.476Z"
   },
   {
    "duration": 26,
    "start_time": "2023-03-04T19:30:32.945Z"
   },
   {
    "duration": 40,
    "start_time": "2023-03-04T19:31:54.010Z"
   },
   {
    "duration": 6,
    "start_time": "2023-03-04T19:45:56.218Z"
   },
   {
    "duration": 145,
    "start_time": "2023-03-04T19:47:56.790Z"
   },
   {
    "duration": 6,
    "start_time": "2023-03-04T19:48:56.588Z"
   },
   {
    "duration": 391,
    "start_time": "2023-03-04T19:49:00.268Z"
   },
   {
    "duration": 17,
    "start_time": "2023-03-04T19:51:54.777Z"
   },
   {
    "duration": 2,
    "start_time": "2023-03-04T19:57:05.618Z"
   },
   {
    "duration": 3,
    "start_time": "2023-03-04T19:58:18.978Z"
   },
   {
    "duration": 15,
    "start_time": "2023-03-04T20:00:14.084Z"
   },
   {
    "duration": 8,
    "start_time": "2023-03-04T20:10:10.003Z"
   },
   {
    "duration": 5,
    "start_time": "2023-03-04T20:17:51.344Z"
   },
   {
    "duration": 5,
    "start_time": "2023-03-04T20:19:25.179Z"
   },
   {
    "duration": 6,
    "start_time": "2023-03-04T20:22:53.892Z"
   },
   {
    "duration": 12,
    "start_time": "2023-03-04T20:23:15.880Z"
   },
   {
    "duration": 6,
    "start_time": "2023-03-04T20:28:21.178Z"
   },
   {
    "duration": 7,
    "start_time": "2023-03-04T20:29:08.260Z"
   },
   {
    "duration": 7,
    "start_time": "2023-03-04T20:29:56.517Z"
   },
   {
    "duration": 4,
    "start_time": "2023-03-04T20:43:21.574Z"
   },
   {
    "duration": 5,
    "start_time": "2023-03-04T20:46:10.589Z"
   },
   {
    "duration": 6,
    "start_time": "2023-03-04T20:46:22.710Z"
   },
   {
    "duration": 4,
    "start_time": "2023-03-04T20:47:12.542Z"
   },
   {
    "duration": 9,
    "start_time": "2023-03-04T20:49:20.250Z"
   },
   {
    "duration": 6,
    "start_time": "2023-03-04T20:50:13.373Z"
   },
   {
    "duration": 5,
    "start_time": "2023-03-04T20:50:22.138Z"
   },
   {
    "duration": 6,
    "start_time": "2023-03-04T20:51:55.925Z"
   },
   {
    "duration": 282,
    "start_time": "2023-03-04T20:57:05.679Z"
   },
   {
    "duration": 283,
    "start_time": "2023-03-04T20:59:51.332Z"
   },
   {
    "duration": 291,
    "start_time": "2023-03-04T21:00:05.553Z"
   },
   {
    "duration": 276,
    "start_time": "2023-03-04T21:00:20.759Z"
   },
   {
    "duration": 278,
    "start_time": "2023-03-04T21:02:17.826Z"
   },
   {
    "duration": 6,
    "start_time": "2023-03-04T21:02:28.193Z"
   },
   {
    "duration": 6,
    "start_time": "2023-03-04T21:02:28.202Z"
   },
   {
    "duration": 453,
    "start_time": "2023-03-04T21:02:28.210Z"
   },
   {
    "duration": 12,
    "start_time": "2023-03-04T21:02:28.665Z"
   },
   {
    "duration": 10,
    "start_time": "2023-03-04T21:02:28.678Z"
   },
   {
    "duration": 23,
    "start_time": "2023-03-04T21:02:28.690Z"
   },
   {
    "duration": 43,
    "start_time": "2023-03-04T21:02:28.715Z"
   },
   {
    "duration": 5,
    "start_time": "2023-03-04T21:02:28.762Z"
   },
   {
    "duration": 297,
    "start_time": "2023-03-04T21:02:28.769Z"
   },
   {
    "duration": 101,
    "start_time": "2023-03-04T21:02:29.069Z"
   },
   {
    "duration": 113,
    "start_time": "2023-03-04T21:02:29.171Z"
   },
   {
    "duration": 11,
    "start_time": "2023-03-04T21:02:29.286Z"
   },
   {
    "duration": 13,
    "start_time": "2023-03-04T21:02:29.299Z"
   },
   {
    "duration": 298,
    "start_time": "2023-03-04T21:02:29.314Z"
   },
   {
    "duration": 7,
    "start_time": "2023-03-04T21:05:39.920Z"
   },
   {
    "duration": 6,
    "start_time": "2023-03-04T21:10:18.141Z"
   },
   {
    "duration": 7,
    "start_time": "2023-03-04T21:10:28.392Z"
   },
   {
    "duration": 13,
    "start_time": "2023-03-04T21:18:47.700Z"
   },
   {
    "duration": 14,
    "start_time": "2023-03-04T21:18:50.993Z"
   },
   {
    "duration": 15,
    "start_time": "2023-03-04T21:19:04.114Z"
   },
   {
    "duration": 10,
    "start_time": "2023-03-04T21:27:16.241Z"
   },
   {
    "duration": 3,
    "start_time": "2023-03-04T21:27:18.178Z"
   },
   {
    "duration": 593,
    "start_time": "2023-03-04T21:27:19.447Z"
   },
   {
    "duration": 13,
    "start_time": "2023-03-04T21:27:21.400Z"
   },
   {
    "duration": 16,
    "start_time": "2023-03-04T21:27:23.275Z"
   },
   {
    "duration": 22,
    "start_time": "2023-03-04T21:27:24.879Z"
   },
   {
    "duration": 90,
    "start_time": "2023-03-04T21:27:26.326Z"
   },
   {
    "duration": 4,
    "start_time": "2023-03-04T21:27:32.834Z"
   },
   {
    "duration": 267,
    "start_time": "2023-03-04T21:27:50.996Z"
   },
   {
    "duration": 10,
    "start_time": "2023-03-04T21:27:52.822Z"
   },
   {
    "duration": 6,
    "start_time": "2023-03-04T21:30:50.141Z"
   },
   {
    "duration": 377,
    "start_time": "2023-03-04T21:30:51.976Z"
   },
   {
    "duration": 13,
    "start_time": "2023-03-04T21:30:53.886Z"
   },
   {
    "duration": 24,
    "start_time": "2023-03-04T21:30:56.272Z"
   },
   {
    "duration": 4,
    "start_time": "2023-03-04T21:34:17.880Z"
   },
   {
    "duration": 45,
    "start_time": "2023-03-04T21:34:48.972Z"
   },
   {
    "duration": 10,
    "start_time": "2023-03-04T21:36:26.917Z"
   },
   {
    "duration": 16,
    "start_time": "2023-03-04T21:37:02.721Z"
   },
   {
    "duration": 15,
    "start_time": "2023-03-04T21:37:09.586Z"
   },
   {
    "duration": 38,
    "start_time": "2023-03-04T21:37:14.251Z"
   },
   {
    "duration": 6,
    "start_time": "2023-03-04T21:39:47.988Z"
   },
   {
    "duration": 4,
    "start_time": "2023-03-04T21:39:59.910Z"
   },
   {
    "duration": 400,
    "start_time": "2023-03-04T21:40:03.402Z"
   },
   {
    "duration": 8,
    "start_time": "2023-03-04T21:40:05.082Z"
   },
   {
    "duration": 459,
    "start_time": "2023-03-04T21:40:33.430Z"
   },
   {
    "duration": 10,
    "start_time": "2023-03-04T21:40:34.520Z"
   },
   {
    "duration": 23,
    "start_time": "2023-03-04T21:40:40.576Z"
   },
   {
    "duration": 16,
    "start_time": "2023-03-04T21:40:41.830Z"
   },
   {
    "duration": 23,
    "start_time": "2023-03-04T21:40:43.408Z"
   },
   {
    "duration": 6,
    "start_time": "2023-03-04T21:40:46.878Z"
   },
   {
    "duration": 7,
    "start_time": "2023-03-04T21:40:49.269Z"
   },
   {
    "duration": 264,
    "start_time": "2023-03-04T21:40:58.006Z"
   },
   {
    "duration": 8,
    "start_time": "2023-03-04T21:41:00.593Z"
   },
   {
    "duration": 10,
    "start_time": "2023-03-04T21:41:07.084Z"
   },
   {
    "duration": 5,
    "start_time": "2023-03-04T21:41:28.887Z"
   },
   {
    "duration": 5,
    "start_time": "2023-03-04T21:41:55.786Z"
   },
   {
    "duration": 28,
    "start_time": "2023-03-04T21:44:18.498Z"
   },
   {
    "duration": 24,
    "start_time": "2023-03-04T21:45:21.384Z"
   },
   {
    "duration": 47,
    "start_time": "2023-03-04T21:45:23.773Z"
   },
   {
    "duration": 14,
    "start_time": "2023-03-04T21:48:11.124Z"
   },
   {
    "duration": 17,
    "start_time": "2023-03-04T21:50:22.527Z"
   },
   {
    "duration": 15,
    "start_time": "2023-03-04T21:51:15.918Z"
   },
   {
    "duration": 13,
    "start_time": "2023-03-04T21:53:25.644Z"
   },
   {
    "duration": 65,
    "start_time": "2023-03-04T21:55:55.180Z"
   },
   {
    "duration": 100,
    "start_time": "2023-03-04T21:56:01.811Z"
   },
   {
    "duration": 93,
    "start_time": "2023-03-04T21:56:07.515Z"
   },
   {
    "duration": 71,
    "start_time": "2023-03-04T21:56:11.128Z"
   },
   {
    "duration": 62,
    "start_time": "2023-03-04T21:56:16.925Z"
   },
   {
    "duration": 428,
    "start_time": "2023-03-04T21:58:34.387Z"
   },
   {
    "duration": 478,
    "start_time": "2023-03-04T21:58:49.395Z"
   },
   {
    "duration": 358,
    "start_time": "2023-03-04T21:59:01.931Z"
   },
   {
    "duration": 7,
    "start_time": "2023-03-04T22:00:42.884Z"
   },
   {
    "duration": 5,
    "start_time": "2023-03-04T22:02:00.041Z"
   },
   {
    "duration": 45,
    "start_time": "2023-03-04T22:02:00.051Z"
   },
   {
    "duration": 459,
    "start_time": "2023-03-04T22:02:00.097Z"
   },
   {
    "duration": 12,
    "start_time": "2023-03-04T22:02:00.558Z"
   },
   {
    "duration": 11,
    "start_time": "2023-03-04T22:02:00.571Z"
   },
   {
    "duration": 25,
    "start_time": "2023-03-04T22:02:00.584Z"
   },
   {
    "duration": 371,
    "start_time": "2023-03-04T22:02:00.611Z"
   },
   {
    "duration": 329,
    "start_time": "2023-03-04T22:02:00.983Z"
   },
   {
    "duration": 366,
    "start_time": "2023-03-04T22:02:01.314Z"
   },
   {
    "duration": 49,
    "start_time": "2023-03-04T22:02:01.683Z"
   },
   {
    "duration": 57,
    "start_time": "2023-03-04T22:02:01.734Z"
   },
   {
    "duration": 63,
    "start_time": "2023-03-04T22:02:01.794Z"
   },
   {
    "duration": 55,
    "start_time": "2023-03-04T22:02:01.859Z"
   },
   {
    "duration": 15,
    "start_time": "2023-03-04T22:02:01.916Z"
   },
   {
    "duration": 48,
    "start_time": "2023-03-04T22:02:01.932Z"
   },
   {
    "duration": 36,
    "start_time": "2023-03-04T22:02:01.981Z"
   },
   {
    "duration": 10,
    "start_time": "2023-03-04T22:02:02.019Z"
   },
   {
    "duration": 17,
    "start_time": "2023-03-04T22:02:02.030Z"
   },
   {
    "duration": 317,
    "start_time": "2023-03-04T22:02:02.050Z"
   },
   {
    "duration": 16,
    "start_time": "2023-03-04T22:02:02.370Z"
   },
   {
    "duration": 170,
    "start_time": "2023-03-04T22:02:02.390Z"
   },
   {
    "duration": 31,
    "start_time": "2023-03-04T22:02:02.567Z"
   },
   {
    "duration": 30,
    "start_time": "2023-03-04T22:02:02.600Z"
   },
   {
    "duration": 16,
    "start_time": "2023-03-04T22:02:02.632Z"
   },
   {
    "duration": 19,
    "start_time": "2023-03-04T22:02:02.653Z"
   },
   {
    "duration": 25,
    "start_time": "2023-03-04T22:02:02.674Z"
   },
   {
    "duration": 5,
    "start_time": "2023-03-04T22:02:02.701Z"
   },
   {
    "duration": 293,
    "start_time": "2023-03-04T22:02:02.710Z"
   },
   {
    "duration": 6,
    "start_time": "2023-03-04T22:04:25.310Z"
   },
   {
    "duration": 123,
    "start_time": "2023-03-04T22:04:26.840Z"
   },
   {
    "duration": 7,
    "start_time": "2023-03-04T22:05:59.397Z"
   },
   {
    "duration": 102,
    "start_time": "2023-03-04T22:06:01.684Z"
   },
   {
    "duration": 6,
    "start_time": "2023-03-04T22:06:42.086Z"
   },
   {
    "duration": 178,
    "start_time": "2023-03-04T22:06:43.579Z"
   },
   {
    "duration": 10,
    "start_time": "2023-03-04T22:07:35.880Z"
   },
   {
    "duration": 327,
    "start_time": "2023-03-04T22:07:48.668Z"
   },
   {
    "duration": 11,
    "start_time": "2023-03-04T22:07:51.241Z"
   },
   {
    "duration": 6,
    "start_time": "2023-03-04T22:10:03.661Z"
   },
   {
    "duration": 48,
    "start_time": "2023-03-04T22:10:05.918Z"
   },
   {
    "duration": 5,
    "start_time": "2023-03-04T22:10:44.726Z"
   },
   {
    "duration": 398,
    "start_time": "2023-03-04T22:10:45.868Z"
   },
   {
    "duration": 11,
    "start_time": "2023-03-04T22:10:47.774Z"
   },
   {
    "duration": 8,
    "start_time": "2023-03-04T22:10:52.610Z"
   },
   {
    "duration": 9,
    "start_time": "2023-03-04T22:10:58.813Z"
   },
   {
    "duration": 11,
    "start_time": "2023-03-04T22:11:03.079Z"
   },
   {
    "duration": 5,
    "start_time": "2023-03-04T22:11:30.379Z"
   },
   {
    "duration": 19,
    "start_time": "2023-03-04T22:11:34.083Z"
   },
   {
    "duration": 22,
    "start_time": "2023-03-04T22:11:36.480Z"
   },
   {
    "duration": 37,
    "start_time": "2023-03-04T22:11:38.745Z"
   },
   {
    "duration": 26,
    "start_time": "2023-03-04T22:11:41.095Z"
   },
   {
    "duration": 4,
    "start_time": "2023-03-04T22:15:08.824Z"
   },
   {
    "duration": 4,
    "start_time": "2023-03-04T22:23:09.276Z"
   },
   {
    "duration": 4,
    "start_time": "2023-03-04T22:24:16.514Z"
   },
   {
    "duration": 97,
    "start_time": "2023-03-04T22:24:19.106Z"
   },
   {
    "duration": 10,
    "start_time": "2023-03-04T22:24:41.412Z"
   },
   {
    "duration": 23,
    "start_time": "2023-03-04T22:25:01.205Z"
   },
   {
    "duration": 3,
    "start_time": "2023-03-04T22:28:19.815Z"
   },
   {
    "duration": 23,
    "start_time": "2023-03-04T22:28:21.493Z"
   },
   {
    "duration": 4,
    "start_time": "2023-03-04T22:29:25.693Z"
   },
   {
    "duration": 16,
    "start_time": "2023-03-04T22:29:26.826Z"
   },
   {
    "duration": 23,
    "start_time": "2023-03-04T22:30:30.044Z"
   },
   {
    "duration": 268,
    "start_time": "2023-03-04T22:32:02.026Z"
   },
   {
    "duration": 4754,
    "start_time": "2023-03-04T22:38:53.300Z"
   },
   {
    "duration": 1733,
    "start_time": "2023-03-04T22:41:44.880Z"
   },
   {
    "duration": 1709,
    "start_time": "2023-03-04T22:44:06.582Z"
   },
   {
    "duration": 4802,
    "start_time": "2023-03-04T22:45:08.874Z"
   },
   {
    "duration": 4538,
    "start_time": "2023-03-04T22:46:19.816Z"
   },
   {
    "duration": 4604,
    "start_time": "2023-03-04T22:47:53.577Z"
   },
   {
    "duration": 5,
    "start_time": "2023-03-04T22:48:45.326Z"
   },
   {
    "duration": 86,
    "start_time": "2023-03-04T22:49:22.813Z"
   },
   {
    "duration": 19,
    "start_time": "2023-03-04T22:49:39.345Z"
   },
   {
    "duration": 9,
    "start_time": "2023-03-04T22:50:26.187Z"
   },
   {
    "duration": 5,
    "start_time": "2023-03-04T22:50:31.581Z"
   },
   {
    "duration": 21,
    "start_time": "2023-03-04T22:50:34.089Z"
   },
   {
    "duration": 5,
    "start_time": "2023-03-04T22:50:57.276Z"
   },
   {
    "duration": 23,
    "start_time": "2023-03-04T22:50:58.835Z"
   },
   {
    "duration": 4,
    "start_time": "2023-03-04T22:51:17.542Z"
   },
   {
    "duration": 5196,
    "start_time": "2023-03-04T22:51:18.987Z"
   },
   {
    "duration": 4758,
    "start_time": "2023-03-04T22:51:38.068Z"
   },
   {
    "duration": 17,
    "start_time": "2023-03-04T22:52:19.114Z"
   },
   {
    "duration": 21,
    "start_time": "2023-03-04T22:52:21.070Z"
   },
   {
    "duration": 20,
    "start_time": "2023-03-04T22:52:22.896Z"
   },
   {
    "duration": 4968,
    "start_time": "2023-03-04T22:55:57.726Z"
   },
   {
    "duration": 4925,
    "start_time": "2023-03-04T22:57:47.850Z"
   },
   {
    "duration": 7,
    "start_time": "2023-03-04T22:59:06.260Z"
   },
   {
    "duration": 4890,
    "start_time": "2023-03-04T22:59:07.591Z"
   },
   {
    "duration": 4942,
    "start_time": "2023-03-04T23:00:19.584Z"
   },
   {
    "duration": 4742,
    "start_time": "2023-03-04T23:01:50.400Z"
   },
   {
    "duration": 5,
    "start_time": "2023-03-04T23:04:26.627Z"
   },
   {
    "duration": 5028,
    "start_time": "2023-03-04T23:04:30.010Z"
   },
   {
    "duration": 5,
    "start_time": "2023-03-04T23:04:50.998Z"
   },
   {
    "duration": 5243,
    "start_time": "2023-03-04T23:04:53.922Z"
   },
   {
    "duration": 4,
    "start_time": "2023-03-04T23:09:05.539Z"
   },
   {
    "duration": 9225,
    "start_time": "2023-03-04T23:09:07.268Z"
   },
   {
    "duration": 7,
    "start_time": "2023-03-04T23:10:23.375Z"
   },
   {
    "duration": 6268,
    "start_time": "2023-03-04T23:10:26.590Z"
   },
   {
    "duration": 7,
    "start_time": "2023-03-04T23:14:37.575Z"
   },
   {
    "duration": 3957,
    "start_time": "2023-03-04T23:14:39.109Z"
   },
   {
    "duration": 5,
    "start_time": "2023-03-04T23:16:49.577Z"
   },
   {
    "duration": 4753,
    "start_time": "2023-03-04T23:16:50.735Z"
   },
   {
    "duration": 5,
    "start_time": "2023-03-04T23:17:13.440Z"
   },
   {
    "duration": 4931,
    "start_time": "2023-03-04T23:17:16.494Z"
   },
   {
    "duration": 4,
    "start_time": "2023-03-04T23:18:03.696Z"
   },
   {
    "duration": 4801,
    "start_time": "2023-03-04T23:18:09.090Z"
   },
   {
    "duration": 10,
    "start_time": "2023-03-04T23:20:58.351Z"
   },
   {
    "duration": 3856,
    "start_time": "2023-03-04T23:20:59.402Z"
   },
   {
    "duration": 5,
    "start_time": "2023-03-04T23:21:18.899Z"
   },
   {
    "duration": 4396,
    "start_time": "2023-03-04T23:21:19.997Z"
   },
   {
    "duration": 4,
    "start_time": "2023-03-04T23:21:31.686Z"
   },
   {
    "duration": 4053,
    "start_time": "2023-03-04T23:21:32.818Z"
   },
   {
    "duration": 5,
    "start_time": "2023-03-04T23:21:50.326Z"
   },
   {
    "duration": 4743,
    "start_time": "2023-03-04T23:21:51.780Z"
   },
   {
    "duration": 9,
    "start_time": "2023-03-04T23:23:50.968Z"
   },
   {
    "duration": 4698,
    "start_time": "2023-03-04T23:23:52.139Z"
   },
   {
    "duration": 6,
    "start_time": "2023-03-04T23:25:09.103Z"
   },
   {
    "duration": 23,
    "start_time": "2023-03-04T23:25:09.111Z"
   },
   {
    "duration": 468,
    "start_time": "2023-03-04T23:25:09.136Z"
   },
   {
    "duration": 9,
    "start_time": "2023-03-04T23:25:09.606Z"
   },
   {
    "duration": 66,
    "start_time": "2023-03-04T23:25:09.617Z"
   },
   {
    "duration": 60,
    "start_time": "2023-03-04T23:25:09.685Z"
   },
   {
    "duration": 458,
    "start_time": "2023-03-04T23:25:09.746Z"
   },
   {
    "duration": 333,
    "start_time": "2023-03-04T23:25:10.205Z"
   },
   {
    "duration": 339,
    "start_time": "2023-03-04T23:25:10.540Z"
   },
   {
    "duration": 35,
    "start_time": "2023-03-04T23:25:10.881Z"
   },
   {
    "duration": 67,
    "start_time": "2023-03-04T23:25:10.917Z"
   },
   {
    "duration": 39,
    "start_time": "2023-03-04T23:25:10.985Z"
   },
   {
    "duration": 59,
    "start_time": "2023-03-04T23:25:11.026Z"
   },
   {
    "duration": 24,
    "start_time": "2023-03-04T23:25:11.088Z"
   },
   {
    "duration": 31,
    "start_time": "2023-03-04T23:25:11.114Z"
   },
   {
    "duration": 68,
    "start_time": "2023-03-04T23:25:11.146Z"
   },
   {
    "duration": 20,
    "start_time": "2023-03-04T23:25:11.215Z"
   },
   {
    "duration": 67,
    "start_time": "2023-03-04T23:25:11.237Z"
   },
   {
    "duration": 458,
    "start_time": "2023-03-04T23:25:11.306Z"
   },
   {
    "duration": 90,
    "start_time": "2023-03-04T23:25:11.769Z"
   },
   {
    "duration": 88,
    "start_time": "2023-03-04T23:25:11.861Z"
   },
   {
    "duration": 63,
    "start_time": "2023-03-04T23:25:11.955Z"
   },
   {
    "duration": 91,
    "start_time": "2023-03-04T23:25:12.020Z"
   },
   {
    "duration": 84,
    "start_time": "2023-03-04T23:25:12.113Z"
   },
   {
    "duration": 23,
    "start_time": "2023-03-04T23:25:12.198Z"
   },
   {
    "duration": 43,
    "start_time": "2023-03-04T23:25:12.223Z"
   },
   {
    "duration": 121,
    "start_time": "2023-03-04T23:25:12.267Z"
   },
   {
    "duration": 44,
    "start_time": "2023-03-04T23:25:12.390Z"
   },
   {
    "duration": 55,
    "start_time": "2023-03-04T23:25:12.436Z"
   },
   {
    "duration": 4977,
    "start_time": "2023-03-04T23:25:12.493Z"
   },
   {
    "duration": 6,
    "start_time": "2023-03-04T23:26:04.282Z"
   },
   {
    "duration": 6,
    "start_time": "2023-03-04T23:26:07.072Z"
   },
   {
    "duration": 9,
    "start_time": "2023-03-04T23:26:07.081Z"
   },
   {
    "duration": 425,
    "start_time": "2023-03-04T23:26:07.091Z"
   },
   {
    "duration": 9,
    "start_time": "2023-03-04T23:26:07.518Z"
   },
   {
    "duration": 10,
    "start_time": "2023-03-04T23:26:07.530Z"
   },
   {
    "duration": 37,
    "start_time": "2023-03-04T23:26:07.549Z"
   },
   {
    "duration": 342,
    "start_time": "2023-03-04T23:26:07.588Z"
   },
   {
    "duration": 347,
    "start_time": "2023-03-04T23:26:07.932Z"
   },
   {
    "duration": 449,
    "start_time": "2023-03-04T23:26:08.284Z"
   },
   {
    "duration": 58,
    "start_time": "2023-03-04T23:26:08.735Z"
   },
   {
    "duration": 44,
    "start_time": "2023-03-04T23:26:08.795Z"
   },
   {
    "duration": 49,
    "start_time": "2023-03-04T23:26:08.849Z"
   },
   {
    "duration": 67,
    "start_time": "2023-03-04T23:26:08.900Z"
   },
   {
    "duration": 16,
    "start_time": "2023-03-04T23:26:08.970Z"
   },
   {
    "duration": 13,
    "start_time": "2023-03-04T23:26:08.988Z"
   },
   {
    "duration": 16,
    "start_time": "2023-03-04T23:26:09.002Z"
   },
   {
    "duration": 6,
    "start_time": "2023-03-04T23:26:09.020Z"
   },
   {
    "duration": 30,
    "start_time": "2023-03-04T23:26:09.027Z"
   },
   {
    "duration": 321,
    "start_time": "2023-03-04T23:26:09.064Z"
   },
   {
    "duration": 165,
    "start_time": "2023-03-04T23:26:09.390Z"
   },
   {
    "duration": 32,
    "start_time": "2023-03-04T23:26:09.557Z"
   },
   {
    "duration": 5,
    "start_time": "2023-03-04T23:26:09.591Z"
   },
   {
    "duration": 20,
    "start_time": "2023-03-04T23:26:09.597Z"
   },
   {
    "duration": 15,
    "start_time": "2023-03-04T23:26:09.618Z"
   },
   {
    "duration": 28,
    "start_time": "2023-03-04T23:26:09.635Z"
   },
   {
    "duration": 17,
    "start_time": "2023-03-04T23:26:09.668Z"
   },
   {
    "duration": 6,
    "start_time": "2023-03-04T23:26:09.686Z"
   },
   {
    "duration": 21,
    "start_time": "2023-03-04T23:26:09.694Z"
   },
   {
    "duration": 4,
    "start_time": "2023-03-04T23:26:09.717Z"
   },
   {
    "duration": 4768,
    "start_time": "2023-03-04T23:26:09.722Z"
   },
   {
    "duration": 5003,
    "start_time": "2023-03-04T23:32:15.406Z"
   },
   {
    "duration": 1518,
    "start_time": "2023-03-04T23:35:09.148Z"
   },
   {
    "duration": 5,
    "start_time": "2023-03-04T23:36:46.234Z"
   },
   {
    "duration": 4691,
    "start_time": "2023-03-04T23:37:14.801Z"
   },
   {
    "duration": 4635,
    "start_time": "2023-03-04T23:38:16.249Z"
   },
   {
    "duration": 5,
    "start_time": "2023-03-04T23:38:29.136Z"
   },
   {
    "duration": 4475,
    "start_time": "2023-03-04T23:40:48.028Z"
   },
   {
    "duration": 5,
    "start_time": "2023-03-04T23:42:42.693Z"
   },
   {
    "duration": 20,
    "start_time": "2023-03-04T23:42:42.700Z"
   },
   {
    "duration": 446,
    "start_time": "2023-03-04T23:42:42.722Z"
   },
   {
    "duration": 11,
    "start_time": "2023-03-04T23:42:43.177Z"
   },
   {
    "duration": 11,
    "start_time": "2023-03-04T23:42:43.190Z"
   },
   {
    "duration": 11,
    "start_time": "2023-03-04T23:42:43.203Z"
   },
   {
    "duration": 366,
    "start_time": "2023-03-04T23:42:43.215Z"
   },
   {
    "duration": 332,
    "start_time": "2023-03-04T23:42:43.584Z"
   },
   {
    "duration": 356,
    "start_time": "2023-03-04T23:42:43.917Z"
   },
   {
    "duration": 41,
    "start_time": "2023-03-04T23:42:44.277Z"
   },
   {
    "duration": 50,
    "start_time": "2023-03-04T23:42:44.320Z"
   },
   {
    "duration": 41,
    "start_time": "2023-03-04T23:42:44.372Z"
   },
   {
    "duration": 64,
    "start_time": "2023-03-04T23:42:44.415Z"
   },
   {
    "duration": 15,
    "start_time": "2023-03-04T23:42:44.481Z"
   },
   {
    "duration": 15,
    "start_time": "2023-03-04T23:42:44.498Z"
   },
   {
    "duration": 37,
    "start_time": "2023-03-04T23:42:44.515Z"
   },
   {
    "duration": 9,
    "start_time": "2023-03-04T23:42:44.560Z"
   },
   {
    "duration": 14,
    "start_time": "2023-03-04T23:42:44.571Z"
   },
   {
    "duration": 383,
    "start_time": "2023-03-04T23:42:44.587Z"
   },
   {
    "duration": 75,
    "start_time": "2023-03-04T23:42:44.975Z"
   },
   {
    "duration": 50,
    "start_time": "2023-03-04T23:42:45.054Z"
   },
   {
    "duration": 58,
    "start_time": "2023-03-04T23:42:45.106Z"
   },
   {
    "duration": 33,
    "start_time": "2023-03-04T23:42:45.168Z"
   },
   {
    "duration": 15,
    "start_time": "2023-03-04T23:42:45.203Z"
   },
   {
    "duration": 15,
    "start_time": "2023-03-04T23:42:45.219Z"
   },
   {
    "duration": 19,
    "start_time": "2023-03-04T23:42:45.236Z"
   },
   {
    "duration": 10,
    "start_time": "2023-03-04T23:42:45.256Z"
   },
   {
    "duration": 31,
    "start_time": "2023-03-04T23:42:45.270Z"
   },
   {
    "duration": 4,
    "start_time": "2023-03-04T23:42:45.303Z"
   },
   {
    "duration": 4832,
    "start_time": "2023-03-04T23:42:45.309Z"
   },
   {
    "duration": 1488,
    "start_time": "2023-03-04T23:43:26.779Z"
   },
   {
    "duration": 6,
    "start_time": "2023-03-04T23:43:28.269Z"
   },
   {
    "duration": 446,
    "start_time": "2023-03-04T23:43:28.276Z"
   },
   {
    "duration": 13,
    "start_time": "2023-03-04T23:43:28.724Z"
   },
   {
    "duration": 30,
    "start_time": "2023-03-04T23:43:28.739Z"
   },
   {
    "duration": 18,
    "start_time": "2023-03-04T23:43:28.777Z"
   },
   {
    "duration": 329,
    "start_time": "2023-03-04T23:43:28.796Z"
   },
   {
    "duration": 359,
    "start_time": "2023-03-04T23:43:29.127Z"
   },
   {
    "duration": 403,
    "start_time": "2023-03-04T23:43:29.488Z"
   },
   {
    "duration": 33,
    "start_time": "2023-03-04T23:43:29.892Z"
   },
   {
    "duration": 64,
    "start_time": "2023-03-04T23:43:29.926Z"
   },
   {
    "duration": 39,
    "start_time": "2023-03-04T23:43:29.993Z"
   },
   {
    "duration": 51,
    "start_time": "2023-03-04T23:43:30.052Z"
   },
   {
    "duration": 14,
    "start_time": "2023-03-04T23:43:30.106Z"
   },
   {
    "duration": 45,
    "start_time": "2023-03-04T23:43:30.122Z"
   },
   {
    "duration": 17,
    "start_time": "2023-03-04T23:43:30.174Z"
   },
   {
    "duration": 5,
    "start_time": "2023-03-04T23:43:30.193Z"
   },
   {
    "duration": 13,
    "start_time": "2023-03-04T23:43:30.199Z"
   },
   {
    "duration": 254,
    "start_time": "2023-03-04T23:43:30.214Z"
   },
   {
    "duration": 14,
    "start_time": "2023-03-04T23:43:30.469Z"
   },
   {
    "duration": 296,
    "start_time": "2023-03-04T23:43:30.486Z"
   },
   {
    "duration": 0,
    "start_time": "2023-03-04T23:43:30.784Z"
   },
   {
    "duration": 0,
    "start_time": "2023-03-04T23:43:30.786Z"
   },
   {
    "duration": 0,
    "start_time": "2023-03-04T23:43:30.787Z"
   },
   {
    "duration": 0,
    "start_time": "2023-03-04T23:43:30.788Z"
   },
   {
    "duration": 0,
    "start_time": "2023-03-04T23:43:30.789Z"
   },
   {
    "duration": 0,
    "start_time": "2023-03-04T23:43:30.790Z"
   },
   {
    "duration": 0,
    "start_time": "2023-03-04T23:43:30.791Z"
   },
   {
    "duration": 0,
    "start_time": "2023-03-04T23:43:30.792Z"
   },
   {
    "duration": 0,
    "start_time": "2023-03-04T23:43:30.793Z"
   },
   {
    "duration": 7,
    "start_time": "2023-03-04T23:44:25.076Z"
   },
   {
    "duration": 13,
    "start_time": "2023-03-04T23:44:30.275Z"
   },
   {
    "duration": 10,
    "start_time": "2023-03-04T23:44:34.868Z"
   },
   {
    "duration": 25,
    "start_time": "2023-03-04T23:44:38.236Z"
   },
   {
    "duration": 23,
    "start_time": "2023-03-04T23:44:40.368Z"
   },
   {
    "duration": 18,
    "start_time": "2023-03-04T23:44:43.416Z"
   },
   {
    "duration": 14,
    "start_time": "2023-03-04T23:44:46.020Z"
   },
   {
    "duration": 3,
    "start_time": "2023-03-04T23:44:52.592Z"
   },
   {
    "duration": 17,
    "start_time": "2023-03-04T23:44:53.912Z"
   },
   {
    "duration": 11,
    "start_time": "2023-03-04T23:44:55.847Z"
   },
   {
    "duration": 4351,
    "start_time": "2023-03-04T23:44:58.677Z"
   },
   {
    "duration": 1348,
    "start_time": "2023-03-05T01:14:38.840Z"
   },
   {
    "duration": 3,
    "start_time": "2023-03-05T01:14:40.190Z"
   },
   {
    "duration": 343,
    "start_time": "2023-03-05T01:14:40.194Z"
   },
   {
    "duration": 13,
    "start_time": "2023-03-05T01:14:40.540Z"
   },
   {
    "duration": 12,
    "start_time": "2023-03-05T01:14:40.554Z"
   },
   {
    "duration": 10,
    "start_time": "2023-03-05T01:14:40.567Z"
   },
   {
    "duration": 297,
    "start_time": "2023-03-05T01:14:40.579Z"
   },
   {
    "duration": 279,
    "start_time": "2023-03-05T01:14:40.877Z"
   },
   {
    "duration": 349,
    "start_time": "2023-03-05T01:14:41.157Z"
   },
   {
    "duration": 40,
    "start_time": "2023-03-05T01:14:41.508Z"
   },
   {
    "duration": 42,
    "start_time": "2023-03-05T01:14:41.549Z"
   },
   {
    "duration": 55,
    "start_time": "2023-03-05T01:14:41.593Z"
   },
   {
    "duration": 41,
    "start_time": "2023-03-05T01:14:41.649Z"
   },
   {
    "duration": 13,
    "start_time": "2023-03-05T01:14:41.691Z"
   },
   {
    "duration": 36,
    "start_time": "2023-03-05T01:14:41.706Z"
   },
   {
    "duration": 13,
    "start_time": "2023-03-05T01:14:41.744Z"
   },
   {
    "duration": 6,
    "start_time": "2023-03-05T01:14:41.758Z"
   },
   {
    "duration": 7,
    "start_time": "2023-03-05T01:14:41.765Z"
   },
   {
    "duration": 367,
    "start_time": "2023-03-05T01:14:41.773Z"
   },
   {
    "duration": 98,
    "start_time": "2023-03-05T01:14:42.142Z"
   },
   {
    "duration": 10,
    "start_time": "2023-03-05T01:14:42.242Z"
   },
   {
    "duration": 4,
    "start_time": "2023-03-05T01:14:42.253Z"
   },
   {
    "duration": 21,
    "start_time": "2023-03-05T01:14:42.258Z"
   },
   {
    "duration": 14,
    "start_time": "2023-03-05T01:14:42.280Z"
   },
   {
    "duration": 14,
    "start_time": "2023-03-05T01:14:42.295Z"
   },
   {
    "duration": 37,
    "start_time": "2023-03-05T01:14:42.310Z"
   },
   {
    "duration": 4,
    "start_time": "2023-03-05T01:14:42.349Z"
   },
   {
    "duration": 15,
    "start_time": "2023-03-05T01:14:42.356Z"
   },
   {
    "duration": 4,
    "start_time": "2023-03-05T01:14:42.373Z"
   },
   {
    "duration": 6619,
    "start_time": "2023-03-05T01:14:42.379Z"
   },
   {
    "duration": 1277,
    "start_time": "2023-03-05T01:15:34.801Z"
   },
   {
    "duration": 3,
    "start_time": "2023-03-05T01:15:36.080Z"
   },
   {
    "duration": 364,
    "start_time": "2023-03-05T01:15:36.085Z"
   },
   {
    "duration": 15,
    "start_time": "2023-03-05T01:15:36.451Z"
   },
   {
    "duration": 13,
    "start_time": "2023-03-05T01:15:36.469Z"
   },
   {
    "duration": 15,
    "start_time": "2023-03-05T01:15:36.483Z"
   },
   {
    "duration": 344,
    "start_time": "2023-03-05T01:15:36.500Z"
   },
   {
    "duration": 331,
    "start_time": "2023-03-05T01:15:36.846Z"
   },
   {
    "duration": 381,
    "start_time": "2023-03-05T01:15:37.178Z"
   },
   {
    "duration": 33,
    "start_time": "2023-03-05T01:15:37.561Z"
   },
   {
    "duration": 62,
    "start_time": "2023-03-05T01:15:37.596Z"
   },
   {
    "duration": 39,
    "start_time": "2023-03-05T01:15:37.660Z"
   },
   {
    "duration": 55,
    "start_time": "2023-03-05T01:15:37.701Z"
   },
   {
    "duration": 14,
    "start_time": "2023-03-05T01:15:37.760Z"
   },
   {
    "duration": 15,
    "start_time": "2023-03-05T01:15:37.776Z"
   },
   {
    "duration": 14,
    "start_time": "2023-03-05T01:15:37.793Z"
   },
   {
    "duration": 35,
    "start_time": "2023-03-05T01:15:37.808Z"
   },
   {
    "duration": 9,
    "start_time": "2023-03-05T01:15:37.844Z"
   },
   {
    "duration": 386,
    "start_time": "2023-03-05T01:15:37.855Z"
   },
   {
    "duration": 98,
    "start_time": "2023-03-05T01:15:38.244Z"
   },
   {
    "duration": 11,
    "start_time": "2023-03-05T01:15:38.343Z"
   },
   {
    "duration": 8,
    "start_time": "2023-03-05T01:15:38.356Z"
   },
   {
    "duration": 23,
    "start_time": "2023-03-05T01:15:38.365Z"
   },
   {
    "duration": 16,
    "start_time": "2023-03-05T01:15:38.389Z"
   },
   {
    "duration": 43,
    "start_time": "2023-03-05T01:15:38.406Z"
   },
   {
    "duration": 13,
    "start_time": "2023-03-05T01:15:38.450Z"
   },
   {
    "duration": 8,
    "start_time": "2023-03-05T01:15:38.465Z"
   },
   {
    "duration": 17,
    "start_time": "2023-03-05T01:15:38.475Z"
   },
   {
    "duration": 3,
    "start_time": "2023-03-05T01:15:38.494Z"
   },
   {
    "duration": 3654,
    "start_time": "2023-03-05T01:15:38.499Z"
   },
   {
    "duration": 1369,
    "start_time": "2023-03-05T01:16:52.631Z"
   },
   {
    "duration": 3,
    "start_time": "2023-03-05T01:16:54.002Z"
   },
   {
    "duration": 344,
    "start_time": "2023-03-05T01:16:54.006Z"
   },
   {
    "duration": 13,
    "start_time": "2023-03-05T01:16:54.352Z"
   },
   {
    "duration": 8,
    "start_time": "2023-03-05T01:16:54.367Z"
   },
   {
    "duration": 9,
    "start_time": "2023-03-05T01:16:54.377Z"
   },
   {
    "duration": 297,
    "start_time": "2023-03-05T01:16:54.387Z"
   },
   {
    "duration": 289,
    "start_time": "2023-03-05T01:16:54.685Z"
   },
   {
    "duration": 377,
    "start_time": "2023-03-05T01:16:54.976Z"
   },
   {
    "duration": 31,
    "start_time": "2023-03-05T01:16:55.355Z"
   },
   {
    "duration": 56,
    "start_time": "2023-03-05T01:16:55.387Z"
   },
   {
    "duration": 37,
    "start_time": "2023-03-05T01:16:55.445Z"
   },
   {
    "duration": 39,
    "start_time": "2023-03-05T01:16:55.483Z"
   },
   {
    "duration": 28,
    "start_time": "2023-03-05T01:16:55.523Z"
   },
   {
    "duration": 14,
    "start_time": "2023-03-05T01:16:55.552Z"
   },
   {
    "duration": 13,
    "start_time": "2023-03-05T01:16:55.567Z"
   },
   {
    "duration": 7,
    "start_time": "2023-03-05T01:16:55.582Z"
   },
   {
    "duration": 5,
    "start_time": "2023-03-05T01:16:55.590Z"
   },
   {
    "duration": 347,
    "start_time": "2023-03-05T01:16:55.596Z"
   },
   {
    "duration": 96,
    "start_time": "2023-03-05T01:16:55.946Z"
   },
   {
    "duration": 104,
    "start_time": "2023-03-05T01:16:56.043Z"
   },
   {
    "duration": 8,
    "start_time": "2023-03-05T01:16:56.148Z"
   },
   {
    "duration": 29,
    "start_time": "2023-03-05T01:16:56.158Z"
   },
   {
    "duration": 15,
    "start_time": "2023-03-05T01:16:56.188Z"
   },
   {
    "duration": 16,
    "start_time": "2023-03-05T01:16:56.205Z"
   },
   {
    "duration": 13,
    "start_time": "2023-03-05T01:16:56.241Z"
   },
   {
    "duration": 4,
    "start_time": "2023-03-05T01:16:56.256Z"
   },
   {
    "duration": 15,
    "start_time": "2023-03-05T01:16:56.262Z"
   },
   {
    "duration": 4,
    "start_time": "2023-03-05T01:16:56.278Z"
   },
   {
    "duration": 5229,
    "start_time": "2023-03-05T01:16:56.284Z"
   },
   {
    "duration": 52,
    "start_time": "2023-03-05T07:42:46.671Z"
   },
   {
    "duration": 1754,
    "start_time": "2023-03-05T07:43:02.314Z"
   },
   {
    "duration": 4,
    "start_time": "2023-03-05T07:43:05.394Z"
   },
   {
    "duration": 891,
    "start_time": "2023-03-05T07:43:06.913Z"
   },
   {
    "duration": 21,
    "start_time": "2023-03-05T07:43:08.832Z"
   },
   {
    "duration": 10,
    "start_time": "2023-03-05T07:43:11.281Z"
   },
   {
    "duration": 9,
    "start_time": "2023-03-05T07:43:12.765Z"
   },
   {
    "duration": 566,
    "start_time": "2023-03-05T07:43:17.028Z"
   },
   {
    "duration": 558,
    "start_time": "2023-03-05T07:43:29.991Z"
   },
   {
    "duration": 619,
    "start_time": "2023-03-05T07:43:53.926Z"
   },
   {
    "duration": 524,
    "start_time": "2023-03-05T07:43:56.889Z"
   },
   {
    "duration": 85,
    "start_time": "2023-03-05T07:44:45.089Z"
   },
   {
    "duration": 41,
    "start_time": "2023-03-05T07:44:55.658Z"
   },
   {
    "duration": 55,
    "start_time": "2023-03-05T07:44:58.366Z"
   },
   {
    "duration": 56,
    "start_time": "2023-03-05T07:44:59.822Z"
   },
   {
    "duration": 51,
    "start_time": "2023-03-05T07:45:02.866Z"
   },
   {
    "duration": 18,
    "start_time": "2023-03-05T07:45:34.221Z"
   },
   {
    "duration": 23,
    "start_time": "2023-03-05T07:45:35.548Z"
   },
   {
    "duration": 23,
    "start_time": "2023-03-05T07:45:36.941Z"
   },
   {
    "duration": 6,
    "start_time": "2023-03-05T07:45:41.076Z"
   },
   {
    "duration": 95,
    "start_time": "2023-03-05T07:49:07.805Z"
   },
   {
    "duration": 401,
    "start_time": "2023-03-05T07:49:54.071Z"
   },
   {
    "duration": 38,
    "start_time": "2023-03-05T07:49:59.239Z"
   },
   {
    "duration": 18,
    "start_time": "2023-03-05T07:50:05.146Z"
   },
   {
    "duration": 16,
    "start_time": "2023-03-05T07:50:06.503Z"
   },
   {
    "duration": 15,
    "start_time": "2023-03-05T07:50:08.171Z"
   },
   {
    "duration": 5,
    "start_time": "2023-03-05T07:50:15.599Z"
   },
   {
    "duration": 372,
    "start_time": "2023-03-05T07:50:33.881Z"
   },
   {
    "duration": 7,
    "start_time": "2023-03-05T07:50:36.014Z"
   },
   {
    "duration": 12,
    "start_time": "2023-03-05T07:50:42.503Z"
   },
   {
    "duration": 11,
    "start_time": "2023-03-05T07:55:09.701Z"
   },
   {
    "duration": 12,
    "start_time": "2023-03-05T07:56:26.613Z"
   },
   {
    "duration": 5,
    "start_time": "2023-03-05T07:56:34.014Z"
   },
   {
    "duration": 5,
    "start_time": "2023-03-05T07:57:08.601Z"
   },
   {
    "duration": 8,
    "start_time": "2023-03-05T07:59:04.457Z"
   },
   {
    "duration": 8,
    "start_time": "2023-03-05T07:59:23.305Z"
   },
   {
    "duration": 112,
    "start_time": "2023-03-05T08:00:33.134Z"
   },
   {
    "duration": 32,
    "start_time": "2023-03-05T08:03:27.434Z"
   },
   {
    "duration": 17,
    "start_time": "2023-03-05T08:03:29.288Z"
   },
   {
    "duration": 18,
    "start_time": "2023-03-05T08:03:32.006Z"
   },
   {
    "duration": 17,
    "start_time": "2023-03-05T08:05:27.273Z"
   },
   {
    "duration": 17,
    "start_time": "2023-03-05T08:06:24.672Z"
   },
   {
    "duration": 15,
    "start_time": "2023-03-05T08:06:24.801Z"
   },
   {
    "duration": 16,
    "start_time": "2023-03-05T08:06:43.517Z"
   },
   {
    "duration": 5,
    "start_time": "2023-03-05T08:08:11.062Z"
   },
   {
    "duration": 22,
    "start_time": "2023-03-05T08:08:31.746Z"
   },
   {
    "duration": 4,
    "start_time": "2023-03-05T08:09:02.965Z"
   },
   {
    "duration": 5,
    "start_time": "2023-03-05T08:09:03.857Z"
   },
   {
    "duration": 17,
    "start_time": "2023-03-05T08:09:06.060Z"
   },
   {
    "duration": 5,
    "start_time": "2023-03-05T08:11:14.582Z"
   },
   {
    "duration": 27,
    "start_time": "2023-03-05T08:11:18.624Z"
   },
   {
    "duration": 5,
    "start_time": "2023-03-05T08:13:23.701Z"
   },
   {
    "duration": 128,
    "start_time": "2023-03-05T08:13:25.941Z"
   },
   {
    "duration": 33,
    "start_time": "2023-03-05T08:13:29.229Z"
   },
   {
    "duration": 5,
    "start_time": "2023-03-05T08:14:30.480Z"
   },
   {
    "duration": 18,
    "start_time": "2023-03-05T08:14:46.024Z"
   },
   {
    "duration": 6,
    "start_time": "2023-03-05T08:15:30.619Z"
   },
   {
    "duration": 24,
    "start_time": "2023-03-05T08:15:33.499Z"
   },
   {
    "duration": 4,
    "start_time": "2023-03-05T08:16:49.035Z"
   },
   {
    "duration": 7042,
    "start_time": "2023-03-05T08:16:50.094Z"
   },
   {
    "duration": 5,
    "start_time": "2023-03-05T08:16:59.925Z"
   },
   {
    "duration": 6,
    "start_time": "2023-03-05T08:17:02.778Z"
   },
   {
    "duration": 7177,
    "start_time": "2023-03-05T08:17:04.261Z"
   },
   {
    "duration": 127,
    "start_time": "2023-03-05T08:17:31.270Z"
   },
   {
    "duration": 86,
    "start_time": "2023-03-05T08:17:40.180Z"
   },
   {
    "duration": 5,
    "start_time": "2023-03-05T08:24:14.619Z"
   },
   {
    "duration": 32,
    "start_time": "2023-03-05T08:24:30.705Z"
   },
   {
    "duration": 4,
    "start_time": "2023-03-05T08:24:34.577Z"
   },
   {
    "duration": 3292,
    "start_time": "2023-03-05T08:24:36.309Z"
   },
   {
    "duration": 8,
    "start_time": "2023-03-05T08:25:21.155Z"
   },
   {
    "duration": 20,
    "start_time": "2023-03-05T08:25:24.194Z"
   },
   {
    "duration": 4,
    "start_time": "2023-03-05T08:25:27.182Z"
   },
   {
    "duration": 4950,
    "start_time": "2023-03-05T08:25:28.882Z"
   },
   {
    "duration": 4,
    "start_time": "2023-03-05T08:25:54.163Z"
   },
   {
    "duration": 27,
    "start_time": "2023-03-05T08:25:56.961Z"
   },
   {
    "duration": 4,
    "start_time": "2023-03-05T08:25:58.381Z"
   },
   {
    "duration": 3432,
    "start_time": "2023-03-05T08:25:59.857Z"
   },
   {
    "duration": 94,
    "start_time": "2023-03-05T08:27:27.709Z"
   },
   {
    "duration": 3323,
    "start_time": "2023-03-05T08:27:34.369Z"
   },
   {
    "duration": 3275,
    "start_time": "2023-03-05T08:27:52.840Z"
   },
   {
    "duration": 5,
    "start_time": "2023-03-05T08:36:33.769Z"
   },
   {
    "duration": 3892,
    "start_time": "2023-03-05T08:36:36.594Z"
   },
   {
    "duration": 8,
    "start_time": "2023-03-05T08:39:47.361Z"
   },
   {
    "duration": 4193,
    "start_time": "2023-03-05T08:39:48.796Z"
   },
   {
    "duration": 6,
    "start_time": "2023-03-05T08:41:00.256Z"
   },
   {
    "duration": 3696,
    "start_time": "2023-03-05T08:41:13.171Z"
   },
   {
    "duration": 11,
    "start_time": "2023-03-05T08:45:29.504Z"
   },
   {
    "duration": 1149,
    "start_time": "2023-03-05T08:45:32.577Z"
   },
   {
    "duration": 6,
    "start_time": "2023-03-05T08:46:10.946Z"
   },
   {
    "duration": 1043,
    "start_time": "2023-03-05T08:46:13.024Z"
   },
   {
    "duration": 6,
    "start_time": "2023-03-05T08:47:18.771Z"
   },
   {
    "duration": 1037,
    "start_time": "2023-03-05T08:47:23.690Z"
   },
   {
    "duration": 7,
    "start_time": "2023-03-05T08:47:54.821Z"
   },
   {
    "duration": 3359,
    "start_time": "2023-03-05T08:47:55.929Z"
   },
   {
    "duration": 3382,
    "start_time": "2023-03-05T08:51:51.937Z"
   },
   {
    "duration": 3325,
    "start_time": "2023-03-05T08:52:05.574Z"
   },
   {
    "duration": 3327,
    "start_time": "2023-03-05T08:53:10.656Z"
   },
   {
    "duration": 3454,
    "start_time": "2023-03-05T08:53:41.813Z"
   },
   {
    "duration": 3374,
    "start_time": "2023-03-05T08:54:21.172Z"
   },
   {
    "duration": 3289,
    "start_time": "2023-03-05T08:55:14.039Z"
   },
   {
    "duration": 1534,
    "start_time": "2023-03-05T08:57:05.815Z"
   },
   {
    "duration": 3,
    "start_time": "2023-03-05T08:57:07.352Z"
   },
   {
    "duration": 426,
    "start_time": "2023-03-05T08:57:07.357Z"
   },
   {
    "duration": 17,
    "start_time": "2023-03-05T08:57:07.786Z"
   },
   {
    "duration": 13,
    "start_time": "2023-03-05T08:57:07.805Z"
   },
   {
    "duration": 30,
    "start_time": "2023-03-05T08:57:07.819Z"
   },
   {
    "duration": 491,
    "start_time": "2023-03-05T08:57:07.851Z"
   },
   {
    "duration": 584,
    "start_time": "2023-03-05T08:57:08.345Z"
   },
   {
    "duration": 476,
    "start_time": "2023-03-05T08:57:08.930Z"
   },
   {
    "duration": 47,
    "start_time": "2023-03-05T08:57:09.409Z"
   },
   {
    "duration": 45,
    "start_time": "2023-03-05T08:57:09.458Z"
   },
   {
    "duration": 62,
    "start_time": "2023-03-05T08:57:09.505Z"
   },
   {
    "duration": 46,
    "start_time": "2023-03-05T08:57:09.569Z"
   },
   {
    "duration": 30,
    "start_time": "2023-03-05T08:57:09.617Z"
   },
   {
    "duration": 15,
    "start_time": "2023-03-05T08:57:09.649Z"
   },
   {
    "duration": 15,
    "start_time": "2023-03-05T08:57:09.666Z"
   },
   {
    "duration": 2,
    "start_time": "2023-03-05T08:57:09.683Z"
   },
   {
    "duration": 5,
    "start_time": "2023-03-05T08:57:09.687Z"
   },
   {
    "duration": 463,
    "start_time": "2023-03-05T08:57:09.694Z"
   },
   {
    "duration": 88,
    "start_time": "2023-03-05T08:57:10.160Z"
   },
   {
    "duration": 111,
    "start_time": "2023-03-05T08:57:10.250Z"
   },
   {
    "duration": 22,
    "start_time": "2023-03-05T08:57:10.363Z"
   },
   {
    "duration": 34,
    "start_time": "2023-03-05T08:57:10.387Z"
   },
   {
    "duration": 21,
    "start_time": "2023-03-05T08:57:10.423Z"
   },
   {
    "duration": 20,
    "start_time": "2023-03-05T08:57:10.446Z"
   },
   {
    "duration": 19,
    "start_time": "2023-03-05T08:57:10.468Z"
   },
   {
    "duration": 5,
    "start_time": "2023-03-05T08:57:10.488Z"
   },
   {
    "duration": 52,
    "start_time": "2023-03-05T08:57:10.497Z"
   },
   {
    "duration": 5,
    "start_time": "2023-03-05T08:57:10.552Z"
   },
   {
    "duration": 3300,
    "start_time": "2023-03-05T08:57:10.559Z"
   },
   {
    "duration": 3346,
    "start_time": "2023-03-05T09:01:48.479Z"
   },
   {
    "duration": 1495,
    "start_time": "2023-03-05T09:05:20.624Z"
   },
   {
    "duration": 3,
    "start_time": "2023-03-05T09:05:22.121Z"
   },
   {
    "duration": 411,
    "start_time": "2023-03-05T09:05:22.125Z"
   },
   {
    "duration": 13,
    "start_time": "2023-03-05T09:05:22.539Z"
   },
   {
    "duration": 18,
    "start_time": "2023-03-05T09:05:22.554Z"
   },
   {
    "duration": 17,
    "start_time": "2023-03-05T09:05:22.574Z"
   },
   {
    "duration": 494,
    "start_time": "2023-03-05T09:05:22.593Z"
   },
   {
    "duration": 586,
    "start_time": "2023-03-05T09:05:23.089Z"
   },
   {
    "duration": 481,
    "start_time": "2023-03-05T09:05:23.676Z"
   },
   {
    "duration": 37,
    "start_time": "2023-03-05T09:05:24.160Z"
   },
   {
    "duration": 64,
    "start_time": "2023-03-05T09:05:24.198Z"
   },
   {
    "duration": 43,
    "start_time": "2023-03-05T09:05:24.264Z"
   },
   {
    "duration": 61,
    "start_time": "2023-03-05T09:05:24.309Z"
   },
   {
    "duration": 19,
    "start_time": "2023-03-05T09:05:24.372Z"
   },
   {
    "duration": 16,
    "start_time": "2023-03-05T09:05:24.392Z"
   },
   {
    "duration": 42,
    "start_time": "2023-03-05T09:05:24.410Z"
   },
   {
    "duration": 3,
    "start_time": "2023-03-05T09:05:24.454Z"
   },
   {
    "duration": 6,
    "start_time": "2023-03-05T09:05:24.459Z"
   },
   {
    "duration": 389,
    "start_time": "2023-03-05T09:05:24.467Z"
   },
   {
    "duration": 89,
    "start_time": "2023-03-05T09:05:24.859Z"
   },
   {
    "duration": 111,
    "start_time": "2023-03-05T09:05:24.950Z"
   },
   {
    "duration": 38,
    "start_time": "2023-03-05T09:05:25.063Z"
   },
   {
    "duration": 66,
    "start_time": "2023-03-05T09:05:25.102Z"
   },
   {
    "duration": 36,
    "start_time": "2023-03-05T09:05:25.170Z"
   },
   {
    "duration": 19,
    "start_time": "2023-03-05T09:05:25.207Z"
   },
   {
    "duration": 16,
    "start_time": "2023-03-05T09:05:25.228Z"
   },
   {
    "duration": 9,
    "start_time": "2023-03-05T09:05:25.246Z"
   },
   {
    "duration": 39,
    "start_time": "2023-03-05T09:05:25.258Z"
   },
   {
    "duration": 27,
    "start_time": "2023-03-05T09:05:25.298Z"
   },
   {
    "duration": 3288,
    "start_time": "2023-03-05T09:05:25.327Z"
   },
   {
    "duration": 816,
    "start_time": "2023-03-05T09:05:50.107Z"
   },
   {
    "duration": 730,
    "start_time": "2023-03-05T09:06:00.323Z"
   },
   {
    "duration": 629,
    "start_time": "2023-03-05T09:06:11.903Z"
   },
   {
    "duration": 547,
    "start_time": "2023-03-05T09:06:18.333Z"
   },
   {
    "duration": 3402,
    "start_time": "2023-03-05T09:10:07.122Z"
   },
   {
    "duration": 1677,
    "start_time": "2023-03-06T08:56:10.670Z"
   },
   {
    "duration": 3,
    "start_time": "2023-03-06T08:56:12.349Z"
   },
   {
    "duration": 1628,
    "start_time": "2023-03-06T08:56:12.354Z"
   },
   {
    "duration": 13,
    "start_time": "2023-03-06T08:56:13.984Z"
   },
   {
    "duration": 11,
    "start_time": "2023-03-06T08:56:13.999Z"
   },
   {
    "duration": 22,
    "start_time": "2023-03-06T08:56:14.012Z"
   },
   {
    "duration": 600,
    "start_time": "2023-03-06T08:56:14.036Z"
   },
   {
    "duration": 674,
    "start_time": "2023-03-06T08:56:14.638Z"
   },
   {
    "duration": 585,
    "start_time": "2023-03-06T08:56:15.314Z"
   },
   {
    "duration": 53,
    "start_time": "2023-03-06T08:56:15.901Z"
   },
   {
    "duration": 47,
    "start_time": "2023-03-06T08:56:15.955Z"
   },
   {
    "duration": 63,
    "start_time": "2023-03-06T08:56:16.004Z"
   },
   {
    "duration": 64,
    "start_time": "2023-03-06T08:56:16.069Z"
   },
   {
    "duration": 18,
    "start_time": "2023-03-06T08:56:16.136Z"
   },
   {
    "duration": 14,
    "start_time": "2023-03-06T08:56:16.156Z"
   },
   {
    "duration": 15,
    "start_time": "2023-03-06T08:56:16.172Z"
   },
   {
    "duration": 2,
    "start_time": "2023-03-06T08:56:16.189Z"
   },
   {
    "duration": 6,
    "start_time": "2023-03-06T08:56:16.223Z"
   },
   {
    "duration": 399,
    "start_time": "2023-03-06T08:56:16.231Z"
   },
   {
    "duration": 93,
    "start_time": "2023-03-06T08:56:16.632Z"
   },
   {
    "duration": 99,
    "start_time": "2023-03-06T08:56:16.728Z"
   },
   {
    "duration": 13,
    "start_time": "2023-03-06T08:56:16.828Z"
   },
   {
    "duration": 19,
    "start_time": "2023-03-06T08:56:16.842Z"
   },
   {
    "duration": 15,
    "start_time": "2023-03-06T08:56:16.863Z"
   },
   {
    "duration": 51,
    "start_time": "2023-03-06T08:56:16.879Z"
   },
   {
    "duration": 15,
    "start_time": "2023-03-06T08:56:16.933Z"
   },
   {
    "duration": 4,
    "start_time": "2023-03-06T08:56:16.950Z"
   },
   {
    "duration": 26,
    "start_time": "2023-03-06T08:56:16.956Z"
   },
   {
    "duration": 5,
    "start_time": "2023-03-06T08:56:16.984Z"
   },
   {
    "duration": 4247,
    "start_time": "2023-03-06T08:56:16.990Z"
   },
   {
    "duration": 8,
    "start_time": "2023-03-06T08:58:50.671Z"
   },
   {
    "duration": 11,
    "start_time": "2023-03-06T08:59:19.808Z"
   },
   {
    "duration": 49,
    "start_time": "2023-03-06T10:07:40.943Z"
   },
   {
    "duration": 1562,
    "start_time": "2023-03-06T10:08:09.698Z"
   },
   {
    "duration": 13,
    "start_time": "2023-03-06T10:08:19.328Z"
   }
  ],
  "kernelspec": {
   "display_name": "Python 3 (ipykernel)",
   "language": "python",
   "name": "python3"
  },
  "language_info": {
   "codemirror_mode": {
    "name": "ipython",
    "version": 3
   },
   "file_extension": ".py",
   "mimetype": "text/x-python",
   "name": "python",
   "nbconvert_exporter": "python",
   "pygments_lexer": "ipython3",
   "version": "3.9.5"
  },
  "toc": {
   "base_numbering": 1,
   "nav_menu": {},
   "number_sections": true,
   "sideBar": true,
   "skip_h1_title": true,
   "title_cell": "Table of Contents",
   "title_sidebar": "Contents",
   "toc_cell": false,
   "toc_position": {
    "height": "calc(100% - 180px)",
    "left": "10px",
    "top": "150px",
    "width": "270.195px"
   },
   "toc_section_display": true,
   "toc_window_display": true
  }
 },
 "nbformat": 4,
 "nbformat_minor": 2
}
