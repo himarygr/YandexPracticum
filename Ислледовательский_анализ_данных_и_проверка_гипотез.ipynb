{
 "cells": [
  {
   "attachments": {},
   "cell_type": "markdown",
   "metadata": {},
   "source": [
    "# Сборный проект №1"
   ]
  },
  {
   "attachments": {},
   "cell_type": "markdown",
   "metadata": {},
   "source": [
    "**Описание проекта**\n",
    "\n",
    "Вы работаете в интернет-магазине «Стримчик», который продаёт по всему миру компьютерные игры. Из открытых источников доступны исторические данные о продажах игр, оценки пользователей и экспертов, жанры и платформы (например, Xbox или PlayStation). Вам нужно выявить определяющие успешность игры закономерности. Это позволит сделать ставку на потенциально популярный продукт и спланировать рекламные кампании.\n",
    "\n",
    "Перед вами данные до 2016 года. Представим, что сейчас декабрь 2016 г., и вы планируете кампанию на 2017-й. Нужно отработать принцип работы с данными. Неважно, прогнозируете ли вы продажи на 2017 год по данным 2016-го или же 2027-й — по данным 2026 года.\n",
    "\n",
    "В наборе данных попадается аббревиатура ESRB (Entertainment Software Rating Board) — это ассоциация, определяющая возрастной рейтинг компьютерных игр. ESRB оценивает игровой контент и присваивает ему подходящую возрастную категорию, например, «Для взрослых», «Для детей младшего возраста» или «Для подростков».\n"
   ]
  },
  {
   "attachments": {},
   "cell_type": "markdown",
   "metadata": {},
   "source": [
    "**Цели проекта:**\n",
    "* Провести исследовательский анализ данных\n",
    "* Составить портрет пользователя каждого региона\n",
    "* Проверить ряд гипотез\n",
    "* Написать общий вывод"
   ]
  },
  {
   "attachments": {},
   "cell_type": "markdown",
   "metadata": {},
   "source": [
    "<div class=\"alert alert-success\">\n",
    "<b>Комментарий ревьюера: ✅</b>\n",
    "\n",
    "Здорово, когда есть вступление в сам проект, каждый сможет быстрее разобраться в концепции / деталях работы. Можно также привести краткий план проведения самой работы и описание используемых столбцов. \n",
    "\n",
    "</div>"
   ]
  },
  {
   "attachments": {},
   "cell_type": "markdown",
   "metadata": {},
   "source": [
    "##  Знакомство с данными"
   ]
  },
  {
   "cell_type": "code",
   "execution_count": 2,
   "metadata": {},
   "outputs": [],
   "source": [
    "#Импорт библиотек\n",
    "import pandas as pd\n",
    "import matplotlib.pyplot as plt \n",
    "from matplotlib import rcParams\n",
    "import seaborn as sns\n",
    "import numpy as np\n",
    "import warnings\n",
    "from scipy import stats\n",
    "\n",
    "warnings.simplefilter(action='ignore', category=FutureWarning)"
   ]
  },
  {
   "cell_type": "code",
   "execution_count": 3,
   "metadata": {},
   "outputs": [],
   "source": [
    "plt.style.use(\"ggplot\")\n",
    "rcParams['figure.figsize'] = (6,  3)"
   ]
  },
  {
   "cell_type": "code",
   "execution_count": 4,
   "metadata": {},
   "outputs": [],
   "source": [
    "try:\n",
    "    data = pd.read_csv('/datasets/games.csv', sep = ',')\n",
    "except:\n",
    "    data = pd.read_csv('https://code.s3.yandex.net/datasets/games.csv')"
   ]
  },
  {
   "cell_type": "code",
   "execution_count": 5,
   "metadata": {},
   "outputs": [
    {
     "data": {
      "text/html": [
       "<div>\n",
       "<style scoped>\n",
       "    .dataframe tbody tr th:only-of-type {\n",
       "        vertical-align: middle;\n",
       "    }\n",
       "\n",
       "    .dataframe tbody tr th {\n",
       "        vertical-align: top;\n",
       "    }\n",
       "\n",
       "    .dataframe thead th {\n",
       "        text-align: right;\n",
       "    }\n",
       "</style>\n",
       "<table border=\"1\" class=\"dataframe\">\n",
       "  <thead>\n",
       "    <tr style=\"text-align: right;\">\n",
       "      <th></th>\n",
       "      <th>Name</th>\n",
       "      <th>Platform</th>\n",
       "      <th>Year_of_Release</th>\n",
       "      <th>Genre</th>\n",
       "      <th>NA_sales</th>\n",
       "      <th>EU_sales</th>\n",
       "      <th>JP_sales</th>\n",
       "      <th>Other_sales</th>\n",
       "      <th>Critic_Score</th>\n",
       "      <th>User_Score</th>\n",
       "      <th>Rating</th>\n",
       "    </tr>\n",
       "  </thead>\n",
       "  <tbody>\n",
       "    <tr>\n",
       "      <th>0</th>\n",
       "      <td>Wii Sports</td>\n",
       "      <td>Wii</td>\n",
       "      <td>2006.0</td>\n",
       "      <td>Sports</td>\n",
       "      <td>41.36</td>\n",
       "      <td>28.96</td>\n",
       "      <td>3.77</td>\n",
       "      <td>8.45</td>\n",
       "      <td>76.0</td>\n",
       "      <td>8</td>\n",
       "      <td>E</td>\n",
       "    </tr>\n",
       "    <tr>\n",
       "      <th>1</th>\n",
       "      <td>Super Mario Bros.</td>\n",
       "      <td>NES</td>\n",
       "      <td>1985.0</td>\n",
       "      <td>Platform</td>\n",
       "      <td>29.08</td>\n",
       "      <td>3.58</td>\n",
       "      <td>6.81</td>\n",
       "      <td>0.77</td>\n",
       "      <td>NaN</td>\n",
       "      <td>NaN</td>\n",
       "      <td>NaN</td>\n",
       "    </tr>\n",
       "    <tr>\n",
       "      <th>2</th>\n",
       "      <td>Mario Kart Wii</td>\n",
       "      <td>Wii</td>\n",
       "      <td>2008.0</td>\n",
       "      <td>Racing</td>\n",
       "      <td>15.68</td>\n",
       "      <td>12.76</td>\n",
       "      <td>3.79</td>\n",
       "      <td>3.29</td>\n",
       "      <td>82.0</td>\n",
       "      <td>8.3</td>\n",
       "      <td>E</td>\n",
       "    </tr>\n",
       "    <tr>\n",
       "      <th>3</th>\n",
       "      <td>Wii Sports Resort</td>\n",
       "      <td>Wii</td>\n",
       "      <td>2009.0</td>\n",
       "      <td>Sports</td>\n",
       "      <td>15.61</td>\n",
       "      <td>10.93</td>\n",
       "      <td>3.28</td>\n",
       "      <td>2.95</td>\n",
       "      <td>80.0</td>\n",
       "      <td>8</td>\n",
       "      <td>E</td>\n",
       "    </tr>\n",
       "    <tr>\n",
       "      <th>4</th>\n",
       "      <td>Pokemon Red/Pokemon Blue</td>\n",
       "      <td>GB</td>\n",
       "      <td>1996.0</td>\n",
       "      <td>Role-Playing</td>\n",
       "      <td>11.27</td>\n",
       "      <td>8.89</td>\n",
       "      <td>10.22</td>\n",
       "      <td>1.00</td>\n",
       "      <td>NaN</td>\n",
       "      <td>NaN</td>\n",
       "      <td>NaN</td>\n",
       "    </tr>\n",
       "    <tr>\n",
       "      <th>5</th>\n",
       "      <td>Tetris</td>\n",
       "      <td>GB</td>\n",
       "      <td>1989.0</td>\n",
       "      <td>Puzzle</td>\n",
       "      <td>23.20</td>\n",
       "      <td>2.26</td>\n",
       "      <td>4.22</td>\n",
       "      <td>0.58</td>\n",
       "      <td>NaN</td>\n",
       "      <td>NaN</td>\n",
       "      <td>NaN</td>\n",
       "    </tr>\n",
       "    <tr>\n",
       "      <th>6</th>\n",
       "      <td>New Super Mario Bros.</td>\n",
       "      <td>DS</td>\n",
       "      <td>2006.0</td>\n",
       "      <td>Platform</td>\n",
       "      <td>11.28</td>\n",
       "      <td>9.14</td>\n",
       "      <td>6.50</td>\n",
       "      <td>2.88</td>\n",
       "      <td>89.0</td>\n",
       "      <td>8.5</td>\n",
       "      <td>E</td>\n",
       "    </tr>\n",
       "    <tr>\n",
       "      <th>7</th>\n",
       "      <td>Wii Play</td>\n",
       "      <td>Wii</td>\n",
       "      <td>2006.0</td>\n",
       "      <td>Misc</td>\n",
       "      <td>13.96</td>\n",
       "      <td>9.18</td>\n",
       "      <td>2.93</td>\n",
       "      <td>2.84</td>\n",
       "      <td>58.0</td>\n",
       "      <td>6.6</td>\n",
       "      <td>E</td>\n",
       "    </tr>\n",
       "    <tr>\n",
       "      <th>8</th>\n",
       "      <td>New Super Mario Bros. Wii</td>\n",
       "      <td>Wii</td>\n",
       "      <td>2009.0</td>\n",
       "      <td>Platform</td>\n",
       "      <td>14.44</td>\n",
       "      <td>6.94</td>\n",
       "      <td>4.70</td>\n",
       "      <td>2.24</td>\n",
       "      <td>87.0</td>\n",
       "      <td>8.4</td>\n",
       "      <td>E</td>\n",
       "    </tr>\n",
       "    <tr>\n",
       "      <th>9</th>\n",
       "      <td>Duck Hunt</td>\n",
       "      <td>NES</td>\n",
       "      <td>1984.0</td>\n",
       "      <td>Shooter</td>\n",
       "      <td>26.93</td>\n",
       "      <td>0.63</td>\n",
       "      <td>0.28</td>\n",
       "      <td>0.47</td>\n",
       "      <td>NaN</td>\n",
       "      <td>NaN</td>\n",
       "      <td>NaN</td>\n",
       "    </tr>\n",
       "  </tbody>\n",
       "</table>\n",
       "</div>"
      ],
      "text/plain": [
       "                        Name Platform  Year_of_Release         Genre  \\\n",
       "0                 Wii Sports      Wii           2006.0        Sports   \n",
       "1          Super Mario Bros.      NES           1985.0      Platform   \n",
       "2             Mario Kart Wii      Wii           2008.0        Racing   \n",
       "3          Wii Sports Resort      Wii           2009.0        Sports   \n",
       "4   Pokemon Red/Pokemon Blue       GB           1996.0  Role-Playing   \n",
       "5                     Tetris       GB           1989.0        Puzzle   \n",
       "6      New Super Mario Bros.       DS           2006.0      Platform   \n",
       "7                   Wii Play      Wii           2006.0          Misc   \n",
       "8  New Super Mario Bros. Wii      Wii           2009.0      Platform   \n",
       "9                  Duck Hunt      NES           1984.0       Shooter   \n",
       "\n",
       "   NA_sales  EU_sales  JP_sales  Other_sales  Critic_Score User_Score Rating  \n",
       "0     41.36     28.96      3.77         8.45          76.0          8      E  \n",
       "1     29.08      3.58      6.81         0.77           NaN        NaN    NaN  \n",
       "2     15.68     12.76      3.79         3.29          82.0        8.3      E  \n",
       "3     15.61     10.93      3.28         2.95          80.0          8      E  \n",
       "4     11.27      8.89     10.22         1.00           NaN        NaN    NaN  \n",
       "5     23.20      2.26      4.22         0.58           NaN        NaN    NaN  \n",
       "6     11.28      9.14      6.50         2.88          89.0        8.5      E  \n",
       "7     13.96      9.18      2.93         2.84          58.0        6.6      E  \n",
       "8     14.44      6.94      4.70         2.24          87.0        8.4      E  \n",
       "9     26.93      0.63      0.28         0.47           NaN        NaN    NaN  "
      ]
     },
     "execution_count": 5,
     "metadata": {},
     "output_type": "execute_result"
    }
   ],
   "source": [
    "data.head(10)"
   ]
  },
  {
   "cell_type": "code",
   "execution_count": 6,
   "metadata": {},
   "outputs": [
    {
     "data": {
      "image/png": "[encoded data removed]",
      "text/plain": [
       "<Figure size 720x1080 with 6 Axes>"
      ]
     },
     "metadata": {},
     "output_type": "display_data"
    }
   ],
   "source": [
    "data.hist(figsize=(10, 15))\n",
    "plt.show()"
   ]
  },
  {
   "cell_type": "code",
   "execution_count": 7,
   "metadata": {},
   "outputs": [
    {
     "name": "stdout",
     "output_type": "stream",
     "text": [
      "<class 'pandas.core.frame.DataFrame'>\n",
      "RangeIndex: 16715 entries, 0 to 16714\n",
      "Data columns (total 11 columns):\n",
      " #   Column           Non-Null Count  Dtype  \n",
      "---  ------           --------------  -----  \n",
      " 0   Name             16713 non-null  object \n",
      " 1   Platform         16715 non-null  object \n",
      " 2   Year_of_Release  16446 non-null  float64\n",
      " 3   Genre            16713 non-null  object \n",
      " 4   NA_sales         16715 non-null  float64\n",
      " 5   EU_sales         16715 non-null  float64\n",
      " 6   JP_sales         16715 non-null  float64\n",
      " 7   Other_sales      16715 non-null  float64\n",
      " 8   Critic_Score     8137 non-null   float64\n",
      " 9   User_Score       10014 non-null  object \n",
      " 10  Rating           9949 non-null   object \n",
      "dtypes: float64(6), object(5)\n",
      "memory usage: 1.4+ MB\n"
     ]
    }
   ],
   "source": [
    "data.info()"
   ]
  },
  {
   "attachments": {},
   "cell_type": "markdown",
   "metadata": {},
   "source": [
    "Наблюдаем пропуски в столбцах \"Name\", \"Year_of_Release\", \"Genre\", \"Critic_Score\", \"User_Score\" и \"Rating\", с ними мы будем работать далее"
   ]
  },
  {
   "attachments": {},
   "cell_type": "markdown",
   "metadata": {},
   "source": [
    "## Предобработка данных"
   ]
  },
  {
   "attachments": {},
   "cell_type": "markdown",
   "metadata": {},
   "source": [
    "### Замена названий столбцов"
   ]
  },
  {
   "cell_type": "code",
   "execution_count": 8,
   "metadata": {},
   "outputs": [],
   "source": [
    "#Приведем названия столбцов к нижнему регистру\n",
    "data.columns = data.columns.str.lower()"
   ]
  },
  {
   "cell_type": "code",
   "execution_count": 9,
   "metadata": {},
   "outputs": [
    {
     "data": {
      "text/html": [
       "<div>\n",
       "<style scoped>\n",
       "    .dataframe tbody tr th:only-of-type {\n",
       "        vertical-align: middle;\n",
       "    }\n",
       "\n",
       "    .dataframe tbody tr th {\n",
       "        vertical-align: top;\n",
       "    }\n",
       "\n",
       "    .dataframe thead th {\n",
       "        text-align: right;\n",
       "    }\n",
       "</style>\n",
       "<table border=\"1\" class=\"dataframe\">\n",
       "  <thead>\n",
       "    <tr style=\"text-align: right;\">\n",
       "      <th></th>\n",
       "      <th>name</th>\n",
       "      <th>platform</th>\n",
       "      <th>year_of_release</th>\n",
       "      <th>genre</th>\n",
       "      <th>na_sales</th>\n",
       "      <th>eu_sales</th>\n",
       "      <th>jp_sales</th>\n",
       "      <th>other_sales</th>\n",
       "      <th>critic_score</th>\n",
       "      <th>user_score</th>\n",
       "      <th>rating</th>\n",
       "    </tr>\n",
       "  </thead>\n",
       "  <tbody>\n",
       "    <tr>\n",
       "      <th>0</th>\n",
       "      <td>Wii Sports</td>\n",
       "      <td>Wii</td>\n",
       "      <td>2006.0</td>\n",
       "      <td>Sports</td>\n",
       "      <td>41.36</td>\n",
       "      <td>28.96</td>\n",
       "      <td>3.77</td>\n",
       "      <td>8.45</td>\n",
       "      <td>76.0</td>\n",
       "      <td>8</td>\n",
       "      <td>E</td>\n",
       "    </tr>\n",
       "    <tr>\n",
       "      <th>1</th>\n",
       "      <td>Super Mario Bros.</td>\n",
       "      <td>NES</td>\n",
       "      <td>1985.0</td>\n",
       "      <td>Platform</td>\n",
       "      <td>29.08</td>\n",
       "      <td>3.58</td>\n",
       "      <td>6.81</td>\n",
       "      <td>0.77</td>\n",
       "      <td>NaN</td>\n",
       "      <td>NaN</td>\n",
       "      <td>NaN</td>\n",
       "    </tr>\n",
       "    <tr>\n",
       "      <th>2</th>\n",
       "      <td>Mario Kart Wii</td>\n",
       "      <td>Wii</td>\n",
       "      <td>2008.0</td>\n",
       "      <td>Racing</td>\n",
       "      <td>15.68</td>\n",
       "      <td>12.76</td>\n",
       "      <td>3.79</td>\n",
       "      <td>3.29</td>\n",
       "      <td>82.0</td>\n",
       "      <td>8.3</td>\n",
       "      <td>E</td>\n",
       "    </tr>\n",
       "    <tr>\n",
       "      <th>3</th>\n",
       "      <td>Wii Sports Resort</td>\n",
       "      <td>Wii</td>\n",
       "      <td>2009.0</td>\n",
       "      <td>Sports</td>\n",
       "      <td>15.61</td>\n",
       "      <td>10.93</td>\n",
       "      <td>3.28</td>\n",
       "      <td>2.95</td>\n",
       "      <td>80.0</td>\n",
       "      <td>8</td>\n",
       "      <td>E</td>\n",
       "    </tr>\n",
       "    <tr>\n",
       "      <th>4</th>\n",
       "      <td>Pokemon Red/Pokemon Blue</td>\n",
       "      <td>GB</td>\n",
       "      <td>1996.0</td>\n",
       "      <td>Role-Playing</td>\n",
       "      <td>11.27</td>\n",
       "      <td>8.89</td>\n",
       "      <td>10.22</td>\n",
       "      <td>1.00</td>\n",
       "      <td>NaN</td>\n",
       "      <td>NaN</td>\n",
       "      <td>NaN</td>\n",
       "    </tr>\n",
       "    <tr>\n",
       "      <th>5</th>\n",
       "      <td>Tetris</td>\n",
       "      <td>GB</td>\n",
       "      <td>1989.0</td>\n",
       "      <td>Puzzle</td>\n",
       "      <td>23.20</td>\n",
       "      <td>2.26</td>\n",
       "      <td>4.22</td>\n",
       "      <td>0.58</td>\n",
       "      <td>NaN</td>\n",
       "      <td>NaN</td>\n",
       "      <td>NaN</td>\n",
       "    </tr>\n",
       "    <tr>\n",
       "      <th>6</th>\n",
       "      <td>New Super Mario Bros.</td>\n",
       "      <td>DS</td>\n",
       "      <td>2006.0</td>\n",
       "      <td>Platform</td>\n",
       "      <td>11.28</td>\n",
       "      <td>9.14</td>\n",
       "      <td>6.50</td>\n",
       "      <td>2.88</td>\n",
       "      <td>89.0</td>\n",
       "      <td>8.5</td>\n",
       "      <td>E</td>\n",
       "    </tr>\n",
       "    <tr>\n",
       "      <th>7</th>\n",
       "      <td>Wii Play</td>\n",
       "      <td>Wii</td>\n",
       "      <td>2006.0</td>\n",
       "      <td>Misc</td>\n",
       "      <td>13.96</td>\n",
       "      <td>9.18</td>\n",
       "      <td>2.93</td>\n",
       "      <td>2.84</td>\n",
       "      <td>58.0</td>\n",
       "      <td>6.6</td>\n",
       "      <td>E</td>\n",
       "    </tr>\n",
       "    <tr>\n",
       "      <th>8</th>\n",
       "      <td>New Super Mario Bros. Wii</td>\n",
       "      <td>Wii</td>\n",
       "      <td>2009.0</td>\n",
       "      <td>Platform</td>\n",
       "      <td>14.44</td>\n",
       "      <td>6.94</td>\n",
       "      <td>4.70</td>\n",
       "      <td>2.24</td>\n",
       "      <td>87.0</td>\n",
       "      <td>8.4</td>\n",
       "      <td>E</td>\n",
       "    </tr>\n",
       "    <tr>\n",
       "      <th>9</th>\n",
       "      <td>Duck Hunt</td>\n",
       "      <td>NES</td>\n",
       "      <td>1984.0</td>\n",
       "      <td>Shooter</td>\n",
       "      <td>26.93</td>\n",
       "      <td>0.63</td>\n",
       "      <td>0.28</td>\n",
       "      <td>0.47</td>\n",
       "      <td>NaN</td>\n",
       "      <td>NaN</td>\n",
       "      <td>NaN</td>\n",
       "    </tr>\n",
       "  </tbody>\n",
       "</table>\n",
       "</div>"
      ],
      "text/plain": [
       "                        name platform  year_of_release         genre  \\\n",
       "0                 Wii Sports      Wii           2006.0        Sports   \n",
       "1          Super Mario Bros.      NES           1985.0      Platform   \n",
       "2             Mario Kart Wii      Wii           2008.0        Racing   \n",
       "3          Wii Sports Resort      Wii           2009.0        Sports   \n",
       "4   Pokemon Red/Pokemon Blue       GB           1996.0  Role-Playing   \n",
       "5                     Tetris       GB           1989.0        Puzzle   \n",
       "6      New Super Mario Bros.       DS           2006.0      Platform   \n",
       "7                   Wii Play      Wii           2006.0          Misc   \n",
       "8  New Super Mario Bros. Wii      Wii           2009.0      Platform   \n",
       "9                  Duck Hunt      NES           1984.0       Shooter   \n",
       "\n",
       "   na_sales  eu_sales  jp_sales  other_sales  critic_score user_score rating  \n",
       "0     41.36     28.96      3.77         8.45          76.0          8      E  \n",
       "1     29.08      3.58      6.81         0.77           NaN        NaN    NaN  \n",
       "2     15.68     12.76      3.79         3.29          82.0        8.3      E  \n",
       "3     15.61     10.93      3.28         2.95          80.0          8      E  \n",
       "4     11.27      8.89     10.22         1.00           NaN        NaN    NaN  \n",
       "5     23.20      2.26      4.22         0.58           NaN        NaN    NaN  \n",
       "6     11.28      9.14      6.50         2.88          89.0        8.5      E  \n",
       "7     13.96      9.18      2.93         2.84          58.0        6.6      E  \n",
       "8     14.44      6.94      4.70         2.24          87.0        8.4      E  \n",
       "9     26.93      0.63      0.28         0.47           NaN        NaN    NaN  "
      ]
     },
     "execution_count": 9,
     "metadata": {},
     "output_type": "execute_result"
    }
   ],
   "source": [
    "data.head(10)"
   ]
  },
  {
   "attachments": {},
   "cell_type": "markdown",
   "metadata": {},
   "source": [
    "### Преобразование данных"
   ]
  },
  {
   "attachments": {},
   "cell_type": "markdown",
   "metadata": {},
   "source": [
    "Видно, что столбец user_score имеет тип object, хотя является числом с плавающем токой, меняем тип на float."
   ]
  },
  {
   "cell_type": "code",
   "execution_count": 10,
   "metadata": {},
   "outputs": [],
   "source": [
    "#data['user_score'] = data['user_score'].astype(float)"
   ]
  },
  {
   "attachments": {},
   "cell_type": "markdown",
   "metadata": {},
   "source": [
    "При попытке изменить тип данных вышеуказанным образом выдает ошибку о невозможно конвертировать строку в число с плавающей точкой. Попробуем изучить внимательнее этот столбец"
   ]
  },
  {
   "cell_type": "code",
   "execution_count": 11,
   "metadata": {},
   "outputs": [
    {
     "data": {
      "text/plain": [
       "array(['8', nan, '8.3', '8.5', '6.6', '8.4', '8.6', '7.7', '6.3', '7.4',\n",
       "       '8.2', '9', '7.9', '8.1', '8.7', '7.1', '3.4', '5.3', '4.8', '3.2',\n",
       "       '8.9', '6.4', '7.8', '7.5', '2.6', '7.2', '9.2', '7', '7.3', '4.3',\n",
       "       '7.6', '5.7', '5', '9.1', '6.5', 'tbd', '8.8', '6.9', '9.4', '6.8',\n",
       "       '6.1', '6.7', '5.4', '4', '4.9', '4.5', '9.3', '6.2', '4.2', '6',\n",
       "       '3.7', '4.1', '5.8', '5.6', '5.5', '4.4', '4.6', '5.9', '3.9',\n",
       "       '3.1', '2.9', '5.2', '3.3', '4.7', '5.1', '3.5', '2.5', '1.9', '3',\n",
       "       '2.7', '2.2', '2', '9.5', '2.1', '3.6', '2.8', '1.8', '3.8', '0',\n",
       "       '1.6', '9.6', '2.4', '1.7', '1.1', '0.3', '1.5', '0.7', '1.2',\n",
       "       '2.3', '0.5', '1.3', '0.2', '0.6', '1.4', '0.9', '1', '9.7'],\n",
       "      dtype=object)"
      ]
     },
     "execution_count": 11,
     "metadata": {},
     "output_type": "execute_result"
    }
   ],
   "source": [
    "data['user_score'].unique()"
   ]
  },
  {
   "attachments": {},
   "cell_type": "markdown",
   "metadata": {},
   "source": [
    "Кроме чисел и NaN видим строку \"tbd\""
   ]
  },
  {
   "attachments": {},
   "cell_type": "markdown",
   "metadata": {},
   "source": [
    "В кембриджском словаре нахожу такое определение аббревиатуры tbd:\n",
    "    \n",
    "*written abbreviation for to be decided or to be determined: used when something has not yet been decided or is not yet known:*\n",
    "\n",
    "Иными словами:\n",
    "\n",
    "*письменная аббревиатура для обозначения to be decided или to be determined: используется, когда что-то еще не решено или еще не известно:*\n",
    "\n",
    "Делаю вывод о том, что данная аббревиатура тождественна по смыслу NaN, заменяю tbd на NaN"
   ]
  },
  {
   "cell_type": "code",
   "execution_count": 12,
   "metadata": {},
   "outputs": [],
   "source": [
    "#Заменяю tbd на NaN\n",
    "data['user_score'] = data['user_score'].replace('tbd', np.NaN)\n",
    "#Привожу к типу float\n",
    "data['user_score'] = data['user_score'].astype('float')"
   ]
  },
  {
   "cell_type": "code",
   "execution_count": 13,
   "metadata": {},
   "outputs": [
    {
     "data": {
      "text/plain": [
       "array([8. , nan, 8.3, 8.5, 6.6, 8.4, 8.6, 7.7, 6.3, 7.4, 8.2, 9. , 7.9,\n",
       "       8.1, 8.7, 7.1, 3.4, 5.3, 4.8, 3.2, 8.9, 6.4, 7.8, 7.5, 2.6, 7.2,\n",
       "       9.2, 7. , 7.3, 4.3, 7.6, 5.7, 5. , 9.1, 6.5, 8.8, 6.9, 9.4, 6.8,\n",
       "       6.1, 6.7, 5.4, 4. , 4.9, 4.5, 9.3, 6.2, 4.2, 6. , 3.7, 4.1, 5.8,\n",
       "       5.6, 5.5, 4.4, 4.6, 5.9, 3.9, 3.1, 2.9, 5.2, 3.3, 4.7, 5.1, 3.5,\n",
       "       2.5, 1.9, 3. , 2.7, 2.2, 2. , 9.5, 2.1, 3.6, 2.8, 1.8, 3.8, 0. ,\n",
       "       1.6, 9.6, 2.4, 1.7, 1.1, 0.3, 1.5, 0.7, 1.2, 2.3, 0.5, 1.3, 0.2,\n",
       "       0.6, 1.4, 0.9, 1. , 9.7])"
      ]
     },
     "execution_count": 13,
     "metadata": {},
     "output_type": "execute_result"
    }
   ],
   "source": [
    "data['user_score'].unique()\n",
    "#Все хорошо, tbd исчезло"
   ]
  },
  {
   "attachments": {},
   "cell_type": "markdown",
   "metadata": {},
   "source": [
    "### Обработка пропусков"
   ]
  },
  {
   "cell_type": "code",
   "execution_count": 14,
   "metadata": {},
   "outputs": [
    {
     "data": {
      "image/png": "[encoded data removed]",
      "text/plain": [
       "<Figure size 1440x504 with 1 Axes>"
      ]
     },
     "metadata": {},
     "output_type": "display_data"
    }
   ],
   "source": [
    "#Выведем процент пропущенных значения в стобцах к общему количеству значений\n",
    "missing_values = data.isna().mean()\n",
    "\n",
    "fig, ax = plt.subplots(figsize=(20,7))\n",
    "ax.bar(missing_values.index, missing_values.values)\n",
    "ax.set_ylabel('Процент пропущенных значений')\n",
    "ax.set_ylim(0, 1)  # установить предел оси y на 0-100%\n",
    "\n",
    "for i, v in enumerate(missing_values):\n",
    "    ax.text(i-.25, v/2, str(round(v*100,2))+\"%\", fontweight='bold')\n",
    "    \n",
    "plt.show()"
   ]
  },
  {
   "attachments": {},
   "cell_type": "markdown",
   "metadata": {},
   "source": [
    "Наибольшее количество пропусков содержится в столбцах:\n",
    "* user_score - 54.59%\n",
    "* critic_score - 51.32%\n",
    "* rating - 40.48%"
   ]
  },
  {
   "attachments": {},
   "cell_type": "markdown",
   "metadata": {},
   "source": [
    "Пропуски в таких колонках, как \"user_score\", \"critic_score\" и \"rating\", могут быть вызваны несколькими причинами. Некоторые возможные причины следующие:\n",
    "\n",
    "* Ошибки сбора данных: Данные могли быть собраны неправильно, что привело к отсутствию значений в некоторых строках. Это может быть вызвано человеческим фактором или проблемами в процессе сбора данных.\n",
    "\n",
    "* Данные недоступны: Некоторые данные могли быть недоступны на момент сбора. Например, \"оценка_пользователя\" могла быть недоступна для некоторых игр, которые только что вышли, или \"оценка_критика\" могла быть недоступна для некоторых нишевых игр, которые не были рассмотрены многими критиками.\n",
    "\n",
    "* Данные не записаны: некоторые данные могли быть не записаны или не отслеживаться источником.\n",
    "\n",
    "* Проблема целостности данных: Некоторые данные могли быть повреждены или потеряны во время хранения, передачи или обработки данных.\n"
   ]
  },
  {
   "attachments": {},
   "cell_type": "markdown",
   "metadata": {},
   "source": [
    "Я думала о том, чтобы заполнить значения в числовых столбцах медианным значением, применив метод группировки внутри категории жанра, но опасаюсь того, что из-за большого количества пропусков, получу сильное расхождение с истиной.\n",
    "\n",
    "Поэтому я приняла решение не заполнять отсутсвующее значение в данных столбцах"
   ]
  },
  {
   "cell_type": "code",
   "execution_count": 16,
   "metadata": {},
   "outputs": [
    {
     "data": {
      "text/html": [
       "<div>\n",
       "<style scoped>\n",
       "    .dataframe tbody tr th:only-of-type {\n",
       "        vertical-align: middle;\n",
       "    }\n",
       "\n",
       "    .dataframe tbody tr th {\n",
       "        vertical-align: top;\n",
       "    }\n",
       "\n",
       "    .dataframe thead th {\n",
       "        text-align: right;\n",
       "    }\n",
       "</style>\n",
       "<table border=\"1\" class=\"dataframe\">\n",
       "  <thead>\n",
       "    <tr style=\"text-align: right;\">\n",
       "      <th></th>\n",
       "      <th>name</th>\n",
       "      <th>platform</th>\n",
       "      <th>year_of_release</th>\n",
       "      <th>genre</th>\n",
       "      <th>na_sales</th>\n",
       "      <th>eu_sales</th>\n",
       "      <th>jp_sales</th>\n",
       "      <th>other_sales</th>\n",
       "      <th>critic_score</th>\n",
       "      <th>user_score</th>\n",
       "      <th>rating</th>\n",
       "    </tr>\n",
       "  </thead>\n",
       "  <tbody>\n",
       "    <tr>\n",
       "      <th>0</th>\n",
       "      <td>Wii Sports</td>\n",
       "      <td>Wii</td>\n",
       "      <td>2006.0</td>\n",
       "      <td>Sports</td>\n",
       "      <td>41.36</td>\n",
       "      <td>28.96</td>\n",
       "      <td>3.77</td>\n",
       "      <td>8.45</td>\n",
       "      <td>76.0</td>\n",
       "      <td>8.0</td>\n",
       "      <td>E</td>\n",
       "    </tr>\n",
       "    <tr>\n",
       "      <th>1</th>\n",
       "      <td>Super Mario Bros.</td>\n",
       "      <td>NES</td>\n",
       "      <td>1985.0</td>\n",
       "      <td>Platform</td>\n",
       "      <td>29.08</td>\n",
       "      <td>3.58</td>\n",
       "      <td>6.81</td>\n",
       "      <td>0.77</td>\n",
       "      <td>NaN</td>\n",
       "      <td>NaN</td>\n",
       "      <td>NaN</td>\n",
       "    </tr>\n",
       "    <tr>\n",
       "      <th>2</th>\n",
       "      <td>Mario Kart Wii</td>\n",
       "      <td>Wii</td>\n",
       "      <td>2008.0</td>\n",
       "      <td>Racing</td>\n",
       "      <td>15.68</td>\n",
       "      <td>12.76</td>\n",
       "      <td>3.79</td>\n",
       "      <td>3.29</td>\n",
       "      <td>82.0</td>\n",
       "      <td>8.3</td>\n",
       "      <td>E</td>\n",
       "    </tr>\n",
       "    <tr>\n",
       "      <th>3</th>\n",
       "      <td>Wii Sports Resort</td>\n",
       "      <td>Wii</td>\n",
       "      <td>2009.0</td>\n",
       "      <td>Sports</td>\n",
       "      <td>15.61</td>\n",
       "      <td>10.93</td>\n",
       "      <td>3.28</td>\n",
       "      <td>2.95</td>\n",
       "      <td>80.0</td>\n",
       "      <td>8.0</td>\n",
       "      <td>E</td>\n",
       "    </tr>\n",
       "    <tr>\n",
       "      <th>4</th>\n",
       "      <td>Pokemon Red/Pokemon Blue</td>\n",
       "      <td>GB</td>\n",
       "      <td>1996.0</td>\n",
       "      <td>Role-Playing</td>\n",
       "      <td>11.27</td>\n",
       "      <td>8.89</td>\n",
       "      <td>10.22</td>\n",
       "      <td>1.00</td>\n",
       "      <td>NaN</td>\n",
       "      <td>NaN</td>\n",
       "      <td>NaN</td>\n",
       "    </tr>\n",
       "  </tbody>\n",
       "</table>\n",
       "</div>"
      ],
      "text/plain": [
       "                       name platform  year_of_release         genre  na_sales  \\\n",
       "0                Wii Sports      Wii           2006.0        Sports     41.36   \n",
       "1         Super Mario Bros.      NES           1985.0      Platform     29.08   \n",
       "2            Mario Kart Wii      Wii           2008.0        Racing     15.68   \n",
       "3         Wii Sports Resort      Wii           2009.0        Sports     15.61   \n",
       "4  Pokemon Red/Pokemon Blue       GB           1996.0  Role-Playing     11.27   \n",
       "\n",
       "   eu_sales  jp_sales  other_sales  critic_score  user_score rating  \n",
       "0     28.96      3.77         8.45          76.0         8.0      E  \n",
       "1      3.58      6.81         0.77           NaN         NaN    NaN  \n",
       "2     12.76      3.79         3.29          82.0         8.3      E  \n",
       "3     10.93      3.28         2.95          80.0         8.0      E  \n",
       "4      8.89     10.22         1.00           NaN         NaN    NaN  "
      ]
     },
     "execution_count": 16,
     "metadata": {},
     "output_type": "execute_result"
    }
   ],
   "source": [
    "data.head(5)"
   ]
  },
  {
   "attachments": {},
   "cell_type": "markdown",
   "metadata": {},
   "source": [
    "Однако я заменю отсутсвующие значения в других столбцах"
   ]
  },
  {
   "cell_type": "code",
   "execution_count": 17,
   "metadata": {},
   "outputs": [],
   "source": [
    "data[\"genre\"].fillna(\"Unknown\", inplace=True)\n",
    "data[\"rating\"].fillna(\"Unknown\", inplace=True)\n",
    "data[\"name\"].fillna(\"Missing\", inplace=True)"
   ]
  },
  {
   "cell_type": "code",
   "execution_count": 19,
   "metadata": {},
   "outputs": [
    {
     "name": "stdout",
     "output_type": "stream",
     "text": [
      "<class 'pandas.core.frame.DataFrame'>\n",
      "RangeIndex: 16715 entries, 0 to 16714\n",
      "Data columns (total 11 columns):\n",
      " #   Column           Non-Null Count  Dtype  \n",
      "---  ------           --------------  -----  \n",
      " 0   name             16715 non-null  object \n",
      " 1   platform         16715 non-null  object \n",
      " 2   year_of_release  16446 non-null  float64\n",
      " 3   genre            16715 non-null  object \n",
      " 4   na_sales         16715 non-null  float64\n",
      " 5   eu_sales         16715 non-null  float64\n",
      " 6   jp_sales         16715 non-null  float64\n",
      " 7   other_sales      16715 non-null  float64\n",
      " 8   critic_score     8137 non-null   float64\n",
      " 9   user_score       7590 non-null   float64\n",
      " 10  rating           16715 non-null  object \n",
      "dtypes: float64(7), object(4)\n",
      "memory usage: 1.4+ MB\n"
     ]
    }
   ],
   "source": [
    "data.info()"
   ]
  },
  {
   "attachments": {},
   "cell_type": "markdown",
   "metadata": {},
   "source": [
    "Добавлю столбец с суммой продаж"
   ]
  },
  {
   "cell_type": "code",
   "execution_count": 20,
   "metadata": {},
   "outputs": [],
   "source": [
    "data['sales_total'] = data['na_sales'] + data['eu_sales'] + data['jp_sales'] + data['other_sales']"
   ]
  },
  {
   "attachments": {},
   "cell_type": "markdown",
   "metadata": {},
   "source": [
    "### Вывод: \n",
    "\n",
    "Наибольшее количество пропусков содержится в столбцах:\n",
    "\n",
    "user_score - 54.59%\n",
    "critic_score - 51.32%\n",
    "rating - 40.48%\n",
    "\n",
    "Было принято решение не заполнять отсутсвующее значение в данных столбцах\n",
    "\n",
    "Были заменены отсутсвующие значения в столбцах genre, rating, name\n"
   ]
  },
  {
   "attachments": {},
   "cell_type": "markdown",
   "metadata": {},
   "source": [
    "## Исследовательский анализ данных"
   ]
  },
  {
   "attachments": {},
   "cell_type": "markdown",
   "metadata": {},
   "source": [
    "### Периоды выпуска игр\n",
    "Посмотрите, сколько игр выпускалось в разные годы. Важны ли данные за все периоды?"
   ]
  },
  {
   "cell_type": "code",
   "execution_count": 21,
   "metadata": {},
   "outputs": [
    {
     "data": {
      "image/png": "[encoded data removed]",
      "text/plain": [
       "<Figure size 1440x720 with 1 Axes>"
      ]
     },
     "metadata": {},
     "output_type": "display_data"
    },
    {
     "name": "stdout",
     "output_type": "stream",
     "text": [
      "Год с наибольшим количеством выпущенных игр: 2008\n",
      "Год с наименьшим количеством выпущенных игр: 1980\n"
     ]
    }
   ],
   "source": [
    "# Подсчет количества игр, выпущенных в каждом году\n",
    "games_per_year = data['year_of_release'].value_counts()\n",
    "\n",
    "# Сортировка лет в порядке возрастания\n",
    "games_per_year = games_per_year.sort_index()\n",
    "\n",
    "fig, ax = plt.subplots(figsize=(20,10))\n",
    "\n",
    "# Создание гистограммы\n",
    "plt.bar(games_per_year.index, games_per_year.values)\n",
    "\n",
    "\n",
    "plt.xlabel('Год')\n",
    "plt.ylabel('Количество игр')\n",
    "plt.title('Количество игр, выпускаемых в год')\n",
    "\n",
    "plt.show()\n",
    "\n",
    "max_year = games_per_year.idxmax()\n",
    "print(\"Год с наибольшим количеством выпущенных игр:\", int(max_year))\n",
    "\n",
    "min_year = games_per_year.idxmin()\n",
    "print(\"Год с наименьшим количеством выпущенных игр:\", int(min_year))"
   ]
  },
  {
   "attachments": {},
   "cell_type": "markdown",
   "metadata": {},
   "source": [
    "До 2002 года было выпущено менее 400 игр для платформ в год. На мой взгляд, период до 2002 года можно отбросить за неактуальностью"
   ]
  },
  {
   "attachments": {},
   "cell_type": "markdown",
   "metadata": {},
   "source": [
    "### Изменение продаж по платформам\n",
    "Посмотрите, как менялись продажи по платформам. Выберите платформы с наибольшими суммарными продажами и постройте распределение по годам. За какой характерный срок появляются новые и исчезают старые платформы?"
   ]
  },
  {
   "cell_type": "code",
   "execution_count": 22,
   "metadata": {},
   "outputs": [
    {
     "data": {
      "image/png": "[encoded data removed]",
      "text/plain": [
       "<Figure size 1440x720 with 1 Axes>"
      ]
     },
     "metadata": {},
     "output_type": "display_data"
    }
   ],
   "source": [
    "# Группировка данных по платформам и годам\n",
    "sales_by_platform_year = data.groupby(['platform','year_of_release'])['na_sales', 'eu_sales', 'jp_sales', 'other_sales', 'sales_total'].sum()\n",
    "#Получение платформ с наибольшим общим объемом продаж\n",
    "top_platforms = sales_by_platform_year.groupby(['platform']).sum().nlargest(5,'sales_total')\n",
    "# Изучение данных о продажах на ведущих платформах\n",
    "top_platforms_data = sales_by_platform_year.loc[top_platforms.index]\n",
    "\n",
    "fig, ax = plt.subplots(figsize=(20,10))\n",
    "\n",
    "\n",
    "for platform in top_platforms.index:\n",
    "    plt.plot(top_platforms_data.loc[platform].index, top_platforms_data.loc[platform]['sales_total'], label = platform)\n",
    "\n",
    "\n",
    "plt.xlabel('Год',  fontsize=18)\n",
    "plt.ylabel('Суммарные продажи',  fontsize=18)\n",
    "plt.title('Суммарные продажи в разрезе платформы',  fontsize=20)\n",
    "plt.legend(loc=2, prop={'size': 20})\n",
    "\n",
    "plt.show()"
   ]
  },
  {
   "cell_type": "code",
   "execution_count": 23,
   "metadata": {},
   "outputs": [
    {
     "name": "stdout",
     "output_type": "stream",
     "text": [
      "Платформы с наибольшими суммарными продажами:\n",
      "platform\n",
      "PS2     1233.56\n",
      "X360     961.24\n",
      "PS3      931.34\n",
      "Wii      891.18\n",
      "DS       802.78\n",
      "Name: sales_total, dtype: float64\n"
     ]
    }
   ],
   "source": [
    "print('Платформы с наибольшими суммарными продажами:')\n",
    "print(top_platforms['sales_total'])"
   ]
  },
  {
   "attachments": {},
   "cell_type": "markdown",
   "metadata": {},
   "source": [
    "Безоговорочным победителем стала платформа PS2. \n",
    "Далее следуют Xbox360, PS3 и Wii. К самым редким платформам относятся представители японских технологий Wii и DS."
   ]
  },
  {
   "attachments": {},
   "cell_type": "markdown",
   "metadata": {},
   "source": [
    "Срок от появления до исчезновения платформы равен примерно 10 годам"
   ]
  },
  {
   "attachments": {},
   "cell_type": "markdown",
   "metadata": {},
   "source": [
    "### Исследуем актуальный период\n",
    "* Актуальный период определите самостоятельно в результате исследования предыдущих вопросов. Основной фактор — эти данные помогут построить прогноз на 2017 год.\n",
    "* Не учитывайте в работе данные за предыдущие годы."
   ]
  },
  {
   "attachments": {},
   "cell_type": "markdown",
   "metadata": {},
   "source": [
    "Подходящий период, на мой взгляд, - с 2002 по 2016 год:\n",
    "\n",
    "Именно в эти годы вышли или вот-вот выйдут все популярные консоли;\n",
    "Данный период содержит данные абсолютно по всем самым популярным консолям.\n",
    "Предшествующие годы мы отбрасываем."
   ]
  },
  {
   "cell_type": "code",
   "execution_count": 24,
   "metadata": {},
   "outputs": [
    {
     "data": {
      "image/png": "[encoded data removed]",
      "text/plain": [
       "<Figure size 1440x720 with 1 Axes>"
      ]
     },
     "metadata": {},
     "output_type": "display_data"
    }
   ],
   "source": [
    "#Построим еще один график, показывающий тенденции продаж за уже прошедшие годы, и ответим на вопрос: \n",
    "#Какие платформы лидируют по продажам?\n",
    "data_to_plot = data.query('year_of_release >= 2002')\n",
    "# Группировка данных по платформам и годам\n",
    "sales_by_platform_year = data_to_plot.groupby(['platform', 'year_of_release'])['na_sales', 'eu_sales', 'jp_sales', 'other_sales', 'sales_total'].sum()\n",
    "#Получение платформ с наибольшим общим объемом продаж\n",
    "top_platforms = sales_by_platform_year.groupby(['platform']).sum().nlargest(8,'sales_total')\n",
    "# Изучение данных о продажах на ведущих платформах\n",
    "top_platforms_data = sales_by_platform_year.loc[top_platforms.index]\n",
    "\n",
    "fig, ax = plt.subplots(figsize=(20,10))\n",
    "\n",
    "\n",
    "\n",
    "for platform in top_platforms.index:\n",
    "    plt.plot(top_platforms_data.loc[platform].index, top_platforms_data.loc[platform]['sales_total'], label = platform)\n",
    "    \n",
    "plt.xlabel('Год',  fontsize=18)\n",
    "plt.ylabel('Суммарные продажи',  fontsize=18)\n",
    "plt.title('Суммарные продажи в разрезе платформы c 2002 по 2016 год',  fontsize=20)\n",
    "plt.legend(loc=1, prop={'size': 20})\n",
    "\n",
    "plt.show()"
   ]
  },
  {
   "attachments": {},
   "cell_type": "markdown",
   "metadata": {},
   "source": [
    "На конец 2016 года лидируют по продажам следующие платформы:\n",
    "\n",
    "* PS4\n",
    "* Xone\n",
    "* PS3"
   ]
  },
  {
   "cell_type": "code",
   "execution_count": 25,
   "metadata": {},
   "outputs": [
    {
     "data": {
      "image/png": "[encoded data removed]",
      "text/plain": [
       "<Figure size 1440x720 with 8 Axes>"
      ]
     },
     "metadata": {},
     "output_type": "display_data"
    }
   ],
   "source": [
    "#Построим еще один график, показывающий тенденции продаж за уже прошедшие годы, и ответим на вопрос: \n",
    "#Какие платформы лидируют по продажам?\n",
    "data_to_plot = data.query('year_of_release >= 2002')\n",
    "# Группировка данных по платформам и годам\n",
    "sales_by_platform_year = data_to_plot.groupby(['platform', 'year_of_release'])['na_sales', 'eu_sales', 'jp_sales', 'other_sales', 'sales_total'].sum()\n",
    "#Получение платформ с наибольшим общим объемом продаж\n",
    "top_platforms = sales_by_platform_year.groupby(['platform']).sum().nlargest(8,'sales_total')\n",
    "# Изучение данных о продажах на ведущих платформах\n",
    "top_platforms_data = sales_by_platform_year.loc[top_platforms.index]\n",
    "\n",
    "\n",
    "fig, (ax1, ax2, ax3, ax4, ax5, ax6, ax7, ax8) = plt.subplots(8, sharex=True, figsize=(20,10))\n",
    "fig.suptitle('Суммарные продажи в разрезе платформы c 2002 по 2016 год', fontsize=18)\n",
    "ax1.plot(top_platforms_data.loc['PS2'].index, top_platforms_data.loc['PS2']['sales_total'],'tab:orange', label = 'PS2')\n",
    "ax2.plot(top_platforms_data.loc['X360'].index, top_platforms_data.loc['X360']['sales_total'], 'tab:green', label = 'X360')\n",
    "ax3.plot(top_platforms_data.loc['PS3'].index, top_platforms_data.loc['PS3']['sales_total'], 'tab:red', label = 'PS3')\n",
    "ax4.plot(top_platforms_data.loc['PS4'].index, top_platforms_data.loc['PS4']['sales_total'], 'tab:cyan', label = 'PS4')\n",
    "ax5.plot(top_platforms_data.loc['Wii'].index, top_platforms_data.loc['Wii']['sales_total'],'tab:blue', label = 'Wii')\n",
    "ax6.plot(top_platforms_data.loc['DS'].index, top_platforms_data.loc['DS']['sales_total'], 'tab:brown', label = 'DS')\n",
    "ax7.plot(top_platforms_data.loc['PSP'].index, top_platforms_data.loc['PSP']['sales_total'],'tab:grey', label = 'PSP')\n",
    "ax8.plot(top_platforms_data.loc['3DS'].index, top_platforms_data.loc['3DS']['sales_total'], 'tab:purple', label = '3DS')\n",
    "\n",
    "plt.xlabel('Год',  fontsize=18)\n",
    "\n",
    "\n",
    "ax1.legend()\n",
    "ax2.legend()\n",
    "ax3.legend()\n",
    "ax4.legend()\n",
    "ax5.legend()\n",
    "ax6.legend()\n",
    "ax7.legend()\n",
    "ax8.legend()\n",
    "\n",
    "\n",
    "plt.show()"
   ]
  },
  {
   "attachments": {},
   "cell_type": "markdown",
   "metadata": {},
   "source": [
    "### Ящик с усами\n",
    "Постройте график «ящик с усами» по глобальным продажам игр в разбивке по платформам. Опишите результат."
   ]
  },
  {
   "cell_type": "code",
   "execution_count": 26,
   "metadata": {
    "scrolled": true
   },
   "outputs": [
    {
     "data": {
      "image/png": "[encoded data removed]",
      "text/plain": [
       "<Figure size 432x216 with 1 Axes>"
      ]
     },
     "metadata": {},
     "output_type": "display_data"
    },
    {
     "data": {
      "text/plain": [
       "count    16715.000000\n",
       "mean         0.533396\n",
       "std          1.548261\n",
       "min          0.000000\n",
       "25%          0.060000\n",
       "50%          0.170000\n",
       "75%          0.470000\n",
       "max         82.540000\n",
       "Name: sales_total, dtype: float64"
      ]
     },
     "execution_count": 26,
     "metadata": {},
     "output_type": "execute_result"
    }
   ],
   "source": [
    "data.boxplot(column = 'sales_total')\n",
    "plt.ylim(0, 1)\n",
    "plt.show()\n",
    "\n",
    "\n",
    "data['sales_total'].describe()"
   ]
  },
  {
   "attachments": {},
   "cell_type": "markdown",
   "metadata": {},
   "source": [
    "Продажи игр, в среднем составляют до 0,6 млн долларов. Медиана - 0,17 миллиона долларов. Не сказать, что это много. Максимальное значение 82,5 млн долларов"
   ]
  },
  {
   "attachments": {},
   "cell_type": "markdown",
   "metadata": {},
   "source": [
    "<div class=\"alert alert-success\">\n",
    "<b>Комментарий ревьюера:</b>\n",
    "\n",
    "Попробуй отобразить платформы по общим продажам, сразу на одном графике.\n",
    "    \n",
    "</div>"
   ]
  },
  {
   "attachments": {},
   "cell_type": "markdown",
   "metadata": {},
   "source": [
    "### Пользователи vs Критики\n",
    "Посмотрите, как влияют на продажи внутри одной популярной платформы отзывы пользователей и критиков. Постройте диаграмму рассеяния и посчитайте корреляцию между отзывами и продажами. Сформулируйте выводы."
   ]
  },
  {
   "cell_type": "code",
   "execution_count": 27,
   "metadata": {},
   "outputs": [],
   "source": [
    "data_ps2 = data.query('platform == \"PS2\"')"
   ]
  },
  {
   "cell_type": "code",
   "execution_count": 28,
   "metadata": {},
   "outputs": [
    {
     "data": {
      "text/html": [
       "<div>\n",
       "<style scoped>\n",
       "    .dataframe tbody tr th:only-of-type {\n",
       "        vertical-align: middle;\n",
       "    }\n",
       "\n",
       "    .dataframe tbody tr th {\n",
       "        vertical-align: top;\n",
       "    }\n",
       "\n",
       "    .dataframe thead th {\n",
       "        text-align: right;\n",
       "    }\n",
       "</style>\n",
       "<table border=\"1\" class=\"dataframe\">\n",
       "  <thead>\n",
       "    <tr style=\"text-align: right;\">\n",
       "      <th></th>\n",
       "      <th>name</th>\n",
       "      <th>platform</th>\n",
       "      <th>year_of_release</th>\n",
       "      <th>genre</th>\n",
       "      <th>na_sales</th>\n",
       "      <th>eu_sales</th>\n",
       "      <th>jp_sales</th>\n",
       "      <th>other_sales</th>\n",
       "      <th>critic_score</th>\n",
       "      <th>user_score</th>\n",
       "      <th>rating</th>\n",
       "      <th>sales_total</th>\n",
       "    </tr>\n",
       "  </thead>\n",
       "  <tbody>\n",
       "    <tr>\n",
       "      <th>17</th>\n",
       "      <td>Grand Theft Auto: San Andreas</td>\n",
       "      <td>PS2</td>\n",
       "      <td>2004.0</td>\n",
       "      <td>Action</td>\n",
       "      <td>9.43</td>\n",
       "      <td>0.40</td>\n",
       "      <td>0.41</td>\n",
       "      <td>10.57</td>\n",
       "      <td>95.0</td>\n",
       "      <td>9.0</td>\n",
       "      <td>M</td>\n",
       "      <td>20.81</td>\n",
       "    </tr>\n",
       "    <tr>\n",
       "      <th>24</th>\n",
       "      <td>Grand Theft Auto: Vice City</td>\n",
       "      <td>PS2</td>\n",
       "      <td>2002.0</td>\n",
       "      <td>Action</td>\n",
       "      <td>8.41</td>\n",
       "      <td>5.49</td>\n",
       "      <td>0.47</td>\n",
       "      <td>1.78</td>\n",
       "      <td>95.0</td>\n",
       "      <td>8.7</td>\n",
       "      <td>M</td>\n",
       "      <td>16.15</td>\n",
       "    </tr>\n",
       "    <tr>\n",
       "      <th>28</th>\n",
       "      <td>Gran Turismo 3: A-Spec</td>\n",
       "      <td>PS2</td>\n",
       "      <td>2001.0</td>\n",
       "      <td>Racing</td>\n",
       "      <td>6.85</td>\n",
       "      <td>5.09</td>\n",
       "      <td>1.87</td>\n",
       "      <td>1.16</td>\n",
       "      <td>95.0</td>\n",
       "      <td>8.4</td>\n",
       "      <td>E</td>\n",
       "      <td>14.97</td>\n",
       "    </tr>\n",
       "    <tr>\n",
       "      <th>38</th>\n",
       "      <td>Grand Theft Auto III</td>\n",
       "      <td>PS2</td>\n",
       "      <td>2001.0</td>\n",
       "      <td>Action</td>\n",
       "      <td>6.99</td>\n",
       "      <td>4.51</td>\n",
       "      <td>0.30</td>\n",
       "      <td>1.30</td>\n",
       "      <td>97.0</td>\n",
       "      <td>8.5</td>\n",
       "      <td>M</td>\n",
       "      <td>13.10</td>\n",
       "    </tr>\n",
       "    <tr>\n",
       "      <th>48</th>\n",
       "      <td>Gran Turismo 4</td>\n",
       "      <td>PS2</td>\n",
       "      <td>2004.0</td>\n",
       "      <td>Racing</td>\n",
       "      <td>3.01</td>\n",
       "      <td>0.01</td>\n",
       "      <td>1.10</td>\n",
       "      <td>7.53</td>\n",
       "      <td>89.0</td>\n",
       "      <td>8.5</td>\n",
       "      <td>E</td>\n",
       "      <td>11.65</td>\n",
       "    </tr>\n",
       "  </tbody>\n",
       "</table>\n",
       "</div>"
      ],
      "text/plain": [
       "                             name platform  year_of_release   genre  na_sales  \\\n",
       "17  Grand Theft Auto: San Andreas      PS2           2004.0  Action      9.43   \n",
       "24    Grand Theft Auto: Vice City      PS2           2002.0  Action      8.41   \n",
       "28         Gran Turismo 3: A-Spec      PS2           2001.0  Racing      6.85   \n",
       "38           Grand Theft Auto III      PS2           2001.0  Action      6.99   \n",
       "48                 Gran Turismo 4      PS2           2004.0  Racing      3.01   \n",
       "\n",
       "    eu_sales  jp_sales  other_sales  critic_score  user_score rating  \\\n",
       "17      0.40      0.41        10.57          95.0         9.0      M   \n",
       "24      5.49      0.47         1.78          95.0         8.7      M   \n",
       "28      5.09      1.87         1.16          95.0         8.4      E   \n",
       "38      4.51      0.30         1.30          97.0         8.5      M   \n",
       "48      0.01      1.10         7.53          89.0         8.5      E   \n",
       "\n",
       "    sales_total  \n",
       "17        20.81  \n",
       "24        16.15  \n",
       "28        14.97  \n",
       "38        13.10  \n",
       "48        11.65  "
      ]
     },
     "execution_count": 28,
     "metadata": {},
     "output_type": "execute_result"
    }
   ],
   "source": [
    "data_ps2.head(5)"
   ]
  },
  {
   "cell_type": "code",
   "execution_count": 29,
   "metadata": {},
   "outputs": [
    {
     "data": {
      "image/png": "[encoded data removed]",
      "text/plain": [
       "<Figure size 720x432 with 1 Axes>"
      ]
     },
     "metadata": {},
     "output_type": "display_data"
    }
   ],
   "source": [
    "data_ps2.plot(x = 'user_score', y = 'sales_total', kind = 'scatter', alpha = 0.3, figsize=(10,6))\n",
    "plt.title('График рассеяния пользовательской оценки по продажам',  fontsize=16)\n",
    "plt.show()"
   ]
  },
  {
   "cell_type": "code",
   "execution_count": 30,
   "metadata": {
    "scrolled": true
   },
   "outputs": [
    {
     "name": "stdout",
     "output_type": "stream",
     "text": [
      "Корреляция пользовательской оценки и продаж: \n",
      "\n",
      "0.17286551112058227\n"
     ]
    }
   ],
   "source": [
    "print('Корреляция пользовательской оценки и продаж:','\\n')\n",
    "print(data_ps2['user_score'].corr(data_ps2['sales_total']))"
   ]
  },
  {
   "cell_type": "code",
   "execution_count": 31,
   "metadata": {},
   "outputs": [
    {
     "data": {
      "image/png": "[encoded data removed]",
      "text/plain": [
       "<Figure size 720x432 with 1 Axes>"
      ]
     },
     "metadata": {},
     "output_type": "display_data"
    }
   ],
   "source": [
    "data_ps2.plot(x = 'critic_score', y = 'sales_total', kind = 'scatter', alpha = 0.3, figsize=(10,6))\n",
    "plt.title('График рассеяния оценки критиков по продажам',  fontsize=16)\n",
    "plt.show()"
   ]
  },
  {
   "cell_type": "code",
   "execution_count": 32,
   "metadata": {},
   "outputs": [
    {
     "name": "stdout",
     "output_type": "stream",
     "text": [
      "Корреляция оценки критиков и продаж: \n",
      "\n",
      "0.39543454945454876\n"
     ]
    }
   ],
   "source": [
    "print('Корреляция оценки критиков и продаж:','\\n')\n",
    "print(data_ps2['critic_score'].corr(data_ps2['sales_total']))"
   ]
  },
  {
   "cell_type": "code",
   "execution_count": 33,
   "metadata": {},
   "outputs": [
    {
     "data": {
      "text/plain": [
       "<AxesSubplot:>"
      ]
     },
     "execution_count": 33,
     "metadata": {},
     "output_type": "execute_result"
    },
    {
     "data": {
      "image/png": "[encoded data removed]",
      "text/plain": [
       "<Figure size 576x504 with 2 Axes>"
      ]
     },
     "metadata": {},
     "output_type": "display_data"
    }
   ],
   "source": [
    "plt.figure(figsize=(8,7))\n",
    "sns.heatmap(data_ps2.corr(), annot=True, cmap=\"RdYlBu\", fmt='.2f', annot_kws={'size':10})"
   ]
  },
  {
   "attachments": {},
   "cell_type": "markdown",
   "metadata": {},
   "source": [
    "Коэффициент корреляции между оценкой критиков и объемом продаж выше, чем между оценкой пользователя и объемом продаж для PS2"
   ]
  },
  {
   "attachments": {},
   "cell_type": "markdown",
   "metadata": {},
   "source": [
    "* Соотнесите выводы с продажами игр на других платформах."
   ]
  },
  {
   "cell_type": "code",
   "execution_count": 34,
   "metadata": {
    "scrolled": true
   },
   "outputs": [
    {
     "data": {
      "image/png": "[encoded data removed]",
      "text/plain": [
       "<Figure size 576x504 with 8 Axes>"
      ]
     },
     "metadata": {},
     "output_type": "display_data"
    }
   ],
   "source": [
    "top_platf = ['PS2', 'X360', 'PS3', 'Wii']\n",
    "\n",
    "fig, axes = plt.subplots(2, 2, figsize=(8, 7))\n",
    "rows = 2\n",
    "cols = 2\n",
    "count = 0\n",
    "\n",
    "for i1 in range(rows):\n",
    "    for i2 in range(cols):\n",
    "        curr_platf = top_platf[count]\n",
    "        data_prep = data[(data['platform'] == curr_platf) & (data['user_score'] > 0)].copy()\n",
    "        data_filt = data_prep[['sales_total' ,'critic_score', 'user_score']]\n",
    "        ax = sns.heatmap(data_filt.corr()[['sales_total']].sort_values(by='sales_total', ascending=False), \n",
    "                         cmap=\"RdYlBu\",  annot_kws={'size':15}, ax=axes[i1,i2], annot=True,)\n",
    "        ax.set_title(curr_platf, fontsize=15)\n",
    "        ax.set_yticklabels(ax.get_yticklabels(), rotation=0)\n",
    "        plt.tight_layout(pad=3)\n",
    "        count += 1\n",
    "      "
   ]
  },
  {
   "attachments": {},
   "cell_type": "markdown",
   "metadata": {},
   "source": [
    "С другими платформами наблюдается аналогичная ситуация, user score практически не влияет (или мало влияет) на общую выручку"
   ]
  },
  {
   "attachments": {},
   "cell_type": "markdown",
   "metadata": {},
   "source": [
    "### Прибыльные жанры\n",
    "Посмотрите на общее распределение игр по жанрам. Что можно сказать о самых прибыльных жанрах? Выделяются ли жанры с высокими и низкими продажами?"
   ]
  },
  {
   "cell_type": "code",
   "execution_count": 35,
   "metadata": {},
   "outputs": [
    {
     "name": "stdout",
     "output_type": "stream",
     "text": [
      "genre\n",
      "Action          1744.17\n",
      "Sports          1331.27\n",
      "Shooter         1052.45\n",
      "Role-Playing     934.56\n",
      "Platform         827.77\n",
      "Misc             802.51\n",
      "Racing           728.67\n",
      "Fighting         447.53\n",
      "Name: sales_total, dtype: float64\n"
     ]
    }
   ],
   "source": [
    "top_genre = data.groupby(['genre']).sum().nlargest(8,'sales_total')\n",
    "print(top_genre['sales_total'])"
   ]
  },
  {
   "attachments": {},
   "cell_type": "markdown",
   "metadata": {},
   "source": [
    "Три самых прибыльных жанра это:\n",
    "* Action - 1744 млрд\n",
    "* Sports - 1331 млрд\n",
    "* Shooter - 1052 млрд"
   ]
  },
  {
   "cell_type": "code",
   "execution_count": 48,
   "metadata": {},
   "outputs": [
    {
     "name": "stdout",
     "output_type": "stream",
     "text": [
      "              name  sales_total\n",
      "genre                          \n",
      "Action        3369      1744.17\n",
      "Sports        2348      1331.27\n",
      "Shooter       1323      1052.45\n",
      "Role-Playing  1498       934.56\n",
      "Platform       888       827.77\n",
      "Misc          1750       802.51\n",
      "Racing        1249       728.67\n",
      "Fighting       849       447.53\n",
      "Simulation     873       389.97\n",
      "Puzzle         580       242.57\n",
      "Adventure     1303       237.59\n",
      "Strategy       683       174.23\n",
      "Unknown          2         2.42\n",
      "              name  sales_total\n",
      "genre                          \n",
      "Unknown          2     1.210000\n",
      "Platform       888     0.932173\n",
      "Shooter       1323     0.795503\n",
      "Role-Playing  1498     0.623872\n",
      "Racing        1249     0.583403\n",
      "Sports        2348     0.566980\n",
      "Fighting       849     0.527126\n",
      "Action        3369     0.517711\n",
      "Misc          1750     0.458577\n",
      "Simulation     873     0.446701\n",
      "Puzzle         580     0.418224\n",
      "Strategy       683     0.255095\n",
      "Adventure     1303     0.182341\n"
     ]
    }
   ],
   "source": [
    "all_pivot = data.groupby('genre').agg({'name': 'count', 'sales_total': 'sum'}).sort_values(by='sales_total', ascending=False)\n",
    "all_pivot2 = data.groupby('genre').agg({'name': 'count', 'sales_total': 'mean'}).sort_values(by='sales_total', ascending=False)\n",
    "print(all_pivot)\n",
    "print(all_pivot2)"
   ]
  },
  {
   "attachments": {},
   "cell_type": "markdown",
   "metadata": {},
   "source": [
    "В аутсайдерах пазлы, стратегии и неизвестные жанры"
   ]
  },
  {
   "attachments": {},
   "cell_type": "markdown",
   "metadata": {},
   "source": [
    "### Вывод: \n",
    "* До 2002 года было выпущено менее 400 игр для платформ в год. На мой взгляд, период до 2002 года можно отбросить за неактуальностью. Больше всего игр было выпущено в 2008 году, меньше всего в 1980 г.\n",
    "* Безоговорочным победителем стала платформа PS2. Далее следуют Xbox360, PS3 и Wii. К самым редким платформам относятся представители японских технологий Wii и DS.Срок от появления до исчезновения платформы равен примерно 10 годам\n",
    "* Подходящий период, на мой взгляд, - с 2002 по 2016 год: Именно в эти годы вышли или вот-вот выйдут все популярные консоли; Данный период содержит данные абсолютно по всем самым популярным консолям. Предшествующие годы мы отбрасываем.\n",
    "* Продажи игр, в среднем составляют до 0,6 млн долларов. Медиана - 0,17 миллиона долларов. Не сказать, что это много. Максимальное значение 82,5 млн долларов\n",
    "* Коэффициент корреляции между оценкой критиков и объемом продаж выше, чем между оценкой пользователя и объемом продаж для PS2\n",
    "* Три самых прибыльных жанра это: Action - 1744 млрд, Sports - 1331 млрд, Shooter - 1052 млрд. В аутсайдерах пазлы, стратегии и неизвестные жанры\n",
    "* По среднему значению продаж мы можем сделать вывод о том, что самую большую выручку, в среднем, приносят жанры Platform и Shooter, а также Role-Playing\n"
   ]
  },
  {
   "attachments": {},
   "cell_type": "markdown",
   "metadata": {},
   "source": [
    "## Пользовательский портрет"
   ]
  },
  {
   "attachments": {},
   "cell_type": "markdown",
   "metadata": {},
   "source": [
    "Определите для пользователя каждого региона (NA, EU, JP):"
   ]
  },
  {
   "attachments": {},
   "cell_type": "markdown",
   "metadata": {},
   "source": [
    "### Самые популярные платформы (топ-5). Опишите различия в долях продаж."
   ]
  },
  {
   "cell_type": "code",
   "execution_count": 37,
   "metadata": {
    "scrolled": true
   },
   "outputs": [
    {
     "name": "stdout",
     "output_type": "stream",
     "text": [
      "Топ-5 платформ для Северной Америки:\n",
      "platform\n",
      "X360    602.47\n",
      "PS2     583.84\n",
      "Wii     496.90\n",
      "PS3     393.49\n",
      "DS      382.40\n",
      "Name: na_sales, dtype: float64\n",
      "\n",
      "Топ-5 платформ для Европы:\n",
      "platform\n",
      "PS2     339.29\n",
      "PS3     330.29\n",
      "X360    270.76\n",
      "Wii     262.21\n",
      "PS      213.61\n",
      "Name: eu_sales, dtype: float64\n",
      "\n",
      "Топ-5 платформ для Японии:\n",
      "platform\n",
      "DS      175.57\n",
      "PS      139.82\n",
      "PS2     139.20\n",
      "SNES    116.55\n",
      "3DS     100.67\n",
      "Name: jp_sales, dtype: float64\n"
     ]
    }
   ],
   "source": [
    "sales_pivot_1 = data.pivot_table(values=['na_sales', 'eu_sales', 'jp_sales'], index='platform', aggfunc='sum')\n",
    "\n",
    "# Получаем топ-5 платформ \n",
    "top_pl_NA = sales_pivot_1.sort_values(by='na_sales', ascending=False).head(5)\n",
    "top_pl_EU = sales_pivot_1.sort_values(by='eu_sales', ascending=False).head(5)\n",
    "top_pl_JP = sales_pivot_1.sort_values(by='jp_sales', ascending=False).head(5)\n",
    "\n",
    "# Выводим таблицу\n",
    "print(\"Топ-5 платформ для Северной Америки:\")\n",
    "print(top_pl_NA['na_sales'])\n",
    "print(\"\\nТоп-5 платформ для Европы:\")\n",
    "print(top_pl_EU['eu_sales'])\n",
    "print(\"\\nТоп-5 платформ для Японии:\")\n",
    "print(top_pl_JP['jp_sales'])"
   ]
  },
  {
   "attachments": {},
   "cell_type": "markdown",
   "metadata": {},
   "source": [
    "В Северной Америке лидирует: \n",
    "X360 и  Wii, тогда как в Европе больше популярны: \n",
    "PS3 и PS2. В Японии лидирует: DS и PS2"
   ]
  },
  {
   "attachments": {},
   "cell_type": "markdown",
   "metadata": {},
   "source": [
    "### Самые популярные жанры (топ-5). Поясните разницу."
   ]
  },
  {
   "cell_type": "code",
   "execution_count": 38,
   "metadata": {},
   "outputs": [
    {
     "name": "stdout",
     "output_type": "stream",
     "text": [
      "Топ-5 жанров для Северной Америки:\n",
      "genre\n",
      "Action      879.01\n",
      "Sports      684.43\n",
      "Shooter     592.24\n",
      "Platform    445.50\n",
      "Misc        407.27\n",
      "Name: na_sales, dtype: float64\n",
      "\n",
      "Топ-5 жанров для Европы:\n",
      "genre\n",
      "Action     519.13\n",
      "Sports     376.79\n",
      "Shooter    317.34\n",
      "Racing     236.51\n",
      "Misc       212.74\n",
      "Name: eu_sales, dtype: float64\n",
      "\n",
      "Топ-5 жанров для Японии:\n",
      "genre\n",
      "Role-Playing    355.41\n",
      "Action          161.43\n",
      "Sports          135.54\n",
      "Platform        130.83\n",
      "Misc            108.11\n",
      "Name: jp_sales, dtype: float64\n"
     ]
    }
   ],
   "source": [
    "sales_pivot_2 = data.pivot_table(values=['na_sales', 'eu_sales', 'jp_sales'], index='genre', aggfunc='sum')\n",
    "\n",
    "# Получаем топ-5 жанров\n",
    "top_genres_NA = sales_pivot_2.sort_values(by='na_sales', ascending=False).head(5)\n",
    "top_genres_EU = sales_pivot_2.sort_values(by='eu_sales', ascending=False).head(5)\n",
    "top_genres_JP = sales_pivot_2.sort_values(by='jp_sales', ascending=False).head(5)\n",
    "\n",
    "# Печатаем таблицу\n",
    "print(\"Топ-5 жанров для Северной Америки:\")\n",
    "print(top_genres_NA['na_sales'])\n",
    "print(\"\\nТоп-5 жанров для Европы:\")\n",
    "print(top_genres_EU['eu_sales'])\n",
    "print(\"\\nТоп-5 жанров для Японии:\")\n",
    "print(top_genres_JP['jp_sales'])"
   ]
  },
  {
   "attachments": {},
   "cell_type": "markdown",
   "metadata": {},
   "source": [
    "В Северной Америке и Европе предпочтения примерно одинаковы: и те, и другие являются поклонниками экшн-игр, спортивных игр и шутеров. При этом в Северной Америке больше играют в платформеры, в то время как в Европе часто выбирают гонки.\n",
    "\n",
    "\n",
    "Что касается Японии, то здесь вкусы кардинально отличаются - на первом месте ролевые игры, причем с большим отрывом. Следом идут экшн и спортивные игры."
   ]
  },
  {
   "attachments": {},
   "cell_type": "markdown",
   "metadata": {},
   "source": [
    "### Влияет ли рейтинг ESRB на продажи в отдельном регионе?"
   ]
  },
  {
   "attachments": {},
   "cell_type": "markdown",
   "metadata": {},
   "source": [
    "Чтобы определить, влияет ли рейтинг ESRB на продажи в отдельном регионе, можно использовать box plot для визуализации распределения продаж для каждого рейтинга в каждом регионе.\n",
    "\n",
    "Распределение продаж для каждого рейтинга в Северной Америке:"
   ]
  },
  {
   "cell_type": "code",
   "execution_count": 39,
   "metadata": {},
   "outputs": [
    {
     "data": {
      "image/png": "[encoded data removed]",
      "text/plain": [
       "<Figure size 432x216 with 1 Axes>"
      ]
     },
     "metadata": {},
     "output_type": "display_data"
    },
    {
     "data": {
      "image/png": "[encoded data removed]",
      "text/plain": [
       "<Figure size 432x216 with 1 Axes>"
      ]
     },
     "metadata": {},
     "output_type": "display_data"
    },
    {
     "data": {
      "image/png": "[encoded data removed]",
      "text/plain": [
       "<Figure size 432x216 with 1 Axes>"
      ]
     },
     "metadata": {},
     "output_type": "display_data"
    }
   ],
   "source": [
    "sales_by_rating_na = data.groupby('rating')['na_sales'].sum()\n",
    "sales_by_rating_na.plot(kind='box')\n",
    "plt.xlabel('rating')\n",
    "plt.ylabel('na_sales')\n",
    "plt.title('NA Продажи по рейтингу ESRB')\n",
    "plt.show()\n",
    "\n",
    "sales_by_rating_eu = data.groupby('rating')['eu_sales'].sum()\n",
    "sales_by_rating_eu.plot(kind='box')\n",
    "plt.xlabel('rating')\n",
    "plt.ylabel('eu_sales')\n",
    "plt.title('Продажи в ЕС по рейтингу ESRB')\n",
    "plt.show()\n",
    "\n",
    "sales_by_rating_jp = data.groupby('rating')['jp_sales'].sum()\n",
    "sales_by_rating_jp.plot(kind='box')\n",
    "plt.xlabel('rating')\n",
    "plt.ylabel('jp_sales')\n",
    "plt.title('JP Продажи по рейтингу ESRB')\n",
    "plt.show()"
   ]
  },
  {
   "attachments": {},
   "cell_type": "markdown",
   "metadata": {},
   "source": [
    "Если мы видим, что графики для определенного рейтинга имеют более высокую медиану и/или больший интерквартильный размах, чем графики для других регионов, это говорит о том, что рейтинг ESRB влияет на продажи в этом регионе."
   ]
  },
  {
   "attachments": {},
   "cell_type": "markdown",
   "metadata": {},
   "source": [
    "Заметно, что для Европейского региона и для региона Северной Америки характерен более значительный интерквартильный размах, что может говорить о связи между рейтингом ESRB и объемом продаж.\n",
    "\n",
    "Самая большая медиана по продажам в регионе Северная Америка"
   ]
  },
  {
   "cell_type": "code",
   "execution_count": 40,
   "metadata": {},
   "outputs": [
    {
     "data": {
      "image/png": "[encoded data removed]",
      "text/plain": [
       "<Figure size 432x216 with 1 Axes>"
      ]
     },
     "metadata": {},
     "output_type": "display_data"
    },
    {
     "data": {
      "image/png": "[encoded data removed]",
      "text/plain": [
       "<Figure size 432x216 with 1 Axes>"
      ]
     },
     "metadata": {},
     "output_type": "display_data"
    },
    {
     "data": {
      "image/png": "[encoded data removed]",
      "text/plain": [
       "<Figure size 432x216 with 1 Axes>"
      ]
     },
     "metadata": {},
     "output_type": "display_data"
    }
   ],
   "source": [
    "\n",
    "# Строим scatter plot\n",
    "plt.scatter(sales_by_rating_eu.index, sales_by_rating_eu.values)\n",
    "plt.xlabel('rating')\n",
    "plt.ylabel('eu_sales')\n",
    "plt.title('Корреляция между рейтингами и продажами в Европе')\n",
    "plt.show()\n",
    "\n",
    "# Строим scatter plot\n",
    "plt.scatter(sales_by_rating_na.index, sales_by_rating_na.values)\n",
    "plt.xlabel('rating')\n",
    "plt.ylabel('na_sales')\n",
    "plt.title('Корреляция между рейтингами и продажами в Северной Америке')\n",
    "plt.show()\n",
    "\n",
    "# Строим scatter plot\n",
    "plt.scatter(sales_by_rating_jp.index, sales_by_rating_jp.values)\n",
    "plt.xlabel('rating')\n",
    "plt.ylabel('jp_sales')\n",
    "plt.title('Корреляция между рейтингами и продажами в Японии')\n",
    "plt.show()"
   ]
  },
  {
   "attachments": {},
   "cell_type": "markdown",
   "metadata": {},
   "source": [
    "### Вывод:\n",
    "\n",
    "* Заметно, что для Европейского региона и для региона Северной Америки характерен более значительный интерквартильный размах, что может говорить о связи между рейтингом ESRB и объемом продаж.\n",
    "* Самая большая медиана по продажам в регионе Северная Америка\n",
    "* В Северной Америке и в Европе влияние рейтинга на продажи схожее. Большая часть выручки получена с игр с рейтингом E, то есть \"Для всех\", также там хорошо продаются такие жанры, как M, то есть > 17 лет\n",
    "* В Японии наиболее популярный жанр, также E, то есть \"Для всех\", на втором месте жанр T для лиц 13-19 лет"
   ]
  },
  {
   "attachments": {},
   "cell_type": "markdown",
   "metadata": {},
   "source": [
    "## Проверка гипотез"
   ]
  },
  {
   "attachments": {},
   "cell_type": "markdown",
   "metadata": {},
   "source": [
    "### Средние пользовательские рейтинги платформ Xbox One и PC одинаковые"
   ]
  },
  {
   "attachments": {},
   "cell_type": "markdown",
   "metadata": {},
   "source": [
    "Чтобы проверить гипотезу о том, что средние оценки пользователей платформ Xbox One и PC одинаковы, можно использовать t-тест. t-тест - это статистический метод, который сравнивает средние значения двух выборок, чтобы определить, отличаются ли они."
   ]
  },
  {
   "attachments": {},
   "cell_type": "markdown",
   "metadata": {},
   "source": [
    "В данном случае:\n",
    "Н0 - Заключается в том, что **средние оценки пользователей платформ Xbox One и ПК одинаковы.** \n",
    "\n",
    "Н1 - средние пользовательские рейтинги платформ Xbox One и PC отличаются между собой.\n",
    "\n",
    "Чтобы проверить гипотезу, можно сравнить p-значение с уровнем значимости (альфа), зададим alpha = 0.05"
   ]
  },
  {
   "cell_type": "code",
   "execution_count": 41,
   "metadata": {},
   "outputs": [
    {
     "data": {
      "text/plain": [
       "array(['Wii', 'NES', 'GB', 'DS', 'X360', 'PS3', 'PS2', 'SNES', 'GBA',\n",
       "       'PS4', '3DS', 'N64', 'PS', 'XB', 'PC', '2600', 'PSP', 'XOne',\n",
       "       'WiiU', 'GC', 'GEN', 'DC', 'PSV', 'SAT', 'SCD', 'WS', 'NG', 'TG16',\n",
       "       '3DO', 'GG', 'PCFX'], dtype=object)"
      ]
     },
     "execution_count": 41,
     "metadata": {},
     "output_type": "execute_result"
    }
   ],
   "source": [
    "data['platform'].unique()"
   ]
  },
  {
   "cell_type": "code",
   "execution_count": 42,
   "metadata": {},
   "outputs": [
    {
     "name": "stdout",
     "output_type": "stream",
     "text": [
      "t = -4.368333815003015\n",
      "p-value = 1.3896435534e-05\n",
      "\n",
      "Пороговое значение alpha = 0.05\n"
     ]
    }
   ],
   "source": [
    "# Получаем пользовательские рейтинги для платформ Xbox One и PC\n",
    "xbox_ratings = data[(data['platform'] == 'XOne') & (data['user_score'] > 0)]['user_score']\n",
    "pc_ratings =  data[(data['platform'] == 'PC') & (data['user_score'] > 0)]['user_score']\n",
    "\n",
    "# Проводим t-тест\n",
    "t_stat, p_value = stats.ttest_ind(xbox_ratings, pc_ratings)\n",
    "\n",
    "print('t = {}\\np-value = {:.10e}'.format(t_stat, p_value))\n",
    "print('\\nПороговое значение alpha = 0.05')"
   ]
  },
  {
   "attachments": {},
   "cell_type": "markdown",
   "metadata": {},
   "source": [
    "P-значение меньше 0.05, это означает, что разница в средних статистически значима, и можно отвергнуть нулевую гипотезу. Это говорит о том, что средние оценки пользователей платформ Xbox One и PC не одинаковы."
   ]
  },
  {
   "attachments": {},
   "cell_type": "markdown",
   "metadata": {},
   "source": [
    "### Средние пользовательские рейтинги жанров Action (англ. «действие», экшен-игры) и Sports (англ. «спортивные соревнования») разные."
   ]
  },
  {
   "attachments": {},
   "cell_type": "markdown",
   "metadata": {},
   "source": [
    "В данном случае: H0 - Заключается в том, что **Средние пользовательские рейтинги жанров Action (англ. «действие», экшен-игры) и Sports (англ. «спортивные соревнования») одинаковые**\n",
    "\n",
    "Н1  - средние пользовательские рейтинги жанров Action и Sports отличаются между собой."
   ]
  },
  {
   "cell_type": "code",
   "execution_count": 43,
   "metadata": {},
   "outputs": [
    {
     "name": "stdout",
     "output_type": "stream",
     "text": [
      "t = 1.6259419280500857\n",
      "p-value = 1.0406951359e-01\n",
      "\n",
      "Пороговое значение alpha = 0.05\n"
     ]
    }
   ],
   "source": [
    "action_ratings = data[(data['genre'] == 'Action')& (data['user_score'] > 0)]['user_score']\n",
    "sports_ratings = data[(data['genre'] == 'Sports')& (data['user_score'] > 0)]['user_score']\n",
    "\n",
    "# Проводим t-тест\n",
    "t_stat, p_value = stats.ttest_ind(action_ratings, sports_ratings)\n",
    "\n",
    "print('t = {}\\np-value = {:.10e}'.format(t_stat, p_value))\n",
    "print('\\nПороговое значение alpha = 0.05')"
   ]
  },
  {
   "attachments": {},
   "cell_type": "markdown",
   "metadata": {},
   "source": [
    "Если p-значение больше уровня значимости, это означает, что разница в средних не является статистически значимой, что говорит о том, что нет достаточных доказательств того, что средние пользовательские оценки жанров Action и Sports отличаются\n",
    "\n",
    "Так что мы не можем отвергнуть нулевую гипотезу"
   ]
  },
  {
   "attachments": {},
   "cell_type": "markdown",
   "metadata": {},
   "source": [
    "Важно отметить, что для того, чтобы t-тест был достоверным, необходимо соблюсти множество допущений. Предполагается, что данные нормально распределены и что разброс двух выборок одинаков. Если эти предположения не выполняются, можно использовать альтернативные статистические тесты, такие как t-тест Уэлча или U-тест Манна-Уитни."
   ]
  },
  {
   "attachments": {},
   "cell_type": "markdown",
   "metadata": {},
   "source": [
    "### Вывод:\n",
    "* Для первой гипотезы: P-значение меньше 0.05, это означает, что разница в средних статистически значима, и можно отвергнуть нулевую гипотезу. Это говорит о том, что средние оценки пользователей платформ Xbox One и PC не одинаковы.\n",
    "* Для второй гипотезы: Если p-значение больше уровня значимости, это означает, что разница в средних не является статистически значимой, что говорит о том, что нет достаточных доказательств того, что средние пользовательские оценки жанров Action и Sports отличаются, так что мы не можем отвергнуть нулевую гипотезу\n"
   ]
  },
  {
   "attachments": {},
   "cell_type": "markdown",
   "metadata": {},
   "source": [
    "## Вывод"
   ]
  },
  {
   "attachments": {},
   "cell_type": "markdown",
   "metadata": {},
   "source": [
    "* **По результатам анализа:** сильнейшее влияние на конечный доход в большинстве случаев оказывают оценки критиков. Пользовательские оценки не оказывают такого \"влияния\" на выручку. Следует поработать в этом направлении.\n",
    "\n",
    "\n",
    "* До 2002 года выходило менее 400 игр для платформ в год. На мой взгляд, период до 2002 года можно отбросить за неактуальностью. Больше всего игр было выпущено в 2008 году, меньше всего - в 1980 году. Это может быть связано с резким скачком в развитии технологий и популяризации приставок и консолей, а угасающий тренд может быть связан с популяризацией мобильных игр и приложений, а также с увеличением мощностей ПК\n",
    "\n",
    "\n",
    "* Безоговорочным победителем среди игровых платформ прошлого стала платформа PS2. Далее следуют Xbox360, PS3 и Wii. Среди самых редких платформ - японская технология Wii и DS.Период от появления до исчезновения платформы составляет около 10 лет.\n",
    "\n",
    "\n",
    "* Продажи игр, в среднем, достигают 0,6 млн. Медиана составляет 0,17 млн. Максимальное значение - 82,5 миллиона долларов.\n",
    "\n",
    "\n",
    "* Тремя самыми прибыльными жанрами являются: Action - 1744 млрд, Sports - 1331 млрд, Shooter - 1052 млрд. В число аутсайдеров входят головоломки, стратегии и неизвестные жанры, если выбирать жанр для новой игры стоит остановиться на первых трех, чтобы максимизировать прибыль\n",
    "\n",
    "\n",
    "* В Северной Америке и в Европе влияние рейтинга на продажи схожее. Большая часть выручки получена с игр с рейтингом E, то есть \"Для всех\", также там хорошо продаются такие жанры, как M, то есть > 17 летВ Японии наиболее популярный жанр, также E, то есть \"Для всех\", на втором месте жанр T для лиц 13-19 лет. На это стоит ориентироваться при выходе на международный рынок.\n",
    "\n",
    "\n",
    "* Средние оценки пользователей платформ Xbox One и PC не одинаковы, а вот средние пользовательские рейтинги жанров Action (англ. «действие», экшен-игры) и Sports (англ. «спортивные соревнования») нельзя назвать сильно различающимися"
   ]
  }
 ],
 "metadata": {
  "ExecuteTimeLog": [
   {
    "duration": 1378,
    "start_time": "2023-01-20T10:50:22.628Z"
   },
   {
    "duration": 4,
    "start_time": "2023-01-20T10:50:26.173Z"
   },
   {
    "duration": 193,
    "start_time": "2023-01-20T10:50:58.108Z"
   },
   {
    "duration": 11,
    "start_time": "2023-01-20T10:52:38.040Z"
   },
   {
    "duration": 54,
    "start_time": "2023-01-20T10:52:47.764Z"
   },
   {
    "duration": 18,
    "start_time": "2023-01-20T10:52:49.262Z"
   },
   {
    "duration": 826,
    "start_time": "2023-01-20T10:54:33.126Z"
   },
   {
    "duration": 601,
    "start_time": "2023-01-20T10:55:00.136Z"
   },
   {
    "duration": 799,
    "start_time": "2023-01-20T10:55:21.794Z"
   },
   {
    "duration": 753,
    "start_time": "2023-01-20T10:55:30.913Z"
   },
   {
    "duration": 701,
    "start_time": "2023-01-20T10:55:51.648Z"
   },
   {
    "duration": 842,
    "start_time": "2023-01-20T10:56:30.145Z"
   },
   {
    "duration": 15,
    "start_time": "2023-01-20T10:56:54.519Z"
   },
   {
    "duration": 2,
    "start_time": "2023-01-20T11:13:23.975Z"
   },
   {
    "duration": 3,
    "start_time": "2023-01-20T11:13:27.185Z"
   },
   {
    "duration": 50,
    "start_time": "2023-01-20T11:13:28.907Z"
   },
   {
    "duration": 18,
    "start_time": "2023-01-20T11:13:30.585Z"
   },
   {
    "duration": 786,
    "start_time": "2023-01-20T11:13:32.693Z"
   },
   {
    "duration": 15,
    "start_time": "2023-01-20T11:13:35.893Z"
   },
   {
    "duration": 3,
    "start_time": "2023-01-20T11:13:37.881Z"
   },
   {
    "duration": 18,
    "start_time": "2023-01-20T11:13:58.053Z"
   },
   {
    "duration": 112,
    "start_time": "2023-01-20T11:17:14.693Z"
   },
   {
    "duration": 3,
    "start_time": "2023-01-20T11:18:52.327Z"
   },
   {
    "duration": 6,
    "start_time": "2023-01-20T11:20:13.653Z"
   },
   {
    "duration": 10,
    "start_time": "2023-01-20T11:25:17.653Z"
   },
   {
    "duration": 2,
    "start_time": "2023-01-20T11:25:50.889Z"
   },
   {
    "duration": 7,
    "start_time": "2023-01-20T11:25:53.223Z"
   },
   {
    "duration": 6,
    "start_time": "2023-01-20T11:26:07.633Z"
   },
   {
    "duration": 7,
    "start_time": "2023-01-20T11:26:22.036Z"
   },
   {
    "duration": 994,
    "start_time": "2023-01-20T11:33:37.421Z"
   },
   {
    "duration": 1232,
    "start_time": "2023-01-20T11:39:34.833Z"
   },
   {
    "duration": 3,
    "start_time": "2023-01-20T11:39:37.942Z"
   },
   {
    "duration": 56,
    "start_time": "2023-01-20T11:39:39.999Z"
   },
   {
    "duration": 21,
    "start_time": "2023-01-20T11:39:41.365Z"
   },
   {
    "duration": 763,
    "start_time": "2023-01-20T11:39:43.930Z"
   },
   {
    "duration": 16,
    "start_time": "2023-01-20T11:39:47.101Z"
   },
   {
    "duration": 3,
    "start_time": "2023-01-20T11:39:49.201Z"
   },
   {
    "duration": 19,
    "start_time": "2023-01-20T11:39:50.584Z"
   },
   {
    "duration": 8,
    "start_time": "2023-01-20T11:39:53.724Z"
   },
   {
    "duration": 8,
    "start_time": "2023-01-20T11:39:56.864Z"
   },
   {
    "duration": 6,
    "start_time": "2023-01-20T11:39:58.105Z"
   },
   {
    "duration": 218676,
    "start_time": "2023-01-20T11:40:01.156Z"
   },
   {
    "duration": 220701,
    "start_time": "2023-01-20T11:44:35.126Z"
   },
   {
    "duration": 165,
    "start_time": "2023-01-20T11:48:32.056Z"
   },
   {
    "duration": 200,
    "start_time": "2023-01-20T11:49:58.920Z"
   },
   {
    "duration": 293,
    "start_time": "2023-01-20T11:50:07.273Z"
   },
   {
    "duration": 224,
    "start_time": "2023-01-20T11:54:08.250Z"
   },
   {
    "duration": 261,
    "start_time": "2023-01-20T11:55:41.561Z"
   },
   {
    "duration": 255,
    "start_time": "2023-01-20T11:55:47.356Z"
   },
   {
    "duration": 234,
    "start_time": "2023-01-20T11:55:53.994Z"
   },
   {
    "duration": 12,
    "start_time": "2023-01-20T12:20:43.063Z"
   },
   {
    "duration": 14,
    "start_time": "2023-01-20T12:20:55.693Z"
   },
   {
    "duration": 17,
    "start_time": "2023-01-20T12:21:08.087Z"
   },
   {
    "duration": 3,
    "start_time": "2023-01-20T12:34:38.204Z"
   },
   {
    "duration": 119,
    "start_time": "2023-01-20T12:37:18.325Z"
   },
   {
    "duration": 4,
    "start_time": "2023-01-20T12:38:37.668Z"
   },
   {
    "duration": 3,
    "start_time": "2023-01-20T12:38:38.845Z"
   },
   {
    "duration": 51,
    "start_time": "2023-01-20T12:38:40.028Z"
   },
   {
    "duration": 16,
    "start_time": "2023-01-20T12:38:41.971Z"
   },
   {
    "duration": 751,
    "start_time": "2023-01-20T12:38:44.045Z"
   },
   {
    "duration": 16,
    "start_time": "2023-01-20T12:38:47.330Z"
   },
   {
    "duration": 3,
    "start_time": "2023-01-20T12:38:49.672Z"
   },
   {
    "duration": 16,
    "start_time": "2023-01-20T12:38:50.916Z"
   },
   {
    "duration": 6,
    "start_time": "2023-01-20T12:38:53.748Z"
   },
   {
    "duration": 9,
    "start_time": "2023-01-20T12:38:56.598Z"
   },
   {
    "duration": 6,
    "start_time": "2023-01-20T12:38:57.715Z"
   },
   {
    "duration": 232,
    "start_time": "2023-01-20T12:39:00.505Z"
   },
   {
    "duration": 8,
    "start_time": "2023-01-20T12:40:26.709Z"
   },
   {
    "duration": 16,
    "start_time": "2023-01-20T12:40:28.263Z"
   },
   {
    "duration": 7,
    "start_time": "2023-01-20T12:42:54.783Z"
   },
   {
    "duration": 23,
    "start_time": "2023-01-20T12:45:44.758Z"
   },
   {
    "duration": 10,
    "start_time": "2023-01-20T12:46:15.943Z"
   },
   {
    "duration": 11,
    "start_time": "2023-01-20T12:50:06.136Z"
   },
   {
    "duration": 185,
    "start_time": "2023-01-20T12:50:14.369Z"
   },
   {
    "duration": 199,
    "start_time": "2023-01-20T12:52:11.035Z"
   },
   {
    "duration": 193,
    "start_time": "2023-01-20T12:53:46.531Z"
   },
   {
    "duration": 185,
    "start_time": "2023-01-20T12:53:52.871Z"
   },
   {
    "duration": 189,
    "start_time": "2023-01-20T12:54:04.545Z"
   },
   {
    "duration": 224,
    "start_time": "2023-01-20T12:54:38.024Z"
   },
   {
    "duration": 13,
    "start_time": "2023-01-20T12:58:40.776Z"
   },
   {
    "duration": 191,
    "start_time": "2023-01-20T12:58:54.972Z"
   },
   {
    "duration": 274,
    "start_time": "2023-01-20T12:59:37.365Z"
   },
   {
    "duration": 281,
    "start_time": "2023-01-20T13:00:14.876Z"
   },
   {
    "duration": 4,
    "start_time": "2023-01-20T13:10:49.663Z"
   },
   {
    "duration": 264,
    "start_time": "2023-01-20T13:10:54.112Z"
   },
   {
    "duration": 271,
    "start_time": "2023-01-20T13:11:36.688Z"
   },
   {
    "duration": 190,
    "start_time": "2023-01-20T13:15:35.620Z"
   },
   {
    "duration": 1676,
    "start_time": "2023-01-20T13:16:20.984Z"
   },
   {
    "duration": 13,
    "start_time": "2023-01-20T13:16:54.090Z"
   },
   {
    "duration": 19,
    "start_time": "2023-01-20T13:17:06.482Z"
   },
   {
    "duration": 124,
    "start_time": "2023-01-20T13:17:58.594Z"
   },
   {
    "duration": 844,
    "start_time": "2023-01-20T13:19:48.972Z"
   },
   {
    "duration": 129,
    "start_time": "2023-01-20T13:20:03.608Z"
   },
   {
    "duration": 130,
    "start_time": "2023-01-20T13:21:41.614Z"
   },
   {
    "duration": 12,
    "start_time": "2023-01-20T13:23:43.593Z"
   },
   {
    "duration": 280,
    "start_time": "2023-01-20T13:23:49.744Z"
   },
   {
    "duration": 298,
    "start_time": "2023-01-20T13:26:38.064Z"
   },
   {
    "duration": 884,
    "start_time": "2023-01-20T13:27:06.051Z"
   },
   {
    "duration": 280,
    "start_time": "2023-01-20T13:27:24.435Z"
   },
   {
    "duration": 7,
    "start_time": "2023-01-20T13:32:16.819Z"
   },
   {
    "duration": 7,
    "start_time": "2023-01-20T13:32:37.051Z"
   },
   {
    "duration": 5,
    "start_time": "2023-01-20T13:32:53.594Z"
   },
   {
    "duration": 273,
    "start_time": "2023-01-20T13:34:10.009Z"
   },
   {
    "duration": 269,
    "start_time": "2023-01-20T13:34:18.286Z"
   },
   {
    "duration": 271,
    "start_time": "2023-01-20T13:34:55.425Z"
   },
   {
    "duration": 5,
    "start_time": "2023-01-20T13:37:33.818Z"
   },
   {
    "duration": 13,
    "start_time": "2023-01-20T13:37:43.472Z"
   },
   {
    "duration": 3,
    "start_time": "2023-01-20T13:47:18.581Z"
   },
   {
    "duration": 62,
    "start_time": "2023-01-20T13:48:32.706Z"
   },
   {
    "duration": 45,
    "start_time": "2023-01-20T13:49:01.680Z"
   },
   {
    "duration": 246,
    "start_time": "2023-01-20T13:50:54.472Z"
   },
   {
    "duration": 287,
    "start_time": "2023-01-20T13:51:35.970Z"
   },
   {
    "duration": 283,
    "start_time": "2023-01-20T13:52:05.593Z"
   },
   {
    "duration": 250,
    "start_time": "2023-01-20T13:52:15.645Z"
   },
   {
    "duration": 283,
    "start_time": "2023-01-20T13:52:23.668Z"
   },
   {
    "duration": 275,
    "start_time": "2023-01-20T13:52:40.044Z"
   },
   {
    "duration": 1047,
    "start_time": "2023-01-20T13:56:39.797Z"
   },
   {
    "duration": 3,
    "start_time": "2023-01-20T13:56:42.373Z"
   },
   {
    "duration": 56,
    "start_time": "2023-01-20T13:56:45.675Z"
   },
   {
    "duration": 23,
    "start_time": "2023-01-20T13:56:47.387Z"
   },
   {
    "duration": 769,
    "start_time": "2023-01-20T13:56:49.492Z"
   },
   {
    "duration": 17,
    "start_time": "2023-01-20T13:56:52.636Z"
   },
   {
    "duration": 4,
    "start_time": "2023-01-20T13:56:54.597Z"
   },
   {
    "duration": 16,
    "start_time": "2023-01-20T13:56:55.743Z"
   },
   {
    "duration": 5,
    "start_time": "2023-01-20T13:56:58.391Z"
   },
   {
    "duration": 7,
    "start_time": "2023-01-20T13:57:00.950Z"
   },
   {
    "duration": 6,
    "start_time": "2023-01-20T13:57:02.272Z"
   },
   {
    "duration": 230,
    "start_time": "2023-01-20T13:57:04.482Z"
   },
   {
    "duration": 15,
    "start_time": "2023-01-20T13:57:08.840Z"
   },
   {
    "duration": 7,
    "start_time": "2023-01-20T13:57:11.103Z"
   },
   {
    "duration": 14,
    "start_time": "2023-01-20T13:57:12.163Z"
   },
   {
    "duration": 7,
    "start_time": "2023-01-20T13:57:14.341Z"
   },
   {
    "duration": 268,
    "start_time": "2023-01-20T13:57:16.077Z"
   },
   {
    "duration": 280,
    "start_time": "2023-01-20T13:57:24.512Z"
   },
   {
    "duration": 5,
    "start_time": "2023-01-20T13:57:28.241Z"
   },
   {
    "duration": 316,
    "start_time": "2023-01-20T13:57:31.937Z"
   },
   {
    "duration": 452,
    "start_time": "2023-01-20T13:58:52.091Z"
   },
   {
    "duration": 329,
    "start_time": "2023-01-20T13:59:06.225Z"
   },
   {
    "duration": 174,
    "start_time": "2023-01-20T14:01:37.909Z"
   },
   {
    "duration": 186,
    "start_time": "2023-01-20T14:01:54.456Z"
   },
   {
    "duration": 113,
    "start_time": "2023-01-20T14:02:42.964Z"
   },
   {
    "duration": 113,
    "start_time": "2023-01-20T14:02:47.527Z"
   },
   {
    "duration": 102,
    "start_time": "2023-01-20T14:02:55.851Z"
   },
   {
    "duration": 101,
    "start_time": "2023-01-20T14:03:26.876Z"
   },
   {
    "duration": 116,
    "start_time": "2023-01-20T14:03:53.966Z"
   },
   {
    "duration": 210,
    "start_time": "2023-01-20T14:04:03.487Z"
   },
   {
    "duration": 6,
    "start_time": "2023-01-20T14:09:21.477Z"
   },
   {
    "duration": 18,
    "start_time": "2023-01-20T14:09:31.240Z"
   },
   {
    "duration": 15,
    "start_time": "2023-01-20T14:09:53.490Z"
   },
   {
    "duration": 236,
    "start_time": "2023-01-20T14:10:37.416Z"
   },
   {
    "duration": 113,
    "start_time": "2023-01-20T14:11:50.221Z"
   },
   {
    "duration": 138,
    "start_time": "2023-01-20T14:12:38.171Z"
   },
   {
    "duration": 126,
    "start_time": "2023-01-20T14:12:59.096Z"
   },
   {
    "duration": 17,
    "start_time": "2023-01-20T14:14:01.791Z"
   },
   {
    "duration": 12,
    "start_time": "2023-01-20T14:14:16.514Z"
   },
   {
    "duration": 16,
    "start_time": "2023-01-20T14:14:35.623Z"
   },
   {
    "duration": 13,
    "start_time": "2023-01-20T14:14:51.978Z"
   },
   {
    "duration": 4,
    "start_time": "2023-01-20T14:16:47.746Z"
   },
   {
    "duration": 139,
    "start_time": "2023-01-20T14:17:16.682Z"
   },
   {
    "duration": 6,
    "start_time": "2023-01-20T14:17:52.281Z"
   },
   {
    "duration": 5,
    "start_time": "2023-01-20T14:18:08.554Z"
   },
   {
    "duration": 137,
    "start_time": "2023-01-20T14:19:28.417Z"
   },
   {
    "duration": 144,
    "start_time": "2023-01-20T14:19:37.901Z"
   },
   {
    "duration": 27,
    "start_time": "2023-01-20T14:20:33.147Z"
   },
   {
    "duration": 753,
    "start_time": "2023-01-20T14:20:51.229Z"
   },
   {
    "duration": 662,
    "start_time": "2023-01-20T14:24:15.012Z"
   },
   {
    "duration": 1144,
    "start_time": "2023-01-20T14:25:14.193Z"
   },
   {
    "duration": 19,
    "start_time": "2023-01-20T14:25:37.868Z"
   },
   {
    "duration": 1329,
    "start_time": "2023-01-20T14:26:10.070Z"
   },
   {
    "duration": 1199,
    "start_time": "2023-01-20T14:26:24.816Z"
   },
   {
    "duration": 1384,
    "start_time": "2023-01-20T14:26:39.045Z"
   },
   {
    "duration": 1143,
    "start_time": "2023-01-20T14:27:15.520Z"
   },
   {
    "duration": 1194,
    "start_time": "2023-01-20T14:28:05.947Z"
   },
   {
    "duration": 1188,
    "start_time": "2023-01-20T14:29:04.745Z"
   },
   {
    "duration": 1342,
    "start_time": "2023-01-20T14:30:04.769Z"
   },
   {
    "duration": 5,
    "start_time": "2023-01-20T14:31:18.873Z"
   },
   {
    "duration": 1215,
    "start_time": "2023-01-20T14:32:47.930Z"
   },
   {
    "duration": 11,
    "start_time": "2023-01-20T14:34:11.970Z"
   },
   {
    "duration": 14,
    "start_time": "2023-01-20T14:34:19.527Z"
   },
   {
    "duration": 12,
    "start_time": "2023-01-20T14:34:35.570Z"
   },
   {
    "duration": 751,
    "start_time": "2023-01-20T14:35:26.342Z"
   },
   {
    "duration": 756,
    "start_time": "2023-01-20T14:35:38.994Z"
   },
   {
    "duration": 842,
    "start_time": "2023-01-20T14:35:51.148Z"
   },
   {
    "duration": 1287,
    "start_time": "2023-01-20T14:36:05.238Z"
   },
   {
    "duration": 12,
    "start_time": "2023-01-20T14:40:43.510Z"
   },
   {
    "duration": 15,
    "start_time": "2023-01-20T14:41:32.468Z"
   },
   {
    "duration": 11,
    "start_time": "2023-01-20T14:41:40.974Z"
   },
   {
    "duration": 11,
    "start_time": "2023-01-20T14:41:58.501Z"
   },
   {
    "duration": 7,
    "start_time": "2023-01-20T14:48:20.793Z"
   },
   {
    "duration": 856,
    "start_time": "2023-01-20T14:48:47.834Z"
   },
   {
    "duration": 7,
    "start_time": "2023-01-20T14:49:07.658Z"
   },
   {
    "duration": 7,
    "start_time": "2023-01-20T14:50:07.515Z"
   },
   {
    "duration": 12,
    "start_time": "2023-01-20T14:50:15.859Z"
   },
   {
    "duration": 7,
    "start_time": "2023-01-20T14:50:24.448Z"
   },
   {
    "duration": 14,
    "start_time": "2023-01-20T14:50:58.795Z"
   },
   {
    "duration": 16,
    "start_time": "2023-01-20T14:51:58.793Z"
   },
   {
    "duration": 16,
    "start_time": "2023-01-20T14:52:10.024Z"
   },
   {
    "duration": 17,
    "start_time": "2023-01-20T14:52:19.979Z"
   },
   {
    "duration": 16,
    "start_time": "2023-01-20T14:52:57.683Z"
   },
   {
    "duration": 17,
    "start_time": "2023-01-20T14:53:14.684Z"
   },
   {
    "duration": 17,
    "start_time": "2023-01-20T14:53:24.723Z"
   },
   {
    "duration": 17,
    "start_time": "2023-01-20T14:53:48.800Z"
   },
   {
    "duration": 17,
    "start_time": "2023-01-20T14:54:05.420Z"
   },
   {
    "duration": 17,
    "start_time": "2023-01-20T14:54:26.533Z"
   },
   {
    "duration": 18,
    "start_time": "2023-01-20T14:54:37.637Z"
   },
   {
    "duration": 4,
    "start_time": "2023-01-20T14:55:29.920Z"
   },
   {
    "duration": 769,
    "start_time": "2023-01-20T14:56:37.397Z"
   },
   {
    "duration": 767,
    "start_time": "2023-01-20T14:56:46.556Z"
   },
   {
    "duration": 769,
    "start_time": "2023-01-20T14:57:13.141Z"
   },
   {
    "duration": 11,
    "start_time": "2023-01-20T15:04:59.543Z"
   },
   {
    "duration": 15,
    "start_time": "2023-01-20T15:05:27.137Z"
   },
   {
    "duration": 8465,
    "start_time": "2023-01-20T15:05:36.392Z"
   },
   {
    "duration": 19829,
    "start_time": "2023-01-20T15:06:48.020Z"
   },
   {
    "duration": 11,
    "start_time": "2023-01-20T15:09:37.107Z"
   },
   {
    "duration": 23461,
    "start_time": "2023-01-20T15:10:13.985Z"
   },
   {
    "duration": 16,
    "start_time": "2023-01-20T15:11:51.308Z"
   },
   {
    "duration": 13,
    "start_time": "2023-01-20T15:15:16.772Z"
   },
   {
    "duration": 25,
    "start_time": "2023-01-20T15:15:21.058Z"
   },
   {
    "duration": 19,
    "start_time": "2023-01-20T15:17:41.308Z"
   },
   {
    "duration": 19,
    "start_time": "2023-01-20T15:18:15.959Z"
   },
   {
    "duration": 16,
    "start_time": "2023-01-20T15:18:59.267Z"
   },
   {
    "duration": 19,
    "start_time": "2023-01-20T15:19:20.014Z"
   },
   {
    "duration": 17,
    "start_time": "2023-01-20T15:19:39.161Z"
   },
   {
    "duration": 170,
    "start_time": "2023-01-20T15:19:51.581Z"
   },
   {
    "duration": 16,
    "start_time": "2023-01-20T15:19:55.940Z"
   },
   {
    "duration": 10,
    "start_time": "2023-01-20T15:25:23.852Z"
   },
   {
    "duration": 114,
    "start_time": "2023-01-20T15:25:28.817Z"
   },
   {
    "duration": 485,
    "start_time": "2023-01-20T15:26:29.713Z"
   },
   {
    "duration": 50,
    "start_time": "2023-01-20T15:33:38.732Z"
   },
   {
    "duration": 157,
    "start_time": "2023-01-20T15:37:10.652Z"
   },
   {
    "duration": 458,
    "start_time": "2023-01-20T15:38:09.099Z"
   },
   {
    "duration": 544,
    "start_time": "2023-01-20T15:40:17.821Z"
   },
   {
    "duration": 4,
    "start_time": "2023-01-20T15:48:54.468Z"
   },
   {
    "duration": 8,
    "start_time": "2023-01-20T15:50:13.333Z"
   },
   {
    "duration": 9,
    "start_time": "2023-01-20T15:53:24.251Z"
   },
   {
    "duration": 10,
    "start_time": "2023-01-20T15:53:38.636Z"
   },
   {
    "duration": 6,
    "start_time": "2023-01-20T15:54:58.629Z"
   },
   {
    "duration": 11,
    "start_time": "2023-01-20T15:55:18.249Z"
   },
   {
    "duration": 9,
    "start_time": "2023-01-20T15:55:28.311Z"
   },
   {
    "duration": 12,
    "start_time": "2023-01-20T15:55:37.368Z"
   },
   {
    "duration": 9,
    "start_time": "2023-01-20T15:55:49.410Z"
   },
   {
    "duration": 11,
    "start_time": "2023-01-20T15:58:20.809Z"
   },
   {
    "duration": 12,
    "start_time": "2023-01-20T15:58:51.125Z"
   },
   {
    "duration": 11,
    "start_time": "2023-01-20T16:05:36.949Z"
   },
   {
    "duration": 460,
    "start_time": "2023-01-20T16:28:55.304Z"
   },
   {
    "duration": 382,
    "start_time": "2023-01-20T16:29:32.338Z"
   },
   {
    "duration": 16,
    "start_time": "2023-01-20T16:31:01.929Z"
   },
   {
    "duration": 18,
    "start_time": "2023-01-20T16:31:05.752Z"
   },
   {
    "duration": 4,
    "start_time": "2023-01-20T16:31:36.386Z"
   },
   {
    "duration": 12,
    "start_time": "2023-01-20T16:31:36.392Z"
   },
   {
    "duration": 57,
    "start_time": "2023-01-20T16:31:36.406Z"
   },
   {
    "duration": 18,
    "start_time": "2023-01-20T16:31:36.464Z"
   },
   {
    "duration": 1020,
    "start_time": "2023-01-20T16:31:36.484Z"
   },
   {
    "duration": 34,
    "start_time": "2023-01-20T16:31:37.506Z"
   },
   {
    "duration": 4,
    "start_time": "2023-01-20T16:31:37.542Z"
   },
   {
    "duration": 35,
    "start_time": "2023-01-20T16:31:37.548Z"
   },
   {
    "duration": 11,
    "start_time": "2023-01-20T16:31:37.585Z"
   },
   {
    "duration": 15,
    "start_time": "2023-01-20T16:31:37.598Z"
   },
   {
    "duration": 44,
    "start_time": "2023-01-20T16:31:37.615Z"
   },
   {
    "duration": 30,
    "start_time": "2023-01-20T16:31:37.661Z"
   },
   {
    "duration": 263,
    "start_time": "2023-01-20T16:31:37.692Z"
   },
   {
    "duration": 3,
    "start_time": "2023-01-20T16:31:37.959Z"
   },
   {
    "duration": 28,
    "start_time": "2023-01-20T16:31:37.963Z"
   },
   {
    "duration": 17,
    "start_time": "2023-01-20T16:31:37.992Z"
   },
   {
    "duration": 28,
    "start_time": "2023-01-20T16:31:38.011Z"
   },
   {
    "duration": 5,
    "start_time": "2023-01-20T16:31:38.040Z"
   },
   {
    "duration": 353,
    "start_time": "2023-01-20T16:31:38.047Z"
   },
   {
    "duration": 315,
    "start_time": "2023-01-20T16:31:38.402Z"
   },
   {
    "duration": 5,
    "start_time": "2023-01-20T16:31:38.718Z"
   },
   {
    "duration": 370,
    "start_time": "2023-01-20T16:31:38.725Z"
   },
   {
    "duration": 231,
    "start_time": "2023-01-20T16:31:39.096Z"
   },
   {
    "duration": 8,
    "start_time": "2023-01-20T16:31:39.338Z"
   },
   {
    "duration": 60,
    "start_time": "2023-01-20T16:31:39.347Z"
   },
   {
    "duration": 200,
    "start_time": "2023-01-20T16:31:39.409Z"
   },
   {
    "duration": 6,
    "start_time": "2023-01-20T16:31:39.611Z"
   },
   {
    "duration": 193,
    "start_time": "2023-01-20T16:31:39.618Z"
   },
   {
    "duration": 6,
    "start_time": "2023-01-20T16:31:39.813Z"
   },
   {
    "duration": 757,
    "start_time": "2023-01-20T16:31:39.821Z"
   },
   {
    "duration": 1370,
    "start_time": "2023-01-20T16:31:40.580Z"
   },
   {
    "duration": 12,
    "start_time": "2023-01-20T16:31:41.952Z"
   },
   {
    "duration": 18,
    "start_time": "2023-01-20T16:31:41.966Z"
   },
   {
    "duration": 23,
    "start_time": "2023-01-20T16:31:41.986Z"
   },
   {
    "duration": 40,
    "start_time": "2023-01-20T16:31:42.010Z"
   },
   {
    "duration": 354,
    "start_time": "2023-01-20T16:31:42.052Z"
   },
   {
    "duration": 556,
    "start_time": "2023-01-20T16:31:42.408Z"
   },
   {
    "duration": 5,
    "start_time": "2023-01-20T16:31:42.966Z"
   },
   {
    "duration": 18,
    "start_time": "2023-01-20T16:31:42.973Z"
   },
   {
    "duration": 23,
    "start_time": "2023-01-20T16:31:42.993Z"
   },
   {
    "duration": 1097,
    "start_time": "2023-01-20T17:41:57.630Z"
   },
   {
    "duration": 3,
    "start_time": "2023-01-20T17:41:58.728Z"
   },
   {
    "duration": 120,
    "start_time": "2023-01-20T17:41:58.732Z"
   },
   {
    "duration": 18,
    "start_time": "2023-01-20T17:41:58.854Z"
   },
   {
    "duration": 657,
    "start_time": "2023-01-20T17:41:58.874Z"
   },
   {
    "duration": 20,
    "start_time": "2023-01-20T17:41:59.533Z"
   },
   {
    "duration": 13,
    "start_time": "2023-01-20T17:41:59.554Z"
   },
   {
    "duration": 25,
    "start_time": "2023-01-20T17:41:59.569Z"
   },
   {
    "duration": 14,
    "start_time": "2023-01-20T17:41:59.596Z"
   },
   {
    "duration": 18,
    "start_time": "2023-01-20T17:41:59.613Z"
   },
   {
    "duration": 10,
    "start_time": "2023-01-20T17:41:59.632Z"
   },
   {
    "duration": 6,
    "start_time": "2023-01-20T17:41:59.643Z"
   },
   {
    "duration": 210,
    "start_time": "2023-01-20T17:41:59.650Z"
   },
   {
    "duration": 3,
    "start_time": "2023-01-20T17:41:59.861Z"
   },
   {
    "duration": 20,
    "start_time": "2023-01-20T17:41:59.865Z"
   },
   {
    "duration": 14,
    "start_time": "2023-01-20T17:41:59.886Z"
   },
   {
    "duration": 15,
    "start_time": "2023-01-20T17:41:59.901Z"
   },
   {
    "duration": 5,
    "start_time": "2023-01-20T17:41:59.917Z"
   },
   {
    "duration": 242,
    "start_time": "2023-01-20T17:41:59.923Z"
   },
   {
    "duration": 347,
    "start_time": "2023-01-20T17:42:00.166Z"
   },
   {
    "duration": 5,
    "start_time": "2023-01-20T17:42:00.515Z"
   },
   {
    "duration": 326,
    "start_time": "2023-01-20T17:42:00.521Z"
   },
   {
    "duration": 280,
    "start_time": "2023-01-20T17:42:00.849Z"
   },
   {
    "duration": 17,
    "start_time": "2023-01-20T17:42:01.130Z"
   },
   {
    "duration": 45,
    "start_time": "2023-01-20T17:42:01.148Z"
   },
   {
    "duration": 144,
    "start_time": "2023-01-20T17:42:01.194Z"
   },
   {
    "duration": 6,
    "start_time": "2023-01-20T17:42:01.340Z"
   },
   {
    "duration": 182,
    "start_time": "2023-01-20T17:42:01.350Z"
   },
   {
    "duration": 13,
    "start_time": "2023-01-20T17:42:01.534Z"
   },
   {
    "duration": 661,
    "start_time": "2023-01-20T17:42:01.549Z"
   },
   {
    "duration": 401,
    "start_time": "2023-01-20T17:42:02.213Z"
   },
   {
    "duration": 0,
    "start_time": "2023-01-20T17:42:02.615Z"
   },
   {
    "duration": 0,
    "start_time": "2023-01-20T17:42:02.616Z"
   },
   {
    "duration": 0,
    "start_time": "2023-01-20T17:42:02.617Z"
   },
   {
    "duration": 0,
    "start_time": "2023-01-20T17:42:02.618Z"
   },
   {
    "duration": 0,
    "start_time": "2023-01-20T17:42:02.619Z"
   },
   {
    "duration": 0,
    "start_time": "2023-01-20T17:42:02.620Z"
   },
   {
    "duration": 0,
    "start_time": "2023-01-20T17:42:02.621Z"
   },
   {
    "duration": 0,
    "start_time": "2023-01-20T17:42:02.622Z"
   },
   {
    "duration": 0,
    "start_time": "2023-01-20T17:42:02.623Z"
   },
   {
    "duration": 1417,
    "start_time": "2023-01-21T18:49:43.723Z"
   },
   {
    "duration": 6,
    "start_time": "2023-01-21T18:49:45.142Z"
   },
   {
    "duration": 196,
    "start_time": "2023-01-21T18:49:45.150Z"
   },
   {
    "duration": 19,
    "start_time": "2023-01-21T18:49:45.347Z"
   },
   {
    "duration": 730,
    "start_time": "2023-01-21T18:49:45.369Z"
   },
   {
    "duration": 23,
    "start_time": "2023-01-21T18:49:46.101Z"
   },
   {
    "duration": 4,
    "start_time": "2023-01-21T18:49:46.125Z"
   },
   {
    "duration": 33,
    "start_time": "2023-01-21T18:49:46.130Z"
   },
   {
    "duration": 4,
    "start_time": "2023-01-21T18:49:46.165Z"
   },
   {
    "duration": 9,
    "start_time": "2023-01-21T18:49:46.171Z"
   },
   {
    "duration": 9,
    "start_time": "2023-01-21T18:49:46.182Z"
   },
   {
    "duration": 7,
    "start_time": "2023-01-21T18:49:46.192Z"
   },
   {
    "duration": 467,
    "start_time": "2023-01-21T18:49:46.201Z"
   },
   {
    "duration": 4,
    "start_time": "2023-01-21T18:49:46.673Z"
   },
   {
    "duration": 41,
    "start_time": "2023-01-21T18:49:46.678Z"
   },
   {
    "duration": 18,
    "start_time": "2023-01-21T18:49:46.721Z"
   },
   {
    "duration": 19,
    "start_time": "2023-01-21T18:49:46.741Z"
   },
   {
    "duration": 27,
    "start_time": "2023-01-21T18:49:46.762Z"
   },
   {
    "duration": 11,
    "start_time": "2023-01-21T18:49:46.792Z"
   },
   {
    "duration": 344,
    "start_time": "2023-01-21T18:49:46.806Z"
   },
   {
    "duration": 306,
    "start_time": "2023-01-21T18:49:47.152Z"
   },
   {
    "duration": 6,
    "start_time": "2023-01-21T18:49:47.459Z"
   },
   {
    "duration": 361,
    "start_time": "2023-01-21T18:49:47.467Z"
   },
   {
    "duration": 531,
    "start_time": "2023-01-21T18:49:47.830Z"
   },
   {
    "duration": 215,
    "start_time": "2023-01-21T18:49:48.363Z"
   },
   {
    "duration": 6,
    "start_time": "2023-01-21T18:49:48.579Z"
   },
   {
    "duration": 16,
    "start_time": "2023-01-21T18:49:48.587Z"
   },
   {
    "duration": 213,
    "start_time": "2023-01-21T18:49:48.604Z"
   },
   {
    "duration": 6,
    "start_time": "2023-01-21T18:49:48.819Z"
   },
   {
    "duration": 211,
    "start_time": "2023-01-21T18:49:48.827Z"
   },
   {
    "duration": 11,
    "start_time": "2023-01-21T18:49:49.040Z"
   },
   {
    "duration": 784,
    "start_time": "2023-01-21T18:49:49.054Z"
   },
   {
    "duration": 482,
    "start_time": "2023-01-21T18:49:49.840Z"
   },
   {
    "duration": 0,
    "start_time": "2023-01-21T18:49:50.325Z"
   },
   {
    "duration": 0,
    "start_time": "2023-01-21T18:49:50.326Z"
   },
   {
    "duration": 0,
    "start_time": "2023-01-21T18:49:50.328Z"
   },
   {
    "duration": 0,
    "start_time": "2023-01-21T18:49:50.331Z"
   },
   {
    "duration": 0,
    "start_time": "2023-01-21T18:49:50.332Z"
   },
   {
    "duration": 0,
    "start_time": "2023-01-21T18:49:50.333Z"
   },
   {
    "duration": 0,
    "start_time": "2023-01-21T18:49:50.349Z"
   },
   {
    "duration": 0,
    "start_time": "2023-01-21T18:49:50.350Z"
   },
   {
    "duration": 0,
    "start_time": "2023-01-21T18:49:50.352Z"
   },
   {
    "duration": 557,
    "start_time": "2023-01-21T18:52:26.991Z"
   },
   {
    "duration": 323,
    "start_time": "2023-01-21T18:57:09.526Z"
   },
   {
    "duration": 304,
    "start_time": "2023-01-21T18:58:17.963Z"
   },
   {
    "duration": 309,
    "start_time": "2023-01-21T19:01:43.485Z"
   },
   {
    "duration": 162,
    "start_time": "2023-01-21T19:03:41.685Z"
   },
   {
    "duration": 205,
    "start_time": "2023-01-21T19:04:12.464Z"
   },
   {
    "duration": 71,
    "start_time": "2023-01-21T19:06:27.752Z"
   },
   {
    "duration": 190,
    "start_time": "2023-01-21T19:07:20.620Z"
   },
   {
    "duration": 316,
    "start_time": "2023-01-21T19:08:23.318Z"
   },
   {
    "duration": 199,
    "start_time": "2023-01-21T19:08:33.905Z"
   },
   {
    "duration": 208,
    "start_time": "2023-01-21T19:08:54.638Z"
   },
   {
    "duration": 215,
    "start_time": "2023-01-21T19:09:11.770Z"
   },
   {
    "duration": 238,
    "start_time": "2023-01-21T19:09:16.970Z"
   },
   {
    "duration": 199,
    "start_time": "2023-01-21T19:09:43.901Z"
   },
   {
    "duration": 208,
    "start_time": "2023-01-21T19:09:48.763Z"
   },
   {
    "duration": 185,
    "start_time": "2023-01-21T19:10:53.173Z"
   },
   {
    "duration": 570,
    "start_time": "2023-01-21T19:14:02.885Z"
   },
   {
    "duration": 660,
    "start_time": "2023-01-21T19:15:40.278Z"
   },
   {
    "duration": 620,
    "start_time": "2023-01-21T19:16:07.298Z"
   },
   {
    "duration": 812,
    "start_time": "2023-01-21T19:16:33.360Z"
   },
   {
    "duration": 835,
    "start_time": "2023-01-21T19:17:11.838Z"
   },
   {
    "duration": 642,
    "start_time": "2023-01-21T19:18:30.899Z"
   },
   {
    "duration": 640,
    "start_time": "2023-01-21T19:18:45.691Z"
   },
   {
    "duration": 752,
    "start_time": "2023-01-21T19:19:43.949Z"
   },
   {
    "duration": 621,
    "start_time": "2023-01-21T19:20:00.512Z"
   },
   {
    "duration": 651,
    "start_time": "2023-01-21T19:20:13.790Z"
   },
   {
    "duration": 677,
    "start_time": "2023-01-21T19:21:53.362Z"
   },
   {
    "duration": 750,
    "start_time": "2023-01-21T19:22:01.899Z"
   },
   {
    "duration": 642,
    "start_time": "2023-01-21T19:22:28.339Z"
   },
   {
    "duration": 648,
    "start_time": "2023-01-21T19:22:50.526Z"
   },
   {
    "duration": 826,
    "start_time": "2023-01-21T19:23:20.444Z"
   },
   {
    "duration": 726,
    "start_time": "2023-01-21T19:23:47.801Z"
   },
   {
    "duration": 624,
    "start_time": "2023-01-21T19:24:14.180Z"
   },
   {
    "duration": 828,
    "start_time": "2023-01-21T19:24:58.225Z"
   },
   {
    "duration": 660,
    "start_time": "2023-01-21T19:25:28.994Z"
   },
   {
    "duration": 683,
    "start_time": "2023-01-21T19:25:52.048Z"
   },
   {
    "duration": 823,
    "start_time": "2023-01-21T19:26:41.734Z"
   },
   {
    "duration": 289,
    "start_time": "2023-01-21T19:26:58.552Z"
   },
   {
    "duration": 68,
    "start_time": "2023-01-21T19:27:28.058Z"
   },
   {
    "duration": 102,
    "start_time": "2023-01-21T19:28:25.482Z"
   },
   {
    "duration": 137,
    "start_time": "2023-01-21T19:28:58.995Z"
   },
   {
    "duration": 169,
    "start_time": "2023-01-21T19:29:37.103Z"
   },
   {
    "duration": 153,
    "start_time": "2023-01-21T19:30:14.865Z"
   },
   {
    "duration": 161,
    "start_time": "2023-01-21T19:30:29.605Z"
   },
   {
    "duration": 150,
    "start_time": "2023-01-21T19:31:13.556Z"
   },
   {
    "duration": 326,
    "start_time": "2023-01-21T19:32:19.439Z"
   },
   {
    "duration": 1078,
    "start_time": "2023-01-21T19:33:00.250Z"
   },
   {
    "duration": 1210,
    "start_time": "2023-01-21T19:34:19.166Z"
   },
   {
    "duration": 892,
    "start_time": "2023-01-21T19:34:39.413Z"
   },
   {
    "duration": 2437,
    "start_time": "2023-01-21T19:35:09.727Z"
   },
   {
    "duration": 1250,
    "start_time": "2023-01-21T19:35:41.038Z"
   },
   {
    "duration": 1070,
    "start_time": "2023-01-21T19:36:22.976Z"
   },
   {
    "duration": 1051,
    "start_time": "2023-01-21T19:37:08.261Z"
   },
   {
    "duration": 3,
    "start_time": "2023-01-21T19:38:36.157Z"
   },
   {
    "duration": 7,
    "start_time": "2023-01-21T19:38:36.162Z"
   },
   {
    "duration": 60,
    "start_time": "2023-01-21T19:38:36.171Z"
   },
   {
    "duration": 20,
    "start_time": "2023-01-21T19:38:36.234Z"
   },
   {
    "duration": 782,
    "start_time": "2023-01-21T19:38:36.257Z"
   },
   {
    "duration": 18,
    "start_time": "2023-01-21T19:38:37.042Z"
   },
   {
    "duration": 3,
    "start_time": "2023-01-21T19:38:37.062Z"
   },
   {
    "duration": 32,
    "start_time": "2023-01-21T19:38:37.066Z"
   },
   {
    "duration": 7,
    "start_time": "2023-01-21T19:38:37.100Z"
   },
   {
    "duration": 10,
    "start_time": "2023-01-21T19:38:37.108Z"
   },
   {
    "duration": 11,
    "start_time": "2023-01-21T19:38:37.120Z"
   },
   {
    "duration": 7,
    "start_time": "2023-01-21T19:38:37.133Z"
   },
   {
    "duration": 384,
    "start_time": "2023-01-21T19:38:37.149Z"
   },
   {
    "duration": 3,
    "start_time": "2023-01-21T19:38:37.535Z"
   },
   {
    "duration": 14,
    "start_time": "2023-01-21T19:38:37.548Z"
   },
   {
    "duration": 8,
    "start_time": "2023-01-21T19:38:37.564Z"
   },
   {
    "duration": 6,
    "start_time": "2023-01-21T19:38:37.573Z"
   },
   {
    "duration": 17,
    "start_time": "2023-01-21T19:38:37.580Z"
   },
   {
    "duration": 4,
    "start_time": "2023-01-21T19:38:37.599Z"
   },
   {
    "duration": 293,
    "start_time": "2023-01-21T19:38:37.605Z"
   },
   {
    "duration": 255,
    "start_time": "2023-01-21T19:38:37.900Z"
   },
   {
    "duration": 6,
    "start_time": "2023-01-21T19:38:38.157Z"
   },
   {
    "duration": 296,
    "start_time": "2023-01-21T19:38:38.165Z"
   },
   {
    "duration": 754,
    "start_time": "2023-01-21T19:38:38.463Z"
   },
   {
    "duration": 122,
    "start_time": "2023-01-21T19:38:39.219Z"
   },
   {
    "duration": 9,
    "start_time": "2023-01-21T19:38:39.343Z"
   },
   {
    "duration": 19,
    "start_time": "2023-01-21T19:38:39.354Z"
   },
   {
    "duration": 173,
    "start_time": "2023-01-21T19:38:39.375Z"
   },
   {
    "duration": 4,
    "start_time": "2023-01-21T19:38:39.550Z"
   },
   {
    "duration": 156,
    "start_time": "2023-01-21T19:38:39.556Z"
   },
   {
    "duration": 5,
    "start_time": "2023-01-21T19:38:39.714Z"
   },
   {
    "duration": 691,
    "start_time": "2023-01-21T19:38:39.720Z"
   },
   {
    "duration": 1204,
    "start_time": "2023-01-21T19:38:40.413Z"
   },
   {
    "duration": 10,
    "start_time": "2023-01-21T19:38:41.618Z"
   },
   {
    "duration": 19,
    "start_time": "2023-01-21T19:38:41.630Z"
   },
   {
    "duration": 24,
    "start_time": "2023-01-21T19:38:41.651Z"
   },
   {
    "duration": 21,
    "start_time": "2023-01-21T19:38:41.677Z"
   },
   {
    "duration": 311,
    "start_time": "2023-01-21T19:38:41.700Z"
   },
   {
    "duration": 397,
    "start_time": "2023-01-21T19:38:42.012Z"
   },
   {
    "duration": 6,
    "start_time": "2023-01-21T19:38:42.410Z"
   },
   {
    "duration": 9,
    "start_time": "2023-01-21T19:38:42.420Z"
   },
   {
    "duration": 27,
    "start_time": "2023-01-21T19:38:42.431Z"
   },
   {
    "duration": 64,
    "start_time": "2023-01-22T12:31:44.030Z"
   },
   {
    "duration": 1338,
    "start_time": "2023-01-22T12:31:53.921Z"
   },
   {
    "duration": 3,
    "start_time": "2023-01-22T12:31:55.261Z"
   },
   {
    "duration": 54,
    "start_time": "2023-01-22T12:31:55.266Z"
   },
   {
    "duration": 19,
    "start_time": "2023-01-22T12:31:55.322Z"
   },
   {
    "duration": 896,
    "start_time": "2023-01-22T12:31:55.343Z"
   },
   {
    "duration": 17,
    "start_time": "2023-01-22T12:31:56.240Z"
   },
   {
    "duration": 7,
    "start_time": "2023-01-22T12:31:56.259Z"
   },
   {
    "duration": 40,
    "start_time": "2023-01-22T12:31:56.268Z"
   },
   {
    "duration": 18,
    "start_time": "2023-01-22T12:31:56.310Z"
   },
   {
    "duration": 10,
    "start_time": "2023-01-22T12:31:56.330Z"
   },
   {
    "duration": 21,
    "start_time": "2023-01-22T12:31:56.342Z"
   },
   {
    "duration": 13,
    "start_time": "2023-01-22T12:31:56.364Z"
   },
   {
    "duration": 253,
    "start_time": "2023-01-22T12:31:56.378Z"
   },
   {
    "duration": 3,
    "start_time": "2023-01-22T12:31:56.634Z"
   },
   {
    "duration": 25,
    "start_time": "2023-01-22T12:31:56.639Z"
   },
   {
    "duration": 11,
    "start_time": "2023-01-22T12:31:56.665Z"
   },
   {
    "duration": 23,
    "start_time": "2023-01-22T12:31:56.678Z"
   },
   {
    "duration": 30,
    "start_time": "2023-01-22T12:31:56.703Z"
   },
   {
    "duration": 6,
    "start_time": "2023-01-22T12:31:56.734Z"
   },
   {
    "duration": 253,
    "start_time": "2023-01-22T12:31:56.741Z"
   },
   {
    "duration": 319,
    "start_time": "2023-01-22T12:31:57.002Z"
   },
   {
    "duration": 5,
    "start_time": "2023-01-22T12:31:57.323Z"
   },
   {
    "duration": 329,
    "start_time": "2023-01-22T12:31:57.330Z"
   },
   {
    "duration": 1341,
    "start_time": "2023-01-22T12:31:57.661Z"
   },
   {
    "duration": 296,
    "start_time": "2023-01-22T12:31:59.004Z"
   },
   {
    "duration": 9,
    "start_time": "2023-01-22T12:31:59.306Z"
   },
   {
    "duration": 34,
    "start_time": "2023-01-22T12:31:59.319Z"
   },
   {
    "duration": 484,
    "start_time": "2023-01-22T12:31:59.356Z"
   },
   {
    "duration": 69,
    "start_time": "2023-01-22T12:31:59.842Z"
   },
   {
    "duration": 383,
    "start_time": "2023-01-22T12:31:59.921Z"
   },
   {
    "duration": 6,
    "start_time": "2023-01-22T12:32:00.314Z"
   },
   {
    "duration": 812,
    "start_time": "2023-01-22T12:32:00.322Z"
   },
   {
    "duration": 1201,
    "start_time": "2023-01-22T12:32:01.135Z"
   },
   {
    "duration": 11,
    "start_time": "2023-01-22T12:32:02.338Z"
   },
   {
    "duration": 55,
    "start_time": "2023-01-22T12:32:02.350Z"
   },
   {
    "duration": 42,
    "start_time": "2023-01-22T12:32:02.407Z"
   },
   {
    "duration": 29,
    "start_time": "2023-01-22T12:32:02.451Z"
   },
   {
    "duration": 378,
    "start_time": "2023-01-22T12:32:02.482Z"
   },
   {
    "duration": 457,
    "start_time": "2023-01-22T12:32:02.862Z"
   },
   {
    "duration": 8,
    "start_time": "2023-01-22T12:32:03.321Z"
   },
   {
    "duration": 25,
    "start_time": "2023-01-22T12:32:03.333Z"
   },
   {
    "duration": 17,
    "start_time": "2023-01-22T12:32:03.360Z"
   },
   {
    "duration": 93,
    "start_time": "2023-01-22T12:32:37.466Z"
   },
   {
    "duration": 11,
    "start_time": "2023-01-22T12:32:46.924Z"
   },
   {
    "duration": 17,
    "start_time": "2023-01-22T12:33:22.224Z"
   },
   {
    "duration": 17,
    "start_time": "2023-01-22T12:35:27.325Z"
   },
   {
    "duration": 17,
    "start_time": "2023-01-22T12:35:34.514Z"
   }
  ],
  "kernelspec": {
   "display_name": "Python 3 (ipykernel)",
   "language": "python",
   "name": "python3"
  },
  "language_info": {
   "codemirror_mode": {
    "name": "ipython",
    "version": 3
   },
   "file_extension": ".py",
   "mimetype": "text/x-python",
   "name": "python",
   "nbconvert_exporter": "python",
   "pygments_lexer": "ipython3",
   "version": "3.9.5"
  },
  "toc": {
   "base_numbering": 1,
   "nav_menu": {},
   "number_sections": true,
   "sideBar": true,
   "skip_h1_title": true,
   "title_cell": "Table of Contents",
   "title_sidebar": "Contents",
   "toc_cell": false,
   "toc_position": {
    "height": "calc(100% - 180px)",
    "left": "10px",
    "top": "150px",
    "width": "264.797px"
   },
   "toc_section_display": true,
   "toc_window_display": true
  }
 },
 "nbformat": 4,
 "nbformat_minor": 2
}
