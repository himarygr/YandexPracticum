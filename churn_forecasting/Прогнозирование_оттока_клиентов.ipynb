{
 "cells": [
  {
   "attachments": {},
   "cell_type": "markdown",
   "metadata": {
    "toc": true
   },
   "source": [
    "<h1>Содержание<span class=\"tocSkip\"></span></h1>\n",
    "<div class=\"toc\"><ul class=\"toc-item\"><li><span><a href=\"#Подготовка-данных\" data-toc-modified-id=\"Подготовка-данных-1\"><span class=\"toc-item-num\">1&nbsp;&nbsp;</span>Подготовка данных</a></span><ul class=\"toc-item\"><li><span><a href=\"#Загрузка-данных\" data-toc-modified-id=\"Загрузка-данных-1.1\"><span class=\"toc-item-num\">1.1&nbsp;&nbsp;</span>Загрузка данных</a></span></li><li><span><a href=\"#Подготовка-данных\" data-toc-modified-id=\"Подготовка-данных-1.2\"><span class=\"toc-item-num\">1.2&nbsp;&nbsp;</span>Подготовка данных</a></span></li><li><span><a href=\"#Исследование-данных\" data-toc-modified-id=\"Исследование-данных-1.3\"><span class=\"toc-item-num\">1.3&nbsp;&nbsp;</span>Исследование данных</a></span></li><li><span><a href=\"#Вывод:\" data-toc-modified-id=\"Вывод:-1.4\"><span class=\"toc-item-num\">1.4&nbsp;&nbsp;</span>Вывод:</a></span></li></ul></li><li><span><a href=\"#Исследование-задачи\" data-toc-modified-id=\"Исследование-задачи-2\"><span class=\"toc-item-num\">2&nbsp;&nbsp;</span>Исследование задачи</a></span><ul class=\"toc-item\"><li><span><a href=\"#Изучение-баланса-классов\" data-toc-modified-id=\"Изучение-баланса-классов-2.1\"><span class=\"toc-item-num\">2.1&nbsp;&nbsp;</span>Изучение баланса классов</a></span></li><li><span><a href=\"#OHE\" data-toc-modified-id=\"OHE-2.2\"><span class=\"toc-item-num\">2.2&nbsp;&nbsp;</span>OHE</a></span></li><li><span><a href=\"#Разделение-исходных-данных-на-обучающую,-валидационную-и-тестовую-выборки\" data-toc-modified-id=\"Разделение-исходных-данных-на-обучающую,-валидационную-и-тестовую-выборки-2.3\"><span class=\"toc-item-num\">2.3&nbsp;&nbsp;</span>Разделение исходных данных на обучающую, валидационную и тестовую выборки</a></span></li><li><span><a href=\"#Масштабирование\" data-toc-modified-id=\"Масштабирование-2.4\"><span class=\"toc-item-num\">2.4&nbsp;&nbsp;</span>Масштабирование</a></span></li><li><span><a href=\"#Выводы:\" data-toc-modified-id=\"Выводы:-2.5\"><span class=\"toc-item-num\">2.5&nbsp;&nbsp;</span>Выводы:</a></span></li></ul></li><li><span><a href=\"#Борьба-с-дисбалансом\" data-toc-modified-id=\"Борьба-с-дисбалансом-3\"><span class=\"toc-item-num\">3&nbsp;&nbsp;</span>Борьба с дисбалансом</a></span><ul class=\"toc-item\"><li><span><a href=\"#Увеличение-выборки\" data-toc-modified-id=\"Увеличение-выборки-3.1\"><span class=\"toc-item-num\">3.1&nbsp;&nbsp;</span>Увеличение выборки</a></span></li><li><span><a href=\"#Уменьшение-выборки\" data-toc-modified-id=\"Уменьшение-выборки-3.2\"><span class=\"toc-item-num\">3.2&nbsp;&nbsp;</span>Уменьшение выборки</a></span></li></ul></li><li><span><a href=\"#Тестирование-модели\" data-toc-modified-id=\"Тестирование-модели-4\"><span class=\"toc-item-num\">4&nbsp;&nbsp;</span>Тестирование модели</a></span><ul class=\"toc-item\"><li><span><a href=\"#Построение-AUC-ROC-кривой-на-тестовой-выборке\" data-toc-modified-id=\"Построение-AUC-ROC-кривой-на-тестовой-выборке-4.1\"><span class=\"toc-item-num\">4.1&nbsp;&nbsp;</span>Построение AUC-ROC кривой на тестовой выборке</a></span></li><li><span><a href=\"#Сравнение-с-константной-моделью\" data-toc-modified-id=\"Сравнение-с-константной-моделью-4.2\"><span class=\"toc-item-num\">4.2&nbsp;&nbsp;</span>Сравнение с константной моделью</a></span></li></ul></li><li><span><a href=\"#Чек-лист-готовности-проекта\" data-toc-modified-id=\"Чек-лист-готовности-проекта-5\"><span class=\"toc-item-num\">5&nbsp;&nbsp;</span>Чек-лист готовности проекта</a></span></li><li><span><a href=\"#Вывод\" data-toc-modified-id=\"Вывод-6\"><span class=\"toc-item-num\">6&nbsp;&nbsp;</span>Вывод</a></span></li></ul></div>"
   ]
  },
  {
   "attachments": {},
   "cell_type": "markdown",
   "metadata": {},
   "source": [
    "# Отток клиентов"
   ]
  },
  {
   "attachments": {},
   "cell_type": "markdown",
   "metadata": {},
   "source": [
    "Из «Бета-Банка» стали уходить клиенты. Каждый месяц. Немного, но заметно. Банковские маркетологи посчитали: сохранять текущих клиентов дешевле, чем привлекать новых.\n",
    "\n",
    "Нужно спрогнозировать, уйдёт клиент из банка в ближайшее время или нет. Вам предоставлены исторические данные о поведении клиентов и расторжении договоров с банком. \n",
    "\n",
    "Постройте модель с предельно большим значением *F1*-меры. Чтобы сдать проект успешно, нужно довести метрику до 0.59. Проверьте *F1*-меру на тестовой выборке самостоятельно.\n",
    "\n",
    "Дополнительно измеряйте *AUC-ROC*, сравнивайте её значение с *F1*-мерой.\n",
    "\n",
    "Источник данных: [https://www.kaggle.com/barelydedicated/bank-customer-churn-modeling](https://www.kaggle.com/barelydedicated/bank-customer-churn-modeling)"
   ]
  },
  {
   "attachments": {},
   "cell_type": "markdown",
   "metadata": {},
   "source": [
    "## Подготовка данных"
   ]
  },
  {
   "cell_type": "code",
   "execution_count": 2,
   "metadata": {},
   "outputs": [],
   "source": [
    "#Импорт библиотек\n",
    "import pandas as pd\n",
    "import matplotlib.pyplot as plt \n",
    "from matplotlib import rcParams\n",
    "import seaborn as sns\n",
    "import numpy as np\n",
    "import warnings\n",
    "from scipy import stats\n",
    "from sklearn.utils import shuffle\n",
    "from sklearn.preprocessing import StandardScaler\n",
    "\n",
    "from sklearn.metrics import(roc_auc_score,  roc_curve,  mean_squared_error, accuracy_score, precision_score, recall_score, f1_score)\n",
    "\n",
    "from sklearn.ensemble import RandomForestClassifier\n",
    "from sklearn.model_selection import train_test_split\n",
    "from sklearn.linear_model import LogisticRegression \n",
    "from sklearn.tree import DecisionTreeClassifier\n",
    "\n",
    "warnings.simplefilter(action='ignore', category=FutureWarning)\n",
    "pd.options.mode.chained_assignment = None\n",
    "from joblib import dump"
   ]
  },
  {
   "cell_type": "code",
   "execution_count": 3,
   "metadata": {},
   "outputs": [],
   "source": [
    "plt.style.use(\"ggplot\")\n",
    "rcParams['figure.figsize'] = (6,  3)"
   ]
  },
  {
   "attachments": {},
   "cell_type": "markdown",
   "metadata": {},
   "source": [
    "### Загрузка данных"
   ]
  },
  {
   "cell_type": "code",
   "execution_count": 4,
   "metadata": {},
   "outputs": [],
   "source": [
    "try:\n",
    "    data = pd.read_csv('/datasets/Churn.csv', sep = ',')\n",
    "except:\n",
    "    data = pd.read_csv('https://code.s3.yandex.net/datasets/Churn.csv')"
   ]
  },
  {
   "cell_type": "code",
   "execution_count": 5,
   "metadata": {},
   "outputs": [
    {
     "data": {
      "text/html": [
       "<div>\n",
       "<style scoped>\n",
       "    .dataframe tbody tr th:only-of-type {\n",
       "        vertical-align: middle;\n",
       "    }\n",
       "\n",
       "    .dataframe tbody tr th {\n",
       "        vertical-align: top;\n",
       "    }\n",
       "\n",
       "    .dataframe thead th {\n",
       "        text-align: right;\n",
       "    }\n",
       "</style>\n",
       "<table border=\"1\" class=\"dataframe\">\n",
       "  <thead>\n",
       "    <tr style=\"text-align: right;\">\n",
       "      <th></th>\n",
       "      <th>RowNumber</th>\n",
       "      <th>CustomerId</th>\n",
       "      <th>Surname</th>\n",
       "      <th>CreditScore</th>\n",
       "      <th>Geography</th>\n",
       "      <th>Gender</th>\n",
       "      <th>Age</th>\n",
       "      <th>Tenure</th>\n",
       "      <th>Balance</th>\n",
       "      <th>NumOfProducts</th>\n",
       "      <th>HasCrCard</th>\n",
       "      <th>IsActiveMember</th>\n",
       "      <th>EstimatedSalary</th>\n",
       "      <th>Exited</th>\n",
       "    </tr>\n",
       "  </thead>\n",
       "  <tbody>\n",
       "    <tr>\n",
       "      <th>0</th>\n",
       "      <td>1</td>\n",
       "      <td>15634602</td>\n",
       "      <td>Hargrave</td>\n",
       "      <td>619</td>\n",
       "      <td>France</td>\n",
       "      <td>Female</td>\n",
       "      <td>42</td>\n",
       "      <td>2.0</td>\n",
       "      <td>0.00</td>\n",
       "      <td>1</td>\n",
       "      <td>1</td>\n",
       "      <td>1</td>\n",
       "      <td>101348.88</td>\n",
       "      <td>1</td>\n",
       "    </tr>\n",
       "    <tr>\n",
       "      <th>1</th>\n",
       "      <td>2</td>\n",
       "      <td>15647311</td>\n",
       "      <td>Hill</td>\n",
       "      <td>608</td>\n",
       "      <td>Spain</td>\n",
       "      <td>Female</td>\n",
       "      <td>41</td>\n",
       "      <td>1.0</td>\n",
       "      <td>83807.86</td>\n",
       "      <td>1</td>\n",
       "      <td>0</td>\n",
       "      <td>1</td>\n",
       "      <td>112542.58</td>\n",
       "      <td>0</td>\n",
       "    </tr>\n",
       "    <tr>\n",
       "      <th>2</th>\n",
       "      <td>3</td>\n",
       "      <td>15619304</td>\n",
       "      <td>Onio</td>\n",
       "      <td>502</td>\n",
       "      <td>France</td>\n",
       "      <td>Female</td>\n",
       "      <td>42</td>\n",
       "      <td>8.0</td>\n",
       "      <td>159660.80</td>\n",
       "      <td>3</td>\n",
       "      <td>1</td>\n",
       "      <td>0</td>\n",
       "      <td>113931.57</td>\n",
       "      <td>1</td>\n",
       "    </tr>\n",
       "    <tr>\n",
       "      <th>3</th>\n",
       "      <td>4</td>\n",
       "      <td>15701354</td>\n",
       "      <td>Boni</td>\n",
       "      <td>699</td>\n",
       "      <td>France</td>\n",
       "      <td>Female</td>\n",
       "      <td>39</td>\n",
       "      <td>1.0</td>\n",
       "      <td>0.00</td>\n",
       "      <td>2</td>\n",
       "      <td>0</td>\n",
       "      <td>0</td>\n",
       "      <td>93826.63</td>\n",
       "      <td>0</td>\n",
       "    </tr>\n",
       "    <tr>\n",
       "      <th>4</th>\n",
       "      <td>5</td>\n",
       "      <td>15737888</td>\n",
       "      <td>Mitchell</td>\n",
       "      <td>850</td>\n",
       "      <td>Spain</td>\n",
       "      <td>Female</td>\n",
       "      <td>43</td>\n",
       "      <td>2.0</td>\n",
       "      <td>125510.82</td>\n",
       "      <td>1</td>\n",
       "      <td>1</td>\n",
       "      <td>1</td>\n",
       "      <td>79084.10</td>\n",
       "      <td>0</td>\n",
       "    </tr>\n",
       "    <tr>\n",
       "      <th>5</th>\n",
       "      <td>6</td>\n",
       "      <td>15574012</td>\n",
       "      <td>Chu</td>\n",
       "      <td>645</td>\n",
       "      <td>Spain</td>\n",
       "      <td>Male</td>\n",
       "      <td>44</td>\n",
       "      <td>8.0</td>\n",
       "      <td>113755.78</td>\n",
       "      <td>2</td>\n",
       "      <td>1</td>\n",
       "      <td>0</td>\n",
       "      <td>149756.71</td>\n",
       "      <td>1</td>\n",
       "    </tr>\n",
       "    <tr>\n",
       "      <th>6</th>\n",
       "      <td>7</td>\n",
       "      <td>15592531</td>\n",
       "      <td>Bartlett</td>\n",
       "      <td>822</td>\n",
       "      <td>France</td>\n",
       "      <td>Male</td>\n",
       "      <td>50</td>\n",
       "      <td>7.0</td>\n",
       "      <td>0.00</td>\n",
       "      <td>2</td>\n",
       "      <td>1</td>\n",
       "      <td>1</td>\n",
       "      <td>10062.80</td>\n",
       "      <td>0</td>\n",
       "    </tr>\n",
       "    <tr>\n",
       "      <th>7</th>\n",
       "      <td>8</td>\n",
       "      <td>15656148</td>\n",
       "      <td>Obinna</td>\n",
       "      <td>376</td>\n",
       "      <td>Germany</td>\n",
       "      <td>Female</td>\n",
       "      <td>29</td>\n",
       "      <td>4.0</td>\n",
       "      <td>115046.74</td>\n",
       "      <td>4</td>\n",
       "      <td>1</td>\n",
       "      <td>0</td>\n",
       "      <td>119346.88</td>\n",
       "      <td>1</td>\n",
       "    </tr>\n",
       "    <tr>\n",
       "      <th>8</th>\n",
       "      <td>9</td>\n",
       "      <td>15792365</td>\n",
       "      <td>He</td>\n",
       "      <td>501</td>\n",
       "      <td>France</td>\n",
       "      <td>Male</td>\n",
       "      <td>44</td>\n",
       "      <td>4.0</td>\n",
       "      <td>142051.07</td>\n",
       "      <td>2</td>\n",
       "      <td>0</td>\n",
       "      <td>1</td>\n",
       "      <td>74940.50</td>\n",
       "      <td>0</td>\n",
       "    </tr>\n",
       "    <tr>\n",
       "      <th>9</th>\n",
       "      <td>10</td>\n",
       "      <td>15592389</td>\n",
       "      <td>H?</td>\n",
       "      <td>684</td>\n",
       "      <td>France</td>\n",
       "      <td>Male</td>\n",
       "      <td>27</td>\n",
       "      <td>2.0</td>\n",
       "      <td>134603.88</td>\n",
       "      <td>1</td>\n",
       "      <td>1</td>\n",
       "      <td>1</td>\n",
       "      <td>71725.73</td>\n",
       "      <td>0</td>\n",
       "    </tr>\n",
       "  </tbody>\n",
       "</table>\n",
       "</div>"
      ],
      "text/plain": [
       "   RowNumber  CustomerId   Surname  CreditScore Geography  Gender  Age  \\\n",
       "0          1    15634602  Hargrave          619    France  Female   42   \n",
       "1          2    15647311      Hill          608     Spain  Female   41   \n",
       "2          3    15619304      Onio          502    France  Female   42   \n",
       "3          4    15701354      Boni          699    France  Female   39   \n",
       "4          5    15737888  Mitchell          850     Spain  Female   43   \n",
       "5          6    15574012       Chu          645     Spain    Male   44   \n",
       "6          7    15592531  Bartlett          822    France    Male   50   \n",
       "7          8    15656148    Obinna          376   Germany  Female   29   \n",
       "8          9    15792365        He          501    France    Male   44   \n",
       "9         10    15592389        H?          684    France    Male   27   \n",
       "\n",
       "   Tenure    Balance  NumOfProducts  HasCrCard  IsActiveMember  \\\n",
       "0     2.0       0.00              1          1               1   \n",
       "1     1.0   83807.86              1          0               1   \n",
       "2     8.0  159660.80              3          1               0   \n",
       "3     1.0       0.00              2          0               0   \n",
       "4     2.0  125510.82              1          1               1   \n",
       "5     8.0  113755.78              2          1               0   \n",
       "6     7.0       0.00              2          1               1   \n",
       "7     4.0  115046.74              4          1               0   \n",
       "8     4.0  142051.07              2          0               1   \n",
       "9     2.0  134603.88              1          1               1   \n",
       "\n",
       "   EstimatedSalary  Exited  \n",
       "0        101348.88       1  \n",
       "1        112542.58       0  \n",
       "2        113931.57       1  \n",
       "3         93826.63       0  \n",
       "4         79084.10       0  \n",
       "5        149756.71       1  \n",
       "6         10062.80       0  \n",
       "7        119346.88       1  \n",
       "8         74940.50       0  \n",
       "9         71725.73       0  "
      ]
     },
     "execution_count": 5,
     "metadata": {},
     "output_type": "execute_result"
    }
   ],
   "source": [
    "data.head(10)"
   ]
  },
  {
   "cell_type": "code",
   "execution_count": 6,
   "metadata": {},
   "outputs": [
    {
     "data": {
      "image/png": "[encoded data removed]",
      "text/plain": [
       "<Figure size 720x864 with 12 Axes>"
      ]
     },
     "metadata": {},
     "output_type": "display_data"
    }
   ],
   "source": [
    "data.hist(figsize=(10, 12))\n",
    "plt.show()"
   ]
  },
  {
   "attachments": {},
   "cell_type": "markdown",
   "metadata": {},
   "source": [
    "### Подготовка данных"
   ]
  },
  {
   "cell_type": "code",
   "execution_count": 7,
   "metadata": {},
   "outputs": [
    {
     "data": {
      "text/plain": [
       "Index(['rownumber', 'customerid', 'surname', 'creditscore', 'geography',\n",
       "       'gender', 'age', 'tenure', 'balance', 'numofproducts', 'hascrcard',\n",
       "       'isactivemember', 'estimatedsalary', 'exited'],\n",
       "      dtype='object')"
      ]
     },
     "execution_count": 7,
     "metadata": {},
     "output_type": "execute_result"
    }
   ],
   "source": [
    "#Приводим колонки к snake case\n",
    "data.columns = data.columns.str.lower()\n",
    "data.columns"
   ]
  },
  {
   "cell_type": "code",
   "execution_count": 8,
   "metadata": {},
   "outputs": [
    {
     "data": {
      "text/plain": [
       "Index(['row_number', 'customer_id', 'surname', 'credit_score', 'geography',\n",
       "       'gender', 'age', 'tenure', 'balance', 'num_of_products', 'has_cr_card',\n",
       "       'is_active_member', 'estimated_salary', 'exited'],\n",
       "      dtype='object')"
      ]
     },
     "execution_count": 8,
     "metadata": {},
     "output_type": "execute_result"
    }
   ],
   "source": [
    "data.columns = ['row_number', 'customer_id', 'surname', 'credit_score', 'geography',\n",
    "       'gender', 'age', 'tenure', 'balance', 'num_of_products', 'has_cr_card',\n",
    "       'is_active_member', 'estimated_salary', 'exited']\n",
    "data.columns"
   ]
  },
  {
   "cell_type": "code",
   "execution_count": 9,
   "metadata": {},
   "outputs": [
    {
     "name": "stdout",
     "output_type": "stream",
     "text": [
      "<class 'pandas.core.frame.DataFrame'>\n",
      "RangeIndex: 10000 entries, 0 to 9999\n",
      "Data columns (total 14 columns):\n",
      " #   Column            Non-Null Count  Dtype  \n",
      "---  ------            --------------  -----  \n",
      " 0   row_number        10000 non-null  int64  \n",
      " 1   customer_id       10000 non-null  int64  \n",
      " 2   surname           10000 non-null  object \n",
      " 3   credit_score      10000 non-null  int64  \n",
      " 4   geography         10000 non-null  object \n",
      " 5   gender            10000 non-null  object \n",
      " 6   age               10000 non-null  int64  \n",
      " 7   tenure            9091 non-null   float64\n",
      " 8   balance           10000 non-null  float64\n",
      " 9   num_of_products   10000 non-null  int64  \n",
      " 10  has_cr_card       10000 non-null  int64  \n",
      " 11  is_active_member  10000 non-null  int64  \n",
      " 12  estimated_salary  10000 non-null  float64\n",
      " 13  exited            10000 non-null  int64  \n",
      "dtypes: float64(3), int64(8), object(3)\n",
      "memory usage: 1.1+ MB\n"
     ]
    }
   ],
   "source": [
    "data.info()"
   ]
  },
  {
   "attachments": {},
   "cell_type": "markdown",
   "metadata": {},
   "source": [
    "В столбце tenure пристутствуют нулевые значения, Tenure - количество лет, которые человек является клиентом банка. Для того, чтобы не исказить картину буду заполнять нулевые значения медианой. Также, в столбце tenure тип данных - float64, заменим на int64"
   ]
  },
  {
   "cell_type": "code",
   "execution_count": 10,
   "metadata": {},
   "outputs": [],
   "source": [
    "data['tenure'] = data['tenure'].fillna(data['tenure'].median())"
   ]
  },
  {
   "cell_type": "code",
   "execution_count": 11,
   "metadata": {},
   "outputs": [],
   "source": [
    "data['tenure']  = data['tenure'].astype(int)"
   ]
  },
  {
   "cell_type": "code",
   "execution_count": 12,
   "metadata": {},
   "outputs": [
    {
     "name": "stdout",
     "output_type": "stream",
     "text": [
      "<class 'pandas.core.frame.DataFrame'>\n",
      "RangeIndex: 10000 entries, 0 to 9999\n",
      "Data columns (total 14 columns):\n",
      " #   Column            Non-Null Count  Dtype  \n",
      "---  ------            --------------  -----  \n",
      " 0   row_number        10000 non-null  int64  \n",
      " 1   customer_id       10000 non-null  int64  \n",
      " 2   surname           10000 non-null  object \n",
      " 3   credit_score      10000 non-null  int64  \n",
      " 4   geography         10000 non-null  object \n",
      " 5   gender            10000 non-null  object \n",
      " 6   age               10000 non-null  int64  \n",
      " 7   tenure            10000 non-null  int64  \n",
      " 8   balance           10000 non-null  float64\n",
      " 9   num_of_products   10000 non-null  int64  \n",
      " 10  has_cr_card       10000 non-null  int64  \n",
      " 11  is_active_member  10000 non-null  int64  \n",
      " 12  estimated_salary  10000 non-null  float64\n",
      " 13  exited            10000 non-null  int64  \n",
      "dtypes: float64(2), int64(9), object(3)\n",
      "memory usage: 1.1+ MB\n"
     ]
    }
   ],
   "source": [
    "data.info()"
   ]
  },
  {
   "attachments": {},
   "cell_type": "markdown",
   "metadata": {},
   "source": [
    "### Исследование данных"
   ]
  },
  {
   "cell_type": "code",
   "execution_count": 13,
   "metadata": {},
   "outputs": [
    {
     "data": {
      "text/html": [
       "<div>\n",
       "<style scoped>\n",
       "    .dataframe tbody tr th:only-of-type {\n",
       "        vertical-align: middle;\n",
       "    }\n",
       "\n",
       "    .dataframe tbody tr th {\n",
       "        vertical-align: top;\n",
       "    }\n",
       "\n",
       "    .dataframe thead th {\n",
       "        text-align: right;\n",
       "    }\n",
       "</style>\n",
       "<table border=\"1\" class=\"dataframe\">\n",
       "  <thead>\n",
       "    <tr style=\"text-align: right;\">\n",
       "      <th></th>\n",
       "      <th>row_number</th>\n",
       "      <th>customer_id</th>\n",
       "      <th>credit_score</th>\n",
       "      <th>age</th>\n",
       "      <th>tenure</th>\n",
       "      <th>balance</th>\n",
       "      <th>num_of_products</th>\n",
       "      <th>has_cr_card</th>\n",
       "      <th>is_active_member</th>\n",
       "      <th>estimated_salary</th>\n",
       "      <th>exited</th>\n",
       "    </tr>\n",
       "  </thead>\n",
       "  <tbody>\n",
       "    <tr>\n",
       "      <th>count</th>\n",
       "      <td>10000.00000</td>\n",
       "      <td>1.000000e+04</td>\n",
       "      <td>10000.000000</td>\n",
       "      <td>10000.000000</td>\n",
       "      <td>10000.00000</td>\n",
       "      <td>10000.000000</td>\n",
       "      <td>10000.000000</td>\n",
       "      <td>10000.00000</td>\n",
       "      <td>10000.000000</td>\n",
       "      <td>10000.000000</td>\n",
       "      <td>10000.000000</td>\n",
       "    </tr>\n",
       "    <tr>\n",
       "      <th>mean</th>\n",
       "      <td>5000.50000</td>\n",
       "      <td>1.569094e+07</td>\n",
       "      <td>650.528800</td>\n",
       "      <td>38.921800</td>\n",
       "      <td>4.99790</td>\n",
       "      <td>76485.889288</td>\n",
       "      <td>1.530200</td>\n",
       "      <td>0.70550</td>\n",
       "      <td>0.515100</td>\n",
       "      <td>100090.239881</td>\n",
       "      <td>0.203700</td>\n",
       "    </tr>\n",
       "    <tr>\n",
       "      <th>std</th>\n",
       "      <td>2886.89568</td>\n",
       "      <td>7.193619e+04</td>\n",
       "      <td>96.653299</td>\n",
       "      <td>10.487806</td>\n",
       "      <td>2.76001</td>\n",
       "      <td>62397.405202</td>\n",
       "      <td>0.581654</td>\n",
       "      <td>0.45584</td>\n",
       "      <td>0.499797</td>\n",
       "      <td>57510.492818</td>\n",
       "      <td>0.402769</td>\n",
       "    </tr>\n",
       "    <tr>\n",
       "      <th>min</th>\n",
       "      <td>1.00000</td>\n",
       "      <td>1.556570e+07</td>\n",
       "      <td>350.000000</td>\n",
       "      <td>18.000000</td>\n",
       "      <td>0.00000</td>\n",
       "      <td>0.000000</td>\n",
       "      <td>1.000000</td>\n",
       "      <td>0.00000</td>\n",
       "      <td>0.000000</td>\n",
       "      <td>11.580000</td>\n",
       "      <td>0.000000</td>\n",
       "    </tr>\n",
       "    <tr>\n",
       "      <th>25%</th>\n",
       "      <td>2500.75000</td>\n",
       "      <td>1.562853e+07</td>\n",
       "      <td>584.000000</td>\n",
       "      <td>32.000000</td>\n",
       "      <td>3.00000</td>\n",
       "      <td>0.000000</td>\n",
       "      <td>1.000000</td>\n",
       "      <td>0.00000</td>\n",
       "      <td>0.000000</td>\n",
       "      <td>51002.110000</td>\n",
       "      <td>0.000000</td>\n",
       "    </tr>\n",
       "    <tr>\n",
       "      <th>50%</th>\n",
       "      <td>5000.50000</td>\n",
       "      <td>1.569074e+07</td>\n",
       "      <td>652.000000</td>\n",
       "      <td>37.000000</td>\n",
       "      <td>5.00000</td>\n",
       "      <td>97198.540000</td>\n",
       "      <td>1.000000</td>\n",
       "      <td>1.00000</td>\n",
       "      <td>1.000000</td>\n",
       "      <td>100193.915000</td>\n",
       "      <td>0.000000</td>\n",
       "    </tr>\n",
       "    <tr>\n",
       "      <th>75%</th>\n",
       "      <td>7500.25000</td>\n",
       "      <td>1.575323e+07</td>\n",
       "      <td>718.000000</td>\n",
       "      <td>44.000000</td>\n",
       "      <td>7.00000</td>\n",
       "      <td>127644.240000</td>\n",
       "      <td>2.000000</td>\n",
       "      <td>1.00000</td>\n",
       "      <td>1.000000</td>\n",
       "      <td>149388.247500</td>\n",
       "      <td>0.000000</td>\n",
       "    </tr>\n",
       "    <tr>\n",
       "      <th>max</th>\n",
       "      <td>10000.00000</td>\n",
       "      <td>1.581569e+07</td>\n",
       "      <td>850.000000</td>\n",
       "      <td>92.000000</td>\n",
       "      <td>10.00000</td>\n",
       "      <td>250898.090000</td>\n",
       "      <td>4.000000</td>\n",
       "      <td>1.00000</td>\n",
       "      <td>1.000000</td>\n",
       "      <td>199992.480000</td>\n",
       "      <td>1.000000</td>\n",
       "    </tr>\n",
       "  </tbody>\n",
       "</table>\n",
       "</div>"
      ],
      "text/plain": [
       "        row_number   customer_id  credit_score           age       tenure  \\\n",
       "count  10000.00000  1.000000e+04  10000.000000  10000.000000  10000.00000   \n",
       "mean    5000.50000  1.569094e+07    650.528800     38.921800      4.99790   \n",
       "std     2886.89568  7.193619e+04     96.653299     10.487806      2.76001   \n",
       "min        1.00000  1.556570e+07    350.000000     18.000000      0.00000   \n",
       "25%     2500.75000  1.562853e+07    584.000000     32.000000      3.00000   \n",
       "50%     5000.50000  1.569074e+07    652.000000     37.000000      5.00000   \n",
       "75%     7500.25000  1.575323e+07    718.000000     44.000000      7.00000   \n",
       "max    10000.00000  1.581569e+07    850.000000     92.000000     10.00000   \n",
       "\n",
       "             balance  num_of_products  has_cr_card  is_active_member  \\\n",
       "count   10000.000000     10000.000000  10000.00000      10000.000000   \n",
       "mean    76485.889288         1.530200      0.70550          0.515100   \n",
       "std     62397.405202         0.581654      0.45584          0.499797   \n",
       "min         0.000000         1.000000      0.00000          0.000000   \n",
       "25%         0.000000         1.000000      0.00000          0.000000   \n",
       "50%     97198.540000         1.000000      1.00000          1.000000   \n",
       "75%    127644.240000         2.000000      1.00000          1.000000   \n",
       "max    250898.090000         4.000000      1.00000          1.000000   \n",
       "\n",
       "       estimated_salary        exited  \n",
       "count      10000.000000  10000.000000  \n",
       "mean      100090.239881      0.203700  \n",
       "std        57510.492818      0.402769  \n",
       "min           11.580000      0.000000  \n",
       "25%        51002.110000      0.000000  \n",
       "50%       100193.915000      0.000000  \n",
       "75%       149388.247500      0.000000  \n",
       "max       199992.480000      1.000000  "
      ]
     },
     "execution_count": 13,
     "metadata": {},
     "output_type": "execute_result"
    }
   ],
   "source": [
    "data.describe()"
   ]
  },
  {
   "attachments": {},
   "cell_type": "markdown",
   "metadata": {},
   "source": [
    "На первый взгляд, мы не наблюдаем аномалий в данных, значительных выбросов. Например, по возрасту минимальный возраст 18 лет - максимальный 92 года, что может быть правдой."
   ]
  },
  {
   "cell_type": "code",
   "execution_count": 14,
   "metadata": {},
   "outputs": [
    {
     "data": {
      "text/plain": [
       "0"
      ]
     },
     "execution_count": 14,
     "metadata": {},
     "output_type": "execute_result"
    }
   ],
   "source": [
    "#Проверим датасет на дубликаты\n",
    "data.duplicated().sum()"
   ]
  },
  {
   "attachments": {},
   "cell_type": "markdown",
   "metadata": {},
   "source": [
    "### Вывод: \n",
    "Данные загружены и подготовлены, нулевые значения изменены на медиану, дубликаты отсутствуют"
   ]
  },
  {
   "attachments": {},
   "cell_type": "markdown",
   "metadata": {},
   "source": [
    "## Исследование задачи"
   ]
  },
  {
   "attachments": {},
   "cell_type": "markdown",
   "metadata": {},
   "source": [
    "### Изучение баланса классов"
   ]
  },
  {
   "cell_type": "code",
   "execution_count": 15,
   "metadata": {},
   "outputs": [
    {
     "data": {
      "text/html": [
       "<div>\n",
       "<style scoped>\n",
       "    .dataframe tbody tr th:only-of-type {\n",
       "        vertical-align: middle;\n",
       "    }\n",
       "\n",
       "    .dataframe tbody tr th {\n",
       "        vertical-align: top;\n",
       "    }\n",
       "\n",
       "    .dataframe thead th {\n",
       "        text-align: right;\n",
       "    }\n",
       "</style>\n",
       "<table border=\"1\" class=\"dataframe\">\n",
       "  <thead>\n",
       "    <tr style=\"text-align: right;\">\n",
       "      <th></th>\n",
       "      <th>exited</th>\n",
       "    </tr>\n",
       "  </thead>\n",
       "  <tbody>\n",
       "    <tr>\n",
       "      <th>0</th>\n",
       "      <td>7963</td>\n",
       "    </tr>\n",
       "    <tr>\n",
       "      <th>1</th>\n",
       "      <td>2037</td>\n",
       "    </tr>\n",
       "  </tbody>\n",
       "</table>\n",
       "</div>"
      ],
      "text/plain": [
       "   exited\n",
       "0    7963\n",
       "1    2037"
      ]
     },
     "execution_count": 15,
     "metadata": {},
     "output_type": "execute_result"
    }
   ],
   "source": [
    "data['exited'].value_counts().to_frame()"
   ]
  },
  {
   "cell_type": "code",
   "execution_count": 16,
   "metadata": {},
   "outputs": [
    {
     "data": {
      "image/png": "[encoded data removed]",
      "text/plain": [
       "<Figure size 432x216 with 1 Axes>"
      ]
     },
     "metadata": {},
     "output_type": "display_data"
    }
   ],
   "source": [
    "fig, ax = plt.subplots()\n",
    "data_exited = data['exited'].value_counts().sort_index()\n",
    "plt.title('Баланс классов')\n",
    "plt.xlabel('Классы')\n",
    "plt.bar(data_exited.index, data_exited.values)\n",
    "\n",
    "plt.show()"
   ]
  },
  {
   "cell_type": "code",
   "execution_count": 17,
   "metadata": {},
   "outputs": [
    {
     "name": "stdout",
     "output_type": "stream",
     "text": [
      "Доля положительных оценок: 20.37%\n"
     ]
    }
   ],
   "source": [
    "print('Доля положительных оценок: {:.2%}'.format(data['exited'].mean()))"
   ]
  },
  {
   "attachments": {},
   "cell_type": "markdown",
   "metadata": {},
   "source": [
    "Налицо дисбаланс классов. Проведем обучение модели на исходных данных, затем попытаемся преодолеть дисбаланс."
   ]
  },
  {
   "attachments": {},
   "cell_type": "markdown",
   "metadata": {},
   "source": [
    "### OHE"
   ]
  },
  {
   "attachments": {},
   "cell_type": "markdown",
   "metadata": {},
   "source": [
    "Категориальные признаки география и пол должны быть преобразованы в числовые с помощью техники прямого кодирования, или отображения (английское One-Hot Encoding, OHE). Для большей точности нам нужны количественные признаки."
   ]
  },
  {
   "cell_type": "code",
   "execution_count": 18,
   "metadata": {},
   "outputs": [],
   "source": [
    "gender_ohe = pd.get_dummies(data[\"gender\"], drop_first=True)\n",
    "country_ohe = pd.get_dummies(data[\"geography\"], drop_first=True)\n",
    "data.drop([\"gender\", \"geography\"], axis=1, inplace=True)\n",
    "data_ohe = pd.concat([data, gender_ohe, country_ohe], axis=1)"
   ]
  },
  {
   "cell_type": "code",
   "execution_count": 19,
   "metadata": {},
   "outputs": [
    {
     "data": {
      "text/html": [
       "<div>\n",
       "<style scoped>\n",
       "    .dataframe tbody tr th:only-of-type {\n",
       "        vertical-align: middle;\n",
       "    }\n",
       "\n",
       "    .dataframe tbody tr th {\n",
       "        vertical-align: top;\n",
       "    }\n",
       "\n",
       "    .dataframe thead th {\n",
       "        text-align: right;\n",
       "    }\n",
       "</style>\n",
       "<table border=\"1\" class=\"dataframe\">\n",
       "  <thead>\n",
       "    <tr style=\"text-align: right;\">\n",
       "      <th></th>\n",
       "      <th>row_number</th>\n",
       "      <th>customer_id</th>\n",
       "      <th>surname</th>\n",
       "      <th>credit_score</th>\n",
       "      <th>age</th>\n",
       "      <th>tenure</th>\n",
       "      <th>balance</th>\n",
       "      <th>num_of_products</th>\n",
       "      <th>has_cr_card</th>\n",
       "      <th>is_active_member</th>\n",
       "      <th>estimated_salary</th>\n",
       "      <th>exited</th>\n",
       "      <th>Male</th>\n",
       "      <th>Germany</th>\n",
       "      <th>Spain</th>\n",
       "    </tr>\n",
       "  </thead>\n",
       "  <tbody>\n",
       "    <tr>\n",
       "      <th>0</th>\n",
       "      <td>1</td>\n",
       "      <td>15634602</td>\n",
       "      <td>Hargrave</td>\n",
       "      <td>619</td>\n",
       "      <td>42</td>\n",
       "      <td>2</td>\n",
       "      <td>0.00</td>\n",
       "      <td>1</td>\n",
       "      <td>1</td>\n",
       "      <td>1</td>\n",
       "      <td>101348.88</td>\n",
       "      <td>1</td>\n",
       "      <td>0</td>\n",
       "      <td>0</td>\n",
       "      <td>0</td>\n",
       "    </tr>\n",
       "    <tr>\n",
       "      <th>1</th>\n",
       "      <td>2</td>\n",
       "      <td>15647311</td>\n",
       "      <td>Hill</td>\n",
       "      <td>608</td>\n",
       "      <td>41</td>\n",
       "      <td>1</td>\n",
       "      <td>83807.86</td>\n",
       "      <td>1</td>\n",
       "      <td>0</td>\n",
       "      <td>1</td>\n",
       "      <td>112542.58</td>\n",
       "      <td>0</td>\n",
       "      <td>0</td>\n",
       "      <td>0</td>\n",
       "      <td>1</td>\n",
       "    </tr>\n",
       "    <tr>\n",
       "      <th>2</th>\n",
       "      <td>3</td>\n",
       "      <td>15619304</td>\n",
       "      <td>Onio</td>\n",
       "      <td>502</td>\n",
       "      <td>42</td>\n",
       "      <td>8</td>\n",
       "      <td>159660.80</td>\n",
       "      <td>3</td>\n",
       "      <td>1</td>\n",
       "      <td>0</td>\n",
       "      <td>113931.57</td>\n",
       "      <td>1</td>\n",
       "      <td>0</td>\n",
       "      <td>0</td>\n",
       "      <td>0</td>\n",
       "    </tr>\n",
       "    <tr>\n",
       "      <th>3</th>\n",
       "      <td>4</td>\n",
       "      <td>15701354</td>\n",
       "      <td>Boni</td>\n",
       "      <td>699</td>\n",
       "      <td>39</td>\n",
       "      <td>1</td>\n",
       "      <td>0.00</td>\n",
       "      <td>2</td>\n",
       "      <td>0</td>\n",
       "      <td>0</td>\n",
       "      <td>93826.63</td>\n",
       "      <td>0</td>\n",
       "      <td>0</td>\n",
       "      <td>0</td>\n",
       "      <td>0</td>\n",
       "    </tr>\n",
       "    <tr>\n",
       "      <th>4</th>\n",
       "      <td>5</td>\n",
       "      <td>15737888</td>\n",
       "      <td>Mitchell</td>\n",
       "      <td>850</td>\n",
       "      <td>43</td>\n",
       "      <td>2</td>\n",
       "      <td>125510.82</td>\n",
       "      <td>1</td>\n",
       "      <td>1</td>\n",
       "      <td>1</td>\n",
       "      <td>79084.10</td>\n",
       "      <td>0</td>\n",
       "      <td>0</td>\n",
       "      <td>0</td>\n",
       "      <td>1</td>\n",
       "    </tr>\n",
       "    <tr>\n",
       "      <th>5</th>\n",
       "      <td>6</td>\n",
       "      <td>15574012</td>\n",
       "      <td>Chu</td>\n",
       "      <td>645</td>\n",
       "      <td>44</td>\n",
       "      <td>8</td>\n",
       "      <td>113755.78</td>\n",
       "      <td>2</td>\n",
       "      <td>1</td>\n",
       "      <td>0</td>\n",
       "      <td>149756.71</td>\n",
       "      <td>1</td>\n",
       "      <td>1</td>\n",
       "      <td>0</td>\n",
       "      <td>1</td>\n",
       "    </tr>\n",
       "    <tr>\n",
       "      <th>6</th>\n",
       "      <td>7</td>\n",
       "      <td>15592531</td>\n",
       "      <td>Bartlett</td>\n",
       "      <td>822</td>\n",
       "      <td>50</td>\n",
       "      <td>7</td>\n",
       "      <td>0.00</td>\n",
       "      <td>2</td>\n",
       "      <td>1</td>\n",
       "      <td>1</td>\n",
       "      <td>10062.80</td>\n",
       "      <td>0</td>\n",
       "      <td>1</td>\n",
       "      <td>0</td>\n",
       "      <td>0</td>\n",
       "    </tr>\n",
       "    <tr>\n",
       "      <th>7</th>\n",
       "      <td>8</td>\n",
       "      <td>15656148</td>\n",
       "      <td>Obinna</td>\n",
       "      <td>376</td>\n",
       "      <td>29</td>\n",
       "      <td>4</td>\n",
       "      <td>115046.74</td>\n",
       "      <td>4</td>\n",
       "      <td>1</td>\n",
       "      <td>0</td>\n",
       "      <td>119346.88</td>\n",
       "      <td>1</td>\n",
       "      <td>0</td>\n",
       "      <td>1</td>\n",
       "      <td>0</td>\n",
       "    </tr>\n",
       "    <tr>\n",
       "      <th>8</th>\n",
       "      <td>9</td>\n",
       "      <td>15792365</td>\n",
       "      <td>He</td>\n",
       "      <td>501</td>\n",
       "      <td>44</td>\n",
       "      <td>4</td>\n",
       "      <td>142051.07</td>\n",
       "      <td>2</td>\n",
       "      <td>0</td>\n",
       "      <td>1</td>\n",
       "      <td>74940.50</td>\n",
       "      <td>0</td>\n",
       "      <td>1</td>\n",
       "      <td>0</td>\n",
       "      <td>0</td>\n",
       "    </tr>\n",
       "    <tr>\n",
       "      <th>9</th>\n",
       "      <td>10</td>\n",
       "      <td>15592389</td>\n",
       "      <td>H?</td>\n",
       "      <td>684</td>\n",
       "      <td>27</td>\n",
       "      <td>2</td>\n",
       "      <td>134603.88</td>\n",
       "      <td>1</td>\n",
       "      <td>1</td>\n",
       "      <td>1</td>\n",
       "      <td>71725.73</td>\n",
       "      <td>0</td>\n",
       "      <td>1</td>\n",
       "      <td>0</td>\n",
       "      <td>0</td>\n",
       "    </tr>\n",
       "  </tbody>\n",
       "</table>\n",
       "</div>"
      ],
      "text/plain": [
       "   row_number  customer_id   surname  credit_score  age  tenure    balance  \\\n",
       "0           1     15634602  Hargrave           619   42       2       0.00   \n",
       "1           2     15647311      Hill           608   41       1   83807.86   \n",
       "2           3     15619304      Onio           502   42       8  159660.80   \n",
       "3           4     15701354      Boni           699   39       1       0.00   \n",
       "4           5     15737888  Mitchell           850   43       2  125510.82   \n",
       "5           6     15574012       Chu           645   44       8  113755.78   \n",
       "6           7     15592531  Bartlett           822   50       7       0.00   \n",
       "7           8     15656148    Obinna           376   29       4  115046.74   \n",
       "8           9     15792365        He           501   44       4  142051.07   \n",
       "9          10     15592389        H?           684   27       2  134603.88   \n",
       "\n",
       "   num_of_products  has_cr_card  is_active_member  estimated_salary  exited  \\\n",
       "0                1            1                 1         101348.88       1   \n",
       "1                1            0                 1         112542.58       0   \n",
       "2                3            1                 0         113931.57       1   \n",
       "3                2            0                 0          93826.63       0   \n",
       "4                1            1                 1          79084.10       0   \n",
       "5                2            1                 0         149756.71       1   \n",
       "6                2            1                 1          10062.80       0   \n",
       "7                4            1                 0         119346.88       1   \n",
       "8                2            0                 1          74940.50       0   \n",
       "9                1            1                 1          71725.73       0   \n",
       "\n",
       "   Male  Germany  Spain  \n",
       "0     0        0      0  \n",
       "1     0        0      1  \n",
       "2     0        0      0  \n",
       "3     0        0      0  \n",
       "4     0        0      1  \n",
       "5     1        0      1  \n",
       "6     1        0      0  \n",
       "7     0        1      0  \n",
       "8     1        0      0  \n",
       "9     1        0      0  "
      ]
     },
     "execution_count": 19,
     "metadata": {},
     "output_type": "execute_result"
    }
   ],
   "source": [
    "data_ohe.head(10)"
   ]
  },
  {
   "cell_type": "code",
   "execution_count": 20,
   "metadata": {},
   "outputs": [
    {
     "name": "stdout",
     "output_type": "stream",
     "text": [
      "<class 'pandas.core.frame.DataFrame'>\n",
      "RangeIndex: 10000 entries, 0 to 9999\n",
      "Data columns (total 15 columns):\n",
      " #   Column            Non-Null Count  Dtype  \n",
      "---  ------            --------------  -----  \n",
      " 0   row_number        10000 non-null  int64  \n",
      " 1   customer_id       10000 non-null  int64  \n",
      " 2   surname           10000 non-null  object \n",
      " 3   credit_score      10000 non-null  int64  \n",
      " 4   age               10000 non-null  int64  \n",
      " 5   tenure            10000 non-null  int64  \n",
      " 6   balance           10000 non-null  float64\n",
      " 7   num_of_products   10000 non-null  int64  \n",
      " 8   has_cr_card       10000 non-null  int64  \n",
      " 9   is_active_member  10000 non-null  int64  \n",
      " 10  estimated_salary  10000 non-null  float64\n",
      " 11  exited            10000 non-null  int64  \n",
      " 12  Male              10000 non-null  uint8  \n",
      " 13  Germany           10000 non-null  uint8  \n",
      " 14  Spain             10000 non-null  uint8  \n",
      "dtypes: float64(2), int64(9), object(1), uint8(3)\n",
      "memory usage: 966.9+ KB\n"
     ]
    }
   ],
   "source": [
    "data_ohe.info()"
   ]
  },
  {
   "cell_type": "code",
   "execution_count": 21,
   "metadata": {},
   "outputs": [
    {
     "data": {
      "text/html": [
       "<div>\n",
       "<style scoped>\n",
       "    .dataframe tbody tr th:only-of-type {\n",
       "        vertical-align: middle;\n",
       "    }\n",
       "\n",
       "    .dataframe tbody tr th {\n",
       "        vertical-align: top;\n",
       "    }\n",
       "\n",
       "    .dataframe thead th {\n",
       "        text-align: right;\n",
       "    }\n",
       "</style>\n",
       "<table border=\"1\" class=\"dataframe\">\n",
       "  <thead>\n",
       "    <tr style=\"text-align: right;\">\n",
       "      <th></th>\n",
       "      <th>credit_score</th>\n",
       "      <th>age</th>\n",
       "      <th>tenure</th>\n",
       "      <th>balance</th>\n",
       "      <th>num_of_products</th>\n",
       "      <th>has_cr_card</th>\n",
       "      <th>is_active_member</th>\n",
       "      <th>estimated_salary</th>\n",
       "      <th>exited</th>\n",
       "      <th>Male</th>\n",
       "      <th>Germany</th>\n",
       "      <th>Spain</th>\n",
       "    </tr>\n",
       "  </thead>\n",
       "  <tbody>\n",
       "    <tr>\n",
       "      <th>0</th>\n",
       "      <td>619</td>\n",
       "      <td>42</td>\n",
       "      <td>2</td>\n",
       "      <td>0.00</td>\n",
       "      <td>1</td>\n",
       "      <td>1</td>\n",
       "      <td>1</td>\n",
       "      <td>101348.88</td>\n",
       "      <td>1</td>\n",
       "      <td>0</td>\n",
       "      <td>0</td>\n",
       "      <td>0</td>\n",
       "    </tr>\n",
       "    <tr>\n",
       "      <th>1</th>\n",
       "      <td>608</td>\n",
       "      <td>41</td>\n",
       "      <td>1</td>\n",
       "      <td>83807.86</td>\n",
       "      <td>1</td>\n",
       "      <td>0</td>\n",
       "      <td>1</td>\n",
       "      <td>112542.58</td>\n",
       "      <td>0</td>\n",
       "      <td>0</td>\n",
       "      <td>0</td>\n",
       "      <td>1</td>\n",
       "    </tr>\n",
       "    <tr>\n",
       "      <th>2</th>\n",
       "      <td>502</td>\n",
       "      <td>42</td>\n",
       "      <td>8</td>\n",
       "      <td>159660.80</td>\n",
       "      <td>3</td>\n",
       "      <td>1</td>\n",
       "      <td>0</td>\n",
       "      <td>113931.57</td>\n",
       "      <td>1</td>\n",
       "      <td>0</td>\n",
       "      <td>0</td>\n",
       "      <td>0</td>\n",
       "    </tr>\n",
       "    <tr>\n",
       "      <th>3</th>\n",
       "      <td>699</td>\n",
       "      <td>39</td>\n",
       "      <td>1</td>\n",
       "      <td>0.00</td>\n",
       "      <td>2</td>\n",
       "      <td>0</td>\n",
       "      <td>0</td>\n",
       "      <td>93826.63</td>\n",
       "      <td>0</td>\n",
       "      <td>0</td>\n",
       "      <td>0</td>\n",
       "      <td>0</td>\n",
       "    </tr>\n",
       "    <tr>\n",
       "      <th>4</th>\n",
       "      <td>850</td>\n",
       "      <td>43</td>\n",
       "      <td>2</td>\n",
       "      <td>125510.82</td>\n",
       "      <td>1</td>\n",
       "      <td>1</td>\n",
       "      <td>1</td>\n",
       "      <td>79084.10</td>\n",
       "      <td>0</td>\n",
       "      <td>0</td>\n",
       "      <td>0</td>\n",
       "      <td>1</td>\n",
       "    </tr>\n",
       "  </tbody>\n",
       "</table>\n",
       "</div>"
      ],
      "text/plain": [
       "   credit_score  age  tenure    balance  num_of_products  has_cr_card  \\\n",
       "0           619   42       2       0.00                1            1   \n",
       "1           608   41       1   83807.86                1            0   \n",
       "2           502   42       8  159660.80                3            1   \n",
       "3           699   39       1       0.00                2            0   \n",
       "4           850   43       2  125510.82                1            1   \n",
       "\n",
       "   is_active_member  estimated_salary  exited  Male  Germany  Spain  \n",
       "0                 1         101348.88       1     0        0      0  \n",
       "1                 1         112542.58       0     0        0      1  \n",
       "2                 0         113931.57       1     0        0      0  \n",
       "3                 0          93826.63       0     0        0      0  \n",
       "4                 1          79084.10       0     0        0      1  "
      ]
     },
     "execution_count": 21,
     "metadata": {},
     "output_type": "execute_result"
    }
   ],
   "source": [
    "data_ohe = data_ohe.drop(['row_number', 'customer_id', 'surname'], axis=1).copy()\n",
    "data_ohe.head()"
   ]
  },
  {
   "attachments": {},
   "cell_type": "markdown",
   "metadata": {},
   "source": [
    "### Разделение исходных данных на обучающую, валидационную и тестовую выборки"
   ]
  },
  {
   "attachments": {},
   "cell_type": "markdown",
   "metadata": {},
   "source": [
    "Данные были разделены на обучающую, валидационную и тестовую выборки\n",
    "\n",
    "\n",
    "Они были разделены в соотношении:\n",
    "* 70% обучающая выборка\n",
    "* 15% валидационная выборка\n",
    "* 15% тестовая выборка"
   ]
  },
  {
   "cell_type": "code",
   "execution_count": 22,
   "metadata": {},
   "outputs": [],
   "source": [
    "features_train, features_test, target_train, target_test = train_test_split(data_ohe.drop(\"exited\", axis=1), \n",
    "                                                                      data_ohe[\"exited\"], \n",
    "                                                                      test_size=0.15, \n",
    "                                                                      random_state=1407)"
   ]
  },
  {
   "cell_type": "code",
   "execution_count": 23,
   "metadata": {},
   "outputs": [],
   "source": [
    "features_train, features_valid, target_train, target_valid = train_test_split(features_train, \n",
    "                                                                  target_train, \n",
    "                                                                  test_size=0.15, \n",
    "                                                                  random_state=1407)\n"
   ]
  },
  {
   "cell_type": "code",
   "execution_count": 24,
   "metadata": {},
   "outputs": [
    {
     "name": "stdout",
     "output_type": "stream",
     "text": [
      "(7225, 11)\n",
      "(1500, 11)\n",
      "(1275, 11)\n",
      "(7225,)\n",
      "(1500,)\n",
      "(1275,)\n"
     ]
    }
   ],
   "source": [
    "print(features_train.shape)\n",
    "print(features_test.shape)\n",
    "print(features_valid.shape)\n",
    "\n",
    "print(target_train.shape)\n",
    "print(target_test.shape)\n",
    "print(target_valid.shape)"
   ]
  },
  {
   "attachments": {},
   "cell_type": "markdown",
   "metadata": {},
   "source": [
    "### Масштабирование"
   ]
  },
  {
   "cell_type": "code",
   "execution_count": 25,
   "metadata": {},
   "outputs": [
    {
     "name": "stdout",
     "output_type": "stream",
     "text": [
      "      credit_score       age    tenure   balance  num_of_products  \\\n",
      "9800      1.148393 -0.369375 -0.739354  0.694175         2.515109   \n",
      "7203      0.063325 -0.560765 -1.464801  0.134236         0.800801   \n",
      "1791      0.528354 -0.369375  1.074264 -0.985109         0.800801   \n",
      "6208      0.652362 -0.465070  1.799712 -1.213027         0.800801   \n",
      "2318      0.218335 -0.560765 -1.102077 -1.213027         0.800801   \n",
      "\n",
      "      has_cr_card  is_active_member  estimated_salary  Male  Germany  Spain  \n",
      "9800            1                 1         -0.946469     0        0      1  \n",
      "7203            0                 0          0.044119     1        0      0  \n",
      "1791            1                 0         -0.814362     0        0      1  \n",
      "6208            1                 1         -0.368861     1        0      0  \n",
      "2318            1                 1          1.418792     1        0      1  \n"
     ]
    }
   ],
   "source": [
    "scaler = StandardScaler()\n",
    "numeric = ['credit_score', 'age', 'tenure', 'balance', 'estimated_salary', 'num_of_products']\n",
    "scaler.fit(features_train[numeric])\n",
    "features_train[numeric] = scaler.transform(features_train[numeric])\n",
    "features_valid[numeric] = scaler.transform(features_valid[numeric]) \n",
    "features_test[numeric] = scaler.transform(features_test[numeric]) \n",
    "print(features_train.head(5))"
   ]
  },
  {
   "attachments": {},
   "cell_type": "markdown",
   "metadata": {},
   "source": [
    "Изучен баланс классов, категориальные признаки география и пол преобразованы в числовые с помощью техники прямого кодирования. Данные разделены на обучающую, валидационную и тестовую выборки, выполнено масштабирование. Переходим к исследованиям моделей."
   ]
  },
  {
   "cell_type": "code",
   "execution_count": 27,
   "metadata": {},
   "outputs": [
    {
     "name": "stdout",
     "output_type": "stream",
     "text": [
      "F1 наилучшей модели на валидационной выборке: 0.5740318906605922\n",
      "Лучшая модель: RandomForestClassifier(max_depth=10, n_estimators=17, random_state=1407)\n"
     ]
    }
   ],
   "source": [
    "#Случайный лес\n",
    "best_model = None\n",
    "best_result = 0\n",
    "for depth in range(1, 12):\n",
    "    for est in range(1, 50):\n",
    "        model = RandomForestClassifier(random_state=1407, n_estimators=est, max_depth = depth) \n",
    "        model.fit(features_train, target_train) \n",
    "        result = f1_score(target_valid, model.predict(features_valid)) \n",
    "        if result > best_result:\n",
    "            best_model = model \n",
    "            best_result = result \n",
    "        \n",
    "        \n",
    "print(\"F1 наилучшей модели на валидационной выборке:\", best_result)\n",
    "print('Лучшая модель:', best_model)"
   ]
  },
  {
   "cell_type": "code",
   "execution_count": 28,
   "metadata": {},
   "outputs": [
    {
     "name": "stdout",
     "output_type": "stream",
     "text": [
      "Площадь ROC-кривой: 0.8653164033598817\n"
     ]
    }
   ],
   "source": [
    "probabilities = best_model.predict_proba(features_valid)\n",
    "probabilities_one = probabilities[:, 1]\n",
    "print('Площадь ROC-кривой:', roc_auc_score(target_valid, probabilities_one))"
   ]
  },
  {
   "cell_type": "code",
   "execution_count": 29,
   "metadata": {},
   "outputs": [
    {
     "name": "stdout",
     "output_type": "stream",
     "text": [
      "F1 наилучшей модели на валидационной выборке: 0.35051546391752575\n"
     ]
    }
   ],
   "source": [
    "#Логистическая регрессия\n",
    "model_lr = LogisticRegression(random_state=1407, solver='lbfgs', max_iter=1000)\n",
    "model_lr.fit(features_train, target_train) \n",
    "\n",
    "prediction = model_lr.predict(features_valid) \n",
    "result_valid_LogisticRegression = f1_score(target_valid, prediction) \n",
    "dump(model_lr, 'model_9_1.joblib')\n",
    "\n",
    "print(\"F1 наилучшей модели на валидационной выборке:\", result_valid_LogisticRegression)"
   ]
  },
  {
   "cell_type": "code",
   "execution_count": 30,
   "metadata": {},
   "outputs": [
    {
     "name": "stdout",
     "output_type": "stream",
     "text": [
      "Площадь ROC-кривой: 0.7859453656555107\n"
     ]
    }
   ],
   "source": [
    "probabilities = model_lr.predict_proba(features_valid)\n",
    "probabilities_one = probabilities[:, 1]\n",
    "print('Площадь ROC-кривой:', roc_auc_score(target_valid, probabilities_one))"
   ]
  },
  {
   "cell_type": "code",
   "execution_count": 31,
   "metadata": {},
   "outputs": [
    {
     "name": "stdout",
     "output_type": "stream",
     "text": [
      "F1 лучшей модели: 0.5774946921443737\n",
      "Лучшая модель: DecisionTreeClassifier(max_depth=7, random_state=1407)\n"
     ]
    }
   ],
   "source": [
    "#Решающее дерево\n",
    "best_model_2 = None\n",
    "best_result_2 = 0\n",
    "for depth in range(1, 50):\n",
    "\tmodel_2 = DecisionTreeClassifier(random_state=1407, max_depth=depth) \n",
    "\tmodel_2.fit(features_train, target_train) \n",
    "\tpredictions_2 = model_2.predict(features_valid) \n",
    "\tresult_2 = f1_score(target_valid, predictions_2) \n",
    "\tif result_2 > best_result_2:\n",
    "\t\tbest_model_2 = model_2\n",
    "\t\tbest_result_2 = result_2\n",
    "        \n",
    "print(\"F1 лучшей модели:\", best_result_2)\n",
    "print('Лучшая модель:', best_model_2)"
   ]
  },
  {
   "cell_type": "code",
   "execution_count": 32,
   "metadata": {},
   "outputs": [
    {
     "name": "stdout",
     "output_type": "stream",
     "text": [
      "Площадь ROC-кривой: 0.839373794083939\n"
     ]
    }
   ],
   "source": [
    "probabilities = best_model_2.predict_proba(features_valid)\n",
    "probabilities_one = probabilities[:, 1]\n",
    "print('Площадь ROC-кривой:', roc_auc_score(target_valid, probabilities_one))"
   ]
  },
  {
   "attachments": {},
   "cell_type": "markdown",
   "metadata": {},
   "source": [
    "### Выводы: \n",
    "На валидационной выборке лучше всего по метрике F1 себя показала модель - решающее дерево, со значением F1: 0.577, но стоит проверить как модель поведет себя на тестовой выборке. По площади ROC-кривой самый высокий показатель у модели Случайный лес - Площадь ROC-кривой: 0.86"
   ]
  },
  {
   "attachments": {},
   "cell_type": "markdown",
   "metadata": {},
   "source": [
    "## Борьба с дисбалансом"
   ]
  },
  {
   "attachments": {},
   "cell_type": "markdown",
   "metadata": {},
   "source": [
    "### Увеличение выборки"
   ]
  },
  {
   "cell_type": "code",
   "execution_count": 33,
   "metadata": {},
   "outputs": [],
   "source": [
    "def upsample(features, target, repeat):\n",
    "    features_zeros = features[target == 0]\n",
    "    features_ones = features[target == 1]\n",
    "    target_zeros = target[target == 0]\n",
    "    target_ones = target[target == 1]\n",
    "\n",
    "    features_upsampled = pd.concat([features_zeros] + [features_ones] * repeat)\n",
    "    target_upsampled = pd.concat([target_zeros] + [target_ones] * repeat)\n",
    "    \n",
    "    features_upsampled, target_upsampled = shuffle(\n",
    "        features_upsampled, target_upsampled, random_state=1407)\n",
    "    \n",
    "    return features_upsampled, target_upsampled"
   ]
  },
  {
   "cell_type": "code",
   "execution_count": 34,
   "metadata": {},
   "outputs": [],
   "source": [
    "features_upsampled, target_upsampled = upsample(features_train, target_train, 4)"
   ]
  },
  {
   "cell_type": "code",
   "execution_count": 35,
   "metadata": {},
   "outputs": [
    {
     "name": "stdout",
     "output_type": "stream",
     "text": [
      "F1 наилучшей модели на валидационной выборке: 0.6337308347529812\n",
      "Лучшая модель: RandomForestClassifier(max_depth=11, n_estimators=28, random_state=1407)\n"
     ]
    }
   ],
   "source": [
    "#Случайный лес\n",
    "best_model = None\n",
    "best_result = 0\n",
    "for depth in range(1, 12):\n",
    "    for est in range(1, 50):\n",
    "        model = RandomForestClassifier(random_state=1407, n_estimators=est, max_depth = depth) \n",
    "        model.fit(features_upsampled, target_upsampled) \n",
    "        result = f1_score(target_valid, model.predict(features_valid)) \n",
    "        if result > best_result:\n",
    "            best_model = model \n",
    "            best_result = result \n",
    "        \n",
    "        \n",
    "print(\"F1 наилучшей модели на валидационной выборке:\", best_result)\n",
    "print('Лучшая модель:', best_model)"
   ]
  },
  {
   "cell_type": "code",
   "execution_count": 36,
   "metadata": {},
   "outputs": [
    {
     "name": "stdout",
     "output_type": "stream",
     "text": [
      "Площадь ROC-кривой: 0.8619579724652188\n"
     ]
    }
   ],
   "source": [
    "probabilities = best_model.predict_proba(features_valid)\n",
    "probabilities_one = probabilities[:, 1]\n",
    "print('Площадь ROC-кривой:', roc_auc_score(target_valid, probabilities_one))"
   ]
  },
  {
   "cell_type": "code",
   "execution_count": 37,
   "metadata": {},
   "outputs": [
    {
     "name": "stdout",
     "output_type": "stream",
     "text": [
      "F1 наилучшей модели на валидационной выборке: 0.530718954248366\n"
     ]
    }
   ],
   "source": [
    "#Логистическая регрессия\n",
    "model_lr = LogisticRegression(random_state=1407, solver='lbfgs', max_iter=1000)\n",
    "model_lr.fit(features_upsampled, target_upsampled) \n",
    "\n",
    "prediction = model_lr.predict(features_valid) \n",
    "result_valid_LogisticRegression = f1_score(target_valid, prediction) \n",
    "dump(model_lr, 'model_9_1.joblib')\n",
    "\n",
    "print(\"F1 наилучшей модели на валидационной выборке:\", result_valid_LogisticRegression)"
   ]
  },
  {
   "cell_type": "code",
   "execution_count": 38,
   "metadata": {},
   "outputs": [
    {
     "name": "stdout",
     "output_type": "stream",
     "text": [
      "Площадь ROC-кривой: 0.7893980937459198\n"
     ]
    }
   ],
   "source": [
    "probabilities = model_lr.predict_proba(features_valid)\n",
    "probabilities_one = probabilities[:, 1]\n",
    "print('Площадь ROC-кривой:', roc_auc_score(target_valid, probabilities_one))"
   ]
  },
  {
   "cell_type": "code",
   "execution_count": 39,
   "metadata": {},
   "outputs": [
    {
     "name": "stdout",
     "output_type": "stream",
     "text": [
      "F1 лучшей модели: 0.6096096096096096\n",
      "Лучшая модель: DecisionTreeClassifier(max_depth=8, random_state=1407)\n"
     ]
    }
   ],
   "source": [
    "#Решающее дерево\n",
    "best_model_2 = None\n",
    "best_result_2 = 0\n",
    "for depth in range(1, 50):\n",
    "\tmodel_2 = DecisionTreeClassifier(random_state=1407, max_depth=depth) \n",
    "\tmodel_2.fit(features_upsampled, target_upsampled) \n",
    "\tpredictions_2 = model_2.predict(features_valid) \n",
    "\tresult_2 = f1_score(target_valid, predictions_2) \n",
    "\tif result_2 > best_result_2:\n",
    "\t\tbest_model_2 = model_2\n",
    "\t\tbest_result_2 = result_2\n",
    "        \n",
    "print(\"F1 лучшей модели:\", best_result_2)\n",
    "print('Лучшая модель:', best_model_2)"
   ]
  },
  {
   "cell_type": "code",
   "execution_count": 40,
   "metadata": {},
   "outputs": [
    {
     "name": "stdout",
     "output_type": "stream",
     "text": [
      "Площадь ROC-кривой: 0.8269718994356676\n"
     ]
    }
   ],
   "source": [
    "probabilities = best_model_2.predict_proba(features_valid)\n",
    "probabilities_one = probabilities[:, 1]\n",
    "print('Площадь ROC-кривой:', roc_auc_score(target_valid, probabilities_one))"
   ]
  },
  {
   "attachments": {},
   "cell_type": "markdown",
   "metadata": {},
   "source": [
    "<div class=\"alert alert-info\"> <b>Комментарий студента: ℹ️</b> Исправила</div>"
   ]
  },
  {
   "attachments": {},
   "cell_type": "markdown",
   "metadata": {},
   "source": [
    "* По метрике F1 лидирует модель случайный лес - ее f1 = 0.63. \n",
    "* Самый большой показатель площади AUC-ROC кривой у модели Случайный лес  - площадь ROC-кривой: 0.86"
   ]
  },
  {
   "attachments": {},
   "cell_type": "markdown",
   "metadata": {},
   "source": [
    "### Уменьшение выборки"
   ]
  },
  {
   "cell_type": "code",
   "execution_count": 41,
   "metadata": {},
   "outputs": [],
   "source": [
    "def downsample(features, target, fraction):\n",
    "    features_zeros = features[target == 0]\n",
    "    features_ones = features[target == 1]\n",
    "    target_zeros = target[target == 0]\n",
    "    target_ones = target[target == 1]\n",
    "\n",
    "    features_downsampled = pd.concat(\n",
    "        [features_zeros.sample(frac=fraction, random_state=12345)] + [features_ones])\n",
    "    target_downsampled = pd.concat(\n",
    "        [target_zeros.sample(frac=fraction, random_state=12345)] + [target_ones])\n",
    "    \n",
    "    features_downsampled, target_downsampled = shuffle(\n",
    "        features_downsampled, target_downsampled, random_state=12345)\n",
    "    \n",
    "    return features_downsampled, target_downsampled\n"
   ]
  },
  {
   "cell_type": "code",
   "execution_count": 42,
   "metadata": {},
   "outputs": [],
   "source": [
    "features_downsampled, target_downsampled = downsample(features_train, target_train, 0.25)"
   ]
  },
  {
   "cell_type": "code",
   "execution_count": 43,
   "metadata": {},
   "outputs": [
    {
     "name": "stdout",
     "output_type": "stream",
     "text": [
      "F1 наилучшей модели на валидационной выборке: 0.6272727272727273\n",
      "Лучшая модель: RandomForestClassifier(max_depth=4, n_estimators=31, random_state=1407)\n"
     ]
    }
   ],
   "source": [
    "#Случайный лес\n",
    "best_model = None\n",
    "best_result = 0\n",
    "for depth in range(1, 12):\n",
    "    for est in range(1, 50):\n",
    "        model = RandomForestClassifier(random_state=1407, n_estimators=est, max_depth = depth) \n",
    "        model.fit(features_downsampled, target_downsampled) \n",
    "        result = f1_score(target_valid, model.predict(features_valid)) \n",
    "        if result > best_result:\n",
    "            best_model = model \n",
    "            best_result = result \n",
    "        \n",
    "        \n",
    "print(\"F1 наилучшей модели на валидационной выборке:\", best_result)\n",
    "print('Лучшая модель:', best_model)"
   ]
  },
  {
   "cell_type": "code",
   "execution_count": 44,
   "metadata": {},
   "outputs": [
    {
     "name": "stdout",
     "output_type": "stream",
     "text": [
      "Площадь ROC-кривой: 0.854278191234713\n"
     ]
    }
   ],
   "source": [
    "probabilities = best_model.predict_proba(features_valid)\n",
    "probabilities_one = probabilities[:, 1]\n",
    "print('Площадь ROC-кривой:', roc_auc_score(target_valid, probabilities_one))"
   ]
  },
  {
   "cell_type": "code",
   "execution_count": 45,
   "metadata": {},
   "outputs": [
    {
     "name": "stdout",
     "output_type": "stream",
     "text": [
      "F1 наилучшей модели на валидационной выборке: 0.5239948119325551\n"
     ]
    }
   ],
   "source": [
    "#Логистическая регрессия\n",
    "model_lr = LogisticRegression(random_state=1407, solver='lbfgs', max_iter=1000)\n",
    "model_lr.fit(features_downsampled, target_downsampled) \n",
    "\n",
    "prediction = model_lr.predict(features_valid) \n",
    "result_valid_LogisticRegression = f1_score(target_valid, prediction) \n",
    "dump(model_lr, 'model_9_1.joblib')\n",
    "\n",
    "print(\"F1 наилучшей модели на валидационной выборке:\", result_valid_LogisticRegression)"
   ]
  },
  {
   "cell_type": "code",
   "execution_count": 46,
   "metadata": {},
   "outputs": [
    {
     "name": "stdout",
     "output_type": "stream",
     "text": [
      "Площадь ROC-кривой: 0.7886328357342849\n"
     ]
    }
   ],
   "source": [
    "probabilities = model_lr.predict_proba(features_valid)\n",
    "probabilities_one = probabilities[:, 1]\n",
    "print('Площадь ROC-кривой:', roc_auc_score(target_valid, probabilities_one))"
   ]
  },
  {
   "cell_type": "code",
   "execution_count": 47,
   "metadata": {},
   "outputs": [
    {
     "name": "stdout",
     "output_type": "stream",
     "text": [
      "F1 лучшей модели: 0.5994318181818182\n",
      "Лучшая модель: DecisionTreeClassifier(max_depth=5, random_state=1407)\n"
     ]
    }
   ],
   "source": [
    "#Решающее дерево\n",
    "best_model_2 = None\n",
    "best_result_2 = 0\n",
    "for depth in range(1, 50):\n",
    "\tmodel_2 = DecisionTreeClassifier(random_state=1407, max_depth=depth) \n",
    "\tmodel_2.fit(features_downsampled, target_downsampled) \n",
    "\tpredictions_2 = model_2.predict(features_valid) \n",
    "\tresult_2 = f1_score(target_valid, predictions_2) \n",
    "\tif result_2 > best_result_2:\n",
    "\t\tbest_model_2 = model_2\n",
    "\t\tbest_result_2 = result_2\n",
    "        \n",
    "print(\"F1 лучшей модели:\", best_result_2)\n",
    "print('Лучшая модель:', best_model_2)"
   ]
  },
  {
   "cell_type": "code",
   "execution_count": 48,
   "metadata": {},
   "outputs": [
    {
     "name": "stdout",
     "output_type": "stream",
     "text": [
      "Площадь ROC-кривой: 0.8441992717355037\n"
     ]
    }
   ],
   "source": [
    "probabilities = best_model_2.predict_proba(features_valid)\n",
    "probabilities_one = probabilities[:, 1]\n",
    "print('Площадь ROC-кривой:', roc_auc_score(target_valid, probabilities_one))"
   ]
  },
  {
   "attachments": {},
   "cell_type": "markdown",
   "metadata": {},
   "source": [
    "Уменьшение выборки показало результат хуже, чем увеличение. Вероятно, это связано с тем, что наша выборка не слишком большая. Лучше всего себя показала модель - Случайный лес. Похоже у нас есть победитель!"
   ]
  },
  {
   "attachments": {},
   "cell_type": "markdown",
   "metadata": {},
   "source": [
    "Гиперпараметры лучшей модели случайного леса - **RandomForestClassifier(max_depth=11, n_estimators=28, random_state=1407)**\n",
    "Для борьбы с дисбалансом классов будем использовать технику - Увеличение выборки"
   ]
  },
  {
   "attachments": {},
   "cell_type": "markdown",
   "metadata": {},
   "source": [
    "## Тестирование модели"
   ]
  },
  {
   "attachments": {},
   "cell_type": "markdown",
   "metadata": {},
   "source": [
    "Проверим лучшую модель на тестовой выборке"
   ]
  },
  {
   "cell_type": "code",
   "execution_count": 49,
   "metadata": {},
   "outputs": [
    {
     "name": "stdout",
     "output_type": "stream",
     "text": [
      "F1: 0.6041055718475075\n"
     ]
    }
   ],
   "source": [
    "#Случайный лес\n",
    "best_model =  RandomForestClassifier(max_depth=11, n_estimators=28, random_state=1407) \n",
    "best_model.fit(features_upsampled, target_upsampled)\n",
    "\n",
    "print(\"F1:\", f1_score(target_test, best_model.predict(features_test)))"
   ]
  },
  {
   "attachments": {},
   "cell_type": "markdown",
   "metadata": {},
   "source": [
    "### Построение AUC-ROC кривой на тестовой выборке"
   ]
  },
  {
   "cell_type": "code",
   "execution_count": 50,
   "metadata": {},
   "outputs": [
    {
     "name": "stdout",
     "output_type": "stream",
     "text": [
      "0.843212840386858\n"
     ]
    }
   ],
   "source": [
    "probabilities_test = best_model.predict_proba(features_test)\n",
    "probabilities_one_test = probabilities_test[:, 1]\n",
    "\n",
    "auc_roc = roc_auc_score(target_test, probabilities_one_test)\n",
    "\n",
    "print(auc_roc)"
   ]
  },
  {
   "cell_type": "code",
   "execution_count": 51,
   "metadata": {},
   "outputs": [
    {
     "data": {
      "image/png": "[encoded data removed]",
      "text/plain": [
       "<Figure size 432x216 with 1 Axes>"
      ]
     },
     "metadata": {},
     "output_type": "display_data"
    }
   ],
   "source": [
    "fpr, tpr, thresholds = roc_curve(target_test, probabilities_one_test) \n",
    "\n",
    "plt.figure()\n",
    "\n",
    "\n",
    "# ROC-кривая случайной модели (выглядит как прямая)\n",
    "plt.plot([0, 1], [0, 1], linestyle='--')\n",
    "\n",
    "plt.plot(fpr, tpr)\n",
    "plt.xlim([0.0, 1.0])\n",
    "plt.ylim([0.0, 1.0])\n",
    "plt.xlabel('False Positive Rate')\n",
    "plt.ylabel('True Positive Rate')\n",
    "plt.title('ROC-кривая')\n",
    "plt.show()"
   ]
  },
  {
   "attachments": {},
   "cell_type": "markdown",
   "metadata": {},
   "source": [
    "### Сравнение с константной моделью"
   ]
  },
  {
   "cell_type": "code",
   "execution_count": 52,
   "metadata": {},
   "outputs": [
    {
     "data": {
      "text/plain": [
       "0.3379501385041551"
      ]
     },
     "execution_count": 52,
     "metadata": {},
     "output_type": "execute_result"
    }
   ],
   "source": [
    "from sklearn.dummy import DummyClassifier\n",
    "\n",
    "dummy_model = DummyClassifier(strategy='constant', constant=1)\n",
    "dummy_model.fit(features_train, target_train)\n",
    "f1_score(dummy_model.predict(features_test), target_test)"
   ]
  },
  {
   "attachments": {},
   "cell_type": "markdown",
   "metadata": {},
   "source": [
    "F1-мера нашей модели составила на валидационной выборке - 0,63; на тестовой выборке - 0,604, тогда как метрика F1 константной модели - 0.3379"
   ]
  },
  {
   "attachments": {},
   "cell_type": "markdown",
   "metadata": {},
   "source": [
    "## Чек-лист готовности проекта"
   ]
  },
  {
   "attachments": {},
   "cell_type": "markdown",
   "metadata": {},
   "source": [
    "Поставьте 'x' в выполненных пунктах. Далее нажмите Shift+Enter."
   ]
  },
  {
   "attachments": {},
   "cell_type": "markdown",
   "metadata": {},
   "source": [
    "- [x]  Jupyter Notebook открыт\n",
    "- [x]  Весь код выполняется без ошибок\n",
    "- [x]  Ячейки с кодом расположены в порядке исполнения\n",
    "- [x]  Выполнен шаг 1: данные подготовлены\n",
    "- [x]  Выполнен шаг 2: задача исследована\n",
    "    - [x]  Исследован баланс классов\n",
    "    - [x]  Изучены модели без учёта дисбаланса\n",
    "    - [x]  Написаны выводы по результатам исследования\n",
    "- [x]  Выполнен шаг 3: учтён дисбаланс\n",
    "    - [x]  Применено несколько способов борьбы с дисбалансом\n",
    "    - [x]  Написаны выводы по результатам исследования\n",
    "- [x]  Выполнен шаг 4: проведено тестирование\n",
    "- [x]  Удалось достичь *F1*-меры не менее 0.59\n",
    "- [x]  Исследована метрика *AUC-ROC*"
   ]
  },
  {
   "attachments": {},
   "cell_type": "markdown",
   "metadata": {},
   "source": [
    "## Вывод"
   ]
  },
  {
   "attachments": {},
   "cell_type": "markdown",
   "metadata": {},
   "source": [
    "* Была построена модель с предельно большим значением F1-меры. \n",
    "* F1 мера составила на валидационной выборке - 0,63; на тестовой выборке - 0,604\n",
    "* По F1 мере модель показала себя лучше, чем константная на 0,27\n",
    "* Лучшая модель - RandomForestClassifier(class_weight='balanced', max_depth=10, n_estimators=46, random_state=1407)\n",
    "* Лучший способ борьбы с дисбалансом - Увеличение выборки\n",
    "* Исследована метрика AUC-ROC\n",
    "* Для лучшей модели AUC-ROC = 0.843"
   ]
  }
 ],
 "metadata": {
  "ExecuteTimeLog": [
   {
    "duration": 1690,
    "start_time": "2023-02-20T09:55:03.299Z"
   },
   {
    "duration": 3,
    "start_time": "2023-02-20T09:55:07.682Z"
   },
   {
    "duration": 87,
    "start_time": "2023-02-20T09:55:10.089Z"
   },
   {
    "duration": 19,
    "start_time": "2023-02-20T09:55:12.240Z"
   },
   {
    "duration": 107,
    "start_time": "2023-02-20T09:56:01.253Z"
   },
   {
    "duration": 6,
    "start_time": "2023-02-20T09:56:07.085Z"
   },
   {
    "duration": 6,
    "start_time": "2023-02-20T09:56:34.963Z"
   },
   {
    "duration": 16,
    "start_time": "2023-02-20T12:47:05.745Z"
   },
   {
    "duration": 24,
    "start_time": "2023-02-20T14:11:43.574Z"
   },
   {
    "duration": 13,
    "start_time": "2023-02-20T14:11:49.871Z"
   },
   {
    "duration": 5,
    "start_time": "2023-02-20T14:14:36.772Z"
   },
   {
    "duration": 11,
    "start_time": "2023-02-20T14:14:48.254Z"
   },
   {
    "duration": 4,
    "start_time": "2023-02-20T14:15:12.554Z"
   },
   {
    "duration": 14,
    "start_time": "2023-02-20T14:15:21.227Z"
   },
   {
    "duration": 46,
    "start_time": "2023-02-20T14:16:44.563Z"
   },
   {
    "duration": 1000,
    "start_time": "2023-02-20T14:18:41.073Z"
   },
   {
    "duration": 1117,
    "start_time": "2023-02-20T14:18:49.700Z"
   },
   {
    "duration": 1324,
    "start_time": "2023-02-20T14:18:57.987Z"
   },
   {
    "duration": 4,
    "start_time": "2023-02-20T14:19:14.973Z"
   },
   {
    "duration": 5,
    "start_time": "2023-02-20T14:19:18.114Z"
   },
   {
    "duration": 37,
    "start_time": "2023-02-20T14:19:21.646Z"
   },
   {
    "duration": 15,
    "start_time": "2023-02-20T14:19:24.754Z"
   },
   {
    "duration": 1259,
    "start_time": "2023-02-20T14:19:28.903Z"
   },
   {
    "duration": 6,
    "start_time": "2023-02-20T14:19:43.822Z"
   },
   {
    "duration": 7,
    "start_time": "2023-02-20T14:19:46.284Z"
   },
   {
    "duration": 18,
    "start_time": "2023-02-20T14:19:49.353Z"
   },
   {
    "duration": 4,
    "start_time": "2023-02-20T14:19:52.246Z"
   },
   {
    "duration": 5,
    "start_time": "2023-02-20T14:19:54.599Z"
   },
   {
    "duration": 14,
    "start_time": "2023-02-20T14:19:56.458Z"
   },
   {
    "duration": 40,
    "start_time": "2023-02-20T14:19:59.659Z"
   },
   {
    "duration": 11,
    "start_time": "2023-02-20T14:21:00.906Z"
   },
   {
    "duration": 4,
    "start_time": "2023-02-20T14:22:14.916Z"
   },
   {
    "duration": 47,
    "start_time": "2023-02-20T14:23:23.029Z"
   },
   {
    "duration": 13,
    "start_time": "2023-02-20T14:25:23.860Z"
   },
   {
    "duration": 104,
    "start_time": "2023-02-20T14:25:35.458Z"
   },
   {
    "duration": 11,
    "start_time": "2023-02-20T14:28:50.465Z"
   },
   {
    "duration": 8,
    "start_time": "2023-02-20T14:29:00.866Z"
   },
   {
    "duration": 14,
    "start_time": "2023-02-20T14:29:09.019Z"
   },
   {
    "duration": 773,
    "start_time": "2023-02-20T14:29:47.954Z"
   },
   {
    "duration": 773,
    "start_time": "2023-02-20T14:30:34.356Z"
   },
   {
    "duration": 5,
    "start_time": "2023-02-20T14:30:49.573Z"
   },
   {
    "duration": 16,
    "start_time": "2023-02-20T14:30:49.581Z"
   },
   {
    "duration": 53,
    "start_time": "2023-02-20T14:30:49.600Z"
   },
   {
    "duration": 15,
    "start_time": "2023-02-20T14:30:49.655Z"
   },
   {
    "duration": 1310,
    "start_time": "2023-02-20T14:30:49.671Z"
   },
   {
    "duration": 4,
    "start_time": "2023-02-20T14:30:50.984Z"
   },
   {
    "duration": 16,
    "start_time": "2023-02-20T14:30:51.010Z"
   },
   {
    "duration": 20,
    "start_time": "2023-02-20T14:30:51.027Z"
   },
   {
    "duration": 4,
    "start_time": "2023-02-20T14:30:51.048Z"
   },
   {
    "duration": 9,
    "start_time": "2023-02-20T14:30:51.053Z"
   },
   {
    "duration": 15,
    "start_time": "2023-02-20T14:30:51.064Z"
   },
   {
    "duration": 41,
    "start_time": "2023-02-20T14:30:51.080Z"
   },
   {
    "duration": 11,
    "start_time": "2023-02-20T14:30:51.122Z"
   },
   {
    "duration": 7,
    "start_time": "2023-02-20T14:30:51.134Z"
   },
   {
    "duration": 6,
    "start_time": "2023-02-20T14:30:51.144Z"
   },
   {
    "duration": 11,
    "start_time": "2023-02-20T14:30:51.152Z"
   },
   {
    "duration": 14,
    "start_time": "2023-02-20T14:30:51.164Z"
   },
   {
    "duration": 210,
    "start_time": "2023-02-20T14:32:15.469Z"
   },
   {
    "duration": 19,
    "start_time": "2023-02-20T14:32:26.182Z"
   },
   {
    "duration": 7,
    "start_time": "2023-02-20T14:33:02.396Z"
   },
   {
    "duration": 7,
    "start_time": "2023-02-20T14:33:12.932Z"
   },
   {
    "duration": 10,
    "start_time": "2023-02-20T14:34:08.141Z"
   },
   {
    "duration": 14,
    "start_time": "2023-02-20T14:34:11.125Z"
   },
   {
    "duration": 5,
    "start_time": "2023-02-20T14:36:58.017Z"
   },
   {
    "duration": 6,
    "start_time": "2023-02-20T14:36:58.024Z"
   },
   {
    "duration": 36,
    "start_time": "2023-02-20T14:36:58.032Z"
   },
   {
    "duration": 14,
    "start_time": "2023-02-20T14:36:58.070Z"
   },
   {
    "duration": 1207,
    "start_time": "2023-02-20T14:36:58.086Z"
   },
   {
    "duration": 23,
    "start_time": "2023-02-20T14:36:59.295Z"
   },
   {
    "duration": 9,
    "start_time": "2023-02-20T14:36:59.319Z"
   },
   {
    "duration": 14,
    "start_time": "2023-02-20T14:36:59.329Z"
   },
   {
    "duration": 5,
    "start_time": "2023-02-20T14:36:59.345Z"
   },
   {
    "duration": 5,
    "start_time": "2023-02-20T14:36:59.353Z"
   },
   {
    "duration": 15,
    "start_time": "2023-02-20T14:36:59.360Z"
   },
   {
    "duration": 70,
    "start_time": "2023-02-20T14:36:59.377Z"
   },
   {
    "duration": 12,
    "start_time": "2023-02-20T14:36:59.449Z"
   },
   {
    "duration": 8,
    "start_time": "2023-02-20T14:36:59.463Z"
   },
   {
    "duration": 7,
    "start_time": "2023-02-20T14:36:59.473Z"
   },
   {
    "duration": 36,
    "start_time": "2023-02-20T14:36:59.482Z"
   },
   {
    "duration": 22,
    "start_time": "2023-02-20T14:36:59.520Z"
   },
   {
    "duration": 29,
    "start_time": "2023-02-20T14:36:59.544Z"
   },
   {
    "duration": 6,
    "start_time": "2023-02-20T14:37:41.587Z"
   },
   {
    "duration": 19,
    "start_time": "2023-02-20T14:40:09.697Z"
   },
   {
    "duration": 6,
    "start_time": "2023-02-20T14:40:11.712Z"
   },
   {
    "duration": 9,
    "start_time": "2023-02-20T14:40:58.972Z"
   },
   {
    "duration": 3,
    "start_time": "2023-02-20T14:41:03.693Z"
   },
   {
    "duration": 4,
    "start_time": "2023-02-20T14:41:38.929Z"
   },
   {
    "duration": 5,
    "start_time": "2023-02-20T14:42:07.214Z"
   },
   {
    "duration": 8,
    "start_time": "2023-02-20T14:42:44.931Z"
   },
   {
    "duration": 10,
    "start_time": "2023-02-20T14:42:47.397Z"
   },
   {
    "duration": 8,
    "start_time": "2023-02-20T14:42:50.803Z"
   },
   {
    "duration": 5,
    "start_time": "2023-02-20T14:43:10.850Z"
   },
   {
    "duration": 15,
    "start_time": "2023-02-20T14:43:28.074Z"
   },
   {
    "duration": 12,
    "start_time": "2023-02-20T14:43:35.272Z"
   },
   {
    "duration": 31,
    "start_time": "2023-02-20T14:55:26.442Z"
   },
   {
    "duration": 12,
    "start_time": "2023-02-20T14:57:18.203Z"
   },
   {
    "duration": 7,
    "start_time": "2023-02-20T14:57:27.261Z"
   },
   {
    "duration": 7,
    "start_time": "2023-02-20T14:57:30.715Z"
   },
   {
    "duration": 5,
    "start_time": "2023-02-20T14:57:32.803Z"
   },
   {
    "duration": 10118,
    "start_time": "2023-02-20T14:57:35.324Z"
   },
   {
    "duration": 8614,
    "start_time": "2023-02-20T14:58:13.557Z"
   },
   {
    "duration": 67349,
    "start_time": "2023-02-20T14:59:36.909Z"
   },
   {
    "duration": 70561,
    "start_time": "2023-02-20T15:09:09.108Z"
   },
   {
    "duration": 1596,
    "start_time": "2023-02-20T15:14:11.413Z"
   },
   {
    "duration": 1594,
    "start_time": "2023-02-20T15:15:46.539Z"
   },
   {
    "duration": 161,
    "start_time": "2023-02-20T15:19:30.411Z"
   },
   {
    "duration": 129,
    "start_time": "2023-02-20T15:19:54.726Z"
   },
   {
    "duration": 123,
    "start_time": "2023-02-20T15:20:32.848Z"
   },
   {
    "duration": 5,
    "start_time": "2023-02-20T15:21:28.929Z"
   },
   {
    "duration": 27,
    "start_time": "2023-02-20T15:21:42.846Z"
   },
   {
    "duration": 4,
    "start_time": "2023-02-20T15:33:15.789Z"
   },
   {
    "duration": 4,
    "start_time": "2023-02-20T15:33:29.908Z"
   },
   {
    "duration": 16,
    "start_time": "2023-02-20T15:33:33.917Z"
   },
   {
    "duration": 65917,
    "start_time": "2023-02-20T15:34:36.514Z"
   },
   {
    "duration": 131437,
    "start_time": "2023-02-20T15:37:05.017Z"
   },
   {
    "duration": 1138,
    "start_time": "2023-02-20T15:40:11.971Z"
   },
   {
    "duration": 2658,
    "start_time": "2023-02-20T15:41:16.132Z"
   },
   {
    "duration": 4,
    "start_time": "2023-02-20T15:43:26.522Z"
   },
   {
    "duration": 9,
    "start_time": "2023-02-20T15:43:46.928Z"
   },
   {
    "duration": 33838,
    "start_time": "2023-02-20T15:44:16.656Z"
   },
   {
    "duration": 399,
    "start_time": "2023-02-20T15:45:34.431Z"
   },
   {
    "duration": 132034,
    "start_time": "2023-02-20T15:46:53.661Z"
   },
   {
    "duration": 1152,
    "start_time": "2023-02-20T15:49:38.686Z"
   },
   {
    "duration": 2792,
    "start_time": "2023-02-20T15:49:47.932Z"
   },
   {
    "duration": 33558,
    "start_time": "2023-02-20T15:50:08.715Z"
   },
   {
    "duration": 434,
    "start_time": "2023-02-20T15:50:42.275Z"
   },
   {
    "duration": 529,
    "start_time": "2023-02-20T15:53:18.300Z"
   },
   {
    "duration": 130427,
    "start_time": "2023-02-20T15:56:44.863Z"
   },
   {
    "duration": 28,
    "start_time": "2023-02-20T15:59:25.447Z"
   },
   {
    "duration": 5,
    "start_time": "2023-02-20T16:00:18.579Z"
   },
   {
    "duration": 35,
    "start_time": "2023-02-20T16:00:26.062Z"
   },
   {
    "duration": 24,
    "start_time": "2023-02-20T16:00:47.510Z"
   },
   {
    "duration": 12,
    "start_time": "2023-02-20T16:02:23.011Z"
   },
   {
    "duration": 5,
    "start_time": "2023-02-20T16:02:45.866Z"
   },
   {
    "duration": 123,
    "start_time": "2023-02-20T16:02:53.839Z"
   },
   {
    "duration": 4,
    "start_time": "2023-02-20T16:08:26.296Z"
   },
   {
    "duration": 20,
    "start_time": "2023-02-20T16:08:26.321Z"
   },
   {
    "duration": 37,
    "start_time": "2023-02-20T16:08:26.343Z"
   },
   {
    "duration": 15,
    "start_time": "2023-02-20T16:08:26.382Z"
   },
   {
    "duration": 1367,
    "start_time": "2023-02-20T16:08:26.399Z"
   },
   {
    "duration": 5,
    "start_time": "2023-02-20T16:08:27.769Z"
   },
   {
    "duration": 13,
    "start_time": "2023-02-20T16:08:27.775Z"
   },
   {
    "duration": 19,
    "start_time": "2023-02-20T16:08:27.803Z"
   },
   {
    "duration": 5,
    "start_time": "2023-02-20T16:08:27.824Z"
   },
   {
    "duration": 6,
    "start_time": "2023-02-20T16:08:27.831Z"
   },
   {
    "duration": 18,
    "start_time": "2023-02-20T16:08:27.838Z"
   },
   {
    "duration": 72,
    "start_time": "2023-02-20T16:08:27.857Z"
   },
   {
    "duration": 13,
    "start_time": "2023-02-20T16:08:27.931Z"
   },
   {
    "duration": 8,
    "start_time": "2023-02-20T16:08:27.945Z"
   },
   {
    "duration": 177,
    "start_time": "2023-02-20T16:08:27.956Z"
   },
   {
    "duration": 4,
    "start_time": "2023-02-20T16:08:28.135Z"
   },
   {
    "duration": 15,
    "start_time": "2023-02-20T16:08:28.141Z"
   },
   {
    "duration": 14,
    "start_time": "2023-02-20T16:08:28.159Z"
   },
   {
    "duration": 47,
    "start_time": "2023-02-20T16:08:28.175Z"
   },
   {
    "duration": 14,
    "start_time": "2023-02-20T16:08:28.224Z"
   },
   {
    "duration": 7,
    "start_time": "2023-02-20T16:08:28.240Z"
   },
   {
    "duration": 7,
    "start_time": "2023-02-20T16:08:28.248Z"
   },
   {
    "duration": 6,
    "start_time": "2023-02-20T16:08:28.257Z"
   },
   {
    "duration": 69403,
    "start_time": "2023-02-20T16:08:28.264Z"
   },
   {
    "duration": 1839,
    "start_time": "2023-02-20T16:09:37.669Z"
   },
   {
    "duration": 1632,
    "start_time": "2023-02-20T16:09:39.511Z"
   },
   {
    "duration": 4,
    "start_time": "2023-02-20T16:09:41.145Z"
   },
   {
    "duration": 17,
    "start_time": "2023-02-20T16:09:41.151Z"
   },
   {
    "duration": 1662,
    "start_time": "2023-02-21T12:13:08.463Z"
   },
   {
    "duration": 2,
    "start_time": "2023-02-21T12:13:10.128Z"
   },
   {
    "duration": 84,
    "start_time": "2023-02-21T12:13:10.132Z"
   },
   {
    "duration": 19,
    "start_time": "2023-02-21T12:13:10.217Z"
   },
   {
    "duration": 1238,
    "start_time": "2023-02-21T12:13:10.238Z"
   },
   {
    "duration": 4,
    "start_time": "2023-02-21T12:13:11.478Z"
   },
   {
    "duration": 7,
    "start_time": "2023-02-21T12:13:11.484Z"
   },
   {
    "duration": 15,
    "start_time": "2023-02-21T12:13:11.492Z"
   },
   {
    "duration": 4,
    "start_time": "2023-02-21T12:13:11.508Z"
   },
   {
    "duration": 23,
    "start_time": "2023-02-21T12:13:11.514Z"
   },
   {
    "duration": 11,
    "start_time": "2023-02-21T12:13:11.539Z"
   },
   {
    "duration": 38,
    "start_time": "2023-02-21T12:13:11.552Z"
   },
   {
    "duration": 10,
    "start_time": "2023-02-21T12:13:11.592Z"
   },
   {
    "duration": 32,
    "start_time": "2023-02-21T12:13:11.605Z"
   },
   {
    "duration": 115,
    "start_time": "2023-02-21T12:13:11.639Z"
   },
   {
    "duration": 4,
    "start_time": "2023-02-21T12:13:11.756Z"
   },
   {
    "duration": 10,
    "start_time": "2023-02-21T12:13:11.762Z"
   },
   {
    "duration": 13,
    "start_time": "2023-02-21T12:13:11.774Z"
   },
   {
    "duration": 13,
    "start_time": "2023-02-21T12:13:11.789Z"
   },
   {
    "duration": 45,
    "start_time": "2023-02-21T12:13:11.804Z"
   },
   {
    "duration": 6,
    "start_time": "2023-02-21T12:13:11.851Z"
   },
   {
    "duration": 5,
    "start_time": "2023-02-21T12:13:11.858Z"
   },
   {
    "duration": 4,
    "start_time": "2023-02-21T12:13:11.865Z"
   },
   {
    "duration": 59552,
    "start_time": "2023-02-21T12:13:11.870Z"
   },
   {
    "duration": 741,
    "start_time": "2023-02-21T12:14:11.423Z"
   },
   {
    "duration": 1712,
    "start_time": "2023-02-21T12:14:12.166Z"
   },
   {
    "duration": 4,
    "start_time": "2023-02-21T12:14:13.879Z"
   },
   {
    "duration": 26,
    "start_time": "2023-02-21T12:14:13.885Z"
   },
   {
    "duration": 120652,
    "start_time": "2023-02-21T12:14:13.914Z"
   },
   {
    "duration": 1197,
    "start_time": "2023-02-21T12:16:14.568Z"
   },
   {
    "duration": 2814,
    "start_time": "2023-02-21T12:16:15.766Z"
   },
   {
    "duration": 5,
    "start_time": "2023-02-21T12:16:18.581Z"
   },
   {
    "duration": 12,
    "start_time": "2023-02-21T12:16:18.587Z"
   },
   {
    "duration": 32459,
    "start_time": "2023-02-21T12:16:18.600Z"
   },
   {
    "duration": 382,
    "start_time": "2023-02-21T12:16:51.061Z"
   },
   {
    "duration": 733,
    "start_time": "2023-02-21T12:16:51.445Z"
   },
   {
    "duration": 120054,
    "start_time": "2023-02-21T12:16:52.179Z"
   },
   {
    "duration": 21,
    "start_time": "2023-02-21T12:18:52.235Z"
   },
   {
    "duration": 127,
    "start_time": "2023-02-21T12:18:52.258Z"
   },
   {
    "duration": 1795,
    "start_time": "2023-02-21T13:20:36.457Z"
   },
   {
    "duration": 4,
    "start_time": "2023-02-21T13:21:18.320Z"
   },
   {
    "duration": 208,
    "start_time": "2023-02-21T13:21:21.060Z"
   },
   {
    "duration": 22,
    "start_time": "2023-02-21T13:21:23.831Z"
   },
   {
    "duration": 1462,
    "start_time": "2023-02-21T13:21:26.404Z"
   },
   {
    "duration": 5,
    "start_time": "2023-02-21T13:21:30.926Z"
   },
   {
    "duration": 5,
    "start_time": "2023-02-21T13:21:33.361Z"
   },
   {
    "duration": 19,
    "start_time": "2023-02-21T13:21:36.210Z"
   },
   {
    "duration": 6,
    "start_time": "2023-02-21T13:21:39.688Z"
   },
   {
    "duration": 4,
    "start_time": "2023-02-21T13:21:42.625Z"
   },
   {
    "duration": 22,
    "start_time": "2023-02-21T13:21:44.688Z"
   },
   {
    "duration": 43,
    "start_time": "2023-02-21T13:21:48.427Z"
   },
   {
    "duration": 13,
    "start_time": "2023-02-21T13:21:51.657Z"
   },
   {
    "duration": 11,
    "start_time": "2023-02-21T13:21:55.006Z"
   },
   {
    "duration": 133,
    "start_time": "2023-02-21T13:21:57.788Z"
   },
   {
    "duration": 183,
    "start_time": "2023-02-21T13:22:00.895Z"
   },
   {
    "duration": 211,
    "start_time": "2023-02-21T13:22:58.855Z"
   },
   {
    "duration": 220,
    "start_time": "2023-02-21T13:23:34.624Z"
   },
   {
    "duration": 206,
    "start_time": "2023-02-21T13:23:44.252Z"
   },
   {
    "duration": 4,
    "start_time": "2023-02-21T13:24:15.470Z"
   },
   {
    "duration": 9,
    "start_time": "2023-02-21T13:24:20.066Z"
   },
   {
    "duration": 15,
    "start_time": "2023-02-21T13:25:07.346Z"
   },
   {
    "duration": 14,
    "start_time": "2023-02-21T13:25:09.969Z"
   },
   {
    "duration": 15,
    "start_time": "2023-02-21T13:25:14.553Z"
   },
   {
    "duration": 7,
    "start_time": "2023-02-21T13:25:19.627Z"
   },
   {
    "duration": 7,
    "start_time": "2023-02-21T13:25:22.124Z"
   },
   {
    "duration": 5,
    "start_time": "2023-02-21T13:25:24.236Z"
   },
   {
    "duration": 125,
    "start_time": "2023-02-21T13:26:42.006Z"
   },
   {
    "duration": 4,
    "start_time": "2023-02-21T13:27:52.630Z"
   },
   {
    "duration": 4,
    "start_time": "2023-02-21T13:29:27.731Z"
   },
   {
    "duration": 35,
    "start_time": "2023-02-21T13:34:06.333Z"
   },
   {
    "duration": 37,
    "start_time": "2023-02-21T13:39:16.131Z"
   },
   {
    "duration": 69920,
    "start_time": "2023-02-21T13:39:48.986Z"
   },
   {
    "duration": 137,
    "start_time": "2023-02-21T13:41:03.727Z"
   },
   {
    "duration": 18,
    "start_time": "2023-02-21T13:41:30.861Z"
   },
   {
    "duration": 9,
    "start_time": "2023-02-21T13:43:33.015Z"
   },
   {
    "duration": 362,
    "start_time": "2023-02-21T13:43:36.856Z"
   },
   {
    "duration": 11,
    "start_time": "2023-02-21T13:43:39.405Z"
   },
   {
    "duration": 1607,
    "start_time": "2023-02-21T13:44:04.253Z"
   },
   {
    "duration": 8,
    "start_time": "2023-02-21T13:44:24.870Z"
   },
   {
    "duration": 81,
    "start_time": "2023-02-21T13:47:46.505Z"
   },
   {
    "duration": 13,
    "start_time": "2023-02-21T13:48:19.188Z"
   },
   {
    "duration": 15,
    "start_time": "2023-02-21T13:48:21.664Z"
   },
   {
    "duration": 10,
    "start_time": "2023-02-21T13:48:34.529Z"
   },
   {
    "duration": 96138,
    "start_time": "2023-02-21T13:49:17.765Z"
   },
   {
    "duration": 0,
    "start_time": "2023-02-21T13:50:53.972Z"
   },
   {
    "duration": 95410,
    "start_time": "2023-02-21T13:51:05.198Z"
   },
   {
    "duration": 568,
    "start_time": "2023-02-21T13:52:55.528Z"
   },
   {
    "duration": 1946,
    "start_time": "2023-02-21T13:53:06.650Z"
   },
   {
    "duration": 18,
    "start_time": "2023-02-21T13:54:23.836Z"
   },
   {
    "duration": 13,
    "start_time": "2023-02-21T13:54:47.455Z"
   },
   {
    "duration": 9,
    "start_time": "2023-02-21T13:55:10.631Z"
   },
   {
    "duration": 5,
    "start_time": "2023-02-21T13:57:27.487Z"
   },
   {
    "duration": 11,
    "start_time": "2023-02-21T13:57:30.597Z"
   },
   {
    "duration": 42227,
    "start_time": "2023-02-21T13:57:59.315Z"
   },
   {
    "duration": 12,
    "start_time": "2023-02-21T13:58:45.488Z"
   },
   {
    "duration": 440,
    "start_time": "2023-02-21T13:58:56.589Z"
   },
   {
    "duration": 11,
    "start_time": "2023-02-21T13:59:16.313Z"
   },
   {
    "duration": 785,
    "start_time": "2023-02-21T13:59:30.132Z"
   },
   {
    "duration": 8,
    "start_time": "2023-02-21T13:59:34.413Z"
   },
   {
    "duration": 41819,
    "start_time": "2023-02-21T13:59:44.735Z"
   },
   {
    "duration": 11,
    "start_time": "2023-02-21T14:00:33.087Z"
   },
   {
    "duration": 563,
    "start_time": "2023-02-21T14:00:36.576Z"
   },
   {
    "duration": 8,
    "start_time": "2023-02-21T14:00:39.871Z"
   },
   {
    "duration": 764,
    "start_time": "2023-02-21T14:00:42.776Z"
   },
   {
    "duration": 9,
    "start_time": "2023-02-21T14:00:45.916Z"
   },
   {
    "duration": 93831,
    "start_time": "2023-02-21T14:03:07.878Z"
   },
   {
    "duration": 475,
    "start_time": "2023-02-21T14:05:32.786Z"
   },
   {
    "duration": 401,
    "start_time": "2023-02-21T14:05:45.993Z"
   },
   {
    "duration": 19,
    "start_time": "2023-02-21T14:05:55.820Z"
   },
   {
    "duration": 121,
    "start_time": "2023-02-21T14:06:00.084Z"
   },
   {
    "duration": 8,
    "start_time": "2023-02-21T14:07:39.979Z"
   },
   {
    "duration": 5,
    "start_time": "2023-02-21T15:17:41.548Z"
   },
   {
    "duration": 4,
    "start_time": "2023-02-21T15:17:41.572Z"
   },
   {
    "duration": 60,
    "start_time": "2023-02-21T15:17:41.578Z"
   },
   {
    "duration": 14,
    "start_time": "2023-02-21T15:17:41.640Z"
   },
   {
    "duration": 1253,
    "start_time": "2023-02-21T15:17:41.656Z"
   },
   {
    "duration": 5,
    "start_time": "2023-02-21T15:17:42.912Z"
   },
   {
    "duration": 11,
    "start_time": "2023-02-21T15:17:42.918Z"
   },
   {
    "duration": 28,
    "start_time": "2023-02-21T15:17:42.931Z"
   },
   {
    "duration": 5,
    "start_time": "2023-02-21T15:17:42.961Z"
   },
   {
    "duration": 5,
    "start_time": "2023-02-21T15:17:42.968Z"
   },
   {
    "duration": 27,
    "start_time": "2023-02-21T15:17:42.975Z"
   },
   {
    "duration": 40,
    "start_time": "2023-02-21T15:17:43.004Z"
   },
   {
    "duration": 12,
    "start_time": "2023-02-21T15:17:43.047Z"
   },
   {
    "duration": 32,
    "start_time": "2023-02-21T15:17:43.061Z"
   },
   {
    "duration": 129,
    "start_time": "2023-02-21T15:17:43.097Z"
   },
   {
    "duration": 4,
    "start_time": "2023-02-21T15:17:43.227Z"
   },
   {
    "duration": 15,
    "start_time": "2023-02-21T15:17:43.233Z"
   },
   {
    "duration": 19,
    "start_time": "2023-02-21T15:17:43.250Z"
   },
   {
    "duration": 24,
    "start_time": "2023-02-21T15:17:43.271Z"
   },
   {
    "duration": 21,
    "start_time": "2023-02-21T15:17:43.297Z"
   },
   {
    "duration": 8,
    "start_time": "2023-02-21T15:17:43.319Z"
   },
   {
    "duration": 6,
    "start_time": "2023-02-21T15:17:43.328Z"
   },
   {
    "duration": 9,
    "start_time": "2023-02-21T15:17:43.335Z"
   },
   {
    "duration": 54,
    "start_time": "2023-02-21T15:17:43.345Z"
   },
   {
    "duration": 68521,
    "start_time": "2023-02-21T15:17:43.400Z"
   },
   {
    "duration": 17,
    "start_time": "2023-02-21T15:18:51.923Z"
   },
   {
    "duration": 476,
    "start_time": "2023-02-21T15:18:51.941Z"
   },
   {
    "duration": 75,
    "start_time": "2023-02-21T15:18:52.419Z"
   },
   {
    "duration": 1638,
    "start_time": "2023-02-21T15:18:52.497Z"
   },
   {
    "duration": 9,
    "start_time": "2023-02-21T15:18:54.137Z"
   },
   {
    "duration": 11,
    "start_time": "2023-02-21T15:18:54.148Z"
   },
   {
    "duration": 15,
    "start_time": "2023-02-21T15:18:54.161Z"
   },
   {
    "duration": 95214,
    "start_time": "2023-02-21T15:18:54.178Z"
   },
   {
    "duration": 19,
    "start_time": "2023-02-21T15:20:29.394Z"
   },
   {
    "duration": 415,
    "start_time": "2023-02-21T15:20:29.414Z"
   },
   {
    "duration": 62,
    "start_time": "2023-02-21T15:20:29.831Z"
   },
   {
    "duration": 2061,
    "start_time": "2023-02-21T15:20:29.895Z"
   },
   {
    "duration": 7,
    "start_time": "2023-02-21T15:20:31.958Z"
   },
   {
    "duration": 13,
    "start_time": "2023-02-21T15:20:31.967Z"
   },
   {
    "duration": 25,
    "start_time": "2023-02-21T15:20:31.991Z"
   },
   {
    "duration": 43170,
    "start_time": "2023-02-21T15:20:32.018Z"
   },
   {
    "duration": 16,
    "start_time": "2023-02-21T15:21:15.193Z"
   },
   {
    "duration": 922,
    "start_time": "2023-02-21T15:21:15.211Z"
   },
   {
    "duration": 62,
    "start_time": "2023-02-21T15:21:16.135Z"
   },
   {
    "duration": 1037,
    "start_time": "2023-02-21T15:21:16.199Z"
   },
   {
    "duration": 9,
    "start_time": "2023-02-21T15:21:17.239Z"
   },
   {
    "duration": 344,
    "start_time": "2023-02-21T15:21:17.251Z"
   },
   {
    "duration": 25,
    "start_time": "2023-02-21T15:21:17.597Z"
   },
   {
    "duration": 215,
    "start_time": "2023-02-21T15:21:17.624Z"
   },
   {
    "duration": 13,
    "start_time": "2023-02-21T15:21:17.842Z"
   },
   {
    "duration": 72,
    "start_time": "2023-02-22T08:03:30.462Z"
   },
   {
    "duration": 1598,
    "start_time": "2023-02-22T08:03:42.521Z"
   },
   {
    "duration": 3,
    "start_time": "2023-02-22T08:03:44.121Z"
   },
   {
    "duration": 181,
    "start_time": "2023-02-22T08:03:44.126Z"
   },
   {
    "duration": 25,
    "start_time": "2023-02-22T08:03:44.309Z"
   },
   {
    "duration": 1293,
    "start_time": "2023-02-22T08:03:44.336Z"
   },
   {
    "duration": 6,
    "start_time": "2023-02-22T08:03:45.631Z"
   },
   {
    "duration": 14,
    "start_time": "2023-02-22T08:03:45.638Z"
   },
   {
    "duration": 46,
    "start_time": "2023-02-22T08:03:45.654Z"
   },
   {
    "duration": 13,
    "start_time": "2023-02-22T08:03:45.701Z"
   },
   {
    "duration": 8,
    "start_time": "2023-02-22T08:03:45.717Z"
   },
   {
    "duration": 14,
    "start_time": "2023-02-22T08:03:45.726Z"
   },
   {
    "duration": 39,
    "start_time": "2023-02-22T08:03:45.742Z"
   },
   {
    "duration": 32,
    "start_time": "2023-02-22T08:03:45.783Z"
   },
   {
    "duration": 8,
    "start_time": "2023-02-22T08:03:45.817Z"
   },
   {
    "duration": 132,
    "start_time": "2023-02-22T08:03:45.827Z"
   },
   {
    "duration": 4,
    "start_time": "2023-02-22T08:03:45.960Z"
   },
   {
    "duration": 13,
    "start_time": "2023-02-22T08:03:45.965Z"
   },
   {
    "duration": 32,
    "start_time": "2023-02-22T08:03:45.979Z"
   },
   {
    "duration": 24,
    "start_time": "2023-02-22T08:03:46.012Z"
   },
   {
    "duration": 13,
    "start_time": "2023-02-22T08:03:46.037Z"
   },
   {
    "duration": 6,
    "start_time": "2023-02-22T08:03:46.052Z"
   },
   {
    "duration": 10,
    "start_time": "2023-02-22T08:03:46.060Z"
   },
   {
    "duration": 17,
    "start_time": "2023-02-22T08:03:46.071Z"
   },
   {
    "duration": 40,
    "start_time": "2023-02-22T08:03:46.090Z"
   },
   {
    "duration": 92,
    "start_time": "2023-02-22T08:03:55.992Z"
   },
   {
    "duration": 66366,
    "start_time": "2023-02-22T08:05:06.875Z"
   },
   {
    "duration": 14,
    "start_time": "2023-02-22T08:06:22.159Z"
   },
   {
    "duration": 248,
    "start_time": "2023-02-22T08:12:40.958Z"
   },
   {
    "duration": 9,
    "start_time": "2023-02-22T08:12:45.188Z"
   },
   {
    "duration": 1590,
    "start_time": "2023-02-22T08:13:29.252Z"
   },
   {
    "duration": 9,
    "start_time": "2023-02-22T08:13:35.580Z"
   },
   {
    "duration": 4,
    "start_time": "2023-02-22T09:05:11.600Z"
   },
   {
    "duration": 38,
    "start_time": "2023-02-22T09:05:13.760Z"
   },
   {
    "duration": 92861,
    "start_time": "2023-02-22T09:43:41.775Z"
   },
   {
    "duration": 16,
    "start_time": "2023-02-22T10:39:49.783Z"
   },
   {
    "duration": 1431,
    "start_time": "2023-02-22T10:40:55.074Z"
   },
   {
    "duration": 9,
    "start_time": "2023-02-22T10:41:12.247Z"
   },
   {
    "duration": 2013,
    "start_time": "2023-02-22T10:42:04.831Z"
   },
   {
    "duration": 8,
    "start_time": "2023-02-22T10:42:09.265Z"
   },
   {
    "duration": 4,
    "start_time": "2023-02-22T10:42:34.336Z"
   },
   {
    "duration": 12,
    "start_time": "2023-02-22T10:42:36.548Z"
   },
   {
    "duration": 40038,
    "start_time": "2023-02-22T10:43:16.378Z"
   },
   {
    "duration": 16,
    "start_time": "2023-02-22T10:50:02.796Z"
   },
   {
    "duration": 411,
    "start_time": "2023-02-22T10:50:53.017Z"
   },
   {
    "duration": 12,
    "start_time": "2023-02-22T10:50:56.530Z"
   },
   {
    "duration": 736,
    "start_time": "2023-02-22T10:51:33.034Z"
   },
   {
    "duration": 8,
    "start_time": "2023-02-22T10:51:36.948Z"
   },
   {
    "duration": 338,
    "start_time": "2023-02-22T10:51:48.788Z"
   },
   {
    "duration": 20,
    "start_time": "2023-02-22T10:51:56.331Z"
   },
   {
    "duration": 158,
    "start_time": "2023-02-22T10:52:00.716Z"
   },
   {
    "duration": 10,
    "start_time": "2023-02-22T10:52:04.370Z"
   }
  ],
  "kernelspec": {
   "display_name": "Python 3 (ipykernel)",
   "language": "python",
   "name": "python3"
  },
  "language_info": {
   "codemirror_mode": {
    "name": "ipython",
    "version": 3
   },
   "file_extension": ".py",
   "mimetype": "text/x-python",
   "name": "python",
   "nbconvert_exporter": "python",
   "pygments_lexer": "ipython3",
   "version": "3.9.5"
  },
  "toc": {
   "base_numbering": 1,
   "nav_menu": {},
   "number_sections": true,
   "sideBar": true,
   "skip_h1_title": true,
   "title_cell": "Содержание",
   "title_sidebar": "Contents",
   "toc_cell": true,
   "toc_position": {},
   "toc_section_display": true,
   "toc_window_display": true
  }
 },
 "nbformat": 4,
 "nbformat_minor": 2
}
