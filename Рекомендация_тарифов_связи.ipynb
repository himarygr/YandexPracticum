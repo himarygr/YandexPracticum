{
 "cells": [
  {
   "attachments": {},
   "cell_type": "markdown",
   "metadata": {},
   "source": [
    "# Рекомендация тарифов"
   ]
  },
  {
   "attachments": {},
   "cell_type": "markdown",
   "metadata": {},
   "source": [
    "**Описание:**\n",
    "\n",
    "В вашем распоряжении данные о поведении клиентов, которые уже перешли на эти тарифы (из проекта курса «Статистический анализ данных»). Нужно построить модель для задачи классификации, которая выберет подходящий тариф. Предобработка данных не понадобится.\n",
    "\n",
    "**Цель:**\n",
    "\n",
    "* Построить модель с максимально большим значением *accuracy*. \n",
    "* Довести долю правильных ответов по крайней мере до 0.75 \n",
    "* Проверить *accuracy* на тестовой выборке самостоятельно."
   ]
  },
  {
   "attachments": {},
   "cell_type": "markdown",
   "metadata": {},
   "source": [
    "## Откройте и изучите файл"
   ]
  },
  {
   "cell_type": "code",
   "execution_count": 1,
   "metadata": {},
   "outputs": [],
   "source": [
    "#Импорт библиотек\n",
    "import pandas as pd\n",
    "import matplotlib.pyplot as plt \n",
    "from matplotlib import rcParams\n",
    "import seaborn as sns\n",
    "import numpy as np\n",
    "import warnings\n",
    "from scipy import stats\n",
    "\n",
    "\n",
    "from sklearn.metrics import mean_squared_error\n",
    "from sklearn.ensemble import RandomForestClassifier\n",
    "from sklearn.model_selection import train_test_split\n",
    "from sklearn.linear_model import LogisticRegression \n",
    "from sklearn.metrics import accuracy_score, precision_score, recall_score, f1_score\n",
    "from sklearn.tree import DecisionTreeClassifier\n",
    "\n",
    "warnings.simplefilter(action='ignore', category=FutureWarning)\n",
    "from joblib import dump"
   ]
  },
  {
   "cell_type": "code",
   "execution_count": 2,
   "metadata": {},
   "outputs": [],
   "source": [
    "plt.style.use(\"ggplot\")\n",
    "rcParams['figure.figsize'] = (6,  3)"
   ]
  },
  {
   "cell_type": "code",
   "execution_count": 3,
   "metadata": {},
   "outputs": [],
   "source": [
    "try:\n",
    "    data = pd.read_csv('/datasets/users_behavior.csv', sep = ',')\n",
    "except:\n",
    "    data = pd.read_csv('https://code.s3.yandex.net/datasets/users_behavior.csv')"
   ]
  },
  {
   "cell_type": "code",
   "execution_count": 4,
   "metadata": {},
   "outputs": [
    {
     "data": {
      "text/html": [
       "<div>\n",
       "<style scoped>\n",
       "    .dataframe tbody tr th:only-of-type {\n",
       "        vertical-align: middle;\n",
       "    }\n",
       "\n",
       "    .dataframe tbody tr th {\n",
       "        vertical-align: top;\n",
       "    }\n",
       "\n",
       "    .dataframe thead th {\n",
       "        text-align: right;\n",
       "    }\n",
       "</style>\n",
       "<table border=\"1\" class=\"dataframe\">\n",
       "  <thead>\n",
       "    <tr style=\"text-align: right;\">\n",
       "      <th></th>\n",
       "      <th>calls</th>\n",
       "      <th>minutes</th>\n",
       "      <th>messages</th>\n",
       "      <th>mb_used</th>\n",
       "      <th>is_ultra</th>\n",
       "    </tr>\n",
       "  </thead>\n",
       "  <tbody>\n",
       "    <tr>\n",
       "      <th>0</th>\n",
       "      <td>40.0</td>\n",
       "      <td>311.90</td>\n",
       "      <td>83.0</td>\n",
       "      <td>19915.42</td>\n",
       "      <td>0</td>\n",
       "    </tr>\n",
       "    <tr>\n",
       "      <th>1</th>\n",
       "      <td>85.0</td>\n",
       "      <td>516.75</td>\n",
       "      <td>56.0</td>\n",
       "      <td>22696.96</td>\n",
       "      <td>0</td>\n",
       "    </tr>\n",
       "    <tr>\n",
       "      <th>2</th>\n",
       "      <td>77.0</td>\n",
       "      <td>467.66</td>\n",
       "      <td>86.0</td>\n",
       "      <td>21060.45</td>\n",
       "      <td>0</td>\n",
       "    </tr>\n",
       "    <tr>\n",
       "      <th>3</th>\n",
       "      <td>106.0</td>\n",
       "      <td>745.53</td>\n",
       "      <td>81.0</td>\n",
       "      <td>8437.39</td>\n",
       "      <td>1</td>\n",
       "    </tr>\n",
       "    <tr>\n",
       "      <th>4</th>\n",
       "      <td>66.0</td>\n",
       "      <td>418.74</td>\n",
       "      <td>1.0</td>\n",
       "      <td>14502.75</td>\n",
       "      <td>0</td>\n",
       "    </tr>\n",
       "    <tr>\n",
       "      <th>5</th>\n",
       "      <td>58.0</td>\n",
       "      <td>344.56</td>\n",
       "      <td>21.0</td>\n",
       "      <td>15823.37</td>\n",
       "      <td>0</td>\n",
       "    </tr>\n",
       "    <tr>\n",
       "      <th>6</th>\n",
       "      <td>57.0</td>\n",
       "      <td>431.64</td>\n",
       "      <td>20.0</td>\n",
       "      <td>3738.90</td>\n",
       "      <td>1</td>\n",
       "    </tr>\n",
       "    <tr>\n",
       "      <th>7</th>\n",
       "      <td>15.0</td>\n",
       "      <td>132.40</td>\n",
       "      <td>6.0</td>\n",
       "      <td>21911.60</td>\n",
       "      <td>0</td>\n",
       "    </tr>\n",
       "    <tr>\n",
       "      <th>8</th>\n",
       "      <td>7.0</td>\n",
       "      <td>43.39</td>\n",
       "      <td>3.0</td>\n",
       "      <td>2538.67</td>\n",
       "      <td>1</td>\n",
       "    </tr>\n",
       "    <tr>\n",
       "      <th>9</th>\n",
       "      <td>90.0</td>\n",
       "      <td>665.41</td>\n",
       "      <td>38.0</td>\n",
       "      <td>17358.61</td>\n",
       "      <td>0</td>\n",
       "    </tr>\n",
       "  </tbody>\n",
       "</table>\n",
       "</div>"
      ],
      "text/plain": [
       "   calls  minutes  messages   mb_used  is_ultra\n",
       "0   40.0   311.90      83.0  19915.42         0\n",
       "1   85.0   516.75      56.0  22696.96         0\n",
       "2   77.0   467.66      86.0  21060.45         0\n",
       "3  106.0   745.53      81.0   8437.39         1\n",
       "4   66.0   418.74       1.0  14502.75         0\n",
       "5   58.0   344.56      21.0  15823.37         0\n",
       "6   57.0   431.64      20.0   3738.90         1\n",
       "7   15.0   132.40       6.0  21911.60         0\n",
       "8    7.0    43.39       3.0   2538.67         1\n",
       "9   90.0   665.41      38.0  17358.61         0"
      ]
     },
     "execution_count": 4,
     "metadata": {},
     "output_type": "execute_result"
    }
   ],
   "source": [
    "data.head(10)"
   ]
  },
  {
   "cell_type": "code",
   "execution_count": 5,
   "metadata": {},
   "outputs": [
    {
     "name": "stdout",
     "output_type": "stream",
     "text": [
      "<class 'pandas.core.frame.DataFrame'>\n",
      "RangeIndex: 3214 entries, 0 to 3213\n",
      "Data columns (total 5 columns):\n",
      " #   Column    Non-Null Count  Dtype  \n",
      "---  ------    --------------  -----  \n",
      " 0   calls     3214 non-null   float64\n",
      " 1   minutes   3214 non-null   float64\n",
      " 2   messages  3214 non-null   float64\n",
      " 3   mb_used   3214 non-null   float64\n",
      " 4   is_ultra  3214 non-null   int64  \n",
      "dtypes: float64(4), int64(1)\n",
      "memory usage: 125.7 KB\n"
     ]
    }
   ],
   "source": [
    "data.info()"
   ]
  },
  {
   "cell_type": "code",
   "execution_count": 6,
   "metadata": {},
   "outputs": [
    {
     "data": {
      "image/png": "[encoded data removed]",
      "text/plain": [
       "<Figure size 504x576 with 6 Axes>"
      ]
     },
     "metadata": {},
     "output_type": "display_data"
    }
   ],
   "source": [
    "data.hist(figsize=(7, 8))\n",
    "plt.show()"
   ]
  },
  {
   "attachments": {},
   "cell_type": "markdown",
   "metadata": {},
   "source": [
    "## Разбейте данные на выборки"
   ]
  },
  {
   "attachments": {},
   "cell_type": "markdown",
   "metadata": {},
   "source": [
    "### Разделение исходных данных на обучающую, валидационную и тестовую выборки"
   ]
  },
  {
   "attachments": {},
   "cell_type": "markdown",
   "metadata": {},
   "source": [
    "Данные были разделены на обучающую, валидационную и тестовую выборки\n",
    "\n",
    "\n",
    "Они были разделены в соотношении:\n",
    "* 70% обучающая выборка\n",
    "* 15% валидационная выборка\n",
    "* 15% тестовая выборка"
   ]
  },
  {
   "cell_type": "code",
   "execution_count": 7,
   "metadata": {},
   "outputs": [],
   "source": [
    "features_train, features_test, target_train, target_test = train_test_split(data.drop(\"is_ultra\", axis=1), \n",
    "                                                                      data[\"is_ultra\"], \n",
    "                                                                      test_size=0.15, \n",
    "                                                                      random_state=1407)"
   ]
  },
  {
   "cell_type": "code",
   "execution_count": 8,
   "metadata": {},
   "outputs": [],
   "source": [
    "features_train, features_valid, target_train, target_valid = train_test_split(features_train, \n",
    "                                                                  target_train, \n",
    "                                                                  test_size=0.15, \n",
    "                                                                  random_state=1407)\n"
   ]
  },
  {
   "attachments": {},
   "cell_type": "markdown",
   "metadata": {},
   "source": [
    "## Исследуйте модели"
   ]
  },
  {
   "attachments": {},
   "cell_type": "markdown",
   "metadata": {},
   "source": [
    "### Случайный лес"
   ]
  },
  {
   "attachments": {},
   "cell_type": "markdown",
   "metadata": {},
   "source": [
    "Алгоритм обучает большое количество независимых друг от друга деревьев, а потом принимает решение на основе голосования. Случайный лес помогает улучшить результат предсказания и избежать переобучения"
   ]
  },
  {
   "cell_type": "code",
   "execution_count": 9,
   "metadata": {},
   "outputs": [
    {
     "name": "stdout",
     "output_type": "stream",
     "text": [
      "Accuracy наилучшей модели на валидационной выборке: 0.802439024390244\n",
      "Лучшая модель: RandomForestClassifier(n_estimators=8, random_state=1407)\n"
     ]
    }
   ],
   "source": [
    "best_model = None\n",
    "best_result = 0\n",
    "for est in range(1, 50):\n",
    "    model = RandomForestClassifier(random_state=1407, n_estimators=est) \n",
    "    model.fit(features_train, target_train) \n",
    "    result = model.score(features_valid, target_valid) \n",
    "    if result > best_result:\n",
    "        best_model = model \n",
    "        best_result = result \n",
    "        \n",
    "        \n",
    "print(\"Accuracy наилучшей модели на валидационной выборке:\", best_result)\n",
    "print('Лучшая модель:', best_model)"
   ]
  },
  {
   "attachments": {},
   "cell_type": "markdown",
   "metadata": {},
   "source": [
    "### Логистическая регрессия"
   ]
  },
  {
   "cell_type": "code",
   "execution_count": 10,
   "metadata": {},
   "outputs": [
    {
     "name": "stdout",
     "output_type": "stream",
     "text": [
      "Accuracy наилучшей модели на валидационной выборке: 0.7292682926829268\n"
     ]
    }
   ],
   "source": [
    "model_lr = LogisticRegression(random_state=1407, solver='lbfgs', max_iter=1000)\n",
    "model_lr.fit(features_train, target_train) \n",
    "\n",
    "prediction = model_lr.predict(features_valid) \n",
    "result_valid_LogisticRegression = model_lr.score(features_valid, target_valid)\n",
    "\n",
    "dump(model_lr, 'model_9_1.joblib')\n",
    "\n",
    "print(\"Accuracy наилучшей модели на валидационной выборке:\", result_valid_LogisticRegression)"
   ]
  },
  {
   "attachments": {},
   "cell_type": "markdown",
   "metadata": {},
   "source": [
    "### Решающее дерево"
   ]
  },
  {
   "cell_type": "code",
   "execution_count": 11,
   "metadata": {},
   "outputs": [
    {
     "name": "stdout",
     "output_type": "stream",
     "text": [
      "Accuracy лучшей модели: 0.8048780487804879\n",
      "Лучшая модель: DecisionTreeClassifier(max_depth=10, random_state=1407)\n"
     ]
    }
   ],
   "source": [
    "best_model_2 = None\n",
    "best_result_2 = 0\n",
    "for depth in range(1, 50):\n",
    "\tmodel_2 = DecisionTreeClassifier(random_state=1407, max_depth=depth) \n",
    "\tmodel_2.fit(features_train, target_train) \n",
    "\tpredictions_2 = model_2.predict(features_valid) \n",
    "\tresult_2 = accuracy_score(target_valid, predictions_2) \n",
    "\tif result_2 > best_result_2:\n",
    "\t\tbest_model_2 = model_2\n",
    "\t\tbest_result_2 = result_2\n",
    "        \n",
    "print(\"Accuracy лучшей модели:\", best_result_2)\n",
    "print('Лучшая модель:', best_model_2)"
   ]
  },
  {
   "attachments": {},
   "cell_type": "markdown",
   "metadata": {},
   "source": [
    "## Проверьте модель на тестовой выборке"
   ]
  },
  {
   "cell_type": "code",
   "execution_count": 12,
   "metadata": {},
   "outputs": [
    {
     "name": "stdout",
     "output_type": "stream",
     "text": [
      "Accuracy наилучшей модели случайного леса на тестовой выборке: 0.782608695652174\n",
      "Accuracy наилучшей модели логистической регрессии на тестовой выборке: 0.7060041407867494\n",
      "Accuracy наилучшей модели решающего дерева на тестовой выборке: 0.6894409937888198\n"
     ]
    }
   ],
   "source": [
    "#Случайный лес\n",
    "result_test_randomforest = best_model.score(features_test, target_test) \n",
    "print(\"Accuracy наилучшей модели случайного леса на тестовой выборке:\", result_test_randomforest)\n",
    "\n",
    "#Логистическая регрессия\n",
    "result_test_LogisticRegression = model_lr.score(features_test, target_test) \n",
    "print(\"Accuracy наилучшей модели логистической регрессии на тестовой выборке:\", result_test_LogisticRegression)\n",
    "\n",
    "#Решающее дерево\n",
    "result_test_DecisionTreeClassifier = model_2.score(features_test, target_test) \n",
    "print(\"Accuracy наилучшей модели решающего дерева на тестовой выборке:\", result_test_DecisionTreeClassifier)\n",
    "\n"
   ]
  },
  {
   "attachments": {},
   "cell_type": "markdown",
   "metadata": {},
   "source": [
    "##  Проверьте модели на адекватность"
   ]
  },
  {
   "attachments": {},
   "cell_type": "markdown",
   "metadata": {},
   "source": [
    "* Precision: Доля истинно положительных прогнозов по отношению ко всем положительным прогнозам.\n",
    "* Recall (Sensitivity или True Positive Rate): Доля истинно положительных предсказаний ко всем истинно положительным экземплярам.\n",
    "* F1-score: Среднее гармоническое значение показателей precision и recall. Он придает равный вес Precision и Recall и особенно полезен при несбалансированном распределении классов.\n"
   ]
  },
  {
   "attachments": {
    "image.png": {
     "image/png": "[encoded data removed]"
    }
   },
   "cell_type": "markdown",
   "metadata": {},
   "source": [
    "![image.png](attachment:image.png)"
   ]
  },
  {
   "attachments": {
    "image.png": {
     "image/png": "[encoded data removed]"
    }
   },
   "cell_type": "markdown",
   "metadata": {},
   "source": [
    "![image.png](attachment:image.png)"
   ]
  },
  {
   "attachments": {
    "image.png": {
     "image/png": "[encoded data removed]"
    }
   },
   "cell_type": "markdown",
   "metadata": {},
   "source": [
    "![image.png](attachment:image.png)"
   ]
  },
  {
   "cell_type": "code",
   "execution_count": 13,
   "metadata": {},
   "outputs": [],
   "source": [
    "#Случайный лес\n",
    "y_pred = best_model.predict(features_test)\n",
    "precision = precision_score(target_test, y_pred)\n",
    "recall = recall_score(target_test, y_pred)\n",
    "f1 = f1_score(target_test, y_pred)"
   ]
  },
  {
   "cell_type": "code",
   "execution_count": 14,
   "metadata": {},
   "outputs": [
    {
     "name": "stdout",
     "output_type": "stream",
     "text": [
      "Для модели случайный лес:  precision 0.7211538461538461 recall 0.4966887417218543 f1 0.588235294117647\n"
     ]
    }
   ],
   "source": [
    "print('Для модели случайный лес: ', 'precision', precision, 'recall', recall, 'f1', f1)"
   ]
  },
  {
   "cell_type": "code",
   "execution_count": 15,
   "metadata": {},
   "outputs": [
    {
     "name": "stdout",
     "output_type": "stream",
     "text": [
      "Для модели логистической регрессии:  precision 0.7647058823529411 recall 0.08609271523178808 f1 0.15476190476190477\n"
     ]
    }
   ],
   "source": [
    "#Логистическая регрессия\n",
    "y_pred = model_lr.predict(features_test)\n",
    "precision = precision_score(target_test, y_pred)\n",
    "recall = recall_score(target_test, y_pred)\n",
    "f1 = f1_score(target_test, y_pred)\n",
    "\n",
    "print('Для модели логистической регрессии: ', 'precision', precision, 'recall', recall, 'f1', f1)"
   ]
  },
  {
   "cell_type": "code",
   "execution_count": 16,
   "metadata": {},
   "outputs": [
    {
     "name": "stdout",
     "output_type": "stream",
     "text": [
      "Для модели решающего дерева:  precision 0.5032679738562091 recall 0.5099337748344371 f1 0.506578947368421\n"
     ]
    }
   ],
   "source": [
    "#Решающее дерево\n",
    "y_pred = model_2.predict(features_test)\n",
    "precision = precision_score(target_test, y_pred)\n",
    "recall = recall_score(target_test, y_pred)\n",
    "f1 = f1_score(target_test, y_pred)\n",
    "\n",
    "print('Для модели решающего дерева: ', 'precision', precision, 'recall', recall, 'f1', f1)"
   ]
  },
  {
   "attachments": {},
   "cell_type": "markdown",
   "metadata": {},
   "source": [
    "## Чек-лист готовности проекта"
   ]
  },
  {
   "attachments": {},
   "cell_type": "markdown",
   "metadata": {},
   "source": [
    "Поставьте 'x' в выполненных пунктах. Далее нажмите Shift+Enter."
   ]
  },
  {
   "attachments": {},
   "cell_type": "markdown",
   "metadata": {},
   "source": [
    "- [x] Jupyter Notebook открыт\n",
    "- [x] Весь код исполняется без ошибок\n",
    "- [x] Ячейки с кодом расположены в порядке исполнения\n",
    "- [x] Выполнено задание 1: данные загружены и изучены\n",
    "- [x] Выполнено задание 2: данные разбиты на три выборки\n",
    "- [x] Выполнено задание 3: проведено исследование моделей\n",
    "    - [x] Рассмотрено больше одной модели\n",
    "    - [x] Рассмотрено хотя бы 3 значения гипепараметров для какой-нибудь модели\n",
    "    - [x] Написаны выводы по результатам исследования\n",
    "- [x] Выполнено задание 3: Проведено тестирование\n",
    "- [x] Удалось достичь accuracy не меньше 0.75\n"
   ]
  },
  {
   "attachments": {},
   "cell_type": "markdown",
   "metadata": {},
   "source": [
    "## Вывод"
   ]
  },
  {
   "attachments": {},
   "cell_type": "markdown",
   "metadata": {},
   "source": [
    "* Была построена модель с максимально большим значением accuracy\n",
    "* Доля правильных ответов доведена до 0.75\n",
    "* Проверена accuracy на тестовой выборке\n",
    "\n",
    "Был получен интересный результат.\n",
    "При проверке на тестовой выборке лучше всего себя показала модель: \n",
    "* ***случайного леса*** со значением **0.78**, \n",
    "* на втором месте модель логистической регрессии **0.71**, \n",
    "* а на последнем решающего дерева **0.69**\n",
    "\n",
    "При проверке метрик Precision, Recall (Sensitivity или True Positive Rate) и F1-score, по значению Precision лучше всего себя проявила модель ***логистической регрессии***, однако в остальных метриках показала низкие значения\n",
    "\n",
    "Recall должен быть метрикой модели, которую мы используем для выбора нашей лучшей модели, когда есть высокая стоимость, связанная с ложным отрицанием. То есть для нас большую цену будет играть отрицание моделью того, что на самом деле истинно, например, при определении больного онкологией, по данной метрике лидирует ***решающее дерево***\n",
    "\n",
    "Оценка F1 может быть лучшим показателем, если нам нужно найти баланс между Precision и Recall, по этой метрике лучше всего себя показала модель ***случайного леса*** \n"
   ]
  }
 ],
 "metadata": {
  "ExecuteTimeLog": [
   {
    "duration": 1652,
    "start_time": "2023-02-08T18:15:22.500Z"
   },
   {
    "duration": 4,
    "start_time": "2023-02-08T18:15:26.410Z"
   },
   {
    "duration": 204,
    "start_time": "2023-02-08T18:15:44.173Z"
   },
   {
    "duration": 20,
    "start_time": "2023-02-08T18:15:45.746Z"
   },
   {
    "duration": 137,
    "start_time": "2023-02-08T18:17:00.271Z"
   },
   {
    "duration": 12,
    "start_time": "2023-02-08T18:17:01.481Z"
   },
   {
    "duration": 118,
    "start_time": "2023-02-08T18:17:46.171Z"
   },
   {
    "duration": 4,
    "start_time": "2023-02-08T18:18:01.972Z"
   },
   {
    "duration": 5,
    "start_time": "2023-02-08T18:18:49.010Z"
   },
   {
    "duration": 10,
    "start_time": "2023-02-08T18:26:44.665Z"
   },
   {
    "duration": 4,
    "start_time": "2023-02-08T18:27:12.188Z"
   },
   {
    "duration": 3035,
    "start_time": "2023-02-08T18:27:15.648Z"
   },
   {
    "duration": 6054,
    "start_time": "2023-02-08T18:27:36.628Z"
   },
   {
    "duration": 23711,
    "start_time": "2023-02-08T18:27:55.631Z"
   },
   {
    "duration": 5,
    "start_time": "2023-02-08T18:46:02.947Z"
   },
   {
    "duration": 4,
    "start_time": "2023-02-08T18:46:07.109Z"
   },
   {
    "duration": 3,
    "start_time": "2023-02-08T18:46:08.817Z"
   },
   {
    "duration": 44,
    "start_time": "2023-02-08T18:46:09.967Z"
   },
   {
    "duration": 10,
    "start_time": "2023-02-08T18:46:11.037Z"
   },
   {
    "duration": 6,
    "start_time": "2023-02-08T18:46:14.147Z"
   },
   {
    "duration": 20,
    "start_time": "2023-02-08T18:46:27.184Z"
   },
   {
    "duration": 3,
    "start_time": "2023-02-08T18:51:00.398Z"
   },
   {
    "duration": 3,
    "start_time": "2023-02-08T18:51:01.782Z"
   },
   {
    "duration": 4,
    "start_time": "2023-02-08T18:51:30.735Z"
   },
   {
    "duration": 7,
    "start_time": "2023-02-08T19:00:19.741Z"
   },
   {
    "duration": 5,
    "start_time": "2023-02-08T19:00:21.743Z"
   },
   {
    "duration": 4,
    "start_time": "2023-02-08T19:00:34.330Z"
   },
   {
    "duration": 4,
    "start_time": "2023-02-08T19:00:35.329Z"
   },
   {
    "duration": 30,
    "start_time": "2023-02-08T19:00:36.432Z"
   },
   {
    "duration": 10,
    "start_time": "2023-02-08T19:00:37.756Z"
   },
   {
    "duration": 6,
    "start_time": "2023-02-08T19:00:40.064Z"
   },
   {
    "duration": 5,
    "start_time": "2023-02-08T19:00:41.460Z"
   },
   {
    "duration": 19013,
    "start_time": "2023-02-08T19:00:43.978Z"
   },
   {
    "duration": 13,
    "start_time": "2023-02-08T19:02:18.026Z"
   },
   {
    "duration": 13,
    "start_time": "2023-02-08T19:02:50.746Z"
   },
   {
    "duration": 3,
    "start_time": "2023-02-08T19:04:08.331Z"
   },
   {
    "duration": 27,
    "start_time": "2023-02-08T19:05:47.163Z"
   },
   {
    "duration": 4,
    "start_time": "2023-02-08T19:06:08.332Z"
   },
   {
    "duration": 138,
    "start_time": "2023-02-08T19:06:12.998Z"
   },
   {
    "duration": 76,
    "start_time": "2023-02-08T19:06:22.273Z"
   },
   {
    "duration": 158,
    "start_time": "2023-02-08T19:06:28.776Z"
   },
   {
    "duration": 100,
    "start_time": "2023-02-08T19:06:35.565Z"
   },
   {
    "duration": 16,
    "start_time": "2023-02-08T19:07:06.365Z"
   },
   {
    "duration": 106,
    "start_time": "2023-02-08T19:08:26.460Z"
   },
   {
    "duration": 21,
    "start_time": "2023-02-08T19:08:37.376Z"
   },
   {
    "duration": 19,
    "start_time": "2023-02-08T19:08:52.331Z"
   },
   {
    "duration": 20,
    "start_time": "2023-02-08T19:09:18.351Z"
   },
   {
    "duration": 76262,
    "start_time": "2023-02-08T19:09:37.660Z"
   },
   {
    "duration": 96,
    "start_time": "2023-02-08T19:12:32.078Z"
   },
   {
    "duration": 21,
    "start_time": "2023-02-08T19:12:37.680Z"
   },
   {
    "duration": 4,
    "start_time": "2023-02-08T19:15:23.330Z"
   },
   {
    "duration": 21,
    "start_time": "2023-02-08T19:22:13.151Z"
   },
   {
    "duration": 4,
    "start_time": "2023-02-08T19:24:00.760Z"
   },
   {
    "duration": 11,
    "start_time": "2023-02-08T19:25:39.638Z"
   },
   {
    "duration": 6,
    "start_time": "2023-02-08T19:27:09.513Z"
   },
   {
    "duration": 698,
    "start_time": "2023-02-08T19:28:22.809Z"
   },
   {
    "duration": 609,
    "start_time": "2023-02-08T19:29:58.524Z"
   },
   {
    "duration": 498,
    "start_time": "2023-02-08T19:31:15.799Z"
   },
   {
    "duration": 659,
    "start_time": "2023-02-08T19:31:43.076Z"
   },
   {
    "duration": 948,
    "start_time": "2023-02-08T19:32:19.740Z"
   },
   {
    "duration": 449,
    "start_time": "2023-02-08T19:32:51.629Z"
   },
   {
    "duration": 10,
    "start_time": "2023-02-08T19:33:24.614Z"
   },
   {
    "duration": 10,
    "start_time": "2023-02-08T19:33:54.329Z"
   },
   {
    "duration": 10,
    "start_time": "2023-02-08T19:34:26.671Z"
   },
   {
    "duration": 12,
    "start_time": "2023-02-08T19:35:05.420Z"
   },
   {
    "duration": 9,
    "start_time": "2023-02-08T19:38:30.788Z"
   },
   {
    "duration": 14,
    "start_time": "2023-02-08T19:38:35.268Z"
   },
   {
    "duration": 645,
    "start_time": "2023-02-08T19:38:53.588Z"
   },
   {
    "duration": 539,
    "start_time": "2023-02-08T19:39:07.034Z"
   },
   {
    "duration": 6,
    "start_time": "2023-02-08T19:40:45.335Z"
   },
   {
    "duration": 5,
    "start_time": "2023-02-08T19:40:46.835Z"
   },
   {
    "duration": 6,
    "start_time": "2023-02-08T19:40:53.432Z"
   },
   {
    "duration": 38,
    "start_time": "2023-02-08T19:40:53.441Z"
   },
   {
    "duration": 39,
    "start_time": "2023-02-08T19:40:53.480Z"
   },
   {
    "duration": 11,
    "start_time": "2023-02-08T19:40:53.520Z"
   },
   {
    "duration": 28,
    "start_time": "2023-02-08T19:40:53.533Z"
   },
   {
    "duration": 466,
    "start_time": "2023-02-08T19:40:53.563Z"
   },
   {
    "duration": 6,
    "start_time": "2023-02-08T19:40:54.030Z"
   },
   {
    "duration": 8,
    "start_time": "2023-02-08T19:40:54.038Z"
   },
   {
    "duration": 5615,
    "start_time": "2023-02-08T19:40:54.048Z"
   },
   {
    "duration": 329,
    "start_time": "2023-02-08T19:40:59.665Z"
   },
   {
    "duration": 551,
    "start_time": "2023-02-08T19:40:59.996Z"
   },
   {
    "duration": 13,
    "start_time": "2023-02-08T19:41:00.549Z"
   },
   {
    "duration": 39,
    "start_time": "2023-02-08T19:41:00.563Z"
   },
   {
    "duration": 9,
    "start_time": "2023-02-08T19:41:00.605Z"
   },
   {
    "duration": 22,
    "start_time": "2023-02-08T19:41:00.616Z"
   },
   {
    "duration": 17,
    "start_time": "2023-02-08T19:41:00.639Z"
   },
   {
    "duration": 1382,
    "start_time": "2023-02-08T19:55:50.129Z"
   },
   {
    "duration": 3,
    "start_time": "2023-02-08T19:55:51.513Z"
   },
   {
    "duration": 42,
    "start_time": "2023-02-08T19:55:51.518Z"
   },
   {
    "duration": 18,
    "start_time": "2023-02-08T19:55:51.562Z"
   },
   {
    "duration": 33,
    "start_time": "2023-02-08T19:55:51.582Z"
   },
   {
    "duration": 514,
    "start_time": "2023-02-08T19:55:51.617Z"
   },
   {
    "duration": 7,
    "start_time": "2023-02-08T19:55:52.133Z"
   },
   {
    "duration": 7,
    "start_time": "2023-02-08T19:55:52.141Z"
   },
   {
    "duration": 5615,
    "start_time": "2023-02-08T19:55:52.150Z"
   },
   {
    "duration": 426,
    "start_time": "2023-02-08T19:55:57.767Z"
   },
   {
    "duration": 565,
    "start_time": "2023-02-08T19:55:58.195Z"
   },
   {
    "duration": 12,
    "start_time": "2023-02-08T19:55:58.762Z"
   },
   {
    "duration": 9,
    "start_time": "2023-02-08T19:55:58.791Z"
   },
   {
    "duration": 10,
    "start_time": "2023-02-08T19:55:58.802Z"
   },
   {
    "duration": 24,
    "start_time": "2023-02-08T19:55:58.813Z"
   },
   {
    "duration": 11,
    "start_time": "2023-02-08T19:55:58.838Z"
   },
   {
    "duration": 1729,
    "start_time": "2023-02-09T13:55:38.595Z"
   },
   {
    "duration": 5,
    "start_time": "2023-02-09T13:55:40.326Z"
   },
   {
    "duration": 122,
    "start_time": "2023-02-09T13:55:40.333Z"
   },
   {
    "duration": 14,
    "start_time": "2023-02-09T13:55:40.457Z"
   },
   {
    "duration": 13,
    "start_time": "2023-02-09T13:55:40.473Z"
   },
   {
    "duration": 529,
    "start_time": "2023-02-09T13:55:40.488Z"
   },
   {
    "duration": 6,
    "start_time": "2023-02-09T13:55:41.019Z"
   },
   {
    "duration": 6,
    "start_time": "2023-02-09T13:55:41.027Z"
   },
   {
    "duration": 5923,
    "start_time": "2023-02-09T13:55:41.035Z"
   },
   {
    "duration": 462,
    "start_time": "2023-02-09T13:55:46.960Z"
   },
   {
    "duration": 628,
    "start_time": "2023-02-09T13:55:47.425Z"
   },
   {
    "duration": 15,
    "start_time": "2023-02-09T13:55:48.055Z"
   },
   {
    "duration": 13,
    "start_time": "2023-02-09T13:55:48.072Z"
   },
   {
    "duration": 19,
    "start_time": "2023-02-09T13:55:48.088Z"
   },
   {
    "duration": 13,
    "start_time": "2023-02-09T13:55:48.109Z"
   },
   {
    "duration": 10,
    "start_time": "2023-02-09T13:55:48.124Z"
   }
  ],
  "kernelspec": {
   "display_name": "Python 3 (ipykernel)",
   "language": "python",
   "name": "python3"
  },
  "language_info": {
   "codemirror_mode": {
    "name": "ipython",
    "version": 3
   },
   "file_extension": ".py",
   "mimetype": "text/x-python",
   "name": "python",
   "nbconvert_exporter": "python",
   "pygments_lexer": "ipython3",
   "version": "3.9.5"
  },
  "toc": {
   "base_numbering": 1,
   "nav_menu": {},
   "number_sections": true,
   "sideBar": true,
   "skip_h1_title": true,
   "title_cell": "Table of Contents",
   "title_sidebar": "Contents",
   "toc_cell": false,
   "toc_position": {
    "height": "calc(100% - 180px)",
    "left": "10px",
    "top": "150px",
    "width": "494.125px"
   },
   "toc_section_display": true,
   "toc_window_display": true
  }
 },
 "nbformat": 4,
 "nbformat_minor": 2
}
